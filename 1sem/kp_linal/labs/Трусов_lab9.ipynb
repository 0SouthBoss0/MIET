{
 "cells": [
  {
   "cell_type": "markdown",
   "id": "37a32be7-5627-4904-a4e4-dfaac1465514",
   "metadata": {},
   "source": [
    "<big><big>**Лабораторный практикум 9. Линейные пространства и операторы. Процесс ортогонализации Грамма-Шмидта.**<big><big>"
   ]
  },
  {
   "cell_type": "markdown",
   "id": "66d80dbf-cda6-49f0-92d9-c587817a995c",
   "metadata": {},
   "source": [
    "Загрузка необходимых библиотек:"
   ]
  },
  {
   "cell_type": "code",
   "execution_count": 10,
   "id": "e394c51a-dedd-4b30-b9ed-62e08c4eaa70",
   "metadata": {},
   "outputs": [],
   "source": [
    "import matplotlib.pyplot as plt\n",
    "from mpl_toolkits import mplot3d\n",
    "import numpy as np\n",
    "from sympy import *"
   ]
  },
  {
   "cell_type": "markdown",
   "id": "95e72ecc-be3f-468f-bc93-43f35533e530",
   "metadata": {},
   "source": [
    "<big>**Упражнение 9.1. Найти ранг и какой-нибудь базис системы геометрических векторов $x_1=-i+2j$, $x_2=2i-j+k$, $x_3=-4i+5j-k$, $x_4=3i-3j+k$. Разложить вектор $a=4i+j+3k$ по этому базису (используйте обратную матрицу). Сделать проверку.**<big>"
   ]
  },
  {
   "cell_type": "code",
   "execution_count": 13,
   "id": "6ff18296-fa59-4a82-bc33-0dc88f812599",
   "metadata": {},
   "outputs": [
    {
     "name": "stdout",
     "output_type": "stream",
     "text": [
      "Ранг матрицы: 2\n",
      "Базис системы векторов (x₁,  x₂): Matrix([[-1], [2], [0]]) Matrix([[2], [-1], [1]])\n"
     ]
    }
   ],
   "source": [
    "A = Matrix([[-1, 2, 0], [2, -1, 1], [-4, 5, -1], [3, -3, 1]])\n",
    "print(\"Ранг матрицы:\", A.rank())\n",
    "print(\"Базис системы векторов (x₁,  x₂):\", *A.T.columnspace())"
   ]
  },
  {
   "cell_type": "code",
   "execution_count": 14,
   "id": "319de414-e1a2-4be9-a236-2baf48ac63f4",
   "metadata": {},
   "outputs": [
    {
     "name": "stdout",
     "output_type": "stream",
     "text": [
      "[[2.]\n",
      " [3.]]\n"
     ]
    }
   ],
   "source": [
    "A = np.matrix ([[-1, 2], [2, -1]])\n",
    "B = np.matrix ([[4], [1]])\n",
    "\n",
    "A_inv = np.linalg.inv(A)\n",
    "X = A_inv.dot(B)\n",
    "print(X)"
   ]
  },
  {
   "cell_type": "markdown",
   "id": "c2aaf78d-1e99-4631-98b2-50220aef143e",
   "metadata": {},
   "source": [
    "*Проверка.*"
   ]
  },
  {
   "cell_type": "code",
   "execution_count": 15,
   "id": "20d3fcd0-1bb3-47d6-9ab5-12280a4ffb42",
   "metadata": {},
   "outputs": [
    {
     "name": "stdout",
     "output_type": "stream",
     "text": [
      "[[0]\n",
      " [0]]\n"
     ]
    }
   ],
   "source": [
    "X = np.matrix ('2; 3')\n",
    "print(np.dot(A, X)-B)"
   ]
  },
  {
   "cell_type": "markdown",
   "id": "228accc3-fd59-4ada-85fc-a6467f584360",
   "metadata": {},
   "source": [
    "<big>*Ответ: $a = 2x₁ + 3x₂$*<big>"
   ]
  },
  {
   "cell_type": "markdown",
   "id": "0534cb98-bab4-4a9c-9403-03bf0bd3d391",
   "metadata": {},
   "source": [
    "<big>**Упражнение 9.2. В пространстве $R4$ заданы векторы $e_1^{'}=(1,1,1,1)$, $e_2^{'}=(1,1,-1,-1)$, $e_3^{'}=(1,-1,1,-1)$, $e_4^{'}=(1,-1,-1,1)$. Доказать, что $B1=(e_1^{'}, e_2^{'}, e_3^{'}, e_4^{'} )$ - базис в $R4$. Написать матрицу перехода $T_(B→B1)$, где $В$ – канонический базис в $R4$. Найти в базисе $B1$ координаты вектора $X=(1,2,1,1)$. Сделать проверку.**<big>"
   ]
  },
  {
   "cell_type": "code",
   "execution_count": 16,
   "id": "deff6ca2-4f33-4bc1-be2e-4c12f32bfebb",
   "metadata": {},
   "outputs": [
    {
     "name": "stdout",
     "output_type": "stream",
     "text": [
      "True\n"
     ]
    }
   ],
   "source": [
    "e1_B1 = np.array([1, 1, 1, 1])\n",
    "e2_B1 = np.array([1, 1, -1, -1])\n",
    "e3_B1 = np.array([1, -1, 1, -1])\n",
    "e4_B1 = np.array([1, -1, -1, 1])\n",
    "\n",
    "A = np.matrix([e1_B1, e2_B1, e3_B1, e4_B1])\n",
    "print(np.linalg.det(A)!=0)"
   ]
  },
  {
   "cell_type": "markdown",
   "id": "6c9681e2-7ed9-475f-ac74-4ec1dec74c32",
   "metadata": {},
   "source": [
    "*Определитель матрицы не равен нулю, следовательно, вектора являются базисными.*"
   ]
  },
  {
   "cell_type": "code",
   "execution_count": 17,
   "id": "a8f6760c-16ba-44b1-956b-e20fc5736363",
   "metadata": {},
   "outputs": [
    {
     "name": "stdout",
     "output_type": "stream",
     "text": [
      "[[ 1.25]\n",
      " [ 0.25]\n",
      " [-0.25]\n",
      " [-0.25]]\n"
     ]
    }
   ],
   "source": [
    "x = np.matrix(\"1; 2; 1; 1\")\n",
    "A = A.transpose()\n",
    "A_inv = np.linalg.inv(A)\n",
    "print(A_inv.dot(x))"
   ]
  },
  {
   "cell_type": "markdown",
   "id": "882b5c71-2be9-43c6-b037-abc642057f04",
   "metadata": {},
   "source": [
    "*Проверка:*"
   ]
  },
  {
   "cell_type": "code",
   "execution_count": 18,
   "id": "e64d8292-b4b4-4268-88f2-860bb7370e7f",
   "metadata": {},
   "outputs": [
    {
     "name": "stdout",
     "output_type": "stream",
     "text": [
      "[[0.]\n",
      " [0.]\n",
      " [0.]\n",
      " [0.]]\n"
     ]
    }
   ],
   "source": [
    "Q = np.matrix(\"1.25; 0.25; -0.25; -0.25\")\n",
    "print(np.dot(A, Q) - x)"
   ]
  },
  {
   "cell_type": "markdown",
   "id": "148b324e-edf7-4f7c-a644-40e86562ef27",
   "metadata": {},
   "source": [
    "<big>*Ответ: $x = 1.25e_1^{'} + 0.25e_2^{'} - 0.25e_3^{'} - -0.25e_4^{'}$.*<big>"
   ]
  },
  {
   "cell_type": "markdown",
   "id": "7547cfeb-6de4-46d1-906e-8973847292f4",
   "metadata": {},
   "source": [
    "<big>**Упражнение 9.3. Выполнить задание из примера 1 с помощью метода rref.**<big>"
   ]
  },
  {
   "cell_type": "code",
   "execution_count": 19,
   "id": "a45b39c5-bede-464e-9714-ea1ff626994e",
   "metadata": {},
   "outputs": [
    {
     "name": "stdout",
     "output_type": "stream",
     "text": [
      "Преобразованная матрица, в левой части которой стоит единичная матрица:\n",
      "\n",
      "⎡1  0  2/3⎤\n",
      "⎢         ⎥\n",
      "⎢0  1  1/3⎥\n",
      "⎢         ⎥\n",
      "⎢0  0   0 ⎥\n",
      "⎢         ⎥\n",
      "⎣0  0   0 ⎦\n",
      "\n",
      "Индексы базисных столбцов входной матрицы:\n",
      "(0, 1)\n",
      "\n",
      "Ранг матрицы: 2\n"
     ]
    }
   ],
   "source": [
    "A = Matrix([[-1, 2, 0], [2, -1, 1], [-4, 5, -1], [3, -3, 1]])\n",
    "\n",
    "print(\"Преобразованная матрица, в левой части которой стоит единичная матрица:\\n\")\n",
    "pprint(A.rref()[0])\n",
    "\n",
    "print(\"\\nИндексы базисных столбцов входной матрицы:\")\n",
    "print(A.rref()[1])\n",
    "\n",
    "print(\"\\nРанг матрицы:\", len(A.rref()[1]))"
   ]
  },
  {
   "cell_type": "markdown",
   "id": "b82b181a-9c6b-41ba-8280-db7a66748754",
   "metadata": {},
   "source": [
    "<big>**Упражнение 9.4. Применить процесс ортогонализации Грамма-Шмидта к указанным системам векторов. Проверить ортогональность полученной системы. Изобразить старую и новую системы векторов. Разложить произвольный вектор в старом и новом базисах.**<big>"
   ]
  },
  {
   "cell_type": "markdown",
   "id": "0eb55e09-da1a-4ec3-a20d-a751d2a66cff",
   "metadata": {},
   "source": [
    "<big><big>**1) $f₁ = (1, 1), f₂ = (0, 1)$**<big><big>"
   ]
  },
  {
   "cell_type": "code",
   "execution_count": 20,
   "id": "b67b05e0-8127-4766-bc8d-a7c530c5776f",
   "metadata": {},
   "outputs": [
    {
     "name": "stdout",
     "output_type": "stream",
     "text": [
      "Matrix([[1], [1]]) Matrix([[-1/2], [1/2]])\n"
     ]
    }
   ],
   "source": [
    "e1 = [1, 1]\n",
    "e2 = [0, 1]\n",
    "\n",
    "F = [Matrix(e1), Matrix(e2)]\n",
    "print(*GramSchmidt(F))"
   ]
  },
  {
   "cell_type": "code",
   "execution_count": 21,
   "id": "65b0578c-3c20-434b-8674-9d5439505f36",
   "metadata": {},
   "outputs": [
    {
     "name": "stdout",
     "output_type": "stream",
     "text": [
      "True\n"
     ]
    }
   ],
   "source": [
    "e1_n = [1, 1]\n",
    "e2_n = [-1/2, 1/2]\n",
    "\n",
    "print(np.dot(e1_n, e2_n) == 0)"
   ]
  },
  {
   "cell_type": "markdown",
   "id": "cc197a8d-af86-443d-b9bd-73bf7e3f2f9b",
   "metadata": {},
   "source": [
    "*Cкалярное произведение векторов равно нулю, следовательно, вектора ортогональны.*"
   ]
  },
  {
   "cell_type": "code",
   "execution_count": 22,
   "id": "6bee62dd-2dc0-482d-a156-e1f9e52e3bb0",
   "metadata": {},
   "outputs": [
    {
     "data": {
      "image/png": "[encoded data removed]",
      "text/plain": [
       "<Figure size 432x288 with 1 Axes>"
      ]
     },
     "metadata": {
      "needs_background": "light"
     },
     "output_type": "display_data"
    }
   ],
   "source": [
    "plt.xlabel(\"X-axis\")\n",
    "plt.ylabel(\"Y-axis\", rotation=0)\n",
    "\n",
    "plt.arrow(0, 0, e1[0], e1[1], width=0.01, color='r', length_includes_head=True)\n",
    "plt.arrow(0, 0, e2[0], e2[1], width=0.01, color='r', length_includes_head=True)\n",
    "\n",
    "plt.arrow(0, 0, e1_n[0], e1_n[1], width=0.01, color='g', length_includes_head=True)\n",
    "plt.arrow(0, 0, e2_n[0], e2_n[1], width=0.01, color='g', length_includes_head=True)\n",
    "\n",
    "plt.grid()\n",
    "plt.show()"
   ]
  },
  {
   "cell_type": "markdown",
   "id": "52ca7d1d-9933-4400-a0d5-9fc52272a3c1",
   "metadata": {},
   "source": [
    "*Разложение вектора $b = (4, 7)$ в старом базисе:*"
   ]
  },
  {
   "cell_type": "code",
   "execution_count": 23,
   "id": "d7a64c78-e38d-46e5-b237-efd31d587452",
   "metadata": {},
   "outputs": [
    {
     "name": "stdout",
     "output_type": "stream",
     "text": [
      "True\n"
     ]
    }
   ],
   "source": [
    "A = np.matrix([e1, e2])\n",
    "print(np.linalg.det(A)!=0)"
   ]
  },
  {
   "cell_type": "markdown",
   "id": "e280d598-0a69-4624-81c1-ff0407d73eb4",
   "metadata": {},
   "source": [
    "*Определитель матрицы не равен нулю, следовательно, вектора являются базисными.*"
   ]
  },
  {
   "cell_type": "code",
   "execution_count": 24,
   "id": "77f66dac-39b8-46b0-b2a1-a89544e1bd46",
   "metadata": {},
   "outputs": [
    {
     "name": "stdout",
     "output_type": "stream",
     "text": [
      "[[4.]\n",
      " [3.]]\n"
     ]
    }
   ],
   "source": [
    "B = np.matrix ('4; 7')\n",
    "A = A.transpose()\n",
    "A_inv = np.linalg.inv(A)\n",
    "print(A_inv.dot(B))"
   ]
  },
  {
   "cell_type": "markdown",
   "id": "20c90c46-1d71-4638-bebf-55b5606ddfc4",
   "metadata": {},
   "source": [
    "<big>*Ответ: $b = 4e₁ + 3e₂$*<big>"
   ]
  },
  {
   "cell_type": "markdown",
   "id": "1878baff-4229-4371-933f-709ad80e5813",
   "metadata": {},
   "source": [
    "*Разложение вектора $b = (4, 7)$ в новом базисе:*"
   ]
  },
  {
   "cell_type": "code",
   "execution_count": 25,
   "id": "a98cf731-4535-4725-96de-5aa6d6efa560",
   "metadata": {},
   "outputs": [
    {
     "name": "stdout",
     "output_type": "stream",
     "text": [
      "True\n"
     ]
    }
   ],
   "source": [
    "A = np.matrix([e1_n, e2_n])\n",
    "print(np.linalg.det(A)!=0)"
   ]
  },
  {
   "cell_type": "markdown",
   "id": "714f9706-9f06-4ac2-a138-33e8a7628032",
   "metadata": {},
   "source": [
    "*Определитель матрицы не равен нулю, следовательно, вектора являются базисными.*"
   ]
  },
  {
   "cell_type": "code",
   "execution_count": 26,
   "id": "dc6b3ef3-a77d-4b32-bdf4-a52ce505c09f",
   "metadata": {},
   "outputs": [
    {
     "name": "stdout",
     "output_type": "stream",
     "text": [
      "[[5.5]\n",
      " [3. ]]\n"
     ]
    }
   ],
   "source": [
    "B = np.matrix ('4; 7')\n",
    "A = A.transpose()\n",
    "A_inv = np.linalg.inv(A)\n",
    "print(A_inv.dot(B))"
   ]
  },
  {
   "cell_type": "markdown",
   "id": "a0ac2df1-11a7-4979-97e6-c22aeb17f47c",
   "metadata": {},
   "source": [
    "<big>*Ответ: $b = 5.5e₁ + 3e₂$*<big>"
   ]
  },
  {
   "cell_type": "markdown",
   "id": "b17907e2-b51c-4b41-8da3-2370cc9aa4e1",
   "metadata": {},
   "source": [
    "<big>**2) $f₁ = (1, 1, 1), f₂ = (2, 1, 2), f₃ = (-3, 0, 2)$**<big>"
   ]
  },
  {
   "cell_type": "code",
   "execution_count": 27,
   "id": "f065f617-3aab-406a-9c99-45c3a4b8abc1",
   "metadata": {},
   "outputs": [
    {
     "name": "stdout",
     "output_type": "stream",
     "text": [
      "Matrix([[1], [1], [1]]) Matrix([[1/3], [-2/3], [1/3]]) Matrix([[-5/2], [0], [5/2]])\n"
     ]
    }
   ],
   "source": [
    "e1 = [1, 1, 1]\n",
    "e2 = [2, 1, 2]\n",
    "e3 = [-3, 0, 2]\n",
    "\n",
    "F = [Matrix(e1), Matrix(e2), Matrix(e3)]\n",
    "print(*GramSchmidt(F))"
   ]
  },
  {
   "cell_type": "code",
   "execution_count": 28,
   "id": "cbddbeab-60d8-44a8-b0be-2482b3feb086",
   "metadata": {},
   "outputs": [
    {
     "name": "stdout",
     "output_type": "stream",
     "text": [
      "True\n",
      "True\n",
      "True\n"
     ]
    }
   ],
   "source": [
    "e1_n = [1, 1, 1]\n",
    "e2_n = [1/3, -2/3, 1/3]\n",
    "e3_n = [-5/2, 0, 5/2]\n",
    "\n",
    "print(np.dot(e1_n, e2_n) == 0)\n",
    "print(np.dot(e1_n, e3_n) == 0)\n",
    "print(np.dot(e2_n, e3_n) == 0)"
   ]
  },
  {
   "cell_type": "markdown",
   "id": "cc383203-b061-40da-81ef-56eb496cd55a",
   "metadata": {},
   "source": [
    "*Cкалярные произведения векторов равны нулю, следовательно, вектора ортогональны.*"
   ]
  },
  {
   "cell_type": "code",
   "execution_count": 29,
   "id": "976e89e7-82d4-4bec-b010-9d686ac923fb",
   "metadata": {},
   "outputs": [
    {
     "data": {
      "image/png": "[encoded data removed]",
      "text/plain": [
       "<Figure size 720x720 with 1 Axes>"
      ]
     },
     "metadata": {
      "needs_background": "light"
     },
     "output_type": "display_data"
    }
   ],
   "source": [
    "fig = plt.figure(figsize=(10, 10))\n",
    "ax = plt.axes(projection=\"3d\")\n",
    "\n",
    "ax.set_xlabel(\"X-axis\")\n",
    "ax.set_xlim(-2, 1)\n",
    "ax.set_ylabel(\"Y-axis\")\n",
    "ax.set_ylim(-1, 3)\n",
    "ax.set_zlabel(\"Z-axis\")\n",
    "ax.set_zlim(0, 3)\n",
    "ax.view_init(45, 20)\n",
    "\n",
    "ax.quiver(0, 0, 0, e1[0], e1[1], e1[2], color=\"red\")\n",
    "ax.quiver(0, 0, 0, e2[0], e2[1], e2[2], color=\"red\")\n",
    "ax.quiver(0, 0, 0, e3[0], e3[1], e3[2], color=\"red\")\n",
    "\n",
    "ax.quiver(0, 0, 0, e1_n[0], e1_n[1], e1_n[2], color=\"green\")\n",
    "ax.quiver(0, 0, 0, e2_n[0], e2_n[1], e2_n[2], color=\"green\")\n",
    "ax.quiver(0, 0, 0, e3_n[0], e3_n[1], e3_n[2], color=\"green\")\n",
    "\n",
    "plt.show()"
   ]
  },
  {
   "cell_type": "markdown",
   "id": "85927e39-51c1-4f23-9a23-369fe1df2a7d",
   "metadata": {},
   "source": [
    "*Разложение вектора $b = (4, 7, -3)$ в старом базисе:*"
   ]
  },
  {
   "cell_type": "code",
   "execution_count": 100,
   "id": "cd4b5684-0696-4d10-b837-5b069ac6bf27",
   "metadata": {},
   "outputs": [
    {
     "name": "stdout",
     "output_type": "stream",
     "text": [
      "True\n"
     ]
    }
   ],
   "source": [
    "A = np.matrix([e1, e2, e3])\n",
    "print(np.linalg.det(A)!=0)"
   ]
  },
  {
   "cell_type": "markdown",
   "id": "51a36894-2713-4eb8-b604-059a2d86ef8f",
   "metadata": {},
   "source": [
    "*Определитель матрицы не равен нулю, следовательно, вектора являются базисными.*"
   ]
  },
  {
   "cell_type": "code",
   "execution_count": 101,
   "id": "6b5163cb-6cd9-486c-a61d-373d4b4315ba",
   "metadata": {},
   "outputs": [
    {
     "name": "stdout",
     "output_type": "stream",
     "text": [
      "[[14.2]\n",
      " [-7.2]\n",
      " [-1.4]]\n"
     ]
    }
   ],
   "source": [
    "B = np.matrix ('4; 7; -3')\n",
    "A = A.transpose()\n",
    "A_inv = np.linalg.inv(A)\n",
    "print(A_inv.dot(B))"
   ]
  },
  {
   "cell_type": "markdown",
   "id": "c9ef1177-c396-4e5d-b976-bb1596ac64fa",
   "metadata": {},
   "source": [
    "<big>*Ответ: $b = 14.2e₁ - 7.2e₂ - 1.4e₃$*<big>"
   ]
  },
  {
   "cell_type": "markdown",
   "id": "60f69a90-3bed-4202-96ea-ca993a3b254d",
   "metadata": {},
   "source": [
    "*Разложение вектора $b = (4, 7, -3)$ в новом базисе:*"
   ]
  },
  {
   "cell_type": "code",
   "execution_count": 104,
   "id": "4287ec3b-ff49-4175-aa89-e573cb1e5896",
   "metadata": {},
   "outputs": [
    {
     "name": "stdout",
     "output_type": "stream",
     "text": [
      "True\n"
     ]
    }
   ],
   "source": [
    "A = np.matrix([e1_n, e2_n, e3_n])\n",
    "print(np.linalg.det(A)!=0)"
   ]
  },
  {
   "cell_type": "markdown",
   "id": "247a4390-9196-4638-9042-2ced97bf5686",
   "metadata": {},
   "source": [
    "*Определитель матрицы не равен нулю, следовательно, вектора являются базисными.*"
   ]
  },
  {
   "cell_type": "code",
   "execution_count": 105,
   "id": "c188c7c0-c29b-4c25-8813-2224e0189c68",
   "metadata": {},
   "outputs": [
    {
     "name": "stdout",
     "output_type": "stream",
     "text": [
      "[[ 2.66666667]\n",
      " [-6.5       ]\n",
      " [-1.4       ]]\n"
     ]
    }
   ],
   "source": [
    "B = np.matrix ('4; 7; -3')\n",
    "A = A.transpose()\n",
    "A_inv = np.linalg.inv(A)\n",
    "print(A_inv.dot(B))"
   ]
  },
  {
   "cell_type": "markdown",
   "id": "e723bc06-e4fa-4f3e-b674-3d0abcffcfb0",
   "metadata": {},
   "source": [
    "<big>*Ответ: $b = 2.6e₁ - 6.5e₂ - 1.4e₃$*<big>"
   ]
  },
  {
   "cell_type": "markdown",
   "id": "e02b8b24-1f4f-4f42-80bf-764534c22b93",
   "metadata": {},
   "source": [
    "<big>**Упражнение 9.5. Матрица линейного оператора в некотором базисе $B = (e₁, e₂)$ равна $A = \\begin{pmatrix}\n",
    "8 & 4 \\\\\n",
    "5 & 2\n",
    "\\end{pmatrix}$. Найти матрицу этого оператора в базисе $f₁ = 2e₁+e₂$, $f₂ = 6e₁+4e₂$.**<big>"
   ]
  },
  {
   "cell_type": "code",
   "execution_count": 123,
   "id": "90e89db9-a04f-4c49-80c8-4928138f9231",
   "metadata": {},
   "outputs": [
    {
     "name": "stdout",
     "output_type": "stream",
     "text": [
      "⎡69.0   41.5 ⎤\n",
      "⎢            ⎥\n",
      "⎣-98.0  -59.0⎦\n"
     ]
    }
   ],
   "source": [
    "A = Matrix([[8, 4], [5, 2]])\n",
    "F = np.matrix('2 1 ; 6 4 ')\n",
    "F_inv = np.linalg.inv(F)\n",
    "\n",
    "pprint(F_inv*A*F)"
   ]
  },
  {
   "cell_type": "markdown",
   "id": "acf0ad59-07cc-42cc-864b-4c3c640f58bd",
   "metadata": {},
   "source": [
    "<big>**Упражнение 9.6. Матрица линейного оператора в некотором базисе $B = (e₁, e₂, e₃, e₄)$ равна $A = \\begin{pmatrix}\n",
    "1 & 2 & 0 & 1 \\\\\n",
    "3 & 0 & -1 & 2 \\\\\n",
    "2 & 5 & 3 & 1 \\\\\n",
    "1 & 2 & 1 & 3 \n",
    "\\end{pmatrix}$. Найти матрицу этого оператора в базисе $B₁ = (e₁, e₁ + e₂, e₁ + e₂ + e₃, e₁ + e₂ + e₃ + e₄)$.**<big>"
   ]
  },
  {
   "cell_type": "code",
   "execution_count": 124,
   "id": "06c7f8ba-b128-4108-9351-86d048240bbc",
   "metadata": {},
   "outputs": [
    {
     "name": "stdout",
     "output_type": "stream",
     "text": [
      "⎡4.0   3.0   1.0  1.0 ⎤\n",
      "⎢                     ⎥\n",
      "⎢ 0    -2.0   0   1.0 ⎥\n",
      "⎢                     ⎥\n",
      "⎢7.0   8.0   3.0  -1.0⎥\n",
      "⎢                     ⎥\n",
      "⎣-4.0  -3.0   0   2.0 ⎦\n"
     ]
    }
   ],
   "source": [
    "A = Matrix([[1, 2, 0, 1], [3, 0, -1, 2], [2, 5, 3, 1], [1, 2, 1, 3]])\n",
    "F = np.matrix('1 0 0 0; 1 1 0 0; 1 1 1 0; 1 1 1 1')\n",
    "F_inv = np.linalg.inv(F)\n",
    "\n",
    "pprint(F_inv*A*F)"
   ]
  },
  {
   "cell_type": "markdown",
   "id": "f9c2aace-966e-4230-baee-239440f20773",
   "metadata": {},
   "source": [
    "<big>**Упражнение 9.7. Линейный оператор в базисе $(a₁, a₂, a₃)$ задан матрицей $A = \\begin{pmatrix}\n",
    "-1 & 1 & 2 \\\\\n",
    "1 & 1 & -2 \\\\\n",
    "1 & 1 & 4 \n",
    "\\end{pmatrix}$. Найти матрицу этого оператора в базисе $(b₁, b₂, b₃)$. (координаты векторов даны в некотором базисе $(e₁, e₂, e₃)$). $a₁=(1, -2, 1)$, $a₂=(-1, 2, 1)$, $a₃=(-1, 3, 1)$, $b₁=(1, 0, 2)$, $b₂=(3, 0, -2)$, $b₃=(3, -1, -1)$**<big>"
   ]
  },
  {
   "cell_type": "code",
   "execution_count": 145,
   "id": "eac3fd6b-d83b-4859-91e6-98cf189fa2c7",
   "metadata": {},
   "outputs": [
    {
     "name": "stdout",
     "output_type": "stream",
     "text": [
      "⎡-1.0  1.0  2.0 ⎤\n",
      "⎢               ⎥\n",
      "⎢1.0   1.0  -2.0⎥\n",
      "⎢               ⎥\n",
      "⎣1.0   1.0  4.0 ⎦\n"
     ]
    }
   ],
   "source": [
    "A = Matrix([[-1, 1, 2], [1, 1, -2], [1, 1, 4]])\n",
    "B = np.matrix('1, -2, 1; -1, 2, 1; -1, 3, 1')\n",
    "BB = np.matrix('1, 0, 2; 3, 0, -2; 3, -1, -1')\n",
    "B_inv = np.linalg.inv(B)\n",
    "NB = B_inv * BB\n",
    "NB_inv = np.linalg.inv(NB)\n",
    "\n",
    "pprint(NB_inv * NB * A)"
   ]
  }
 ],
 "metadata": {
  "kernelspec": {
   "display_name": "Python 3 (ipykernel)",
   "language": "python",
   "name": "python3"
  },
  "language_info": {
   "codemirror_mode": {
    "name": "ipython",
    "version": 3
   },
   "file_extension": ".py",
   "mimetype": "text/x-python",
   "name": "python",
   "nbconvert_exporter": "python",
   "pygments_lexer": "ipython3",
   "version": "3.9.12"
  }
 },
 "nbformat": 4,
 "nbformat_minor": 5
}
