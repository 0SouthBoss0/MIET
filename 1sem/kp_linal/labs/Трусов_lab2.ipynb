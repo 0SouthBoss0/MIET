{
 "cells": [
  {
   "cell_type": "code",
   "execution_count": 97,
   "id": "d617719c-21b7-4694-87ab-7d4fd9e1b780",
   "metadata": {},
   "outputs": [],
   "source": [
    "import numpy as np\n",
    "import sympy"
   ]
  },
  {
   "cell_type": "markdown",
   "id": "a646b869-a423-450d-9c9a-646cdaabbee2",
   "metadata": {},
   "source": [
    "**Упражнение 2.1. Вычислить определители второго порядка, обращаясь через индексы к элементам массива, и сделать проверку с помощью функции det. Буквенные выражения необходимо задать в символьном виде.**"
   ]
  },
  {
   "cell_type": "code",
   "execution_count": 7,
   "id": "d49a9ce9-f58e-4559-bf81-50b4f434fe24",
   "metadata": {},
   "outputs": [],
   "source": [
    "a,b=symbols('a b')"
   ]
  },
  {
   "cell_type": "markdown",
   "id": "3ec13aa5-ace6-4f96-843e-d5db1055d0f6",
   "metadata": {},
   "source": [
    "**2.1.1**"
   ]
  },
  {
   "cell_type": "code",
   "execution_count": 8,
   "id": "6db54a65-4e51-4865-9877-70f6c47f3f9e",
   "metadata": {},
   "outputs": [],
   "source": [
    "v=Matrix([[-1, 4],[-5, 2]])"
   ]
  },
  {
   "cell_type": "code",
   "execution_count": 9,
   "id": "ad15f85a-d54f-4bd6-9d75-0d0437870940",
   "metadata": {},
   "outputs": [],
   "source": [
    "detV = v[0,0] * v[1, 1] - v[0, 1] * v[1, 0]"
   ]
  },
  {
   "cell_type": "code",
   "execution_count": 10,
   "id": "7c5f2c23-4daa-42c9-90bf-fee56201a2ca",
   "metadata": {},
   "outputs": [
    {
     "name": "stdout",
     "output_type": "stream",
     "text": [
      "18\n",
      "18\n"
     ]
    }
   ],
   "source": [
    "print(detV)\n",
    "print(det(v))"
   ]
  },
  {
   "cell_type": "markdown",
   "id": "6ac04c5e-1d7c-47cf-b5b6-9a266b7a519d",
   "metadata": {},
   "source": [
    "**2.1.2**"
   ]
  },
  {
   "cell_type": "code",
   "execution_count": 11,
   "id": "5ddffe49-212e-4070-8da3-43a85a77ef95",
   "metadata": {
    "tags": []
   },
   "outputs": [],
   "source": [
    "v2=Matrix([[a+b, a-b],[a+b, a-b]])"
   ]
  },
  {
   "cell_type": "code",
   "execution_count": 12,
   "id": "958cf434-698d-4609-9bad-874d9271f67c",
   "metadata": {},
   "outputs": [],
   "source": [
    "detV2 = v2[0,0] * v2[1, 1] - v2[0, 1] * v2[1, 0]"
   ]
  },
  {
   "cell_type": "code",
   "execution_count": 13,
   "id": "3b2d9b72-1df8-4735-bef2-8b32054ad10f",
   "metadata": {},
   "outputs": [
    {
     "name": "stdout",
     "output_type": "stream",
     "text": [
      "0\n",
      "0\n"
     ]
    }
   ],
   "source": [
    "print(detV2)\n",
    "print(det(v2))"
   ]
  },
  {
   "cell_type": "markdown",
   "id": "76ccf826-bd37-49e8-ad28-d6f1cf30b3b8",
   "metadata": {},
   "source": [
    "**2.1.3**"
   ]
  },
  {
   "cell_type": "code",
   "execution_count": 15,
   "id": "09b767ca-eaa7-49c4-8a52-3e2c8fa55fec",
   "metadata": {},
   "outputs": [
    {
     "ename": "NameError",
     "evalue": "name 'x' is not defined",
     "output_type": "error",
     "traceback": [
      "\u001b[1;31m---------------------------------------------------------------------------\u001b[0m",
      "\u001b[1;31mNameError\u001b[0m                                 Traceback (most recent call last)",
      "Input \u001b[1;32mIn [15]\u001b[0m, in \u001b[0;36m<cell line: 1>\u001b[1;34m()\u001b[0m\n\u001b[1;32m----> 1\u001b[0m v3\u001b[38;5;241m=\u001b[39mMatrix([[\u001b[43mx\u001b[49m, x\u001b[38;5;241m+\u001b[39m\u001b[38;5;241m1\u001b[39m],[\u001b[38;5;241m-\u001b[39m\u001b[38;5;241m4\u001b[39m, x\u001b[38;5;241m+\u001b[39m\u001b[38;5;241m1\u001b[39m]])\n",
      "\u001b[1;31mNameError\u001b[0m: name 'x' is not defined"
     ]
    }
   ],
   "source": [
    "v3=Matrix([[x, x+1],[-4, x+1]])"
   ]
  },
  {
   "cell_type": "markdown",
   "id": "b00f3a01-ab0e-4cd9-ba69-29b2eecaefcb",
   "metadata": {},
   "source": [
    "Так как x не задан, выходит ошибка."
   ]
  },
  {
   "cell_type": "code",
   "execution_count": 34,
   "id": "cd3fb345-1184-48d7-92f0-e0028cd53f85",
   "metadata": {},
   "outputs": [],
   "source": [
    "x=symbols('x')"
   ]
  },
  {
   "cell_type": "code",
   "execution_count": 17,
   "id": "c79283c4-db00-4b4e-8745-62885361d86d",
   "metadata": {},
   "outputs": [],
   "source": [
    "v3=Matrix([[x, x+1],[-4, x+1]])"
   ]
  },
  {
   "cell_type": "code",
   "execution_count": 18,
   "id": "cffb9cfc-cafe-4da4-8746-be3040c2d9a0",
   "metadata": {},
   "outputs": [],
   "source": [
    "detV3 = v3[0,0] * v3[1, 1] - v3[0, 1] * v3[1, 0]"
   ]
  },
  {
   "cell_type": "code",
   "execution_count": 19,
   "id": "2ad57649-92e7-48a6-8989-09175256e4e6",
   "metadata": {},
   "outputs": [
    {
     "name": "stdout",
     "output_type": "stream",
     "text": [
      "x*(x + 1) + 4*x + 4\n",
      "x**2 + 5*x + 4\n"
     ]
    }
   ],
   "source": [
    "print(detV3)\n",
    "print(det(v3))"
   ]
  },
  {
   "cell_type": "markdown",
   "id": "130ddf94-4cdc-47e0-80de-729f9b82001f",
   "metadata": {},
   "source": [
    "**Упражнение 2.2. Вычислить определители третьего порядка с помощью функции det.**"
   ]
  },
  {
   "cell_type": "markdown",
   "id": "6dc54f7a-2f0c-4f00-8e5b-3533cc3ed4fd",
   "metadata": {},
   "source": [
    "**2.2.1**"
   ]
  },
  {
   "cell_type": "code",
   "execution_count": 22,
   "id": "0110664e-6821-44a7-9fd3-6111455f40cd",
   "metadata": {},
   "outputs": [],
   "source": [
    "v1=Matrix([[1, 2, 3],[4, 5, 6], [7,8,1]])"
   ]
  },
  {
   "cell_type": "code",
   "execution_count": 23,
   "id": "51e1e5f5-b60a-44da-bec2-46efdd3e0741",
   "metadata": {},
   "outputs": [
    {
     "name": "stdout",
     "output_type": "stream",
     "text": [
      "24\n"
     ]
    }
   ],
   "source": [
    "print(det(v1))"
   ]
  },
  {
   "cell_type": "markdown",
   "id": "f10b5fab-6d27-460a-bcb5-43eebfb5f7c9",
   "metadata": {},
   "source": [
    "**2.2.2**"
   ]
  },
  {
   "cell_type": "code",
   "execution_count": 24,
   "id": "b78d2ee7-2563-497e-9ca8-59c5f0bc798e",
   "metadata": {},
   "outputs": [],
   "source": [
    "v2=Matrix([[3, 4, -5],[8, 7, -2], [2,-1,8]])"
   ]
  },
  {
   "cell_type": "code",
   "execution_count": 25,
   "id": "c8632d23-be76-4b10-b971-ea9b4f64b323",
   "metadata": {},
   "outputs": [
    {
     "name": "stdout",
     "output_type": "stream",
     "text": [
      "0\n"
     ]
    }
   ],
   "source": [
    "print(det(v2))"
   ]
  },
  {
   "cell_type": "markdown",
   "id": "8fb5908b-8177-421a-a60f-7a5070a01845",
   "metadata": {},
   "source": [
    "**2.2.3**"
   ]
  },
  {
   "cell_type": "code",
   "execution_count": 26,
   "id": "a768c792-b311-4df0-acd2-960705532836",
   "metadata": {},
   "outputs": [],
   "source": [
    "a, b, c, x=symbols('a b c x')"
   ]
  },
  {
   "cell_type": "code",
   "execution_count": 27,
   "id": "09139362-ae87-4f6e-9a20-6df91938a24c",
   "metadata": {},
   "outputs": [],
   "source": [
    "v3=Matrix([[a+x, x, x],[x, b+x, x], [x,x,c+x]])"
   ]
  },
  {
   "cell_type": "code",
   "execution_count": 28,
   "id": "933ee8bb-ffe7-4a2b-a89f-dc98c45df94e",
   "metadata": {},
   "outputs": [
    {
     "name": "stdout",
     "output_type": "stream",
     "text": [
      "a*b*c + a*b*x + a*c*x + b*c*x\n"
     ]
    }
   ],
   "source": [
    "print(det(v3))"
   ]
  },
  {
   "cell_type": "markdown",
   "id": "d4d570d0-dcb1-4520-8936-e612dff23a33",
   "metadata": {},
   "source": [
    "**2.2.4**"
   ]
  },
  {
   "cell_type": "code",
   "execution_count": 29,
   "id": "53a593f1-2d11-4d00-b9b9-3decf4a83474",
   "metadata": {},
   "outputs": [],
   "source": [
    "import math\n",
    "a, b, c = symbols('a b c')"
   ]
  },
  {
   "cell_type": "code",
   "execution_count": 32,
   "id": "d8e6af46-5a0c-4ad6-8d9b-faad01e8e548",
   "metadata": {},
   "outputs": [],
   "source": [
    "v4=Matrix([[sin(a), cos(a), 1],[sin(b), cos(b), 1], [sin(c),cos(c),1]])"
   ]
  },
  {
   "cell_type": "code",
   "execution_count": 35,
   "id": "f43acd33-53e4-4937-b54c-b595c861b28a",
   "metadata": {},
   "outputs": [
    {
     "name": "stdout",
     "output_type": "stream",
     "text": [
      "sin(a)*cos(b) - sin(a)*cos(c) - sin(b)*cos(a) + sin(b)*cos(c) + sin(c)*cos(a) - sin(c)*cos(b)\n"
     ]
    }
   ],
   "source": [
    "print(det(v4))"
   ]
  },
  {
   "cell_type": "markdown",
   "id": "70e9b716-17e5-4b2f-9be1-b52114293f5a",
   "metadata": {},
   "source": [
    "**Упражнение 2.3. Решить системы уравнений по формулам Крамера. Сделать проверку.**"
   ]
  },
  {
   "cell_type": "markdown",
   "id": "a60eaf49-82b4-4c16-89e9-bd2829b3aefc",
   "metadata": {},
   "source": [
    "**2.3.1**"
   ]
  },
  {
   "cell_type": "code",
   "execution_count": 71,
   "id": "d91511ab-b316-4f22-8dc1-10ac3878e347",
   "metadata": {},
   "outputs": [],
   "source": [
    "A = np.matrix ('3 -5; 2 7')\n",
    "B = np.matrix ('13; 81')"
   ]
  },
  {
   "cell_type": "markdown",
   "id": "f5febdab-1e40-4bb6-b05a-b18526a80ec4",
   "metadata": {},
   "source": [
    "Проверка применимости формул Крамера."
   ]
  },
  {
   "cell_type": "code",
   "execution_count": 72,
   "id": "7a7daec4-0065-4a7b-a896-cfdba32b56ed",
   "metadata": {},
   "outputs": [
    {
     "name": "stdout",
     "output_type": "stream",
     "text": [
      "True\n"
     ]
    }
   ],
   "source": [
    "A_det = np.linalg.det(A)\n",
    "print(A_det != 0)"
   ]
  },
  {
   "cell_type": "code",
   "execution_count": 73,
   "id": "1de2faa3-0763-4869-85fb-956946ccdb66",
   "metadata": {},
   "outputs": [
    {
     "name": "stdout",
     "output_type": "stream",
     "text": [
      "16.000000000000007 7.000000000000001\n"
     ]
    }
   ],
   "source": [
    "X_m = np.matrix(A)\n",
    "X_m[:, 0] = B\n",
    "Y_m = np.matrix(A)\n",
    "Y_m[:, 1] = B\n",
    "\n",
    "x=np.linalg.det(X_m)/A_det\n",
    "y=np.linalg.det(Y_m)/A_det\n",
    "\n",
    "print(x, y)"
   ]
  },
  {
   "cell_type": "markdown",
   "id": "f1dd55ae-6f8e-49d6-908c-a68d2efc95d9",
   "metadata": {},
   "source": [
    "Проверка"
   ]
  },
  {
   "cell_type": "code",
   "execution_count": 77,
   "id": "6a23e6b7-d7ac-4694-911c-9a240cef76b5",
   "metadata": {},
   "outputs": [
    {
     "name": "stdout",
     "output_type": "stream",
     "text": [
      "[[ True]\n",
      " [ True]]\n"
     ]
    }
   ],
   "source": [
    "X = np.matrix ('16; 7')\n",
    "print(np.dot(A, X)-B==0)"
   ]
  },
  {
   "cell_type": "markdown",
   "id": "68cb4787-4bde-4119-9e1e-09d99afef159",
   "metadata": {},
   "source": [
    "*Ответ: (16, 7).*"
   ]
  },
  {
   "cell_type": "markdown",
   "id": "9d5b7132-3906-4fe3-a20f-974ccfc6156d",
   "metadata": {},
   "source": [
    "**2.3.2**"
   ]
  },
  {
   "cell_type": "code",
   "execution_count": 78,
   "id": "68258d24-5177-4b73-8fbb-711f5c2b1843",
   "metadata": {},
   "outputs": [],
   "source": [
    "A = np.matrix ('3 -4; -6 8')\n",
    "B = np.matrix ('-6; 12')"
   ]
  },
  {
   "cell_type": "markdown",
   "id": "ff4a94cc-8430-48b2-8c5e-f2e9ee5d2478",
   "metadata": {},
   "source": [
    "Проверка применимости формул Крамера."
   ]
  },
  {
   "cell_type": "code",
   "execution_count": 81,
   "id": "5ad50352-55bd-4f0f-b3dd-f5a105ec830b",
   "metadata": {},
   "outputs": [
    {
     "name": "stdout",
     "output_type": "stream",
     "text": [
      "False\n"
     ]
    }
   ],
   "source": [
    "A_det = np.linalg.det(A)\n",
    "print(A_det != 0)"
   ]
  },
  {
   "cell_type": "markdown",
   "id": "5aca19fe-d464-4353-8a8c-712b9ab02ba9",
   "metadata": {},
   "source": [
    "*Формулы Крамера неприменимы.*"
   ]
  },
  {
   "cell_type": "markdown",
   "id": "941dc11f-3d95-4e6f-952d-6cfdf246ff74",
   "metadata": {},
   "source": [
    "**2.3.3**"
   ]
  },
  {
   "cell_type": "code",
   "execution_count": 142,
   "id": "9c96d191-3ba0-44d8-82f5-ff1d217fea43",
   "metadata": {},
   "outputs": [],
   "source": [
    "A = np.matrix ('7 2 3; 5 -3 2; 10 -11 5')\n",
    "B = np.matrix ('15; 15; 36')"
   ]
  },
  {
   "cell_type": "markdown",
   "id": "ced5c0d5-46b8-4144-9f27-f046c7ebaa2e",
   "metadata": {},
   "source": [
    "Проверка применимости формул Крамера."
   ]
  },
  {
   "cell_type": "code",
   "execution_count": 87,
   "id": "7db8627a-076c-4642-bfc7-3cf7d95628bc",
   "metadata": {},
   "outputs": [
    {
     "name": "stdout",
     "output_type": "stream",
     "text": [
      "True\n"
     ]
    }
   ],
   "source": [
    "A_det = np.linalg.det(A)\n",
    "print(A_det != 0)"
   ]
  },
  {
   "cell_type": "code",
   "execution_count": 88,
   "id": "bdcb6677-2796-4eee-afaf-d0b182b7253a",
   "metadata": {},
   "outputs": [
    {
     "name": "stdout",
     "output_type": "stream",
     "text": [
      "1.999999999999998 -1.0 0.999999999999999\n"
     ]
    }
   ],
   "source": [
    "X_m = np.matrix(A)\n",
    "X_m[:, 0] = B\n",
    "Y_m = np.matrix(A)\n",
    "Y_m[:, 1] = B\n",
    "Z_m = np.matrix(A)\n",
    "Z_m[:, 2] = B\n",
    "\n",
    "x=np.linalg.det(X_m)/A_det\n",
    "y=np.linalg.det(Y_m)/A_det\n",
    "z=np.linalg.det(Z_m)/A_det\n",
    "\n",
    "print(x, y, z)"
   ]
  },
  {
   "cell_type": "markdown",
   "id": "c39276d0-dae9-425c-b7f0-b168f91238b6",
   "metadata": {},
   "source": [
    "Проверка"
   ]
  },
  {
   "cell_type": "code",
   "execution_count": 89,
   "id": "24f33a5b-e096-4211-9807-b292af59db8b",
   "metadata": {},
   "outputs": [
    {
     "name": "stdout",
     "output_type": "stream",
     "text": [
      "[[ True]\n",
      " [ True]\n",
      " [ True]]\n"
     ]
    }
   ],
   "source": [
    "X = np.matrix ('2; -1; 1')\n",
    "print(np.dot(A, X)-B==0)"
   ]
  },
  {
   "cell_type": "markdown",
   "id": "ff927b73-703b-49a9-82c8-dd48f256c165",
   "metadata": {},
   "source": [
    "*Ответ: (2, -1, 1).*"
   ]
  },
  {
   "cell_type": "markdown",
   "id": "7b557158-ca50-47da-a2c1-673a22b80d86",
   "metadata": {},
   "source": [
    "**2.3.4**"
   ]
  },
  {
   "cell_type": "code",
   "execution_count": 91,
   "id": "c3d33b32-c6a2-45fe-ad65-75643bcf5a62",
   "metadata": {},
   "outputs": [],
   "source": [
    "A = np.matrix ('2 1 0; 1 0 3; 0 5 -1')\n",
    "B = np.matrix ('5; 16; 10')"
   ]
  },
  {
   "cell_type": "markdown",
   "id": "d149bd0f-d69a-4df5-95ff-8985b36c0787",
   "metadata": {},
   "source": [
    "Проверка применимости формул Крамера."
   ]
  },
  {
   "cell_type": "code",
   "execution_count": 92,
   "id": "b73970f2-1b3a-4be7-bd55-6d424144060b",
   "metadata": {},
   "outputs": [
    {
     "name": "stdout",
     "output_type": "stream",
     "text": [
      "True\n"
     ]
    }
   ],
   "source": [
    "A_det = np.linalg.det(A)\n",
    "print(A_det != 0)"
   ]
  },
  {
   "cell_type": "code",
   "execution_count": 93,
   "id": "1df1aec8-e4f0-4dba-97c2-d6f7c65d2925",
   "metadata": {},
   "outputs": [
    {
     "name": "stdout",
     "output_type": "stream",
     "text": [
      "1.0 3.000000000000001 5.000000000000001\n"
     ]
    }
   ],
   "source": [
    "X_m = np.matrix(A)\n",
    "X_m[:, 0] = B\n",
    "Y_m = np.matrix(A)\n",
    "Y_m[:, 1] = B\n",
    "Z_m = np.matrix(A)\n",
    "Z_m[:, 2] = B\n",
    "\n",
    "x=np.linalg.det(X_m)/A_det\n",
    "y=np.linalg.det(Y_m)/A_det\n",
    "z=np.linalg.det(Z_m)/A_det\n",
    "\n",
    "print(x, y, z)"
   ]
  },
  {
   "cell_type": "markdown",
   "id": "993ea18c-5a71-4f3b-8608-4586033665bb",
   "metadata": {},
   "source": [
    "Проверка"
   ]
  },
  {
   "cell_type": "code",
   "execution_count": 94,
   "id": "d69b07fd-8b5a-49c5-943f-5ea9e6d49b3d",
   "metadata": {},
   "outputs": [
    {
     "name": "stdout",
     "output_type": "stream",
     "text": [
      "[[ True]\n",
      " [ True]\n",
      " [ True]]\n"
     ]
    }
   ],
   "source": [
    "X = np.matrix ('1; 3; 5')\n",
    "print(np.dot(A, X)-B==0)"
   ]
  },
  {
   "cell_type": "markdown",
   "id": "ec786d5c-38c5-4f3c-923d-58e9b7f37125",
   "metadata": {},
   "source": [
    "*Ответ: (1, 3, 5).*"
   ]
  },
  {
   "cell_type": "markdown",
   "id": "77d52341-9bbf-4850-bdf6-55ae244bdfb4",
   "metadata": {},
   "source": [
    "**Упражнение 2.4. Решить системы уравнений упражнения 2.3(1) и 2.3(3) в библиотеке Sympy. Сделать проверку.**"
   ]
  },
  {
   "cell_type": "markdown",
   "id": "a529bdf5-5018-4b8e-ae95-07e57504db3a",
   "metadata": {},
   "source": [
    "**2.4.1 (2.3.1)**"
   ]
  },
  {
   "cell_type": "code",
   "execution_count": 98,
   "id": "7a6e0de8-dfa3-43f2-9b39-6cb8b090a4c8",
   "metadata": {},
   "outputs": [],
   "source": [
    "A = sympy.Matrix ([[3, -5], [2, 7]])\n",
    "B = sympy.Matrix ([[13], [81]])"
   ]
  },
  {
   "cell_type": "markdown",
   "id": "7b921d7f-8eb5-49a4-8828-a45edbe0fd30",
   "metadata": {},
   "source": [
    "Проверка применимости формул Крамера."
   ]
  },
  {
   "cell_type": "code",
   "execution_count": 99,
   "id": "6a53547e-ed43-4cb1-9fd0-6b0e121b686a",
   "metadata": {},
   "outputs": [
    {
     "name": "stdout",
     "output_type": "stream",
     "text": [
      "True\n"
     ]
    }
   ],
   "source": [
    "A_det = sympy.det(A)\n",
    "print(A_det != 0)"
   ]
  },
  {
   "cell_type": "code",
   "execution_count": 101,
   "id": "621cbfd8-8b06-4da5-b00b-409551a808f3",
   "metadata": {},
   "outputs": [
    {
     "name": "stdout",
     "output_type": "stream",
     "text": [
      "16 7\n"
     ]
    }
   ],
   "source": [
    "X_m = sympy.Matrix(A)\n",
    "X_m[:, 0] = B\n",
    "Y_m = sympy.Matrix(A)\n",
    "Y_m[:, 1] = B\n",
    "\n",
    "x=sympy.det(X_m)/A_det\n",
    "y=sympy.det(Y_m)/A_det\n",
    "\n",
    "print(x, y)"
   ]
  },
  {
   "cell_type": "markdown",
   "id": "1bdcc54b-6d88-4046-a1c4-06eb9513b65b",
   "metadata": {},
   "source": [
    "Проверка"
   ]
  },
  {
   "cell_type": "code",
   "execution_count": 108,
   "id": "09a16c29-fea5-4c30-87e5-b856226e55a0",
   "metadata": {},
   "outputs": [
    {
     "name": "stdout",
     "output_type": "stream",
     "text": [
      "Matrix([[0], [0]])\n"
     ]
    }
   ],
   "source": [
    "X = sympy.Matrix ([[16], [7]])\n",
    "print(A*X-B)"
   ]
  },
  {
   "cell_type": "markdown",
   "id": "1c521493-b025-407c-bc5f-bc56407b35f0",
   "metadata": {},
   "source": [
    "*Ответ: (16, 7).*"
   ]
  },
  {
   "cell_type": "markdown",
   "id": "1d72b545-6102-4fc7-b5ef-479d47589114",
   "metadata": {},
   "source": [
    "**2.4.2 (2.3.3)**"
   ]
  },
  {
   "cell_type": "code",
   "execution_count": 115,
   "id": "1e91b8d9-0a3b-4f2d-bebf-70671eb878a1",
   "metadata": {},
   "outputs": [],
   "source": [
    "A = sympy.Matrix ([[7, 2, 3], [5, -3, 2], [10, -11, 5]])\n",
    "B = sympy.Matrix ([[15], [15], [36]])"
   ]
  },
  {
   "cell_type": "markdown",
   "id": "17231d94-34e5-4d37-8be8-446bec2c0851",
   "metadata": {},
   "source": [
    "Проверка применимости формул Крамера."
   ]
  },
  {
   "cell_type": "code",
   "execution_count": 116,
   "id": "b1870e4a-8b3a-4316-b2e9-e775095822a6",
   "metadata": {},
   "outputs": [
    {
     "name": "stdout",
     "output_type": "stream",
     "text": [
      "True\n"
     ]
    }
   ],
   "source": [
    "A_det = sympy.det(A)\n",
    "print(A_det != 0)"
   ]
  },
  {
   "cell_type": "code",
   "execution_count": 119,
   "id": "06257c6c-6c6d-45e6-bdd0-9918d69cfe8c",
   "metadata": {},
   "outputs": [
    {
     "name": "stdout",
     "output_type": "stream",
     "text": [
      "2 -1 1\n"
     ]
    }
   ],
   "source": [
    "X_m = sympy.Matrix(A)\n",
    "X_m[:, 0] = B\n",
    "Y_m = sympy.Matrix(A)\n",
    "Y_m[:, 1] = B\n",
    "Z_m = sympy.Matrix(A)\n",
    "Z_m[:, 2] = B\n",
    "\n",
    "x=sympy.det(X_m)/A_det\n",
    "y=sympy.det(Y_m)/A_det\n",
    "z=sympy.det(Z_m)/A_det\n",
    "\n",
    "print(x, y, z)"
   ]
  },
  {
   "cell_type": "markdown",
   "id": "3e31c1d3-6c27-45fa-9270-1728812b63c1",
   "metadata": {},
   "source": [
    "Проверка"
   ]
  },
  {
   "cell_type": "code",
   "execution_count": 120,
   "id": "a32db34a-4177-459a-b4cf-b7beb347693a",
   "metadata": {},
   "outputs": [
    {
     "name": "stdout",
     "output_type": "stream",
     "text": [
      "Matrix([[0], [0], [0]])\n"
     ]
    }
   ],
   "source": [
    "X = sympy.Matrix ([[2], [-1], [1]])\n",
    "print(A*X-B)"
   ]
  },
  {
   "cell_type": "markdown",
   "id": "06b9ec0a-09ea-46fc-a6c8-88d6127615e5",
   "metadata": {},
   "source": [
    "*Ответ: (2, -1, 1).*"
   ]
  },
  {
   "cell_type": "markdown",
   "id": "cb1e8fc7-7f9f-4f64-a34d-d7005b6606ee",
   "metadata": {},
   "source": [
    "**Упражнение 2.5. Решить системы уравнений из упражнений 2.3, используя обратную матрицу.**"
   ]
  },
  {
   "cell_type": "markdown",
   "id": "1d8d265a-8afb-45ca-996e-f3e1db3fab74",
   "metadata": {},
   "source": [
    "**2.5.1 (2.3.1)**"
   ]
  },
  {
   "cell_type": "code",
   "execution_count": 129,
   "id": "4cf4c1be-001d-4495-bed8-169018066980",
   "metadata": {},
   "outputs": [],
   "source": [
    "A = np.matrix ('3 -5; 2 7')\n",
    "B = np.matrix ('13; 81')"
   ]
  },
  {
   "cell_type": "markdown",
   "id": "c991fce0-31be-4dc3-9dec-a08282112d3d",
   "metadata": {},
   "source": [
    "Проверка применимости формул Крамера."
   ]
  },
  {
   "cell_type": "code",
   "execution_count": 130,
   "id": "ef339483-d756-43bd-b0b3-931a05bb0349",
   "metadata": {},
   "outputs": [
    {
     "name": "stdout",
     "output_type": "stream",
     "text": [
      "True\n"
     ]
    }
   ],
   "source": [
    "A_det = np.linalg.det(A)\n",
    "print(A_det != 0)"
   ]
  },
  {
   "cell_type": "code",
   "execution_count": 123,
   "id": "26462d24-ba32-42dc-a517-49ba48b60acf",
   "metadata": {},
   "outputs": [
    {
     "name": "stdout",
     "output_type": "stream",
     "text": [
      "[[16.]\n",
      " [ 7.]]\n"
     ]
    }
   ],
   "source": [
    "A_inv = np.linalg.inv(A)\n",
    "X = A_inv.dot(B)\n",
    "print(X)"
   ]
  },
  {
   "cell_type": "markdown",
   "id": "91ec86da-b6af-4ea2-97d6-2c3bb537ce85",
   "metadata": {},
   "source": [
    "*Ответ (16, 7).*"
   ]
  },
  {
   "cell_type": "markdown",
   "id": "42547da0-935f-45da-9646-c40da1b244d7",
   "metadata": {},
   "source": [
    "**2.5.2 (2.3.2)**"
   ]
  },
  {
   "cell_type": "code",
   "execution_count": 131,
   "id": "0f9f09d8-ccf5-4165-ae7a-1e16338213f7",
   "metadata": {},
   "outputs": [],
   "source": [
    "A = np.matrix ('3 -4; -6 8')\n",
    "B = np.matrix ('-6; 12')"
   ]
  },
  {
   "cell_type": "markdown",
   "id": "e3bf9bc5-dfe4-418b-ab7b-97ecc5990055",
   "metadata": {},
   "source": [
    "Проверка применимости формул Крамера."
   ]
  },
  {
   "cell_type": "code",
   "execution_count": 132,
   "id": "6d8032f6-4fb5-4551-9323-9cb95675fb70",
   "metadata": {},
   "outputs": [
    {
     "name": "stdout",
     "output_type": "stream",
     "text": [
      "False\n"
     ]
    }
   ],
   "source": [
    "A_det = np.linalg.det(A)\n",
    "print(A_det != 0)"
   ]
  },
  {
   "cell_type": "markdown",
   "id": "21fa3117-78e3-44cf-a659-ed238a18c7b3",
   "metadata": {},
   "source": [
    "*Формулы Крамера неприменимы.*"
   ]
  },
  {
   "cell_type": "markdown",
   "id": "26d071bb-fe58-4487-9527-6cd9dc31ea8f",
   "metadata": {},
   "source": [
    "**2.5.3 (2.3.3)**"
   ]
  },
  {
   "cell_type": "code",
   "execution_count": 135,
   "id": "5aff3bb8-9875-4235-9601-9b70063690a7",
   "metadata": {},
   "outputs": [],
   "source": [
    "A = np.matrix ('7 2 3; 5 -3 2; 10 -11 5')\n",
    "B = np.matrix ('15; 15; 36')"
   ]
  },
  {
   "cell_type": "markdown",
   "id": "6eb9f98a-c90a-46f6-b287-7f31f6962e83",
   "metadata": {},
   "source": [
    "Проверка применимости формул Крамера."
   ]
  },
  {
   "cell_type": "code",
   "execution_count": 136,
   "id": "3f0c6b5f-8637-49fb-85a6-91436de0c23d",
   "metadata": {},
   "outputs": [
    {
     "name": "stdout",
     "output_type": "stream",
     "text": [
      "True\n"
     ]
    }
   ],
   "source": [
    "A_det = np.linalg.det(A)\n",
    "print(A_det != 0)"
   ]
  },
  {
   "cell_type": "code",
   "execution_count": 137,
   "id": "03c0365f-16c4-4d8e-86c9-657d50adaeaf",
   "metadata": {},
   "outputs": [
    {
     "name": "stdout",
     "output_type": "stream",
     "text": [
      "[[ 2.]\n",
      " [-1.]\n",
      " [ 1.]]\n"
     ]
    }
   ],
   "source": [
    "A_inv = np.linalg.inv(A)\n",
    "X = A_inv.dot(B)\n",
    "print(X)"
   ]
  },
  {
   "cell_type": "markdown",
   "id": "97873d07-765a-449f-9a8f-8c1049ab49c9",
   "metadata": {},
   "source": [
    "*Ответ (2, -1, 1).*"
   ]
  },
  {
   "cell_type": "markdown",
   "id": "8f4c9493-1a69-435e-a5c8-a60479c3acce",
   "metadata": {},
   "source": [
    "**2.5.4 (2.3.4)**"
   ]
  },
  {
   "cell_type": "code",
   "execution_count": 139,
   "id": "4d85a006-ed15-4462-80cb-560160c3fcf3",
   "metadata": {},
   "outputs": [],
   "source": [
    "A = np.matrix ('2 1 0; 1 0 3; 0 5 -1')\n",
    "B = np.matrix ('5; 16; 10')"
   ]
  },
  {
   "cell_type": "markdown",
   "id": "5650bc1d-a7bf-47aa-a2d2-d928b456caa6",
   "metadata": {},
   "source": [
    "Проверка применимости формул Крамера."
   ]
  },
  {
   "cell_type": "code",
   "execution_count": 140,
   "id": "984f3e31-fa36-4fc0-89f0-917eebefad7c",
   "metadata": {},
   "outputs": [
    {
     "name": "stdout",
     "output_type": "stream",
     "text": [
      "True\n"
     ]
    }
   ],
   "source": [
    "A_det = np.linalg.det(A)\n",
    "print(A_det != 0)"
   ]
  },
  {
   "cell_type": "code",
   "execution_count": 141,
   "id": "add1ed00-ea77-4b8d-982a-12125e115311",
   "metadata": {},
   "outputs": [
    {
     "name": "stdout",
     "output_type": "stream",
     "text": [
      "[[1.]\n",
      " [3.]\n",
      " [5.]]\n"
     ]
    }
   ],
   "source": [
    "A_inv = np.linalg.inv(A)\n",
    "X = A_inv.dot(B)\n",
    "print(X)"
   ]
  },
  {
   "cell_type": "markdown",
   "id": "a05b9661-b41e-4521-ace1-cfe6a5cb3604",
   "metadata": {},
   "source": [
    "*Ответ (1, 3, 5).*"
   ]
  }
 ],
 "metadata": {
  "kernelspec": {
   "display_name": "Python 3 (ipykernel)",
   "language": "python",
   "name": "python3"
  },
  "language_info": {
   "codemirror_mode": {
    "name": "ipython",
    "version": 3
   },
   "file_extension": ".py",
   "mimetype": "text/x-python",
   "name": "python",
   "nbconvert_exporter": "python",
   "pygments_lexer": "ipython3",
   "version": "3.9.12"
  }
 },
 "nbformat": 4,
 "nbformat_minor": 5
}
