{
 "cells": [
  {
   "cell_type": "markdown",
   "id": "66685fa5-3010-416b-8dc6-393055a6799c",
   "metadata": {},
   "source": [
    "**КР6. Вариант 2**"
   ]
  },
  {
   "cell_type": "markdown",
   "id": "e9fac15d-8fc3-4307-b4c6-cc40ec332ebe",
   "metadata": {},
   "source": [
    "Загрузка необходимых библиотек."
   ]
  },
  {
   "cell_type": "code",
   "execution_count": 1,
   "id": "d127a04e-76bd-44e8-8821-15af13e762e2",
   "metadata": {},
   "outputs": [],
   "source": [
    "import numpy as np\n",
    "import sympy as sp\n",
    "import matplotlib.pyplot as plt\n",
    "from sympy.solvers.solveset import linsolve"
   ]
  },
  {
   "cell_type": "markdown",
   "id": "7955c228-e322-45da-b056-f649ed70a72f",
   "metadata": {},
   "source": [
    "**1.\tПусть координаты точки $М$ в старой системе координат $(3,-5)$, а в новой, направления осей которой те же самые, координаты этой точки $(1,-4)$. Найти координаты нового начала в старой системе координат.**"
   ]
  },
  {
   "cell_type": "code",
   "execution_count": 8,
   "id": "2b0ade44-9842-46aa-bd7e-15897f06169a",
   "metadata": {},
   "outputs": [
    {
     "name": "stdout",
     "output_type": "stream",
     "text": [
      "Координаты нового начала в старой системе координат: 2 -1\n"
     ]
    }
   ],
   "source": [
    "x = 3\n",
    "y = -5\n",
    "x1 = 1\n",
    "y1 = -4\n",
    "\n",
    "a = x - x1\n",
    "b = y - y1\n",
    "print(\"Координаты нового начала в старой системе координат:\", a, b)"
   ]
  },
  {
   "cell_type": "code",
   "execution_count": 37,
   "id": "0a3f040f-ce08-4319-9e30-29914d1fdcf0",
   "metadata": {},
   "outputs": [
    {
     "data": {
      "image/png": "[encoded data removed]",
      "text/plain": [
       "<Figure size 432x288 with 1 Axes>"
      ]
     },
     "metadata": {
      "needs_background": "light"
     },
     "output_type": "display_data"
    }
   ],
   "source": [
    "plt.plot(x, y, \"or\")\n",
    "\n",
    "plt.arrow(-1, 0, 5, 0, width=0.08, color=\"black\")\n",
    "plt.arrow(0, -6, 0, 10, width=0.08, color=\"black\")\n",
    "\n",
    "plt.arrow(a-1, b, 6, 0, width=0.08, color=\"blue\")\n",
    "plt.arrow(a, b-5, 0, 10, width=0.08, color=\"blue\")\n",
    "\n",
    "plt.xlabel(\"x\"); plt.ylabel(\"y\", rotation = 0)\n",
    "plt.axis(\"equal\")\n",
    "plt.grid()\n",
    "plt.show()"
   ]
  },
  {
   "cell_type": "markdown",
   "id": "2659187d-80e0-4ec0-adab-014e8a56e832",
   "metadata": {},
   "source": [
    "**2.\tДана точка $M (-\\sqrt{2}, \\sqrt{2})$. Новая система координат повернута относительно старой на угол $\\alpha = 45^o$ по часовой стрелке. Найти координаты этой точки в новой системе координат и базис этой системы. Сделать проверку в матричном виде.**"
   ]
  },
  {
   "cell_type": "code",
   "execution_count": 42,
   "id": "518f4191-f19e-4921-bc46-b1e55178490c",
   "metadata": {},
   "outputs": [
    {
     "name": "stdout",
     "output_type": "stream",
     "text": [
      "Координаты этой точки в новой системе: (-2.0, 0)\n"
     ]
    }
   ],
   "source": [
    "# начало координат новой системы: (a, b)\n",
    "# координаты точки M в старой системе: (x, y)\n",
    "# угол поворота новой системы: alfa\n",
    "\n",
    "a = 0; b = 0\n",
    "x = -np.sqrt(2); y = np.sqrt(2); alfa = -np.pi/4 \n",
    "\n",
    "qx, qy = sp.symbols('qx, qy')\n",
    "ans = (linsolve([qx*np.cos(alfa) - qy*np.sin(alfa)+a-x, qx * np.sin(alfa) + qy * np.cos(alfa)+b-y], (qx, qy)))\n",
    "print(\"Координаты этой точки в новой системе:\", *ans)"
   ]
  },
  {
   "cell_type": "code",
   "execution_count": 52,
   "id": "f5194dec-08e2-49ef-b715-09ae89b1c8d6",
   "metadata": {},
   "outputs": [
    {
     "name": "stdout",
     "output_type": "stream",
     "text": [
      "Проверка: True True\n"
     ]
    },
    {
     "data": {
      "image/png": "[encoded data removed]",
      "text/plain": [
       "<Figure size 432x288 with 1 Axes>"
      ]
     },
     "metadata": {
      "needs_background": "light"
     },
     "output_type": "display_data"
    }
   ],
   "source": [
    "x_new = -2\n",
    "y_new = 0\n",
    "\n",
    "# проверка\n",
    "x_proverka = x_new * np.cos(alfa) - y_new * np.sin(alfa) + a\n",
    "y_proverka = x_new * np.sin(alfa) + y_new * np.cos(alfa) + b\n",
    "\n",
    "print(\"Проверка:\", np.isclose(x, x_proverka), np.isclose(y, y_proverka))\n",
    "\n",
    "plt.arrow(-1, 0, 5, 0, width=0.08, color=\"black\")\n",
    "plt.arrow(0, -3, 0, 5, width=0.08, color=\"black\")\n",
    "\n",
    "x3 = np.cos(-alfa); y3 = -np.sin(-alfa)\n",
    "x4 = np.sin(-alfa); y4 = np.cos(-alfa)\n",
    "\n",
    "plt.arrow(a, b, x3*5, y3*5, width=0.08, color=\"blue\")\n",
    "plt.arrow(a, b, x4*2, y4*2, width=0.08, color=\"blue\")\n",
    "\n",
    "plt.plot(x, y, \"or\")\n",
    "\n",
    "plt.xlabel(\"x\"); plt.ylabel(\"y\", rotation = 0)\n",
    "plt.axis(\"scaled\")\n",
    "plt.grid()\n",
    "plt.show()"
   ]
  },
  {
   "cell_type": "code",
   "execution_count": 62,
   "id": "698067c1-53f6-44de-be5e-d38ee66bd0e1",
   "metadata": {},
   "outputs": [
    {
     "name": "stdout",
     "output_type": "stream",
     "text": [
      "Координаты этой точки в новой системе: [[-2.]] [[0.]]\n"
     ]
    }
   ],
   "source": [
    "alfa = -np.pi/4\n",
    "A = np.matrix([[np.cos(alfa), np.sin(alfa)], [-np.sin(alfa), np.cos(alfa)]])\n",
    "x = [-np.sqrt(2)]\n",
    "y = [np.sqrt(2)]\n",
    "X = np.concatenate(([x], [y]), axis=0) # соединение массивов\n",
    "Y = A * X\n",
    "print(\"Координаты этой точки в новой системе:\", Y[0], Y[1])"
   ]
  },
  {
   "cell_type": "markdown",
   "id": "6b8762ac-3b6e-46e8-bd68-0049096e7459",
   "metadata": {},
   "source": [
    "**3, 4.\tОсуществите сдвиг и поворот равнобедренного треугольника. Треугольник и параметры преобразования задайте самостоятельно.**"
   ]
  },
  {
   "cell_type": "code",
   "execution_count": 75,
   "id": "10f5e562-05e5-46a3-8e24-64d9d82529a6",
   "metadata": {},
   "outputs": [
    {
     "data": {
      "image/png": "[encoded data removed]",
      "text/plain": [
       "<Figure size 432x288 with 1 Axes>"
      ]
     },
     "metadata": {
      "needs_background": "light"
     },
     "output_type": "display_data"
    }
   ],
   "source": [
    "# ЗАДАВАЕМЫЕ ПАРАМЕТРЫ\n",
    "# начало координат новой системы: (a, b)\n",
    "# угол поворота новой системы: alfa\n",
    "\n",
    "alfa = np.pi/6\n",
    "a = -2; b = -2\n",
    "\n",
    "A = [2, 1]\n",
    "B = [6, 1]\n",
    "C = [4, 6]\n",
    "\n",
    "def getNewCoord(x, y, alfa, a, b):\n",
    "    x1 = x * np.cos(alfa) - y * np.sin(alfa) + a\n",
    "    y1 = x * np.sin(alfa) + y * np.cos(alfa) + b\n",
    "    return [x1, y1]\n",
    "\n",
    "A_new = getNewCoord(A[0], A[1], alfa, a, b)\n",
    "B_new = getNewCoord(B[0], B[1], alfa, a, b)\n",
    "C_new = getNewCoord(C[0], C[1], alfa, a, b)\n",
    "\n",
    "# начальная система координат\n",
    "plt.arrow(-2, 0, 7, 0, width=0.08, color='black')\n",
    "plt.arrow(0, -2, 0, 7, width=0.08, color='black')\n",
    "\n",
    "plt.plot([A[0], B[0]], [A[1], B[1]], color = \"black\")\n",
    "plt.plot([B[0], C[0]], [B[1], C[1]], color = \"black\")\n",
    "plt.plot([C[0], A[0]], [C[1], A[1]], color = \"black\")\n",
    "\n",
    "\n",
    "# новая система координат\n",
    "x3 = np.cos(-alfa); y3 = - np.sin(-alfa)\n",
    "x4 = np.sin(-alfa); y4 = np.cos(-alfa)\n",
    "plt.arrow(a, b, x3*3, y3*3, width=0.08, color='blue')\n",
    "plt.arrow(a, b, x4*3, y4*3, width=0.08, color='blue')\n",
    "\n",
    "plt.plot([A_new[0], B_new[0]], [A_new[1], B_new[1]], color = \"blue\")\n",
    "plt.plot([B_new[0], C_new[0]], [B_new[1], C_new[1]], color = \"blue\")\n",
    "plt.plot([C_new[0], A_new[0]], [C_new[1], A_new[1]], color = \"blue\")\n",
    "\n",
    "plt.grid()\n",
    "plt.axis(\"equal\")\n",
    "plt.show()"
   ]
  }
 ],
 "metadata": {
  "kernelspec": {
   "display_name": "Python 3 (ipykernel)",
   "language": "python",
   "name": "python3"
  },
  "language_info": {
   "codemirror_mode": {
    "name": "ipython",
    "version": 3
   },
   "file_extension": ".py",
   "mimetype": "text/x-python",
   "name": "python",
   "nbconvert_exporter": "python",
   "pygments_lexer": "ipython3",
   "version": "3.9.12"
  }
 },
 "nbformat": 4,
 "nbformat_minor": 5
}
