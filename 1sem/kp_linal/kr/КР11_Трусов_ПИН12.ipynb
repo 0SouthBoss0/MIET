{
 "cells": [
  {
   "cell_type": "markdown",
   "id": "8075cc72-1450-4d40-853f-7f7e86ba53b1",
   "metadata": {},
   "source": [
    "**Контрольная работа №11. Вариант 2**"
   ]
  },
  {
   "cell_type": "markdown",
   "id": "18604bbd-8cb3-4f2d-8ea8-7f80df687418",
   "metadata": {},
   "source": [
    "**Исследовать систему на совместность и найти общее решение. Для однородной системы найти фундаментальную систему решений. Сделать проверку.**"
   ]
  },
  {
   "cell_type": "markdown",
   "id": "8d9ab50f-a124-4624-931d-3c12e4d69377",
   "metadata": {},
   "source": [
    "Загрузка необходимых библиотек:"
   ]
  },
  {
   "cell_type": "code",
   "execution_count": 2,
   "id": "7995ce23-b2e7-4174-8d25-9240cad7bce4",
   "metadata": {},
   "outputs": [],
   "source": [
    "import numpy as np\n",
    "from sympy import *"
   ]
  },
  {
   "cell_type": "markdown",
   "id": "94c5ff7c-714f-48d4-805b-9fbd23c9a984",
   "metadata": {},
   "source": [
    "$1. \\begin{equation*}\n",
    " \\begin{cases}\n",
    "   x_1-2x_2+3x_3-4x_4=2\\\\\n",
    "   3x_1+3x_2-5x_3+x_4=-3\\\\\n",
    "   -2x_1+x_2+2x_3-3x_4=5\\\\\n",
    "   3x_1+3x_3-10x_4=8\n",
    " \\end{cases}\n",
    "\\end{equation*}$"
   ]
  },
  {
   "cell_type": "code",
   "execution_count": 3,
   "id": "8b30df64-fec6-482e-96db-ccaad2a5ca85",
   "metadata": {},
   "outputs": [
    {
     "name": "stdout",
     "output_type": "stream",
     "text": [
      "СЛАУ несовместна (нет решений).\n"
     ]
    }
   ],
   "source": [
    "def checkSovmestnost(rankA, rankAB, n):\n",
    "    if rankA == rankAB and rankA == n:\n",
    "        return \"СЛАУ определённая (одно решение).\"\n",
    "    if rankA != rankAB:\n",
    "        return \"СЛАУ несовместна (нет решений).\"\n",
    "    return \"СЛАУ неопределённая (бесконечное количество решений).\"\n",
    "\n",
    "\n",
    "A = np.array([[1, -2, 3, -4],\n",
    "              [3, 3, -5, 1],\n",
    "              [-2, 1, 2, -3],\n",
    "              [3, 0, 3, -10]])\n",
    "B = np.array([-2, -3, 5, 8])\n",
    "n = 4\n",
    "\n",
    "# Исследуем систему на совместность\n",
    "AB = np.column_stack((A, B))  # добавляем к матрице А столбец В\n",
    "rkA = np.linalg.matrix_rank(A)\n",
    "rkAB = np.linalg.matrix_rank(AB)\n",
    "print(checkSovmestnost(rkA, rkAB, n))"
   ]
  },
  {
   "cell_type": "markdown",
   "id": "1b4077ac-54ff-4bb7-ad5d-dd2cccf16e86",
   "metadata": {},
   "source": [
    "$2. \\begin{equation*}\n",
    " \\begin{cases}\n",
    "   2x_1-3x_2+5x_3+7x_4=1\\\\\n",
    "   4x_1-6x_2+2x_3+3x_4=2\\\\\n",
    "   2x_1-3x_2-11x_3-15x_4=1\n",
    " \\end{cases}\n",
    "\\end{equation*}$"
   ]
  },
  {
   "cell_type": "code",
   "execution_count": 46,
   "id": "1d1224cf-a32a-4a0f-8803-148fce0c8d9d",
   "metadata": {},
   "outputs": [
    {
     "name": "stdout",
     "output_type": "stream",
     "text": [
      "СЛАУ неопределённая (бесконечное количество решений).\n"
     ]
    }
   ],
   "source": [
    "def checkSovmestnost(rankA, rankAB, n):\n",
    "    if rankA == rankAB and rankA == n:\n",
    "        return \"СЛАУ определённая (одно решение).\"\n",
    "    if rankA != rankAB:\n",
    "        return \"СЛАУ несовместна (нет решений).\"\n",
    "    return \"СЛАУ неопределённая (бесконечное количество решений).\"\n",
    "\n",
    "\n",
    "A = np.array([[2, -3, 5, 7],\n",
    "              [4, -6, 2, 3],\n",
    "              [2, -3, -11, -15]])\n",
    "B = np.array([1, 2, 1])\n",
    "n = 4\n",
    "\n",
    "# Исследуем систему на совместность\n",
    "AB = np.column_stack((A, B))  # добавляем к матрице А столбец В\n",
    "rkA = np.linalg.matrix_rank(A)\n",
    "rkAB = np.linalg.matrix_rank(AB)\n",
    "print(checkSovmestnost(rkA, rkAB, n))"
   ]
  },
  {
   "cell_type": "code",
   "execution_count": 53,
   "id": "701e2536-a3f3-4ba8-aad1-a3edeffadebf",
   "metadata": {},
   "outputs": [
    {
     "name": "stdout",
     "output_type": "stream",
     "text": [
      "⎛⎡1  -3/2  0  1/16⎤        ⎞\n",
      "⎜⎢                ⎥        ⎟\n",
      "⎜⎢0   0    1  11/8⎥, (0, 2)⎟\n",
      "⎜⎢                ⎥        ⎟\n",
      "⎝⎣0   0    0   0  ⎦        ⎠\n"
     ]
    }
   ],
   "source": [
    "A_Gauss = Matrix([[2, -3, 5, 7],\n",
    "                  [4, -6, 2, 3],\n",
    "                  [2, -3, -11, -15]])\n",
    "B_Gauss = Matrix([1, 2, 1])\n",
    "RA = A_Gauss.rref()\n",
    "pprint(RA)"
   ]
  },
  {
   "cell_type": "code",
   "execution_count": 55,
   "id": "53f79e30-7aff-4d1c-9552-1357ed0765ed",
   "metadata": {},
   "outputs": [
    {
     "name": "stdout",
     "output_type": "stream",
     "text": [
      "(3*x2/2 - x4/16 + 1/2, x2, -11*x4/8, x4)\n"
     ]
    }
   ],
   "source": [
    "x1, x2, x3, x4 = symbols('x1 x2 x3 x4')\n",
    "X = linsolve((A_Gauss, B_Gauss), x1, x2, x3, x4)\n",
    "print(*X)"
   ]
  },
  {
   "cell_type": "code",
   "execution_count": 56,
   "id": "854dfe1a-d4b0-4071-90c2-4dcb9fb5c231",
   "metadata": {},
   "outputs": [
    {
     "name": "stdout",
     "output_type": "stream",
     "text": [
      "True\n"
     ]
    }
   ],
   "source": [
    "# Проверка\n",
    "X = Matrix([[3*x2/2 - x4/16 + 1/2], [x2], [-11*x4/8], [x4]])\n",
    "print(A_Gauss * X == B_Gauss)"
   ]
  },
  {
   "cell_type": "markdown",
   "id": "3742317e-dfa4-4c20-b195-97883bbd0f2e",
   "metadata": {},
   "source": [
    "$3. \\begin{equation*}\n",
    " \\begin{cases}\n",
    "   x_1+2x_2+3x_3=6\\\\\n",
    "   2x_1-3x_2+x_3=0\\\\\n",
    "   3x_1-2x_2+x_3=2\\\\\n",
    "   x_1-x_2+3x_3=3\\\\\n",
    " \\end{cases}\n",
    "\\end{equation*}$"
   ]
  },
  {
   "cell_type": "code",
   "execution_count": 37,
   "id": "143282f9-117d-4a65-bb06-8d03ab2b6097",
   "metadata": {},
   "outputs": [
    {
     "name": "stdout",
     "output_type": "stream",
     "text": [
      "СЛАУ определённая (одно решение).\n"
     ]
    }
   ],
   "source": [
    "def checkSovmestnost(rankA, rankAB, n):\n",
    "    if rankA == rankAB and rankA == n:\n",
    "        return \"СЛАУ определённая (одно решение).\"\n",
    "    if rankA != rankAB:\n",
    "        return \"СЛАУ несовместна (нет решений).\"\n",
    "    return \"СЛАУ неопределённая (бесконечное количество решений).\"\n",
    "\n",
    "\n",
    "A = np.array([[1, 2, 3],\n",
    "              [2, -3, 1],\n",
    "              [3, -2, 1],\n",
    "              [1, -1, 3]])\n",
    "B = np.array([6, 0, 2, 3])\n",
    "n = 3\n",
    "\n",
    "# Исследуем систему на совместность\n",
    "AB = np.column_stack((A, B))  # добавляем к матрице А столбец В\n",
    "rkA = np.linalg.matrix_rank(A)\n",
    "rkAB = np.linalg.matrix_rank(AB)\n",
    "print(checkSovmestnost(rkA, rkAB, n))"
   ]
  },
  {
   "cell_type": "code",
   "execution_count": 38,
   "id": "67ea7faf-45d3-4f10-833c-c6bf4d4ae80e",
   "metadata": {},
   "outputs": [
    {
     "name": "stdout",
     "output_type": "stream",
     "text": [
      "⎛⎡1  0  0⎤           ⎞\n",
      "⎜⎢       ⎥           ⎟\n",
      "⎜⎢0  1  0⎥           ⎟\n",
      "⎜⎢       ⎥, (0, 1, 2)⎟\n",
      "⎜⎢0  0  1⎥           ⎟\n",
      "⎜⎢       ⎥           ⎟\n",
      "⎝⎣0  0  0⎦           ⎠\n"
     ]
    }
   ],
   "source": [
    "A_Gauss = Matrix([[1, 2, 3],\n",
    "                  [2, -3, 1],\n",
    "                  [3, -2, 1],\n",
    "                  [1, -1, 3]])\n",
    "B_Gauss = Matrix([6, 0, 2, 3])\n",
    "RA = A_Gauss.rref()\n",
    "pprint(RA)"
   ]
  },
  {
   "cell_type": "code",
   "execution_count": 41,
   "id": "db944cbb-101b-486c-b1b6-ba319fc20be6",
   "metadata": {},
   "outputs": [
    {
     "name": "stdout",
     "output_type": "stream",
     "text": [
      "(1, 1, 1)\n"
     ]
    }
   ],
   "source": [
    "x1, x2, x3 = symbols('x1 x2 x3')\n",
    "X = linsolve((A_Gauss, B_Gauss), x1, x2, x3)\n",
    "print(*X)"
   ]
  },
  {
   "cell_type": "code",
   "execution_count": 42,
   "id": "883440e6-75a2-4a47-b2f3-1ee7de67de43",
   "metadata": {},
   "outputs": [
    {
     "name": "stdout",
     "output_type": "stream",
     "text": [
      "True\n"
     ]
    }
   ],
   "source": [
    "# Проверка\n",
    "X = Matrix([[1], [1], [1]])\n",
    "print(A_Gauss * X == B_Gauss)"
   ]
  },
  {
   "cell_type": "markdown",
   "id": "6bcf0d82-6f2c-4db3-a527-6595a2fb2e87",
   "metadata": {},
   "source": [
    "$4. \\begin{equation*}\n",
    " \\begin{cases}\n",
    "   x_1-x_2-2x_3+3x_4=0\\\\\n",
    "   x_1+2x_2-4x_4=0\\\\\n",
    "   2x_1+x_2+2x_3-x_4=0\\\\\n",
    "   x_1-4x_2+x_3+10x_4=0\n",
    " \\end{cases}\n",
    "\\end{equation*}$"
   ]
  },
  {
   "cell_type": "code",
   "execution_count": 43,
   "id": "ebeb1734-b925-4fe2-95ac-9d0261829059",
   "metadata": {},
   "outputs": [
    {
     "name": "stdout",
     "output_type": "stream",
     "text": [
      "Ранг матрицы системы: 3\n"
     ]
    }
   ],
   "source": [
    "AA = Matrix([[1, -1, -2, 3],\n",
    "             [1, 2, 0, -4],\n",
    "             [2, 1, 2, -1],\n",
    "             [1, -4, 1, 10]])\n",
    "\n",
    "print(\"Ранг матрицы системы:\", AA.rank())"
   ]
  },
  {
   "cell_type": "code",
   "execution_count": 45,
   "id": "b6644c72-0ace-4c72-9a40-fc0aa69ef35c",
   "metadata": {},
   "outputs": [
    {
     "name": "stdout",
     "output_type": "stream",
     "text": [
      "Фундаментальная система решений:\n",
      "⎡-2/3⎤\n",
      "⎢    ⎥\n",
      "⎢7/3 ⎥\n",
      "⎢    ⎥\n",
      "⎢ 0  ⎥\n",
      "⎢    ⎥\n",
      "⎣ 1  ⎦\n",
      "Общее решение системы:\n",
      "Matrix([[-2*C1/3], [7*C1/3], [0], [C1]])\n"
     ]
    }
   ],
   "source": [
    "E = AA.nullspace()\n",
    "print('Фундаментальная система решений:')\n",
    "pprint(*E)\n",
    "\n",
    "C1 = symbols('C1')\n",
    "print('Общее решение системы:')\n",
    "print(C1 * E[0])"
   ]
  }
 ],
 "metadata": {
  "kernelspec": {
   "display_name": "Python 3 (ipykernel)",
   "language": "python",
   "name": "python3"
  },
  "language_info": {
   "codemirror_mode": {
    "name": "ipython",
    "version": 3
   },
   "file_extension": ".py",
   "mimetype": "text/x-python",
   "name": "python",
   "nbconvert_exporter": "python",
   "pygments_lexer": "ipython3",
   "version": "3.9.12"
  }
 },
 "nbformat": 4,
 "nbformat_minor": 5
}
