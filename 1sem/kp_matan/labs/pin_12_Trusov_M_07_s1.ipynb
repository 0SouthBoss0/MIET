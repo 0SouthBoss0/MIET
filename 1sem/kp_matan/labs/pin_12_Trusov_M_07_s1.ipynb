{
 "cells": [
  {
   "cell_type": "markdown",
   "id": "0b732ed7-7c56-46f2-82be-cc0c70e3907c",
   "metadata": {},
   "source": [
    "**Практикум 7. Непрерывность функции**"
   ]
  },
  {
   "cell_type": "markdown",
   "id": "b55c8f80-a2f8-4f35-a204-08394023cf16",
   "metadata": {},
   "source": [
    "**Упражнение 1. Для следующих функций найти точки разрыва, исследовать их характер, сделать геометрическую иллюстрацию:**"
   ]
  },
  {
   "cell_type": "markdown",
   "id": "eab8318e-5c4f-490d-89cc-44bd6ad4bc58",
   "metadata": {},
   "source": [
    "а)<big> $y = \\frac {x^2-4}{|x^2-4|}$</big> б)<big> $y = e^\\frac{1}{x-2}$</big>"
   ]
  },
  {
   "cell_type": "code",
   "execution_count": 103,
   "id": "f31d7a4e-6267-4f86-9c92-a07de5964e0a",
   "metadata": {},
   "outputs": [
    {
     "name": "stdout",
     "output_type": "stream",
     "text": [
      "Точка разрыва: -2.0000000000014193\n",
      "f(x₀-0): -1.00000000000000\n",
      "f(x₀+0): 1\n",
      "Разрыв первого рода\n",
      "\n",
      "Точка разрыва: 2.000000000001121\n",
      "f(x₀-0): -1.00000000000000\n",
      "f(x₀+0): 1\n",
      "Разрыв первого рода\n"
     ]
    },
    {
     "data": {
      "image/png": "[encoded data removed]",
      "text/plain": [
       "<Figure size 432x288 with 1 Axes>"
      ]
     },
     "metadata": {
      "needs_background": "light"
     },
     "output_type": "display_data"
    }
   ],
   "source": [
    "from scipy import optimize\n",
    "import matplotlib.pyplot as plt\n",
    "import numpy as np\n",
    "import sympy as sp\n",
    "from sympy.abc import x\n",
    "\n",
    "def f(x):\n",
    " return ((x**2-4)/abs(x**2-4))\n",
    "\n",
    "x1 = optimize.brentq(f, -1000, -1)\n",
    "print('Точка разрыва:', x1)\n",
    "\n",
    "# правый и левый пределы в точке разрыва\n",
    "a = sp.limit( ((x**2-4)/abs(x**2-4)) , x, 1.99)\n",
    "b = sp.limit( ((x**2-4)/abs(x**2-4)) , x, 2.01)\n",
    "\n",
    "print(\"f(x₀-0):\", a)\n",
    "print(\"f(x₀+0):\", b)\n",
    "print(\"Разрыв первого рода\")\n",
    "\n",
    "x2 = optimize.brentq(f, -1, 1000)\n",
    "print('\\nТочка разрыва:', x2)\n",
    "\n",
    "# правый и левый пределы в точке разрыва\n",
    "a = sp.limit( ((x**2-4)/abs(x**2-4)) , x, 1.99)\n",
    "b = sp.limit( ((x**2-4)/abs(x**2-4)) , x, 2.01)\n",
    "\n",
    "print(\"f(x₀-0):\", a)\n",
    "print(\"f(x₀+0):\", b)\n",
    "print(\"Разрыв первого рода\")\n",
    "\n",
    "x = np.arange(-10, -2.01, 0.01)\n",
    "plt.plot(x, f(x), \"b\")\n",
    "\n",
    "x = np.arange(-1.99, 1.99, 0.01)\n",
    "plt.plot(x, f(x), \"b\")\n",
    "\n",
    "x = np.arange(2.01, 5, 0.01)\n",
    "plt.plot(x, f(x), \"b\")\n",
    "\n",
    "#установить границы оси\n",
    "plt.ylim(-2, 2)\n",
    "plt.xlim(-5, 5)\n",
    "\n",
    "# параметры координатной плоскости\n",
    "plt.xlabel(\"x\")\n",
    "plt.ylabel(\"y\", rotation = 0)\n",
    "plt.grid()\n",
    "plt.axhline(y=0, color='k')\n",
    "plt.axvline(x=0, color='k')\n",
    "plt.show()"
   ]
  },
  {
   "cell_type": "code",
   "execution_count": 87,
   "id": "7c6768ea-4a81-4416-846d-ff71c8410332",
   "metadata": {},
   "outputs": [
    {
     "name": "stdout",
     "output_type": "stream",
     "text": [
      "Точка разрыва: 2\n",
      "f(x₀-0): 3.72007597602018e-44\n",
      "f(x₀+0): 2.68811714182257e+43\n",
      "\n",
      "Разрыв второго рода\n"
     ]
    },
    {
     "data": {
      "image/png": "[encoded data removed]",
      "text/plain": [
       "<Figure size 432x288 with 1 Axes>"
      ]
     },
     "metadata": {
      "needs_background": "light"
     },
     "output_type": "display_data"
    }
   ],
   "source": [
    "from scipy import optimize\n",
    "import matplotlib.pyplot as plt\n",
    "import numpy as np\n",
    "import sympy as sp\n",
    "from sympy.abc import x\n",
    "\n",
    "def f(x):\n",
    " return np.e**(1/(x-2))\n",
    "\n",
    "print('Точка разрыва:', \"2\")\n",
    "\n",
    "# правый и левый пределы в точке разрыва\n",
    "a = sp.limit( np.e**(1/(x-2)) , x, 1.99)\n",
    "b = sp.limit( np.e**(1/(x-2)) , x, 2.01)\n",
    "\n",
    "print(\"f(x₀-0):\", a)\n",
    "print(\"f(x₀+0):\", b)\n",
    "print(\"\\nРазрыв второго рода\")\n",
    "\n",
    "x = np.arange(-10, 1.99, 0.01)\n",
    "plt.plot(x, f(x), \"b\")\n",
    "\n",
    "x = np.arange(2.01, 5, 0.01)\n",
    "plt.plot(x, f(x), \"b\")\n",
    "\n",
    "#установить границы оси\n",
    "plt.ylim(-1, 4)\n",
    "plt.xlim(0.5, 5)\n",
    "\n",
    "# параметры координатной плоскости\n",
    "plt.xlabel(\"x\")\n",
    "plt.ylabel(\"y\", rotation = 0)\n",
    "plt.grid()\n",
    "plt.axhline(y=0, color='k')\n",
    "plt.axvline(x=0, color='k')\n",
    "plt.show()"
   ]
  },
  {
   "cell_type": "markdown",
   "id": "70acbffd-7fa3-47b6-9adf-034a836d343e",
   "metadata": {},
   "source": [
    "**Упражнение 2. Найдите все корни уравнений.**"
   ]
  },
  {
   "cell_type": "markdown",
   "id": "3445d8c7-d43f-468e-afa4-1871d8138e28",
   "metadata": {},
   "source": [
    "а)<big> $e^{\\frac{x}{2}}=3+\\sqrt{x}$</big>"
   ]
  },
  {
   "cell_type": "markdown",
   "id": "1e420acf-5e2d-4e77-ad13-553204cb6130",
   "metadata": {},
   "source": [
    "б)<big> $x^3-8x^2+17x+\\sqrt{x}=10$</big>"
   ]
  },
  {
   "cell_type": "code",
   "execution_count": 103,
   "id": "6608bc5e-d167-46d3-8a35-71d31af08a4b",
   "metadata": {},
   "outputs": [
    {
     "name": "stdout",
     "output_type": "stream",
     "text": [
      "Корень уравнения: 3.1235886192561138\n",
      "Значение функции ноль: True\n"
     ]
    },
    {
     "data": {
      "image/png": "[encoded data removed]",
      "text/plain": [
       "<Figure size 432x288 with 1 Axes>"
      ]
     },
     "metadata": {
      "needs_background": "light"
     },
     "output_type": "display_data"
    }
   ],
   "source": [
    "from scipy import optimize\n",
    "import matplotlib.pyplot as plt\n",
    "import numpy as np\n",
    "import sympy as sp\n",
    "from sympy.abc import x\n",
    "\n",
    "def f(x):\n",
    " return np.e**(x/2)-3-np.sqrt(x)\n",
    "\n",
    "x = np.arange(0, 10, 0.01)\n",
    "plt.plot(x, f(x), \"b\")\n",
    "\n",
    "x1 = optimize.brentq(f, 3, 3.5)\n",
    "print(\"Корень уравнения:\", x1)\n",
    "print (\"Значение функции - ноль:\", np.isclose(f(x1), 0))\n",
    "\n",
    "#установить границы оси\n",
    "plt.ylim(-1, 4)\n",
    "plt.xlim(0.5, 5)\n",
    "\n",
    "# параметры координатной плоскости\n",
    "plt.xlabel(\"x\")\n",
    "plt.ylabel(\"y\", rotation = 0)\n",
    "plt.grid()\n",
    "plt.axhline(y=0, color='k')\n",
    "plt.axvline(x=0, color='k')\n",
    "plt.show()"
   ]
  },
  {
   "cell_type": "code",
   "execution_count": 104,
   "id": "024a911e-71b0-4297-b0bf-1f6873aefa8d",
   "metadata": {},
   "outputs": [
    {
     "name": "stdout",
     "output_type": "stream",
     "text": [
      "Корень уравнения 1: 0.8172611734483982\n",
      "Значение функции - ноль: True\n",
      "\n",
      "Корень уравнения 2: 2.424415309304906\n",
      "Значение функции - ноль: True\n",
      "\n",
      "Корень уравнения 3: 4.7933841533641415\n",
      "Значение функции - ноль: True\n"
     ]
    },
    {
     "data": {
      "image/png": "[encoded data removed]",
      "text/plain": [
       "<Figure size 432x288 with 1 Axes>"
      ]
     },
     "metadata": {
      "needs_background": "light"
     },
     "output_type": "display_data"
    }
   ],
   "source": [
    "from scipy import optimize\n",
    "import matplotlib.pyplot as plt\n",
    "import numpy as np\n",
    "import sympy as sp\n",
    "from sympy.abc import x\n",
    "\n",
    "def f(x):\n",
    " return x**3-8*x**2+17*x+np.sqrt(x)-10\n",
    "\n",
    "x = np.arange(0, 10, 0.01)\n",
    "plt.plot(x, f(x), \"b\")\n",
    "\n",
    "x1 = optimize.brentq(f, 0.5, 1)\n",
    "print(\"Корень уравнения 1:\", x1)\n",
    "print (\"Значение функции - ноль:\", np.isclose(f(x1), 0))\n",
    "\n",
    "x2 = optimize.brentq(f, 2, 2.5)\n",
    "print(\"\\nКорень уравнения 2:\", x2)\n",
    "print (\"Значение функции - ноль:\", np.isclose(f(x1), 0))\n",
    "\n",
    "x3 = optimize.brentq(f, 4.5, 5)\n",
    "print(\"\\nКорень уравнения 3:\", x3)\n",
    "print (\"Значение функции - ноль:\", np.isclose(f(x3), 0))\n",
    "\n",
    "#установить границы оси\n",
    "plt.ylim(-6, 4)\n",
    "plt.xlim(0.5, 5)\n",
    "\n",
    "# параметры координатной плоскости\n",
    "plt.xlabel(\"x\")\n",
    "plt.ylabel(\"y\", rotation = 0)\n",
    "plt.grid()\n",
    "plt.axhline(y=0, color='k')\n",
    "plt.axvline(x=0, color='k')\n",
    "plt.show()"
   ]
  },
  {
   "cell_type": "markdown",
   "id": "2062a4e3-6177-40b4-852e-d54371866f09",
   "metadata": {},
   "source": [
    "**Упражнение 3. Решите следующие уравнения. Попробуйте определить, являются ли полученные решения точными или приближёнными.**"
   ]
  },
  {
   "cell_type": "markdown",
   "id": "ddf97b6a-91be-43eb-817a-5e69b5a235eb",
   "metadata": {},
   "source": [
    "а)<big> $e^{3x}=(3x)^e$</big>"
   ]
  },
  {
   "cell_type": "markdown",
   "id": "aa9ba3dd-90bd-4c3b-900f-54d3e107c466",
   "metadata": {},
   "source": [
    "б)<big> $\\sin{x}=\\frac{x}{3}$</big>"
   ]
  },
  {
   "cell_type": "code",
   "execution_count": 105,
   "id": "1c076a44-0bdf-4c72-8421-391347a2afea",
   "metadata": {},
   "outputs": [
    {
     "name": "stdout",
     "output_type": "stream",
     "text": [
      "Корень уравнения: -0.210003079637967 + 0.16060456040024*I\n",
      "Значение функции: -0.284818617606917*(-1 + 0.764772405610018*I)**2.71828182845905 + 2.71828182845905**(-0.6300092389139 + 0.48181368120072*I)\n"
     ]
    }
   ],
   "source": [
    "from sympy.solvers import nsolve\n",
    "from sympy import Symbol, sin\n",
    "import numpy as np\n",
    "\n",
    "def f(x):\n",
    "    return np.e**(3*x)-(3*x)**np.e\n",
    "\n",
    "x = Symbol('x')\n",
    "eq = np.e**(3*x)-(3*x)**np.e\n",
    "a = nsolve(eq, 0)\n",
    "\n",
    "print(\"Корень уравнения:\", a)\n",
    "print (\"Значение функции:\", f(a))"
   ]
  },
  {
   "cell_type": "code",
   "execution_count": 104,
   "id": "6083881c-6201-443c-80ba-d171772dcf4d",
   "metadata": {},
   "outputs": [
    {
     "name": "stdout",
     "output_type": "stream",
     "text": [
      "Корень уравнения: 0\n",
      "Значение функции - ноль: True\n"
     ]
    }
   ],
   "source": [
    "from sympy.solvers import nsolve\n",
    "from sympy import Symbol, sin\n",
    "import numpy as np\n",
    "\n",
    "def f(x):\n",
    "    return sin(x) - x/3\n",
    "\n",
    "x = Symbol('x')\n",
    "eq = sin(x) - x/3\n",
    "a = nsolve(eq, 0)\n",
    "\n",
    "print(\"Корень уравнения:\", a)\n",
    "print (\"Значение функции - ноль:\", np.isclose(int(f(eq.subs(x,a))), 0))"
   ]
  },
  {
   "cell_type": "markdown",
   "id": "732d4fa1-493b-4e82-b657-54bf66c71863",
   "metadata": {},
   "source": [
    "**Упражнение 4. Решите систему уравнений.**"
   ]
  },
  {
   "cell_type": "markdown",
   "id": "e9bfda79-c245-4822-8b38-2ef38971d296",
   "metadata": {},
   "source": [
    "$\\begin{equation*}\n",
    " \\begin{cases}\n",
    "   w+x+4y+3z=5 \n",
    "   \\\\\n",
    "   2w+3x+y-2z=1\n",
    "   \\\\\n",
    "   w+2x-5y+4z=3\n",
    "   \\\\\n",
    "   w-3z=9\n",
    " \\end{cases}\n",
    "\\end{equation*}$"
   ]
  },
  {
   "cell_type": "code",
   "execution_count": 106,
   "id": "2ce66bc8-cfae-4af2-be13-841d95bc42ee",
   "metadata": {},
   "outputs": [
    {
     "name": "stdout",
     "output_type": "stream",
     "text": [
      "w: 11.0551181102362\n",
      "x: -6.44094488188976\n",
      "y: -0.417322834645669\n",
      "z: 0.685039370078740\n"
     ]
    }
   ],
   "source": [
    "from scipy import optimize\n",
    "import matplotlib.pyplot as plt\n",
    "import numpy as np\n",
    "import sympy as sp\n",
    "from sympy.abc import x\n",
    "\n",
    "w = Symbol('w')\n",
    "x = Symbol('x')\n",
    "y = Symbol('y')\n",
    "z = Symbol('z')\n",
    "\n",
    "f1 = w+x+4*y+3*z-5\n",
    "f2 = 2*w+3*x+y-2*z-1\n",
    "f3 = w+2*x-5*y+4*z-3\n",
    "f4 = w-3*z-9\n",
    "\n",
    "a = nsolve((f1, f2, f3, f4), (w, x, y, z), (0, 0, 0, 0))\n",
    "\n",
    "print(\"w:\", a[0])\n",
    "print(\"x:\", a[1])\n",
    "print(\"y:\", a[2])\n",
    "print(\"z:\", a[3])"
   ]
  },
  {
   "cell_type": "markdown",
   "id": "4092628d-d0a3-426c-98c8-0b44b1e84862",
   "metadata": {},
   "source": [
    "**Упражнение С1. Для следующих функций найти точки разрыва, исследовать их характер, сделать геометрическую иллюстрацию:**"
   ]
  },
  {
   "cell_type": "markdown",
   "id": "e32ebada-449b-4774-8b1e-2cbba029c9c8",
   "metadata": {},
   "source": [
    "а)<big> $y = \\frac {\\arcsin{x}}{x}$</big> б)<big> $y = \\frac{2}{x^2-1}$</big>"
   ]
  },
  {
   "cell_type": "code",
   "execution_count": 64,
   "id": "df280cad-8113-4c4d-816d-35aa94eafb12",
   "metadata": {},
   "outputs": [
    {
     "name": "stdout",
     "output_type": "stream",
     "text": [
      "Точка разрыва: 0\n",
      "f(x₀-0): 1.00001666741671\n",
      "f(x₀+0): 1.00001666741671\n",
      "\n",
      "Точка устранимого разрыва\n"
     ]
    },
    {
     "data": {
      "image/png": "[encoded data removed]",
      "text/plain": [
       "<Figure size 432x288 with 1 Axes>"
      ]
     },
     "metadata": {
      "needs_background": "light"
     },
     "output_type": "display_data"
    }
   ],
   "source": [
    "from scipy import optimize\n",
    "import matplotlib.pyplot as plt\n",
    "import numpy as np\n",
    "import sympy as sp\n",
    "from sympy.abc import x\n",
    "\n",
    "def f(x):\n",
    " return np.arcsin(x)/x\n",
    "\n",
    "#x1 = optimize.brentq(f, -1, 1000)\n",
    "print('Точка разрыва:', \"0\")\n",
    "\n",
    "# правый и левый пределы в точке разрыва\n",
    "a = sp.limit( (sp.asin(x)/x) , x, -0.01)\n",
    "b = sp.limit( (sp.asin(x)/x) , x, 0.01)\n",
    "\n",
    "print(\"f(x₀-0):\", a)\n",
    "print(\"f(x₀+0):\", b)\n",
    "print(\"\\nТочка устранимого разрыва\")\n",
    "\n",
    "x = np.arange(-1, -0.01, 0.01)\n",
    "plt.plot(x, f(x), \"b\")\n",
    "\n",
    "x = np.arange(0.01, 1, 0.01)\n",
    "plt.plot(x, f(x), \"b\")\n",
    "\n",
    "#установить границы оси\n",
    "plt.xlim(-1, 1)\n",
    "\n",
    "# параметры координатной плоскости\n",
    "plt.xlabel(\"x\")\n",
    "plt.ylabel(\"y\", rotation = 0)\n",
    "plt.grid()\n",
    "plt.axhline(y=0, color='k')\n",
    "plt.axvline(x=0, color='k')\n",
    "plt.show()"
   ]
  },
  {
   "cell_type": "code",
   "execution_count": 62,
   "id": "6c60f243-89a8-4ffb-9e72-caa23d24abeb",
   "metadata": {},
   "outputs": [
    {
     "name": "stdout",
     "output_type": "stream",
     "text": [
      "Точка разрыва: -1\n",
      "f(x₀-0): 9999.50002500289\n",
      "f(x₀+0): -10000.5000250049\n",
      "Разрыв второго рода\n",
      "\n",
      "Точка разрыва: 1\n",
      "f(x₀-0): -10000.5000250049\n",
      "f(x₀+0): 9999.50002500289\n",
      "Разрыв второго рода\n"
     ]
    },
    {
     "data": {
      "image/png": "[encoded data removed]",
      "text/plain": [
       "<Figure size 432x288 with 1 Axes>"
      ]
     },
     "metadata": {
      "needs_background": "light"
     },
     "output_type": "display_data"
    }
   ],
   "source": [
    "from scipy import optimize\n",
    "import matplotlib.pyplot as plt\n",
    "import numpy as np\n",
    "import sympy as sp\n",
    "from sympy.abc import x\n",
    "\n",
    "def f(x):\n",
    " return 2/(x**2-1)\n",
    "\n",
    "#x1 = optimize.brentq(f, 0.001, 0.9999)\n",
    "print('Точка разрыва:', \"-1\")\n",
    "\n",
    "# правый и левый пределы в точке разрыва\n",
    "a = sp.limit( 2/(x**2-1) , x, -1.0001)\n",
    "b = sp.limit( 2/(x**2-1) , x, -0.9999)\n",
    "\n",
    "print(\"f(x₀-0):\", a)\n",
    "print(\"f(x₀+0):\", b)\n",
    "print(\"Разрыв второго рода\")\n",
    "\n",
    "print('\\nТочка разрыва:', \"1\")\n",
    "\n",
    "# правый и левый пределы в точке разрыва\n",
    "a = sp.limit( 2/(x**2-1) , x, 0.9999)\n",
    "b = sp.limit( 2/(x**2-1) , x, 1.0001)\n",
    "\n",
    "print(\"f(x₀-0):\", a)\n",
    "print(\"f(x₀+0):\", b)\n",
    "print(\"Разрыв второго рода\")\n",
    "\n",
    "x = np.arange(-5, -1.0001, 0.01)\n",
    "plt.plot(x, f(x), \"b\")\n",
    "\n",
    "x = np.arange(-0.9999, 0.9999, 0.01)\n",
    "plt.plot(x, f(x), \"b\")\n",
    "\n",
    "x = np.arange(1.0001, 5, 0.01)\n",
    "plt.plot(x, f(x), \"b\")\n",
    "\n",
    "# параметры координатной плоскости\n",
    "plt.xlabel(\"x\")\n",
    "plt.ylabel(\"y\", rotation = 0)\n",
    "plt.grid()\n",
    "#установить границы оси\n",
    "plt.ylim(-6, 4)\n",
    "plt.xlim(-5, 5)\n",
    "\n",
    "plt.axhline(y=0, color='k')\n",
    "plt.axvline(x=0, color='k')\n",
    "plt.show()"
   ]
  },
  {
   "cell_type": "markdown",
   "id": "9e16b25a-625e-4ee5-b2c7-5b4e2c3a38ea",
   "metadata": {},
   "source": [
    "**Упражнение С2. Найдите все корни уравнения <big>$x^2-5x\\sin{3x}+3=0$</big>**"
   ]
  },
  {
   "cell_type": "code",
   "execution_count": 78,
   "id": "2ee77d3a-c73f-4cda-be3e-48e8e8e674ab",
   "metadata": {
    "tags": []
   },
   "outputs": [
    {
     "name": "stdout",
     "output_type": "stream",
     "text": [
      "Корень уравнения 1: -2.843524782667384\n",
      "Значение функции - ноль: True\n",
      "\n",
      "Корень уравнения 2: -2.3655901818688436\n",
      "Значение функции - ноль: True\n",
      "\n",
      "Корень уравнения 3: 2.3655901818688436\n",
      "Значение функции - ноль: True\n",
      "\n",
      "Корень уравнения 4: 2.843524782667384\n",
      "Значение функции - ноль: True\n"
     ]
    },
    {
     "data": {
      "image/png": "[encoded data removed]",
      "text/plain": [
       "<Figure size 432x288 with 1 Axes>"
      ]
     },
     "metadata": {
      "needs_background": "light"
     },
     "output_type": "display_data"
    }
   ],
   "source": [
    "from scipy import optimize\n",
    "import matplotlib.pyplot as plt\n",
    "import numpy as np\n",
    "import sympy as sp\n",
    "from sympy.abc import x\n",
    "\n",
    "def f(x):\n",
    " return x**2-5*x*np.sin(3*x)+3\n",
    "\n",
    "x = np.arange(-1000, 1000, 0.01)\n",
    "plt.plot(x, f(x), \"b\")\n",
    "\n",
    "x1 = optimize.brentq(f, -3, -2.5)\n",
    "print(\"Корень уравнения 1:\", x1)\n",
    "print (\"Значение функции - ноль:\", np.isclose(f(x1), 0))\n",
    "\n",
    "x2 = optimize.brentq(f, -2.5, -2)\n",
    "print(\"\\nКорень уравнения 2:\", x2)\n",
    "print (\"Значение функции - ноль:\", np.isclose(f(x1), 0))\n",
    "\n",
    "x3 = optimize.brentq(f, 2, 2.5)\n",
    "print(\"\\nКорень уравнения 3:\", x3)\n",
    "print (\"Значение функции - ноль:\", np.isclose(f(x3), 0))\n",
    "\n",
    "x4 = optimize.brentq(f, 2.5, 3)\n",
    "print(\"\\nКорень уравнения 4:\", x4)\n",
    "print (\"Значение функции - ноль:\", np.isclose(f(x4), 0))\n",
    "\n",
    "#установить границы оси\n",
    "plt.ylim(-4, 4)\n",
    "plt.xlim(-4, 4)\n",
    "\n",
    "# параметры координатной плоскости\n",
    "plt.xlabel(\"x\")\n",
    "plt.ylabel(\"y\", rotation = 0)\n",
    "plt.grid()\n",
    "plt.axhline(y=0, color='k')\n",
    "plt.axvline(x=0, color='k')\n",
    "plt.show()"
   ]
  },
  {
   "cell_type": "markdown",
   "id": "2b5609e4-1795-40b7-80cd-a4b0e48da211",
   "metadata": {},
   "source": [
    "**Упражнение C3. Решите следующие уравнения. Попробуйте определить, являются ли полученные решения точными или приближёнными.**"
   ]
  },
  {
   "cell_type": "markdown",
   "id": "8599223f-6a3b-4910-aa9e-a8806372cb16",
   "metadata": {},
   "source": [
    "a) <big> $x + \\frac{1}{x} = 2$</big>"
   ]
  },
  {
   "cell_type": "markdown",
   "id": "2a102f13-5fd3-40cd-a059-1d200b257632",
   "metadata": {},
   "source": [
    "б)<big> $\\ln({1+x}) = -\\ln({1-x^2})$</big>"
   ]
  },
  {
   "cell_type": "code",
   "execution_count": 89,
   "id": "f2495cef-da60-428c-89f3-d4e3242da3a9",
   "metadata": {},
   "outputs": [
    {
     "name": "stdout",
     "output_type": "stream",
     "text": [
      "Корень уравнения: 0.999999619347114\n",
      "Значение функции: 1.44773082411120e-13\n",
      "Решение точное.\n"
     ]
    }
   ],
   "source": [
    "from sympy.solvers import nsolve\n",
    "from sympy import Symbol, sin\n",
    "import numpy as np\n",
    "\n",
    "def f(x):\n",
    "    return x + (1/x) -2\n",
    "\n",
    "x = Symbol('x')\n",
    "eq = x**2+1-2*x\n",
    "a = nsolve(eq, 0)\n",
    "\n",
    "print(\"Корень уравнения:\", a)\n",
    "print (\"Значение функции:\", f(a))\n",
    "print(\"Решение точное.\")"
   ]
  },
  {
   "cell_type": "code",
   "execution_count": 97,
   "id": "90fc19f7-9653-4ebb-8aa4-1aab9a09479f",
   "metadata": {},
   "outputs": [
    {
     "name": "stdout",
     "output_type": "stream",
     "text": [
      "Корень уравнения: 0\n",
      "Значение функции: 0\n",
      "Решение точное.\n"
     ]
    }
   ],
   "source": [
    "from sympy.solvers import nsolve\n",
    "from sympy import Symbol, sin\n",
    "import numpy as np\n",
    "\n",
    "def f(x):\n",
    "    return sp.log(1+x)+sp.log(1-x**2)\n",
    "\n",
    "x = Symbol('x')\n",
    "eq = sp.log(1+x)+sp.log(1-x**2)\n",
    "a = nsolve(eq, 0)\n",
    "\n",
    "print(\"Корень уравнения:\", a)\n",
    "print (\"Значение функции:\", f(a))\n",
    "print(\"Решение точное.\")"
   ]
  },
  {
   "cell_type": "markdown",
   "id": "5f8b4cce-99e5-41ed-ae77-99582784e877",
   "metadata": {},
   "source": [
    "**Ответить на контрольные вопросы:**"
   ]
  },
  {
   "cell_type": "markdown",
   "id": "17100762-4d05-497a-89d9-abd15d393c9d",
   "metadata": {},
   "source": [
    "**1) Когда функция является непрерывной в точке?**"
   ]
  },
  {
   "cell_type": "markdown",
   "id": "db7d7e9d-4660-4340-8c56-974b465556ff",
   "metadata": {},
   "source": [
    "*Когда левосторонний предел равен правостороннему пределу и равен значению функции в этой точке.*"
   ]
  },
  {
   "cell_type": "markdown",
   "id": "0a5ded77-9957-496b-8219-098b8e2abf37",
   "metadata": {},
   "source": [
    "**2) Дайте классификацию точек разрыва.**"
   ]
  },
  {
   "cell_type": "markdown",
   "id": "568d4d29-cf40-4892-ab37-05c6ea03cea7",
   "metadata": {},
   "source": [
    "*Точка устранимого разрыва, точка разрыва первого рода, точка разрыва второго рода.*"
   ]
  },
  {
   "cell_type": "markdown",
   "id": "dbc1cd30-60f0-4fc0-9a22-521b625ccde1",
   "metadata": {},
   "source": [
    "**3) Назовите аргументы функции brentq.**"
   ]
  },
  {
   "cell_type": "markdown",
   "id": "97aad595-6737-443b-b627-8ef9c336ff47",
   "metadata": {},
   "source": [
    "*Базовый формат вызова этой функции включает два аргумента и имеет следующий вид: $brentq$ $(fun, a, b)$.\n",
    "Параметры $a$, $b$ представляет собой границы интервала, при этом значения $fun$ должны менять знак на концах интервала, это гарантирует нахождение, по крайней мере, одного корня на этом интервале.*"
   ]
  },
  {
   "cell_type": "markdown",
   "id": "4e4c1da8-6259-4d76-b0c8-126ed807ec67",
   "metadata": {},
   "source": [
    "**4) К каким результатам может привести использование функции brentq?**"
   ]
  },
  {
   "cell_type": "markdown",
   "id": "c936e90b-8da0-4b64-a9c8-1a6502403c5b",
   "metadata": {},
   "source": [
    "*Поскольку $brentq$ не проверяет функцию $fun$ на непрерывность, то применение $brentq$ в некоторых случаях может привести к парадоксальным (на первый взгляд) результатам.*"
   ]
  },
  {
   "cell_type": "markdown",
   "id": "91102861-5de0-4686-9b56-ff7b55d888d4",
   "metadata": {},
   "source": [
    "**5) Какие уравнения можно решать с помощью функции solve, а какие с помощью nsolve?**"
   ]
  },
  {
   "cell_type": "markdown",
   "id": "787aee91-08e2-45cc-891d-494b28d45b36",
   "metadata": {},
   "source": [
    "*С помощью функции $solve$ решения ищутся символически. Точное решение не всегда возможно найти, и в таких случаях solve вернёт приближённое численное решение.*"
   ]
  },
  {
   "cell_type": "markdown",
   "id": "3c3932b8-7c4e-4872-bb32-79d49635ed23",
   "metadata": {},
   "source": [
    "*Для решения нелинейных уравнений и систем можно использовать функцию $nsolve$. Главное отличие от предыдущей функции: для решения необходимо начальное приближение к корню.*"
   ]
  }
 ],
 "metadata": {
  "kernelspec": {
   "display_name": "Python 3 (ipykernel)",
   "language": "python",
   "name": "python3"
  },
  "language_info": {
   "codemirror_mode": {
    "name": "ipython",
    "version": 3
   },
   "file_extension": ".py",
   "mimetype": "text/x-python",
   "name": "python",
   "nbconvert_exporter": "python",
   "pygments_lexer": "ipython3",
   "version": "3.9.12"
  }
 },
 "nbformat": 4,
 "nbformat_minor": 5
}
