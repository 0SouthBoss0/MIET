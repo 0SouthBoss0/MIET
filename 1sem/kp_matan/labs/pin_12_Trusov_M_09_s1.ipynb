{
 "cells": [
  {
   "cell_type": "markdown",
   "id": "280beb13-9728-46ea-98ac-9214ff02a179",
   "metadata": {},
   "source": [
    "**Практикум 9. Многочлен Тейлора**"
   ]
  },
  {
   "cell_type": "markdown",
   "id": "0018664e-d1a3-4b72-b89e-df43fa671e9e",
   "metadata": {},
   "source": [
    "**Упражнение 1. Вычислить значения полинома $p(x) = x^7-3.2x^4+3x^2+3$ в точках $-1; 4; 2.2; π$. Значения аргументов задать в виде вектора. Сохранить значения полинома.**"
   ]
  },
  {
   "cell_type": "code",
   "execution_count": 36,
   "id": "ef26574f-6aaf-4208-9d8c-2525f5bcf813",
   "metadata": {},
   "outputs": [
    {
     "name": "stdout",
     "output_type": "stream",
     "text": [
      "Значения полинома в точках (-1; 4; 2.2; π) равны соответственно: [1.80000000e+00 1.56158000e+04 1.91993869e+02 2.74119295e+03].\n"
     ]
    }
   ],
   "source": [
    "import numpy as np\n",
    "\n",
    "pol = [1, 0, 0, -3.2, 0, 3, 0, 3]\n",
    "points = [-1, 4, 2.2, np.pi]\n",
    "res = np.polyval(pol, points)\n",
    "\n",
    "print(f\"Значения полинома в точках (-1; 4; 2.2; π) равны соответственно: {res}.\")"
   ]
  },
  {
   "cell_type": "markdown",
   "id": "8035be9a-68fe-45e5-a357-23491d4dae4a",
   "metadata": {},
   "source": [
    "**Упражнение 2. Вычислить корни полинома $p(x) = 2x^8-3x^5+7x^2-2$, сохранить их, сделать проверку.**"
   ]
  },
  {
   "cell_type": "code",
   "execution_count": 37,
   "id": "4cdd7944-7ca3-4a05-b74c-18f1b1c17ea6",
   "metadata": {},
   "outputs": [
    {
     "name": "stdout",
     "output_type": "stream",
     "text": [
      "Корни полинома равны:\n",
      "-0.959+0.795j\n",
      "-0.959-0.795j\n",
      "-0.151+1.254j\n",
      "-0.151-1.254j\n",
      " 1.093+0.468j\n",
      " 1.093-0.468j\n",
      "-0.518+0.000j\n",
      " 0.553+0.000j\n"
     ]
    }
   ],
   "source": [
    "import numpy as np\n",
    "\n",
    "pol = [2, 0, 0, -3, 0, 0, 7, 0, -2]\n",
    "res = np.roots(pol)\n",
    "\n",
    "print(f\"Корни полинома равны:\")\n",
    "for root in res:\n",
    "    print(f\"{root : .3f}\")"
   ]
  },
  {
   "cell_type": "markdown",
   "id": "9f3e6645-d32c-4e73-9c30-c672a043f34b",
   "metadata": {},
   "source": [
    "**Упражнение 3. Вычислить произведение полиномов $p(x) = x^6+2x^5-3x^2+4$ и $q(x)=x^3-3x+1$, а также частное и остаток от деления $p(x)$ на $q(x)$.**"
   ]
  },
  {
   "cell_type": "code",
   "execution_count": 91,
   "id": "451d94e7-7fa6-494c-b416-3d693f589a3f",
   "metadata": {},
   "outputs": [
    {
     "name": "stdout",
     "output_type": "stream",
     "text": [
      "Произведение полиномов: [  1   2  -3  -5  -1   0  13  -3 -12   4]\n",
      "Частное полиномов: [1. 2. 3. 5.]\n",
      "Остаток от деления полиномов: [ 4. 12. -1.]\n"
     ]
    }
   ],
   "source": [
    "import numpy as np\n",
    "\n",
    "pol_p = [1, 2, 0, 0, -3, 0, 4]\n",
    "pol_q = [1, 0, -3, 1]\n",
    "\n",
    "print(\"Произведение полиномов:\", np.convolve(pol_p, pol_q))\n",
    "print(\"Частное полиномов:\", np.polydiv(pol_p, pol_q)[0])\n",
    "print(\"Остаток от деления полиномов:\", np.polydiv(pol_p, pol_q)[1])"
   ]
  },
  {
   "cell_type": "markdown",
   "id": "b4486116-3951-473b-aca5-c5bca3c0a5d1",
   "metadata": {},
   "source": [
    "**Упражнение 4. Написать функцию с двумя аргументами, осуществляющую сложение полиномов разной степени. Алгоритм:**"
   ]
  },
  {
   "cell_type": "markdown",
   "id": "fba78189-79fd-4c1d-9591-d5c9d0a77964",
   "metadata": {},
   "source": [
    "**$1)$ Найти большую из длин входных аргументов (обозначим её $m$).**"
   ]
  },
  {
   "cell_type": "markdown",
   "id": "06882a17-d910-4e9e-ad81-aefe9fe28d80",
   "metadata": {},
   "source": [
    "**$2)$ Создать вспомогательные векторы длины $m$, представляющие те же самые полиномы, что и аргументы. Для заполнения части элементов нулями можно использовать функцию $numpy.zeros$.**"
   ]
  },
  {
   "cell_type": "markdown",
   "id": "0900b5ec-6ae1-4fcb-88fc-3ac9955bf37f",
   "metadata": {},
   "source": [
    "**$3)$ Вычислить сумму.**"
   ]
  },
  {
   "cell_type": "markdown",
   "id": "fca9e1a5-fbfa-4f16-b614-0d57dddc4b43",
   "metadata": {},
   "source": [
    "**Протестировать файл-функцию, используя полиномы $p(x) = x^6+2x^5-3x^2+4$ и $q(x)=x^3-3x+1$.**"
   ]
  },
  {
   "cell_type": "code",
   "execution_count": 97,
   "id": "c61d910e-9f96-4d7e-b0dc-017098dfa44c",
   "metadata": {},
   "outputs": [
    {
     "name": "stdout",
     "output_type": "stream",
     "text": [
      "Сумма полиномов: [ 1.  2.  0.  1. -3. -3.  5.]\n"
     ]
    }
   ],
   "source": [
    "import numpy as np\n",
    "\n",
    "def findPolynomsSum(pol1, pol2):\n",
    "    m = max(len(pol1), len(pol2))\n",
    "    pol1_mod, pol2_mod = np.zeros(m), np.zeros(m)\n",
    "\n",
    "    for i in range(len(pol1)):\n",
    "        pol1_mod[m - len(pol1) + i] = pol1[i]\n",
    "\n",
    "    for i in range(len(pol2)):\n",
    "        pol2_mod[m - len(pol2) + i] = pol2[i]\n",
    "\n",
    "    return pol1_mod + pol2_mod\n",
    "\n",
    "\n",
    "pol_p = [1, 2, 0, 0, -3, 0, 4]\n",
    "pol_q = [1, 0, -3, 1]\n",
    "\n",
    "print(\"Сумма полиномов:\", findPolynomsSum(pol_p, pol_q))"
   ]
  },
  {
   "cell_type": "markdown",
   "id": "4e7018d7-2388-408c-baff-f6b5c8b8b0a4",
   "metadata": {},
   "source": [
    "**Упражнение 5. Для многочленов $p(x) = x^5-x^4-3x^2-2$ и $q(x) = x^6-3x+1$, найти их производные, производную произведения и частного.**"
   ]
  },
  {
   "cell_type": "code",
   "execution_count": 95,
   "id": "668e9b45-04ff-46c8-840a-ea53b140922a",
   "metadata": {},
   "outputs": [
    {
     "name": "stdout",
     "output_type": "stream",
     "text": [
      "Производная полинома p(x): [ 5 -4  0 -6  0]\n",
      "Производная полинома q(x): [ 6  0  0  0  0 -3]\n",
      "Производная произведений полиномов: [ 11 -10   0 -24   0 -30  20  -4  27  -6   6]\n",
      "Производная частного полиномов: [1.]\n"
     ]
    }
   ],
   "source": [
    "import numpy as np\n",
    "\n",
    "pol_p = [1, -1, 0, -3, 0, -2]\n",
    "pol_q = [1, 0, 0, 0, 0, -3, 1]\n",
    "\n",
    "print(\"Производная полинома p(x):\", np.polyder(pol_p))\n",
    "print(\"Производная полинома q(x):\", np.polyder(pol_q))\n",
    "print(\"Производная произведений полиномов:\", np.polyder(np.convolve(pol_p, pol_q)))\n",
    "print(\"Производная частного полиномов:\", np.polyder(np.polydiv(pol_q, pol_p)[0]))"
   ]
  },
  {
   "cell_type": "markdown",
   "id": "cc858c11-fbe8-4084-bb37-8ae92b15d2bc",
   "metadata": {},
   "source": [
    "**Упражнение 6. Создать функцию, вычисляющую производную порядка $n$ полинома $p(x)$, заданного вектором коэффициентов. Производную задать вектором коэффициентов. С помощью созданной файл-функции найти 5-ую производную полинома $p(x) = x^{10}-x^7+3x^2-2$ и вычислить её значение в точке $0.2$.**"
   ]
  },
  {
   "cell_type": "code",
   "execution_count": 116,
   "id": "c95101b4-eab7-4265-a0bc-5fb9741ac265",
   "metadata": {},
   "outputs": [
    {
     "name": "stdout",
     "output_type": "stream",
     "text": [
      "5-я производная полинома p(x): [30240     0     0 -2520     0     0]\n",
      "5-я производная полинома p(x): [30240     0     0 -2520     0     0]\n",
      "Значение 5-ой производной полинома p(x) в точке 0.2: -91.1232\n"
     ]
    }
   ],
   "source": [
    "import numpy as np\n",
    "\n",
    "def findPolynomDericative(pol, order):\n",
    "    for i in range(1, order + 1):\n",
    "        pol = np.polyder(pol)\n",
    "    return pol\n",
    "\n",
    "pol = [1, 0, 0, -1, 0, 0, 0, 0, 3, 0, -2]\n",
    "\n",
    "print(\"5-я производная полинома p(x):\", np.polyder(pol, 5))\n",
    "print(\"5-я производная полинома p(x):\", findPolynomDericative(pol, 5))\n",
    "print(\"Значение 5-ой производной полинома p(x) в точке 0.2:\", np.polyval(findPolynomDericative(pol, 5), 0.2))"
   ]
  },
  {
   "cell_type": "markdown",
   "id": "f4dae53a-1387-4603-a601-614e2460ed71",
   "metadata": {},
   "source": [
    "**Упражнение 7. Создать сценарий на языке программирования Python, вычисляющий значения коэффициентов $b_k$ (в виде вектора) в многочлене Тейлора для полинома произвольной степени в произвольной точке.  С помощью созданной функции вычислить коэффициенты $b_k$ для разложений полинома $p(x) = x^6+2x^4-3x-2$ в многочлен Тейлора по степеням $x-1$ и $x+2$.**"
   ]
  },
  {
   "cell_type": "code",
   "execution_count": 133,
   "id": "7acbee13-ee38-488b-ab01-835c40b11790",
   "metadata": {},
   "outputs": [
    {
     "name": "stdout",
     "output_type": "stream",
     "text": [
      "Коэффициенты в многочлене Тейлора по степени x-1: [-2.0, 11.0, 27.0, 28.0, 17.0, 6.0, 1.0]\n",
      "Коэффициенты в многочлене Тейлора по степени x+2: [100.0, -259.0, 288.0, -176.0, 62.0, -12.0, 1.0]\n"
     ]
    }
   ],
   "source": [
    "import numpy as np\n",
    "\n",
    "def getTaylorCoeffs(pol, point):\n",
    "    b_k = []\n",
    "    c = 0\n",
    "    while np.any(pol) != 0:\n",
    "        b_k.append(np.polyval(pol, point) / np.math.factorial(c))\n",
    "        pol = np.polyder(pol)\n",
    "        c += 1\n",
    "    return b_k\n",
    "\n",
    "pol = [1, 0, 2, 0, 0, -3, -2]\n",
    "\n",
    "point1 = 1\n",
    "point2 = -2\n",
    "\n",
    "print(\"Коэффициенты в многочлене Тейлора по степени x-1:\", getTaylorCoeffs(pol, point1))\n",
    "print(\"Коэффициенты в многочлене Тейлора по степени x+2:\", getTaylorCoeffs(pol, point2))"
   ]
  },
  {
   "cell_type": "markdown",
   "id": "07b26585-9773-4994-a07a-53f63a9ba19c",
   "metadata": {},
   "source": [
    "**Упражнение С1. Вычислить корни полинома $p(x) = x^6-1$, сохранить их, сделать проверку.**"
   ]
  },
  {
   "cell_type": "code",
   "execution_count": 142,
   "id": "f1027b68-b1e4-4121-b7a4-c1ae329de3d3",
   "metadata": {},
   "outputs": [
    {
     "name": "stdout",
     "output_type": "stream",
     "text": [
      "Корни полинома равны:\n",
      "-1.000+0.000j\n",
      "-0.500+0.866j\n",
      "-0.500-0.866j\n",
      " 0.500+0.866j\n",
      " 0.500-0.866j\n",
      " 1.000+0.000j\n",
      "\n",
      "Проверка:\n",
      "True\n",
      "True\n",
      "True\n",
      "True\n",
      "True\n",
      "True\n"
     ]
    }
   ],
   "source": [
    "import numpy as np\n",
    "\n",
    "pol = [1, 0, 0, 0, 0, 0, -1]\n",
    "res = np.roots(pol)\n",
    "\n",
    "print(f\"Корни полинома равны:\")\n",
    "for root in res:\n",
    "    print(f\"{root : .3f}\")\n",
    "\n",
    "print(f\"\\nПроверка:\")\n",
    "for root in res:\n",
    "    print(np.isclose(np.polyval(pol, root), 0))"
   ]
  },
  {
   "cell_type": "markdown",
   "id": "d2354aec-271b-41aa-a5a6-7cc0c0e05778",
   "metadata": {},
   "source": [
    "**Упражнение C2. Вычислить произведение полиномов $p(x) = x^2+x+1$ и $q(x)=x-1$, частное и остаток от деления $p(x)$ на $q(x)$, сумму полиномов.**"
   ]
  },
  {
   "cell_type": "code",
   "execution_count": 144,
   "id": "0ec1068e-e41d-4533-868f-b711aa514238",
   "metadata": {},
   "outputs": [
    {
     "name": "stdout",
     "output_type": "stream",
     "text": [
      "Произведение полиномов: [ 1  0  0 -1]\n",
      "Частное полиномов: [1. 2.]\n",
      "Остаток от деления полиномов: [3.]\n",
      "Сумма полиномов: [1. 2. 0.]\n"
     ]
    }
   ],
   "source": [
    "import numpy as np\n",
    "\n",
    "def findPolynomsSum(pol1, pol2):\n",
    "    m = max(len(pol1), len(pol2))\n",
    "    pol1_mod, pol2_mod = np.zeros(m), np.zeros(m)\n",
    "\n",
    "    for i in range(len(pol1)):\n",
    "        pol1_mod[m - len(pol1) + i] = pol1[i]\n",
    "\n",
    "    for i in range(len(pol2)):\n",
    "        pol2_mod[m - len(pol2) + i] = pol2[i]\n",
    "\n",
    "    return pol1_mod + pol2_mod\n",
    "\n",
    "pol_p = [1, 1, 1]\n",
    "pol_q = [1, -1]\n",
    "\n",
    "print(\"Произведение полиномов:\", np.convolve(pol_p, pol_q))\n",
    "print(\"Частное полиномов:\", np.polydiv(pol_p, pol_q)[0])\n",
    "print(\"Остаток от деления полиномов:\", np.polydiv(pol_p, pol_q)[1])\n",
    "print(\"Сумма полиномов:\", findPolynomsSum(pol_p, pol_q))"
   ]
  },
  {
   "cell_type": "markdown",
   "id": "affe06c5-c96f-4a87-9113-cfc6be570c0a",
   "metadata": {},
   "source": [
    "**Упражнение С3. Для многочлена $p(x)=x^3-2x^2+1$ записать многочлен Тейлора по степеням $x-2$.**"
   ]
  },
  {
   "cell_type": "code",
   "execution_count": 148,
   "id": "d159b69b-8a8e-4f62-8ed3-7f39a54fec12",
   "metadata": {},
   "outputs": [
    {
     "name": "stdout",
     "output_type": "stream",
     "text": [
      "Коэффициенты в многочлене Тейлора по степени x-2: [1.0, 4.0, 4.0, 1.0]\n"
     ]
    }
   ],
   "source": [
    "import numpy as np\n",
    "\n",
    "def getTaylorCoeffs(pol, point):\n",
    "    b_k = []\n",
    "    c = 0\n",
    "    while np.any(pol) != 0:\n",
    "        b_k.append(np.polyval(pol, point) / np.math.factorial(c))\n",
    "        pol = np.polyder(pol)\n",
    "        c += 1\n",
    "    return b_k\n",
    "\n",
    "pol = [1, -2, 0, 1]\n",
    "\n",
    "point = 2\n",
    "\n",
    "print(\"Коэффициенты в многочлене Тейлора по степени x-2:\", getTaylorCoeffs(pol, point))"
   ]
  },
  {
   "cell_type": "markdown",
   "id": "2c16cc7b-2850-4459-aa80-943e48c8c578",
   "metadata": {},
   "source": [
    "$p(x) = x^3-2x^2+1 = 1(x-2)^0+4(x-2)^1+4(x-2)^2+1*(x-2)^3 = 1+4(x-2)+4(x-2)^2+(x-2)^3$"
   ]
  },
  {
   "cell_type": "markdown",
   "id": "a155104b-1b41-44be-ad1e-62b079dd7887",
   "metadata": {},
   "source": [
    "$p(x) = x^3-2x^2+1 = 1+4(x-2)+4(x-2)^2+(x-2)^3$"
   ]
  },
  {
   "cell_type": "markdown",
   "id": "8d34cb1c-96c3-4241-a487-30657d7333d8",
   "metadata": {},
   "source": [
    "**Ответить на контрольные вопросы:**"
   ]
  },
  {
   "cell_type": "markdown",
   "id": "6cd9a788-37bd-450e-aa39-a67e78f384fb",
   "metadata": {},
   "source": [
    "**1) Рассмотрим многочлен $p(x) = a_0x^n+a_1x^{n-1}+...+a_{n-1}x+a_n$. Как расположены относительно друг друга графики его многочленов Тейлора порядка $n$, выписанные по степеням $x-x_1$ и $x-x_2$, если $x_1≠x_2$.**"
   ]
  },
  {
   "cell_type": "code",
   "execution_count": 154,
   "id": "8ab09466-a604-4557-9c23-9439df3ca1b0",
   "metadata": {},
   "outputs": [
    {
     "name": "stdout",
     "output_type": "stream",
     "text": [
      "Коэффициенты в многочлене Тейлора по степени x-1: [1.0, -1.0, 1.0, 2.0]\n",
      "Коэффициенты в многочлене Тейлора по степени x-3: [19.0, 27.0, 13.0, 2.0]\n"
     ]
    }
   ],
   "source": [
    "import numpy as np\n",
    "\n",
    "def getTaylorCoeffs(pol, point):\n",
    "    b_k = []\n",
    "    c = 0\n",
    "    while np.any(pol) != 0:\n",
    "        b_k.append(np.polyval(pol, point) / np.math.factorial(c))\n",
    "        pol = np.polyder(pol)\n",
    "        c += 1\n",
    "    return b_k\n",
    "\n",
    "pol = [2, -5, 3, 1]\n",
    "\n",
    "point1 = 1\n",
    "point2 = 3\n",
    "\n",
    "print(\"Коэффициенты в многочлене Тейлора по степени x-1:\", getTaylorCoeffs(pol, point1))\n",
    "print(\"Коэффициенты в многочлене Тейлора по степени x-3:\", getTaylorCoeffs(pol, point2))"
   ]
  },
  {
   "cell_type": "code",
   "execution_count": 167,
   "id": "6d5dc1e4-c3bf-4d4f-b0e3-dc53dfb220e6",
   "metadata": {},
   "outputs": [
    {
     "data": {
      "image/png": "[encoded data removed]",
      "text/plain": [
       "<Figure size 432x288 with 2 Axes>"
      ]
     },
     "metadata": {
      "needs_background": "light"
     },
     "output_type": "display_data"
    }
   ],
   "source": [
    "import matplotlib.pyplot as plt\n",
    "import numpy as np\n",
    "\n",
    "def f1(x):\n",
    "    return 1 - (x - 1) + (x - 1) ** 2 + 2 * (x - 1) ** 3\n",
    "\n",
    "def f2(x):\n",
    "    return 19 + 27 * (x - 3) + 13 * (x - 3) ** 2 + 2 * (x - 3) ** 3\n",
    "\n",
    "x = np.arange(-10, 10, 0.1)\n",
    "plt.subplot(1, 2, 1)\n",
    "plt.plot(x, f1(x), \"b\")\n",
    "\n",
    "# параметры координатной плоскости\n",
    "plt.xlabel(\"x\")\n",
    "plt.ylabel(\"y\", rotation=0)\n",
    "plt.grid()\n",
    "plt.axhline(y=0, color='k')\n",
    "plt.axvline(x=0, color='k')\n",
    "\n",
    "plt.subplot(1, 2, 2)\n",
    "plt.plot(x, f2(x), \"g\")\n",
    "\n",
    "# параметры координатной плоскости\n",
    "plt.xlabel(\"x\")\n",
    "plt.ylabel(\"y\", rotation=0)\n",
    "plt.grid()\n",
    "plt.axhline(y=0, color='k')\n",
    "plt.axvline(x=0, color='k')\n",
    "\n",
    "plt.subplots_adjust(left=None, bottom=None, right=None, top=None, wspace=0.5, hspace=None)\n",
    "plt.show()"
   ]
  },
  {
   "cell_type": "markdown",
   "id": "10358464-7d55-440f-ae8d-58b4c4a2e948",
   "metadata": {},
   "source": [
    "*Графики многочленов совпадают.*"
   ]
  },
  {
   "cell_type": "markdown",
   "id": "daab4177-dc2b-4dab-be0b-410eb732dbe1",
   "metadata": {},
   "source": [
    "**2) Рассмотрим многочлен $p(x) = a_0x^n+a_1x^{n-1}+...+a_{n-1}x+a_n$. Как расположен его график относительно графика его многочлена Тейлора порядка $n$, выписанного по степеням $x-x_0$, если $x_0≠0$.**"
   ]
  },
  {
   "cell_type": "code",
   "execution_count": 168,
   "id": "7f230d9e-b034-4a48-a1dc-1cfcc1869790",
   "metadata": {},
   "outputs": [
    {
     "name": "stdout",
     "output_type": "stream",
     "text": [
      "Коэффициенты в многочлене Тейлора по степени x-1: [1.0, -1.0, 1.0, 2.0]\n"
     ]
    }
   ],
   "source": [
    "import numpy as np\n",
    "\n",
    "def getTaylorCoeffs(pol, point):\n",
    "    b_k = []\n",
    "    c = 0\n",
    "    while np.any(pol) != 0:\n",
    "        b_k.append(np.polyval(pol, point) / np.math.factorial(c))\n",
    "        pol = np.polyder(pol)\n",
    "        c += 1\n",
    "    return b_k\n",
    "\n",
    "pol = [2, -5, 3, 1]\n",
    "\n",
    "point1 = 1\n",
    "point2 = 3\n",
    "\n",
    "print(\"Коэффициенты в многочлене Тейлора по степени x-1:\", getTaylorCoeffs(pol, point1))"
   ]
  },
  {
   "cell_type": "code",
   "execution_count": 170,
   "id": "4c1c9d2d-7790-4c28-8bf4-9f511b878206",
   "metadata": {},
   "outputs": [
    {
     "data": {
      "image/png": "[encoded data removed]",
      "text/plain": [
       "<Figure size 432x288 with 2 Axes>"
      ]
     },
     "metadata": {
      "needs_background": "light"
     },
     "output_type": "display_data"
    }
   ],
   "source": [
    "import matplotlib.pyplot as plt\n",
    "import numpy as np\n",
    "\n",
    "def f1(x):\n",
    "    return 2 * x ** 3 - 5 * x ** 2 + 3 * x + 1\n",
    "\n",
    "def f2(x):\n",
    "    return 1 - (x - 1) + (x - 1) ** 2 + 2 * (x - 1) ** 3\n",
    "\n",
    "x = np.arange(-10, 10, 0.1)\n",
    "plt.subplot(1, 2, 1)\n",
    "plt.plot(x, f1(x), \"b\")\n",
    "\n",
    "# параметры координатной плоскости\n",
    "plt.xlabel(\"x\")\n",
    "plt.ylabel(\"y\", rotation=0)\n",
    "plt.grid()\n",
    "plt.axhline(y=0, color='k')\n",
    "plt.axvline(x=0, color='k')\n",
    "\n",
    "plt.subplot(1, 2, 2)\n",
    "plt.plot(x, f2(x), \"g\")\n",
    "\n",
    "# параметры координатной плоскости\n",
    "plt.xlabel(\"x\")\n",
    "plt.ylabel(\"y\", rotation=0)\n",
    "plt.grid()\n",
    "plt.axhline(y=0, color='k')\n",
    "plt.axvline(x=0, color='k')\n",
    "\n",
    "plt.subplots_adjust(left=None, bottom=None, right=None, top=None, wspace=0.5, hspace=None)\n",
    "plt.show()"
   ]
  },
  {
   "cell_type": "markdown",
   "id": "343ba346-60f5-4d3e-a657-ea0fe2d62602",
   "metadata": {},
   "source": [
    "*Графики многочленов совпадают.*"
   ]
  }
 ],
 "metadata": {
  "kernelspec": {
   "display_name": "Python 3 (ipykernel)",
   "language": "python",
   "name": "python3"
  },
  "language_info": {
   "codemirror_mode": {
    "name": "ipython",
    "version": 3
   },
   "file_extension": ".py",
   "mimetype": "text/x-python",
   "name": "python",
   "nbconvert_exporter": "python",
   "pygments_lexer": "ipython3",
   "version": "3.9.12"
  }
 },
 "nbformat": 4,
 "nbformat_minor": 5
}
