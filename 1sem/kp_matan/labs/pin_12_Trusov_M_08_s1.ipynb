{
 "cells": [
  {
   "cell_type": "markdown",
   "id": "80773972-df7d-4008-912a-24739684f4f9",
   "metadata": {},
   "source": [
    "<big>**Практикум 8. Производные.**</big>"
   ]
  },
  {
   "cell_type": "markdown",
   "id": "9480c2ab-c5f9-4f76-9527-1094a82a3c53",
   "metadata": {},
   "source": [
    "<big>**Упражнение 1. Для функции $f(x)=x^2$ зададим новую блок-функцию, вычисляющую приращение функции в точке $x₀$ при приращениях аргумента $Δx$. С помощью вызова заданной блок-функции вычислить приращения функции в точках $x₀=0,$ $x₀=2,$ $x₀=-9$ при приращениях от $0$ до $1$ с шагом $0.1$.**</big>"
   ]
  },
  {
   "cell_type": "code",
   "execution_count": 137,
   "id": "557b4e2f-8523-4d6f-ba3b-807388e29c58",
   "metadata": {},
   "outputs": [
    {
     "name": "stdout",
     "output_type": "stream",
     "text": [
      "Приращения при 𝑥₀=0:  0.0 0.01 0.04 0.09 0.16 0.25 0.36 0.49 0.64 0.81 1.0\n",
      "Приращения при 𝑥₀=2:  0.0 0.41 0.84 1.29 1.76 2.25 2.76 3.29 3.84 4.41 5.0\n",
      "Приращения при 𝑥₀=-9: 0.0 -1.79 -3.56 -5.31 -7.04 -8.75 -10.44 -12.11 -13.76 -15.39 -17.0\n"
     ]
    }
   ],
   "source": [
    "import numpy as np\n",
    "\n",
    "def func(x):\n",
    "    return x ** 2\n",
    "\n",
    "def augmentation(x0, increase):\n",
    "    return func(x0 + increase) - func(x0)\n",
    "\n",
    "arr0, arr2, arr9 = [], [], []\n",
    "\n",
    "for i in np.arange(0, 1 + 0.1, 0.1):\n",
    "    arr0.append(round(augmentation(0, i), 2))\n",
    "    arr2.append(round(augmentation(2, i), 2))\n",
    "    arr9.append(round(augmentation(-9, i), 2))\n",
    "\n",
    "print(\"Приращения при 𝑥₀=0: \", *arr0)\n",
    "print(\"Приращения при 𝑥₀=2: \", *arr2)\n",
    "print(\"Приращения при 𝑥₀=-9:\", *arr9)"
   ]
  },
  {
   "cell_type": "markdown",
   "id": "053ecf5c-1e03-455b-9d2e-60f6a2b16942",
   "metadata": {},
   "source": [
    "<big>**Упражнение 2. Создать функцию, вычисляющую приращения функции. $f(x)=\\frac{1}{x}$ в точке 1 при различных приращениях аргумента. Вычислить приращения функции при приращениях аргумента от $-0.5$ до $0.5$ с шагом $0.05$.**</big>"
   ]
  },
  {
   "cell_type": "code",
   "execution_count": 138,
   "id": "b18cf800-bc29-447c-8436-178f8739df3c",
   "metadata": {},
   "outputs": [
    {
     "name": "stdout",
     "output_type": "stream",
     "text": [
      "Приращения при 𝑥₀=1: 1.0 0.82 0.67 0.54 0.43 0.33 0.25 0.18 0.11 0.05 0.0 -0.05 -0.09 -0.13 -0.17 -0.2 -0.23 -0.26 -0.29 -0.31 -0.33\n"
     ]
    }
   ],
   "source": [
    "import numpy as np\n",
    "\n",
    "def func(x):\n",
    "    return 1 / x\n",
    "\n",
    "def augmentation(x0, increase):\n",
    "    return func(x0 + increase) - func(x0)\n",
    "\n",
    "arr1 = []\n",
    "\n",
    "for i in np.arange(-0.5, 0.5 + 0.05, 0.05):\n",
    "    arr1.append(round(augmentation(1, i), 2))\n",
    "\n",
    "print(\"Приращения при 𝑥₀=1:\", *arr1)"
   ]
  },
  {
   "cell_type": "markdown",
   "id": "999eee2f-2bf0-429d-8e55-aec36bc0c439",
   "metadata": {},
   "source": [
    "<big>**Упражнение 3. Создать функцию, зависящую от точки $𝑥₀$ и приращения $Δx$, вычисляющую отношение приращения функции к приращению аргумента для функции $y=\\sqrt{x}$. Вычислить отношение приращения функции к приращению аргумента для каждой из точек $1,$ $0.5,$ $2$ при приращениях аргумента $0.1,$ $0.01,$ $0.001$.**</big>"
   ]
  },
  {
   "cell_type": "code",
   "execution_count": 139,
   "id": "9b399868-11c9-4bba-bf5d-9642c2a6f1ee",
   "metadata": {},
   "outputs": [
    {
     "name": "stdout",
     "output_type": "stream",
     "text": [
      "Отношения приращения функции к приращению аргумента (при приращениях аргумента 0.1; 0.01; 0.001):\n",
      "Для точки 1: 0.4881 0.4988 0.4999 \n",
      "Для точки 0.5: 0.6749 0.7036 0.7068 \n",
      "Для точки 2: 0.3492 0.3531 0.3535 \n"
     ]
    }
   ],
   "source": [
    "import numpy as np\n",
    "\n",
    "def func(x):\n",
    "    return np.sqrt(x)\n",
    "\n",
    "def augmentation(x0, increase):\n",
    "    return func(x0 + increase) - func(x0)\n",
    "\n",
    "def getRatio(x0, increase):\n",
    "    return augmentation(x0, increase) / increase\n",
    "\n",
    "arr_x0 = [1, 0.5, 2]\n",
    "arr_increase = [0.1, 0.01, 0.001]\n",
    "\n",
    "print(\"Отношения приращения функции к приращению аргумента (при приращениях аргумента 0.1; 0.01; 0.001):\")\n",
    "for i in range(len(arr_x0)):\n",
    "    print(\"Для точки \", arr_x0[i], \":\", sep=\"\", end=\" \")\n",
    "    for j in range(len(arr_increase)):\n",
    "        print(round(getRatio(arr_x0[i], arr_increase[j]), 4), end=\" \")\n",
    "    print()"
   ]
  },
  {
   "cell_type": "markdown",
   "id": "64675fa0-fa7b-4303-9a8f-be07ff04e2d5",
   "metadata": {},
   "source": [
    "<big>**Упражнение 4. Создать функцию, зависящую от функции, точки и приращения, вычисляющую отношение приращения функции к приращению аргумента. Вычислить значения этой функции в точках $1,$ $2,$ $-3$ при приращениях аргумента $0.001,$ $-0.001$ для функций $y=\\sqrt[3]{x},$ $y=2^x$.**</big>"
   ]
  },
  {
   "cell_type": "code",
   "execution_count": 140,
   "id": "27d8169e-da3a-499c-bb59-2ea36cbfc83e",
   "metadata": {},
   "outputs": [
    {
     "name": "stdout",
     "output_type": "stream",
     "text": [
      "Отношения приращения функции к приращению аргумента (при приращениях аргумента 0.001; −0.001):\n",
      "\n",
      "Для функции 1:\n",
      "Для точки 1: 0.33322 0.33344 \n",
      "Для точки 2: 0.20995 0.21002 \n",
      "Для точки -3: 0.16027 0.16023 \n",
      "\n",
      "Для функции 2:\n",
      "Для точки 1: 1.38677 1.38581 \n",
      "Для точки 2: 2.77355 2.77163 \n",
      "Для точки -3: 0.08667 0.08661 \n"
     ]
    }
   ],
   "source": [
    "import sympy as sp\n",
    "\n",
    "def func1(x):\n",
    "    return sp.real_root(x, 3)\n",
    "\n",
    "def func2(x):\n",
    "    return 2 ** x\n",
    "\n",
    "def augmentation(x0, increase, func):\n",
    "    return func(x0 + increase) - func(x0)\n",
    "\n",
    "def getRatio(x0, increase, func):\n",
    "    return augmentation(x0, increase, func) / increase\n",
    "\n",
    "arr_x0 = [1, 2, -3]\n",
    "arr_increase = [0.001, -0.001]\n",
    "\n",
    "print(\"Отношения приращения функции к приращению аргумента (при приращениях аргумента 0.001; −0.001):\")\n",
    "print(\"\\nДля функции 1:\")\n",
    "for i in range(len(arr_x0)):\n",
    "    print(\"Для точки \", arr_x0[i], \":\", sep=\"\", end=\" \")\n",
    "    for j in range(len(arr_increase)):\n",
    "        print(round(getRatio(arr_x0[i], arr_increase[j], func1), 5), end=\" \")\n",
    "    print()\n",
    "\n",
    "print(\"\\nДля функции 2:\")\n",
    "for i in range(len(arr_x0)):\n",
    "    print(\"Для точки \", arr_x0[i], \":\", sep=\"\", end=\" \")\n",
    "    for j in range(len(arr_increase)):\n",
    "        print(round(getRatio(arr_x0[i], arr_increase[j], func2), 5), end=\" \")\n",
    "    print()"
   ]
  },
  {
   "cell_type": "markdown",
   "id": "e42b35ac-0245-409e-82d5-9bd1f73feeb6",
   "metadata": {},
   "source": [
    "<big>**Упражнение 5. Создать функцию, зависящую от функции и точки, вычисляющую значение производной функции в точке по определению. Для функций и точек из упражнения $4$ вычислить значения производных.**</big>"
   ]
  },
  {
   "cell_type": "code",
   "execution_count": 187,
   "id": "dccfe691-6e90-4520-8d7f-ddbd387831bf",
   "metadata": {},
   "outputs": [
    {
     "name": "stdout",
     "output_type": "stream",
     "text": [
      "Производная:\n",
      "\n",
      "Функции 1:\n",
      "Для точки 1: 1/3\n",
      "Для точки 2: 2**(1/3)/6\n",
      "Для точки -3: 3**(1/3)/9\n",
      "\n",
      "Функции 2:\n",
      "Для точки 1: 2*log(2)\n",
      "Для точки 2: 4*log(2)\n",
      "Для точки -3: log(2)/8\n"
     ]
    }
   ],
   "source": [
    "import sympy as sp\n",
    "from sympy.abc import n\n",
    "\n",
    "def func1(x):\n",
    "    return sp.real_root(x, 3)\n",
    "\n",
    "def func2(x):\n",
    "    return 2 ** x\n",
    "\n",
    "def getDerivative(func, point):\n",
    "    return sp.limit((func(point + n) - func(point)) / n, n, 0)\n",
    "\n",
    "arr_x0 = [1, 2, -3]\n",
    "\n",
    "print(\"Производная:\")\n",
    "print(\"\\nФункции 1:\")\n",
    "for i in range(len(arr_x0)):\n",
    "    print(\"Для точки \", arr_x0[i], \":\", sep=\"\", end=\" \")\n",
    "    print(getDerivative(func1, arr_x0[i]))\n",
    "\n",
    "print(\"\\nФункции 2:\")\n",
    "for i in range(len(arr_x0)):\n",
    "    print(\"Для точки \", arr_x0[i], \":\", sep=\"\", end=\" \")\n",
    "    print(getDerivative(func2, arr_x0[i]))"
   ]
  },
  {
   "cell_type": "markdown",
   "id": "5b9a6b90-572c-4162-abb3-f11c91043adb",
   "metadata": {},
   "source": [
    "<big>**Упражнение 6. Вычислить производные и их значения в точке $𝑥₀=0.5$ для следующих функций:**</big>"
   ]
  },
  {
   "cell_type": "markdown",
   "id": "b24c9995-ee8e-40f1-ac4b-c31695317e66",
   "metadata": {},
   "source": [
    "<big>а) $f(x)=arctg ^2\\sqrt{x}$</big>"
   ]
  },
  {
   "cell_type": "code",
   "execution_count": 165,
   "id": "a165b633-dad0-4352-b82b-5dbdbebff3e6",
   "metadata": {},
   "outputs": [
    {
     "name": "stdout",
     "output_type": "stream",
     "text": [
      "Производная в точке 𝑥₀=0.5: 0.58028\n"
     ]
    }
   ],
   "source": [
    "import sympy as sp\n",
    "\n",
    "x = sp.symbols('x')\n",
    "f = sp.atan(sp.sqrt(x)) ** 2\n",
    "y = sp.diff(f, x, 1)\n",
    "\n",
    "print(\"Производная в точке 𝑥₀=0.5:\", round(y.subs(x, 0.5), 5))"
   ]
  },
  {
   "cell_type": "markdown",
   "id": "0bb2acf7-9896-4676-b041-39151b732f40",
   "metadata": {},
   "source": [
    "<big>б) $f(x)=3^{\\arcsin x^2}$</big>"
   ]
  },
  {
   "cell_type": "code",
   "execution_count": 169,
   "id": "5b2f8beb-0394-453d-816a-4245fb7174bb",
   "metadata": {},
   "outputs": [
    {
     "name": "stdout",
     "output_type": "stream",
     "text": [
      "Производная в точке 𝑥₀=0.5: 1.49768\n"
     ]
    }
   ],
   "source": [
    "import sympy as sp\n",
    "\n",
    "x = sp.symbols('x')\n",
    "f = 3 ** (sp.asin(x ** 2))\n",
    "y = sp.diff(f, x, 1)\n",
    "\n",
    "print(\"Производная в точке 𝑥₀=0.5:\", round(y.subs(x, 0.5), 5))"
   ]
  },
  {
   "cell_type": "markdown",
   "id": "a6e5bc58-032f-490d-89de-d609d177ccb2",
   "metadata": {},
   "source": [
    "<big>**Упражнение 7. Создать блок-функцию для построения касательной к графику функции в точке. Входными аргументами функции являются строка с символическим представлением функции одной переменной $x$ и числовое значение абсциссы точки $𝑥₀$, в которой следует провести касательную. Функция выводит в одном графическом окне графики функции и касательной к ней в заданной точке на промежутке $[𝑥₀-1; 𝑥₀+1]$. Алгоритм функции включает:**</big>"
   ]
  },
  {
   "cell_type": "markdown",
   "id": "a54f654c-d3a4-4537-b083-7528a5ae2e11",
   "metadata": {},
   "source": [
    "<big>**1) Нахождение производной символически заданной функции.**</big>"
   ]
  },
  {
   "cell_type": "markdown",
   "id": "f75c673a-2ab3-4bed-8049-c37d20e29e8f",
   "metadata": {},
   "source": [
    "<big>**2) Формирование символического выражения для касательной и подстановки в него значения производной, абсциссы и ординаты точки, в которой проводится касательная.**</big>"
   ]
  },
  {
   "cell_type": "markdown",
   "id": "15e966db-210b-4390-bf2a-0c6192757a53",
   "metadata": {},
   "source": [
    "<big>**3) Построение графика функции и касательной к нему в указанной точке на указанном промежутке.**</big>"
   ]
  },
  {
   "cell_type": "markdown",
   "id": "49f05cb8-cf74-4853-b641-03769bc524e1",
   "metadata": {},
   "source": [
    "<big>**Используя созданную блок-функцию, построить график функции и касательную к нему для следующих функций:**</big>"
   ]
  },
  {
   "cell_type": "markdown",
   "id": "4e2089de-0f98-44c8-8e85-ae3af7ac89e3",
   "metadata": {},
   "source": [
    "<big>а) $y=\\cos^3{3x}$; $𝑥₀=\\frac{π}{4}$</big>"
   ]
  },
  {
   "cell_type": "code",
   "execution_count": 228,
   "id": "ef1ccea0-90dc-4a57-b6a7-61f924163494",
   "metadata": {},
   "outputs": [
    {
     "name": "stdout",
     "output_type": "stream",
     "text": [
      "Производная: -3.18198\n",
      "Уравнение касательной: 2.14556796187658 - 3.18198*x\n"
     ]
    },
    {
     "data": {
      "image/png": "[encoded data removed]",
      "text/plain": [
       "<Figure size 432x288 with 1 Axes>"
      ]
     },
     "metadata": {
      "needs_background": "light"
     },
     "output_type": "display_data"
    }
   ],
   "source": [
    "import matplotlib.pyplot as plt\n",
    "import numpy as np\n",
    "import sympy as sp\n",
    "from sympy.abc import x\n",
    "\n",
    "f = sp.cos(3 * x) ** 3\n",
    "x0 = np.pi / 4\n",
    "\n",
    "def getFuncValue(f, arg):\n",
    "    return f.subs([(x, arg)])\n",
    "\n",
    "def getDerivativeSymbollycal(f, point):\n",
    "    x = sp.symbols('x')\n",
    "    y = sp.diff(f, x, 1)\n",
    "    return round(y.subs(x, point), 5)\n",
    "\n",
    "print(\"Производная:\", getDerivativeSymbollycal(f, x0))\n",
    "\n",
    "y = getFuncValue(f, x0) + getDerivativeSymbollycal(f, x0) * (x - x0)\n",
    "print(\"Уравнение касательной:\", y)\n",
    "\n",
    "x_graph = np.linspace(x0 - 1, x0 + 1, 100)\n",
    "y_graph = []\n",
    "for i in range(len(x_graph)):\n",
    "    y_graph.append(getFuncValue(y, x_graph[i]))\n",
    "plt.plot(x_graph, y_graph)\n",
    "\n",
    "y_f = []\n",
    "for i in range(len(x_graph)):\n",
    "    y_f.append(getFuncValue(f, x_graph[i]))\n",
    "plt.plot(x_graph, y_f)\n",
    "\n",
    "plt.xlabel('x')\n",
    "plt.ylabel('y', rotation=0)\n",
    "plt.axhline(y=0, color='k')\n",
    "plt.axvline(x=0, color='k')\n",
    "plt.grid()\n",
    "plt.show()"
   ]
  },
  {
   "cell_type": "markdown",
   "id": "d5203520-b6af-4c93-8a82-08502a53da70",
   "metadata": {},
   "source": [
    "<big>б) $y=e^{2x}$; $𝑥₀=1$</big>"
   ]
  },
  {
   "cell_type": "code",
   "execution_count": 248,
   "id": "4d4d1187-5bb5-4a50-a98d-eb07badbe6af",
   "metadata": {},
   "outputs": [
    {
     "name": "stdout",
     "output_type": "stream",
     "text": [
      "Производная в точке 𝑥₀: 14.77811\n",
      "Уравнение касательной: 14.77811*x - 7.38905392838258\n"
     ]
    },
    {
     "data": {
      "image/png": "[encoded data removed]",
      "text/plain": [
       "<Figure size 432x288 with 1 Axes>"
      ]
     },
     "metadata": {
      "needs_background": "light"
     },
     "output_type": "display_data"
    }
   ],
   "source": [
    "import matplotlib.pyplot as plt\n",
    "import numpy as np\n",
    "import sympy as sp\n",
    "from sympy.abc import x\n",
    "\n",
    "f = np.e ** (2 * x)\n",
    "x0 = 1\n",
    "\n",
    "def getFuncValue(f, arg):\n",
    "    return f.subs([(x, arg)])\n",
    "\n",
    "def getDerivativeSymbollycal(f, point):\n",
    "    x = sp.symbols('x')\n",
    "    y = sp.diff(f, x, 1)\n",
    "    return round(y.subs(x, point), 5)\n",
    "\n",
    "print(\"Производная в точке 𝑥₀:\", getDerivativeSymbollycal(f, x0))\n",
    "\n",
    "y = getFuncValue(f, x0) + getDerivativeSymbollycal(f, x0) * (x - x0)\n",
    "print(\"Уравнение касательной:\", y)\n",
    "\n",
    "x_graph = np.linspace(x0 - 1, x0 + 1, 100)\n",
    "y_graph = []\n",
    "for i in range(len(x_graph)):\n",
    "    y_graph.append(getFuncValue(y, x_graph[i]))\n",
    "plt.plot(x_graph, y_graph)\n",
    "\n",
    "y_f = []\n",
    "for i in range(len(x_graph)):\n",
    "    y_f.append(getFuncValue(f, x_graph[i]))\n",
    "plt.plot(x_graph, y_f)\n",
    "\n",
    "plt.xlabel('x')\n",
    "plt.ylabel('y', rotation=0)\n",
    "plt.axhline(y=0, color='k')\n",
    "plt.axvline(x=0, color='k')\n",
    "plt.grid()\n",
    "plt.show()"
   ]
  },
  {
   "cell_type": "markdown",
   "id": "05c02162-5215-4043-abf0-b03f5b8c07c3",
   "metadata": {},
   "source": [
    "<big>**Упражнение C1. Создать функцию, зависящую от функции, точки и приращения, вычисляющую отношение приращения функции к приращению аргумента. Вычислить значения этой функции в точках $1,$ $2,$ $-3$ при приращениях аргумента $0.001,$ $-0.001$ для функции $y=\\sin^5{\\frac{1}{x}}$.**</big>"
   ]
  },
  {
   "cell_type": "code",
   "execution_count": 241,
   "id": "6a0f44aa-026c-47bc-8320-0046479d6088",
   "metadata": {},
   "outputs": [
    {
     "name": "stdout",
     "output_type": "stream",
     "text": [
      "Отношения приращения функции к приращению аргумента (при приращениях аргумента 0.001; −0.001):\n",
      "Для точки 1: -1.35241 -1.35649 \n",
      "Для точки 2: -0.05788 -0.05803 \n",
      "Для точки -3: -0.00602 -0.00601 \n"
     ]
    }
   ],
   "source": [
    "import sympy as sp\n",
    "\n",
    "def func(x):\n",
    "    return sp.sin(1/x)**5\n",
    "\n",
    "def augmentation(x0, increase, func):\n",
    "    return func(x0 + increase) - func(x0)\n",
    "\n",
    "def getRatio(x0, increase, func):\n",
    "    return augmentation(x0, increase, func) / increase\n",
    "\n",
    "arr_x0 = [1, 2, -3]\n",
    "arr_increase = [0.001, -0.001]\n",
    "\n",
    "print(\"Отношения приращения функции к приращению аргумента (при приращениях аргумента 0.001; −0.001):\")\n",
    "for i in range(len(arr_x0)):\n",
    "    print(\"Для точки \", arr_x0[i], \":\", sep=\"\", end=\" \")\n",
    "    for j in range(len(arr_increase)):\n",
    "        print(round(getRatio(arr_x0[i], arr_increase[j], func), 5), end=\" \")\n",
    "    print()"
   ]
  },
  {
   "cell_type": "markdown",
   "id": "44fc0991-95e6-410a-9b75-09e2f8546629",
   "metadata": {},
   "source": [
    "<big>**Упражнение C2. Создать функцию, зависящую от функции и точки, вычисляющую значение производной функции. Для функции и точек из упражнения C1 вычислить значения производных.**</big>"
   ]
  },
  {
   "cell_type": "code",
   "execution_count": 244,
   "id": "c9c626c4-a251-4fc6-88f2-6c6190d95a18",
   "metadata": {},
   "outputs": [
    {
     "name": "stdout",
     "output_type": "stream",
     "text": [
      "Производная:\n",
      "Для точки 1: -1.35445\n",
      "Для точки 2: -0.05795\n",
      "Для точки -3: -0.00602\n"
     ]
    }
   ],
   "source": [
    "import sympy as sp\n",
    "from sympy.abc import x\n",
    "\n",
    "f = sp.sin(1/x)**5\n",
    "arrx0 = [1, 2, -3]\n",
    "\n",
    "def getDerivativeSymbollycal(f, point):\n",
    "    x = sp.symbols('x')\n",
    "    y = sp.diff(f, x, 1)\n",
    "    return round(y.subs(x, point), 5)\n",
    "\n",
    "print(\"Производная:\")\n",
    "for i in range(len(arrx0)):\n",
    "    print(\"Для точки \", arrx0[i], \":\", sep=\"\", end=\" \")\n",
    "    print(getDerivativeSymbollycal(f, arrx0[i]))"
   ]
  },
  {
   "cell_type": "markdown",
   "id": "cf856ed1-64fb-4908-8620-84767ba3e286",
   "metadata": {},
   "source": [
    "<big>**Упражнение С3. Вычислить производную функции $f(x) = \\frac {\\log_3(x^2+1)}{\\arccos^3sin(x)}$и ее значение в точке $𝑥₀ = 0.5$**.</big>"
   ]
  },
  {
   "cell_type": "code",
   "execution_count": 249,
   "id": "ee8e4c30-ac84-43af-a71c-09a2741d311e",
   "metadata": {},
   "outputs": [
    {
     "name": "stdout",
     "output_type": "stream",
     "text": [
      "Производная в точке 𝑥₀: 22.72562\n",
      "Значение функции в точке 𝑥₀: log(2)/((-1 + pi/2)**3*log(3))\n"
     ]
    }
   ],
   "source": [
    "import sympy as sp\n",
    "from sympy.abc import x\n",
    "\n",
    "f = (sp.log(x ** 2 + 1, 3)) / sp.acos(sp.sin(x)) ** 3\n",
    "x0 = 1\n",
    "\n",
    "def getFuncValue(f, arg):\n",
    "    return f.subs([(x, arg)])\n",
    "\n",
    "def getDerivativeSymbollycal(f, point):\n",
    "    x = sp.symbols('x')\n",
    "    y = sp.diff(f, x, 1)\n",
    "    return round(y.subs(x, point), 5)\n",
    "\n",
    "print(\"Производная в точке 𝑥₀:\", getDerivativeSymbollycal(f, x0))\n",
    "print(\"Значение функции в точке 𝑥₀:\", getFuncValue(f, x0))"
   ]
  },
  {
   "cell_type": "markdown",
   "id": "81f0e067-037a-476a-8111-5102aef8dd2c",
   "metadata": {},
   "source": [
    "<big>**Ответить на контрольные вопросы:**</big>"
   ]
  },
  {
   "cell_type": "markdown",
   "id": "55cfe3d7-fb9d-43bf-a28d-eb688966b18d",
   "metadata": {},
   "source": [
    "<big>**1. Какую структуру имеют блок-функции?**</big>"
   ]
  },
  {
   "cell_type": "markdown",
   "id": "59385d97-f139-4601-8d63-4029df09496f",
   "metadata": {},
   "source": [
    "<big>*Слово def в первой строке определяет начало функции. Первая строка является заголовком функции, в которой размещается имя функции и списки входных и выходных аргументов. После заголовка следует тело функции, где и вычисляется значение функции.*</big>"
   ]
  },
  {
   "cell_type": "markdown",
   "id": "b189105b-497c-4003-8bc7-101efcf60c97",
   "metadata": {},
   "source": [
    "<big>**2. Как использовать функцию в качестве входного аргумента блок-функции?**</big>"
   ]
  },
  {
   "cell_type": "markdown",
   "id": "fe4c3b2a-81be-4b5a-8fae-286bc3d43286",
   "metadata": {},
   "source": [
    "<big>*Если для исследования функций требуется запрограммировать собственный алгоритм, который должен оперировать с достаточно большим набором функций, то удобно оформить алгоритм в виде блок-функции, входными аргументами которой будут служить другие блок-функции. Имя используемой блок-функции передаётся отдельной переменной.*</big>"
   ]
  },
  {
   "cell_type": "markdown",
   "id": "49361c53-6526-4995-82ee-cbd9b82d803a",
   "metadata": {},
   "source": [
    "<big>**3. Как символически вычислять производные?**</big>"
   ]
  },
  {
   "cell_type": "markdown",
   "id": "76479768-5f41-4862-8c38-396e33a62609",
   "metadata": {},
   "source": [
    "<big>*Вычисление производной любого порядка проще производить с помощью функции $diff (fname,x,k)$, где $fname$ – символическая запись дифференцируемой функции, $х$ – переменная, по которой производится дифференцирование, $k$ - порядок производной.*</big>"
   ]
  }
 ],
 "metadata": {
  "kernelspec": {
   "display_name": "Python 3 (ipykernel)",
   "language": "python",
   "name": "python3"
  },
  "language_info": {
   "codemirror_mode": {
    "name": "ipython",
    "version": 3
   },
   "file_extension": ".py",
   "mimetype": "text/x-python",
   "name": "python",
   "nbconvert_exporter": "python",
   "pygments_lexer": "ipython3",
   "version": "3.9.12"
  }
 },
 "nbformat": 4,
 "nbformat_minor": 5
}
