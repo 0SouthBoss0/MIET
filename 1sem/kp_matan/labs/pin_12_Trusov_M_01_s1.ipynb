{
 "cells": [
  {
   "cell_type": "markdown",
   "id": "87548f30-3c85-4674-9396-5fa1873df04e",
   "metadata": {},
   "source": [
    "**Упражнение 1. Записать следующие команды (каждую в своей ячейке).**"
   ]
  },
  {
   "cell_type": "code",
   "execution_count": 1,
   "id": "5a006ca0-2a02-4b77-9ade-348ba205511f",
   "metadata": {},
   "outputs": [
    {
     "data": {
      "text/plain": [
       "6"
      ]
     },
     "execution_count": 1,
     "metadata": {},
     "output_type": "execute_result"
    }
   ],
   "source": [
    "2*3"
   ]
  },
  {
   "cell_type": "code",
   "execution_count": 2,
   "id": "034dc4eb-8763-40a5-8a64-3d2ceb0e1be0",
   "metadata": {},
   "outputs": [
    {
     "name": "stdout",
     "output_type": "stream",
     "text": [
      "7\n"
     ]
    }
   ],
   "source": [
    "k=3+4\n",
    "print(k)"
   ]
  },
  {
   "cell_type": "code",
   "execution_count": 3,
   "id": "772f5d28-0a8d-402c-8f40-58d4984c1e79",
   "metadata": {},
   "outputs": [
    {
     "data": {
      "text/plain": [
       "48"
      ]
     },
     "execution_count": 3,
     "metadata": {},
     "output_type": "execute_result"
    }
   ],
   "source": [
    "(k+1)*(k-1)"
   ]
  },
  {
   "cell_type": "code",
   "execution_count": 4,
   "id": "f7920584-906f-487e-b8c4-9d604256e660",
   "metadata": {},
   "outputs": [
    {
     "ename": "NameError",
     "evalue": "name 'x' is not defined",
     "output_type": "error",
     "traceback": [
      "\u001b[1;31m---------------------------------------------------------------------------\u001b[0m",
      "\u001b[1;31mNameError\u001b[0m                                 Traceback (most recent call last)",
      "Input \u001b[1;32mIn [4]\u001b[0m, in \u001b[0;36m<cell line: 1>\u001b[1;34m()\u001b[0m\n\u001b[1;32m----> 1\u001b[0m (\u001b[43mx\u001b[49m\u001b[38;5;241m+\u001b[39m\u001b[38;5;241m1\u001b[39m)\u001b[38;5;241m*\u001b[39m(x\u001b[38;5;241m-\u001b[39m\u001b[38;5;241m1\u001b[39m)\n",
      "\u001b[1;31mNameError\u001b[0m: name 'x' is not defined"
     ]
    }
   ],
   "source": [
    "(x+1)*(x-1)"
   ]
  },
  {
   "cell_type": "markdown",
   "id": "8b578ef8-995e-49f1-93d0-ad3e4ac07293",
   "metadata": {},
   "source": [
    "**Упражнение 3.**"
   ]
  },
  {
   "cell_type": "markdown",
   "id": "3d3e9ab0-376a-48b7-bbec-44d99ce465d5",
   "metadata": {},
   "source": [
    "**1) Убрать из рабочего пространства все переменные.**"
   ]
  },
  {
   "cell_type": "code",
   "execution_count": 5,
   "id": "60af12e7-8680-4757-996a-e8f509116f34",
   "metadata": {},
   "outputs": [
    {
     "name": "stdin",
     "output_type": "stream",
     "text": [
      "Once deleted, variables cannot be recovered. Proceed (y/[n])?  y\n"
     ]
    }
   ],
   "source": [
    "%reset"
   ]
  },
  {
   "cell_type": "markdown",
   "id": "00db9d06-28ed-4029-bc2d-066dbdee2cc0",
   "metadata": {},
   "source": [
    "**2) Ввести переменные x, y, z, t, задав им значения соответственно 1, 2, 3, 4.**"
   ]
  },
  {
   "cell_type": "code",
   "execution_count": 6,
   "id": "2f922899-ee4d-47ed-b689-e995e76e2383",
   "metadata": {},
   "outputs": [],
   "source": [
    "x=1\n",
    "y=2\n",
    "z=3\n",
    "t=4"
   ]
  },
  {
   "cell_type": "markdown",
   "id": "419e7b47-860a-4b6c-b779-400099808716",
   "metadata": {},
   "source": [
    "**3) Вывести в командное окно информацию обо всех переменных.**"
   ]
  },
  {
   "cell_type": "code",
   "execution_count": 7,
   "id": "2ecdf340-ad9f-47f6-a86a-6d42faed796d",
   "metadata": {},
   "outputs": [
    {
     "name": "stdout",
     "output_type": "stream",
     "text": [
      "Variable   Type    Data/Info\n",
      "----------------------------\n",
      "t          int     4\n",
      "x          int     1\n",
      "y          int     2\n",
      "z          int     3\n"
     ]
    }
   ],
   "source": [
    "%whos"
   ]
  },
  {
   "cell_type": "markdown",
   "id": "569c2c25-f5e2-4771-873e-b46ff7301284",
   "metadata": {},
   "source": [
    "**4) Удалить из рабочего пространства переменную x.**"
   ]
  },
  {
   "cell_type": "code",
   "execution_count": 8,
   "id": "5555a122-a679-4418-b98c-ac9d46671899",
   "metadata": {},
   "outputs": [],
   "source": [
    "del(x)"
   ]
  },
  {
   "cell_type": "markdown",
   "id": "5517eb33-1b87-45e2-b0e1-480226ce9e40",
   "metadata": {},
   "source": [
    "**5) Вывести в командное окно информацию об оставшихся переменных.**"
   ]
  },
  {
   "cell_type": "code",
   "execution_count": 9,
   "id": "bd7d3011-69cd-4d48-b55a-35ccd63dc243",
   "metadata": {},
   "outputs": [
    {
     "name": "stdout",
     "output_type": "stream",
     "text": [
      "Variable   Type    Data/Info\n",
      "----------------------------\n",
      "t          int     4\n",
      "y          int     2\n",
      "z          int     3\n"
     ]
    }
   ],
   "source": [
    "%whos"
   ]
  },
  {
   "cell_type": "markdown",
   "id": "1fa7eba9-5d43-4235-9ff7-7c7b2c6db1b1",
   "metadata": {},
   "source": [
    "**Упражнение 4.**"
   ]
  },
  {
   "cell_type": "markdown",
   "id": "cc4bcfb3-37e8-4056-a723-409288db3d5c",
   "metadata": {},
   "source": [
    "**1) Задать какую-нибудь матрицу R размерностью 3x4. Отобразить её\n",
    "сначала в текстовой ячейке в режиме Markdown. Затем ввести её в кодовой\n",
    "ячейке с помощью модуля numpy.**"
   ]
  },
  {
   "cell_type": "markdown",
   "id": "4b559748-8bfd-4c79-8ef6-7c0a560b77ea",
   "metadata": {},
   "source": [
    "$\\begin{bmatrix} 1 & 2 & 3 & 4 \\\\ 5 & 6 & 7 & 8 \\\\ 9 & 10 & 11 & 12 \\end{bmatrix}$"
   ]
  },
  {
   "cell_type": "code",
   "execution_count": 10,
   "id": "1c407440-2660-48b4-9eef-29ebcb403743",
   "metadata": {},
   "outputs": [],
   "source": [
    "import numpy as np"
   ]
  },
  {
   "cell_type": "code",
   "execution_count": 12,
   "id": "685e9128-9303-4ee7-8f35-5cfbb7e48591",
   "metadata": {},
   "outputs": [
    {
     "name": "stdout",
     "output_type": "stream",
     "text": [
      "[[ 1  2  3  4]\n",
      " [ 5  6  7  8]\n",
      " [ 9 10 11 12]]\n"
     ]
    }
   ],
   "source": [
    "R = np.array([[1, 2, 3, 4], [5, 6, 7, 8], [9, 10, 11, 12]])\n",
    "print(R)"
   ]
  },
  {
   "cell_type": "markdown",
   "id": "eeedf500-862e-4166-b51c-16e0f0e1dfe0",
   "metadata": {},
   "source": [
    "**2) Заменить значения элемента R(2,3) на противоположный (R(2,3)= -R(2,3)), вывести обновленную матрицу R в командное окно.**"
   ]
  },
  {
   "cell_type": "code",
   "execution_count": 13,
   "id": "fe13417e-2e32-4225-937a-49f52bcbd62b",
   "metadata": {},
   "outputs": [
    {
     "name": "stdout",
     "output_type": "stream",
     "text": [
      "[[  1   2   3   4]\n",
      " [  5   6   7   8]\n",
      " [  9  10  11 -12]]\n"
     ]
    }
   ],
   "source": [
    "R[2, 3] = -R[2,3]\n",
    "print(R)"
   ]
  },
  {
   "cell_type": "markdown",
   "id": "bb7afdc7-dbfa-4bda-9db8-8f112133110c",
   "metadata": {},
   "source": [
    "**Уменьшить на 4 элемент, стоящий в первой строке и третьем столбце, вывести обновленную матрицу R в командное окно.**"
   ]
  },
  {
   "cell_type": "code",
   "execution_count": 14,
   "id": "b8abf51c-024d-47dc-ad19-053b052f68d7",
   "metadata": {},
   "outputs": [
    {
     "name": "stdout",
     "output_type": "stream",
     "text": [
      "[[  1   2  -1   4]\n",
      " [  5   6   7   8]\n",
      " [  9  10  11 -12]]\n"
     ]
    }
   ],
   "source": [
    "R[0, 2] = R [0,2] - 4\n",
    "print(R)"
   ]
  },
  {
   "cell_type": "markdown",
   "id": "263eee76-e1f0-44d9-8b59-a2c72c11c0c2",
   "metadata": {},
   "source": [
    "**Удвоить все элементы второго столбца.**"
   ]
  },
  {
   "cell_type": "code",
   "execution_count": 15,
   "id": "b37f20f0-f27e-4a93-93e3-75904c26e134",
   "metadata": {},
   "outputs": [
    {
     "name": "stdout",
     "output_type": "stream",
     "text": [
      "[[  1   4  -1   4]\n",
      " [  5  12   7   8]\n",
      " [  9  20  11 -12]]\n"
     ]
    }
   ],
   "source": [
    "R[:,1]=R[:,1]*2\n",
    "print(R)"
   ]
  },
  {
   "cell_type": "markdown",
   "id": "19b2b73e-5f89-499f-880c-c628066bd463",
   "metadata": {},
   "source": [
    "**Утроить все элементы первой строки.**"
   ]
  },
  {
   "cell_type": "code",
   "execution_count": 16,
   "id": "6127b9b1-b1fb-4b41-9b4a-b5d52ffe9e0e",
   "metadata": {},
   "outputs": [
    {
     "name": "stdout",
     "output_type": "stream",
     "text": [
      "[[  3  12  -3  12]\n",
      " [  5  12   7   8]\n",
      " [  9  20  11 -12]]\n"
     ]
    }
   ],
   "source": [
    "R[0,:]=R[0,:]*3\n",
    "print(R)"
   ]
  },
  {
   "cell_type": "markdown",
   "id": "7d885cf6-8b06-4d46-b45e-a8cb88c38a62",
   "metadata": {},
   "source": [
    "**3) Задать векторы-строки размерности 1x5 и 1x7**"
   ]
  },
  {
   "cell_type": "code",
   "execution_count": 17,
   "id": "4cf24f24-13ee-4cd8-8514-4932f3e02672",
   "metadata": {},
   "outputs": [],
   "source": [
    "v1 = np.array([1, 2, 3, 4, 5])\n",
    "v2 = np.array([1, 2, 3, 4, 5, 6, 7])"
   ]
  },
  {
   "cell_type": "markdown",
   "id": "825977c3-4099-4a58-8729-3af90966d8c3",
   "metadata": {},
   "source": [
    "**Задать 3 вектора-столбца разной размерности.**"
   ]
  },
  {
   "cell_type": "code",
   "execution_count": 18,
   "id": "0b8628c8-383d-4504-959d-03ef5aae69ec",
   "metadata": {},
   "outputs": [],
   "source": [
    "s1 = np.array([[1], [2], [3]])\n",
    "s2 = np.array([[1], [2], [3], [4]])\n",
    "s3 = np.array([[1], [2], [3], [4], [5]])"
   ]
  },
  {
   "cell_type": "markdown",
   "id": "c276d61f-2e8a-4006-97a2-64638fb7d0ba",
   "metadata": {},
   "source": [
    "**Упражнение 5.**"
   ]
  },
  {
   "cell_type": "code",
   "execution_count": 20,
   "id": "76abea75-d5e4-4ad3-9249-40fbd0c0c562",
   "metadata": {},
   "outputs": [],
   "source": [
    "import numpy as np\n",
    "import numpy.matlib"
   ]
  },
  {
   "cell_type": "markdown",
   "id": "2cdc2054-150d-4bb4-8fed-75042b5fb747",
   "metadata": {},
   "source": [
    "**1) Ввести матрицы.**"
   ]
  },
  {
   "cell_type": "code",
   "execution_count": 21,
   "id": "d3d7e404-ee34-4f74-91a0-929651df4578",
   "metadata": {},
   "outputs": [],
   "source": [
    "A=np.array([[1,2,3], [4,5,6]])\n",
    "B=np.array([[1,-2,1], [-2,3,4]])\n",
    "C=np.array([2])\n",
    "D=np.matlib.ones((2,3))\n",
    "E=np.matlib.eye(3,3)"
   ]
  },
  {
   "cell_type": "markdown",
   "id": "4916e82b-7ad9-4d68-adf4-eacd376879c8",
   "metadata": {},
   "source": [
    "**2) Выполнить операции (или убедиться, что их выполнить нельзя):**"
   ]
  },
  {
   "cell_type": "code",
   "execution_count": 22,
   "id": "ff17ddca-5add-47f3-a202-c06b612b463e",
   "metadata": {},
   "outputs": [
    {
     "data": {
      "text/plain": [
       "array([[ 2,  0,  4],\n",
       "       [ 2,  8, 10]])"
      ]
     },
     "execution_count": 22,
     "metadata": {},
     "output_type": "execute_result"
    }
   ],
   "source": [
    "A+B"
   ]
  },
  {
   "cell_type": "code",
   "execution_count": 23,
   "id": "ed2aa3ba-81a9-4f04-a22c-acf3c6c70b88",
   "metadata": {},
   "outputs": [
    {
     "data": {
      "text/plain": [
       "array([[3, 4, 5],\n",
       "       [6, 7, 8]])"
      ]
     },
     "execution_count": 23,
     "metadata": {},
     "output_type": "execute_result"
    }
   ],
   "source": [
    "A+C"
   ]
  },
  {
   "cell_type": "code",
   "execution_count": 24,
   "id": "86dbf822-efaf-45f1-8c14-733e1c548238",
   "metadata": {},
   "outputs": [
    {
     "ename": "ValueError",
     "evalue": "operands could not be broadcast together with shapes (2,3) (3,3) ",
     "output_type": "error",
     "traceback": [
      "\u001b[1;31m---------------------------------------------------------------------------\u001b[0m",
      "\u001b[1;31mValueError\u001b[0m                                Traceback (most recent call last)",
      "Input \u001b[1;32mIn [24]\u001b[0m, in \u001b[0;36m<cell line: 1>\u001b[1;34m()\u001b[0m\n\u001b[1;32m----> 1\u001b[0m \u001b[43mA\u001b[49m\u001b[38;5;241;43m+\u001b[39;49m\u001b[43mE\u001b[49m\n",
      "\u001b[1;31mValueError\u001b[0m: operands could not be broadcast together with shapes (2,3) (3,3) "
     ]
    }
   ],
   "source": [
    "A+E"
   ]
  },
  {
   "cell_type": "code",
   "execution_count": 25,
   "id": "3cb492df-2e73-4cd5-ac84-bae047ac514a",
   "metadata": {},
   "outputs": [
    {
     "data": {
      "text/plain": [
       "array([[0, 4, 2],\n",
       "       [6, 2, 2]])"
      ]
     },
     "execution_count": 25,
     "metadata": {},
     "output_type": "execute_result"
    }
   ],
   "source": [
    "A-B"
   ]
  },
  {
   "cell_type": "code",
   "execution_count": 26,
   "id": "c0f87042-e701-4a46-a041-e1dd8553546f",
   "metadata": {},
   "outputs": [
    {
     "data": {
      "text/plain": [
       "array([[-1,  0,  1],\n",
       "       [ 2,  3,  4]])"
      ]
     },
     "execution_count": 26,
     "metadata": {},
     "output_type": "execute_result"
    }
   ],
   "source": [
    "A-C"
   ]
  },
  {
   "cell_type": "markdown",
   "id": "a88a8c65-d59e-4f4f-9612-bb82e4371f9a",
   "metadata": {},
   "source": [
    "C*A"
   ]
  },
  {
   "cell_type": "code",
   "execution_count": 28,
   "id": "7495b3c6-5312-41b6-993d-9e411136ad6b",
   "metadata": {},
   "outputs": [
    {
     "ename": "ValueError",
     "evalue": "matmul: Input operand 1 has a mismatch in its core dimension 0, with gufunc signature (n?,k),(k,m?)->(n?,m?) (size 2 is different from 3)",
     "output_type": "error",
     "traceback": [
      "\u001b[1;31m---------------------------------------------------------------------------\u001b[0m",
      "\u001b[1;31mValueError\u001b[0m                                Traceback (most recent call last)",
      "Input \u001b[1;32mIn [28]\u001b[0m, in \u001b[0;36m<cell line: 1>\u001b[1;34m()\u001b[0m\n\u001b[1;32m----> 1\u001b[0m \u001b[43mnp\u001b[49m\u001b[38;5;241;43m.\u001b[39;49m\u001b[43mmatmul\u001b[49m\u001b[43m(\u001b[49m\u001b[43mA\u001b[49m\u001b[43m,\u001b[49m\u001b[43mB\u001b[49m\u001b[43m)\u001b[49m\n",
      "\u001b[1;31mValueError\u001b[0m: matmul: Input operand 1 has a mismatch in its core dimension 0, with gufunc signature (n?,k),(k,m?)->(n?,m?) (size 2 is different from 3)"
     ]
    }
   ],
   "source": [
    "np.matmul(A,B)"
   ]
  },
  {
   "cell_type": "code",
   "execution_count": 29,
   "id": "af2b2616-7be4-45cd-86be-c179058e5c7d",
   "metadata": {},
   "outputs": [
    {
     "data": {
      "text/plain": [
       "array([[ 0, 16],\n",
       "       [ 0, 31]])"
      ]
     },
     "execution_count": 29,
     "metadata": {},
     "output_type": "execute_result"
    }
   ],
   "source": [
    "B=B.transpose()\n",
    "np.matmul(A,B)"
   ]
  },
  {
   "cell_type": "markdown",
   "id": "9e196248-24c6-470e-9c29-8e5cb5ed34c1",
   "metadata": {},
   "source": [
    "**Упражнение 7. Вычислить значения с помощью задания данных в виде вектора.**"
   ]
  },
  {
   "cell_type": "code",
   "execution_count": 30,
   "id": "da04ecb0-fbea-4628-a8d8-33d4bce759a2",
   "metadata": {},
   "outputs": [
    {
     "data": {
      "text/plain": [
       "array([1.        , 1.73205081, 2.23606798])"
      ]
     },
     "execution_count": 30,
     "metadata": {},
     "output_type": "execute_result"
    }
   ],
   "source": [
    "vec=np.array([1, 3, 5])\n",
    "np.sqrt(vec)"
   ]
  },
  {
   "cell_type": "markdown",
   "id": "a0243cb3-cdde-4b24-890e-baf26b161cfd",
   "metadata": {},
   "source": [
    "**Упражнение С1.**"
   ]
  },
  {
   "cell_type": "markdown",
   "id": "abb88d36-ef23-47f2-8b14-fbcc2cb29a16",
   "metadata": {},
   "source": [
    "**1) Задать вектор-строку с элементами от -2 до 10 с шагом 2, утроить все ее элементы.**"
   ]
  },
  {
   "cell_type": "code",
   "execution_count": 37,
   "id": "e0b55b77-e700-406d-a55b-7c277a9f9f2b",
   "metadata": {},
   "outputs": [
    {
     "name": "stdout",
     "output_type": "stream",
     "text": [
      "[-2  0  2  4  6  8 10]\n"
     ]
    }
   ],
   "source": [
    "vec = np.arange(-2, 11, 2)\n",
    "print(vec)"
   ]
  },
  {
   "cell_type": "code",
   "execution_count": 38,
   "id": "eb833e61-dfee-415e-91a4-fb3fe6c91d41",
   "metadata": {},
   "outputs": [
    {
     "name": "stdout",
     "output_type": "stream",
     "text": [
      "[-6  0  6 12 18 24 30]\n"
     ]
    }
   ],
   "source": [
    "vec*=3\n",
    "print(vec)"
   ]
  },
  {
   "cell_type": "markdown",
   "id": "ee53e0a5-f717-4984-be72-d1cd3b94ce96",
   "metadata": {},
   "source": [
    "**2) Задать вектор-строку с элементами от 45 до 5 с шагом -5, определить ее размерность.**"
   ]
  },
  {
   "cell_type": "code",
   "execution_count": 40,
   "id": "7b90c792-ced8-4e10-83eb-001d27c1de95",
   "metadata": {},
   "outputs": [
    {
     "name": "stdout",
     "output_type": "stream",
     "text": [
      "9\n"
     ]
    }
   ],
   "source": [
    "vec = np.arange(45, 4, -5)\n",
    "print(len(vec))"
   ]
  },
  {
   "cell_type": "markdown",
   "id": "b4af90bb-5e4e-40f2-b2cb-f5256f93d9f6",
   "metadata": {},
   "source": [
    "**Упражнение С2.**"
   ]
  },
  {
   "cell_type": "markdown",
   "id": "2cc344cf-239a-47e9-85d0-cf1cde919123",
   "metadata": {},
   "source": [
    "**1) Вычислить значения cos(x). То же для остальных тригонометрических функций (использовать значение np.pi).**"
   ]
  },
  {
   "cell_type": "code",
   "execution_count": 42,
   "id": "4d1766b2-4c53-4b56-98c1-184a3a462533",
   "metadata": {},
   "outputs": [],
   "source": [
    "trig = [0, np.pi/6, np.pi/3, np.pi/2, (2*np.pi)/3, (5*np.pi)/6, np.pi, (7*np.pi)/6, (4*np.pi)/3, (3*np.pi)/2, (5*np.pi)/3, (11*np.pi)/6, 2*np.pi]"
   ]
  },
  {
   "cell_type": "code",
   "execution_count": 66,
   "id": "4614307f-8a63-4a97-917f-1f290605c00f",
   "metadata": {},
   "outputs": [
    {
     "name": "stdout",
     "output_type": "stream",
     "text": [
      "[ 1.00000000e+00  8.66025404e-01  5.00000000e-01  6.12323400e-17\n",
      " -5.00000000e-01 -8.66025404e-01 -1.00000000e+00 -8.66025404e-01\n",
      " -5.00000000e-01 -1.83697020e-16  5.00000000e-01  8.66025404e-01\n",
      "  1.00000000e+00]\n"
     ]
    }
   ],
   "source": [
    "print(np.cos(trig))"
   ]
  },
  {
   "cell_type": "code",
   "execution_count": 67,
   "id": "03f17ed8-dae2-4281-bad9-4a31eab12326",
   "metadata": {},
   "outputs": [
    {
     "name": "stdout",
     "output_type": "stream",
     "text": [
      "[ 0.00000000e+00  5.00000000e-01  8.66025404e-01  1.00000000e+00\n",
      "  8.66025404e-01  5.00000000e-01  1.22464680e-16 -5.00000000e-01\n",
      " -8.66025404e-01 -1.00000000e+00 -8.66025404e-01 -5.00000000e-01\n",
      " -2.44929360e-16]\n"
     ]
    }
   ],
   "source": [
    "print(np.sin(trig))"
   ]
  },
  {
   "cell_type": "code",
   "execution_count": 65,
   "id": "2bf56be8-a5a9-4d6b-ad71-50a67a149446",
   "metadata": {},
   "outputs": [
    {
     "name": "stdout",
     "output_type": "stream",
     "text": [
      "[ 0.00000000e+00  5.77350269e-01  1.73205081e+00  1.63312394e+16\n",
      " -1.73205081e+00 -5.77350269e-01 -1.22464680e-16  5.77350269e-01\n",
      "  1.73205081e+00  5.44374645e+15 -1.73205081e+00 -5.77350269e-01\n",
      " -2.44929360e-16]\n"
     ]
    }
   ],
   "source": [
    "print(np.tan(trig))"
   ]
  },
  {
   "cell_type": "markdown",
   "id": "f93fd544-c459-415c-931a-27e585616341",
   "metadata": {},
   "source": [
    "**2) Вычислить значение выражения.**"
   ]
  },
  {
   "cell_type": "code",
   "execution_count": 64,
   "id": "62cd3ee8-f4d3-4f71-adeb-a93cbe2f36d0",
   "metadata": {},
   "outputs": [],
   "source": [
    "x = np.arange(-2, 2.5, 0.5) "
   ]
  },
  {
   "cell_type": "code",
   "execution_count": 69,
   "id": "07622ffe-fbf0-4e31-ab51-1ea158cb0833",
   "metadata": {},
   "outputs": [
    {
     "name": "stdout",
     "output_type": "stream",
     "text": [
      "[1. 1. 1. 1. 1. 1. 1. 1. 1.]\n"
     ]
    }
   ],
   "source": [
    "print(np.cosh(x)**2-np.sinh(x)**2)"
   ]
  },
  {
   "cell_type": "markdown",
   "id": "aa0520bb-52d8-413a-bce4-c8da55c3b77b",
   "metadata": {},
   "source": [
    "**3) Повторить теоретический материал, ответить на контрольные вопросы:**"
   ]
  },
  {
   "cell_type": "markdown",
   "id": "74145695-0c23-40c8-a2e2-0d1dd75e0562",
   "metadata": {},
   "source": [
    "**3.1) Какие имена переменных являются допустимыми?**"
   ]
  },
  {
   "cell_type": "markdown",
   "id": "48f395a7-b257-4935-9517-4956432fff63",
   "metadata": {},
   "source": [
    "*В именах переменных можно использовать латинские буквы, цифры и символ подчеркивания; большие и малые буквы в именах различаются; имя должно начинаться с буквы; длина имени не должна превышать 63 символа.*"
   ]
  },
  {
   "cell_type": "markdown",
   "id": "786dc972-a924-4e8a-bbac-2e38cea20883",
   "metadata": {},
   "source": [
    "**3.2) Каким образом можно получить информацию о переменных рабочего пространства?**"
   ]
  },
  {
   "cell_type": "markdown",
   "id": "2e672cea-d224-4d20-9223-4c321061e7df",
   "metadata": {},
   "source": [
    "*Информацию о переменных можно получить с помощью команды “%whos”.*"
   ]
  },
  {
   "cell_type": "markdown",
   "id": "28c4a073-e1b9-4cd4-a7ed-d63489538992",
   "metadata": {},
   "source": [
    "**3.3) Каким образом можно получить подробную информацию о функции или команде?**"
   ]
  },
  {
   "cell_type": "markdown",
   "id": "d51cd645-1d3d-43d5-a2f7-7a726e727391",
   "metadata": {},
   "source": [
    "*Подробную информацию можно получить командой help и именем интересующей функции или команды.*"
   ]
  },
  {
   "cell_type": "markdown",
   "id": "0c47219a-44eb-4be4-9bc5-5d783be1d059",
   "metadata": {},
   "source": [
    "**3.4) Как задать матрицу произвольной размерности?**"
   ]
  },
  {
   "cell_type": "markdown",
   "id": "61f20966-f268-4ce1-bb3b-092c754a7c0a",
   "metadata": {},
   "source": [
    "*Функцией A.reshape(n,k) Превратит массив A в матрицу размерности n на k.*"
   ]
  },
  {
   "cell_type": "markdown",
   "id": "d8f3bae1-bacf-47c6-8f3d-a780698b5b60",
   "metadata": {},
   "source": [
    "**3.5) Каким образом осуществляются поэлементные арифметические действия с матрицами одинаковой размерности?**"
   ]
  },
  {
   "cell_type": "markdown",
   "id": "f98c6a0d-1106-43dc-896f-0f91686970d9",
   "metadata": {},
   "source": [
    "*Поэлементные арифметические действия выполняются с соответствующими элементами матриц одинаковой размерности.*"
   ]
  }
 ],
 "metadata": {
  "kernelspec": {
   "display_name": "Python 3 (ipykernel)",
   "language": "python",
   "name": "python3"
  },
  "language_info": {
   "codemirror_mode": {
    "name": "ipython",
    "version": 3
   },
   "file_extension": ".py",
   "mimetype": "text/x-python",
   "name": "python",
   "nbconvert_exporter": "python",
   "pygments_lexer": "ipython3",
   "version": "3.9.12"
  }
 },
 "nbformat": 4,
 "nbformat_minor": 5
}
