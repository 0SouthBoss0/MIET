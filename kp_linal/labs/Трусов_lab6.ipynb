{
 "cells": [
  {
   "cell_type": "markdown",
   "id": "0ec6f5e1-d1bd-4c53-9cb1-7658a2f2bdb1",
   "metadata": {},
   "source": [
    "**Лабораторный практикум 6. Параллельный перенос и поворот координатных осей на плоскости.**"
   ]
  },
  {
   "cell_type": "markdown",
   "id": "b14c0a47-61e7-43a0-b2a2-aca2a11cbf38",
   "metadata": {},
   "source": [
    "Загрузка необходимых библиотек."
   ]
  },
  {
   "cell_type": "code",
   "execution_count": 347,
   "id": "34a42013-da42-499e-83af-ba3cdf99654f",
   "metadata": {},
   "outputs": [],
   "source": [
    "import numpy as np\n",
    "import sympy as sp\n",
    "import matplotlib.pyplot as plt\n",
    "from sympy.solvers.solveset import linsolve"
   ]
  },
  {
   "cell_type": "markdown",
   "id": "cf6cf3e4-fbe3-44e2-9245-6a7469fbcaa1",
   "metadata": {},
   "source": [
    "**Упражнение 6.1. Координаты точки М в старой системе координат ($2\\sqrt {3}$, $-\\sqrt {3}$) . Найти координаты этой точки в новой системе, если начало координат старой системы перенесено в точку (–1, –2), а оси повернуты на 30°. Сделать проверку.**"
   ]
  },
  {
   "cell_type": "code",
   "execution_count": 360,
   "id": "d8b900f4-db4d-4271-9492-6c1495b06c5a",
   "metadata": {},
   "outputs": [
    {
     "name": "stdout",
     "output_type": "stream",
     "text": [
      "Координаты этой точки в новой системе: (4.0, -2.0)\n",
      "Координаты перенесённой точки M в новой системе: 2.8660254037844384 -1.767949192431123\n"
     ]
    }
   ],
   "source": [
    "# начало координат новой системы: (a, b)\n",
    "# координаты точки M в старой системе: (x, y)\n",
    "# угол поворота новой системы: alfa\n",
    "\n",
    "a = -1; b = -2\n",
    "x = 2*np.sqrt(3); y = -np.sqrt(3); alfa = np.pi/6 \n",
    "\n",
    "qx, qy = sp.symbols('qx, qy')\n",
    "ans = (linsolve([qx*np.cos(alfa) - qy*np.sin(alfa)+a-x, qx * np.sin(alfa) + qy * np.cos(alfa)+b-y], (qx, qy)))\n",
    "print(\"Координаты этой точки в новой системе:\", *ans)\n",
    "\n",
    "x1 = x * np.cos(alfa) - y * np.sin(alfa) + a\n",
    "y1 = x * np.sin(alfa) + y * np.cos(alfa) + b\n",
    "\n",
    "print(\"Координаты перенесённой точки M в новой системе:\", x1, y1)"
   ]
  },
  {
   "cell_type": "code",
   "execution_count": 349,
   "id": "e66e1da1-9769-4225-8003-c602eb934b1d",
   "metadata": {},
   "outputs": [
    {
     "name": "stdout",
     "output_type": "stream",
     "text": [
      "Проверка: True True\n"
     ]
    },
    {
     "data": {
      "image/png": "[encoded data removed]",
      "text/plain": [
       "<Figure size 432x288 with 1 Axes>"
      ]
     },
     "metadata": {
      "needs_background": "light"
     },
     "output_type": "display_data"
    }
   ],
   "source": [
    "x_new = 4\n",
    "y_new = -2\n",
    "\n",
    "# проверка\n",
    "x_proverka = x_new * np.cos(alfa) - y_new * np.sin(alfa) + a\n",
    "y_proverka = x_new * np.sin(alfa) + y_new * np.cos(alfa) + b\n",
    "\n",
    "print(\"Проверка:\", np.isclose(x, x_proverka), np.isclose(y, y_proverka))\n",
    "\n",
    "plt.arrow(-1, 0, 5, 0, width=0.08, color=\"black\")\n",
    "plt.arrow(0, -3, 0, 5, width=0.08, color=\"black\")\n",
    "\n",
    "x3 = np.cos(-alfa); y3 = -np.sin(-alfa)\n",
    "x4 = np.sin(-alfa); y4 = np.cos(-alfa)\n",
    "\n",
    "plt.arrow(a, b, x3*5, y3*5, width=0.08, color=\"blue\")\n",
    "plt.arrow(a, b, x4*2, y4*2, width=0.08, color=\"blue\")\n",
    "\n",
    "plt.plot(x, y, \"or\")\n",
    "\n",
    "plt.xlabel(\"x\"); plt.ylabel(\"y\", rotation = 0)\n",
    "plt.axis(\"scaled\")\n",
    "plt.grid()\n",
    "plt.show()"
   ]
  },
  {
   "cell_type": "markdown",
   "id": "d1edfe52-4290-4e87-afc0-a56d815a615c",
   "metadata": {},
   "source": [
    "**Упражнение 6.2. Произвести сдвиг начала координат в точку $(3,2)$ и поворот графика функции $y=2x-4$ относительно начала координат на $45°$ против часовой стрелки. Найти уравнение полученной прямой и координаты точки $М(1,–2)$. Изобразить прямые и точки на графике.**"
   ]
  },
  {
   "cell_type": "code",
   "execution_count": 350,
   "id": "8aa50034-1e54-4e6a-9208-b9c02b102fc4",
   "metadata": {},
   "outputs": [
    {
     "name": "stdout",
     "output_type": "stream",
     "text": [
      "Координаты перенесённой точки M в новой системе: 5.121320343559643 1.2928932188134525\n"
     ]
    }
   ],
   "source": [
    "O=[3,2]\n",
    "alfa=np.pi/4\n",
    "M=[1,-2]\n",
    "\n",
    "a = O[0]; b = O[1]\n",
    "x = M[0]; y = M[1]\n",
    "\n",
    "x1 = x * np.cos(alfa) - y * np.sin(alfa) + a\n",
    "y1 = x * np.sin(alfa) + y * np.cos(alfa) + b\n",
    "\n",
    "print(\"Координаты перенесённой точки M в новой системе:\", x1, y1)"
   ]
  },
  {
   "cell_type": "code",
   "execution_count": 351,
   "id": "37a6d702-cadf-4dad-a0be-ba0ceb1114b6",
   "metadata": {},
   "outputs": [
    {
     "name": "stdout",
     "output_type": "stream",
     "text": [
      "Уравнение перенесённой прямой: -53033008588991*x/25000000000000 - 14142135623731*y/20000000000000 + 117781745930520055818003360271/10000000000000000000000000000\n"
     ]
    }
   ],
   "source": [
    "#точка на графике 2x-4 для построения прямой через неё и M1\n",
    "M2=[2,0]\n",
    "x = M2[0]; y = M2[1]\n",
    "x2 = x * np.cos(alfa) - y * np.sin(alfa) + a\n",
    "y2 = x * np.sin(alfa) + y * np.cos(alfa) + b\n",
    "\n",
    "L = sp.Line(sp.Point(x1,y1), sp.Point(x2,y2))\n",
    "print(\"Уравнение перенесённой прямой:\", L.equation())"
   ]
  },
  {
   "cell_type": "code",
   "execution_count": 352,
   "id": "506571e7-1165-4528-9f01-3cb368d592de",
   "metadata": {},
   "outputs": [
    {
     "name": "stdout",
     "output_type": "stream",
     "text": [
      "Выраженный y: y= 16.6568542494923 - 2.99999999999999*x\n"
     ]
    }
   ],
   "source": [
    "x, y = sp.symbols('x, y')\n",
    "print(\"Выраженный y: y=\",*sp.solve(-53033008588991*x/25000000000000 - 14142135623731*y/20000000000000 + 117781745930520055818003360271/10000000000000000000000000000, y))"
   ]
  },
  {
   "cell_type": "code",
   "execution_count": 353,
   "id": "7bbe44f9-199e-49e4-b8c3-ee4d93d46d67",
   "metadata": {},
   "outputs": [
    {
     "data": {
      "image/png": "[encoded data removed]",
      "text/plain": [
       "<Figure size 432x288 with 1 Axes>"
      ]
     },
     "metadata": {
      "needs_background": "light"
     },
     "output_type": "display_data"
    }
   ],
   "source": [
    "# точки M и M1\n",
    "plt.plot(M[0],M[1],'.k')\n",
    "plt.text(M[0] + 0.3, M[1] - 0.3, 'M')\n",
    "plt.plot(x1,y1,'.b')\n",
    "plt.text(x1 + 0.3, y1 - 0.3, 'M1')\n",
    "\n",
    "# начальная система координат\n",
    "plt.arrow(-2, 0, 7, 0, width=0.08, color='black')\n",
    "plt.arrow(0, -2, 0, 7, width=0.08, color='black')\n",
    "\n",
    "x = np.linspace(0.5, 6, 100)\n",
    "plt.plot(x, 2*x-4,'k')\n",
    "\n",
    "# новая система координат\n",
    "x3 = np.cos(-alfa); y3 = - np.sin(-alfa)\n",
    "x4 = np.sin(-alfa); y4 = np.cos(-alfa)\n",
    "plt.arrow(O[0], O[1], x3*3, y3*3, width=0.08, color='blue')\n",
    "plt.arrow(O[0], O[1], x4*3, y4*3, width=0.08, color='blue')\n",
    "\n",
    "x = np.linspace(3, 6, 100)\n",
    "plt.plot(x,16.6568542494923 - 2.99999999999999*x,'b')\n",
    "\n",
    "plt.axis('scaled')\n",
    "plt.grid()\n",
    "plt.show()"
   ]
  },
  {
   "cell_type": "markdown",
   "id": "ca1e0af2-2b77-4aaa-878c-fa5971861c9d",
   "metadata": {},
   "source": [
    "**Упражнение 6.3. Найти координаты точки $М(1,–2)$ из упражнений 6.1 и 6.2, используя матричные выражения.**"
   ]
  },
  {
   "cell_type": "code",
   "execution_count": 369,
   "id": "0cd56e7b-32e0-49a0-b31f-905b71185739",
   "metadata": {},
   "outputs": [
    {
     "name": "stdout",
     "output_type": "stream",
     "text": [
      "6.1: [[0.8660254]] [[-3.23205081]]\n",
      "6.2: [[5.12132034]] [[1.29289322]]\n"
     ]
    }
   ],
   "source": [
    "# 6.1\n",
    "alfa = np.pi / 6\n",
    "A = np.matrix([[np.cos(alfa), -np.sin(alfa)], [np.sin(alfa), np.cos(alfa)]])\n",
    "x = [1]\n",
    "y = [-2]\n",
    "X = np.concatenate(([x], [y]), axis=0) # соединение массивов\n",
    "Y = A * X\n",
    "print(\"6.1:\", Y[0]-1, Y[1]-2)\n",
    "\n",
    "# 6.2\n",
    "alfa = np.pi / 4\n",
    "A = np.matrix([[np.cos(alfa), -np.sin(alfa)], [np.sin(alfa), np.cos(alfa)]])\n",
    "x = [1]\n",
    "y = [-2]\n",
    "X = np.concatenate(([x], [y]), axis=0) # соединение массивов\n",
    "Y = A * X\n",
    "print(\"6.2:\", Y[0]+3, Y[1]+2)"
   ]
  },
  {
   "cell_type": "markdown",
   "id": "d8d5b563-f402-42cc-a04e-4e97dfaa4c96",
   "metadata": {},
   "source": [
    "**Упражнение 6.4. Дан квадрат $ABCD$, где $A(2,2)$, $В(4,2)$, $С(2,4)$, $D(4,4)$. Произведите сдвиг и поворот данного квадрата. Их величины задайте самостоятельно. Изобразите старую и новую системы координат.**"
   ]
  },
  {
   "cell_type": "code",
   "execution_count": 354,
   "id": "0e00b342-5804-4c9d-b45e-af9c5421156d",
   "metadata": {},
   "outputs": [
    {
     "name": "stdout",
     "output_type": "stream",
     "text": [
      "AB: y - 2\n",
      "BD: x - 4\n",
      "DC: y - 4\n",
      "CA: x - 2\n"
     ]
    }
   ],
   "source": [
    "A = [2, 2]\n",
    "B = [4, 2]\n",
    "D = [4, 4]\n",
    "C = [2, 4]\n",
    "\n",
    "AB = sp.Line(A, B)\n",
    "BD = sp.Line(B, D)\n",
    "DC = sp.Line(D, C)\n",
    "CA = sp.Line(C, A)\n",
    "\n",
    "print(\"AB:\", AB.equation())\n",
    "print(\"BD:\", BD.equation())\n",
    "print(\"DC:\", DC.equation())\n",
    "print(\"CA:\", CA.equation())"
   ]
  },
  {
   "cell_type": "code",
   "execution_count": 355,
   "id": "c27af0bc-68b2-4285-83e0-609ff02e957d",
   "metadata": {},
   "outputs": [
    {
     "data": {
      "image/png": "[encoded data removed]",
      "text/plain": [
       "<Figure size 432x288 with 1 Axes>"
      ]
     },
     "metadata": {
      "needs_background": "light"
     },
     "output_type": "display_data"
    }
   ],
   "source": [
    "# ЗАДАВАЕМЫЕ ПАРАМЕТРЫ\n",
    "# начало координат новой системы: (a, b)\n",
    "# угол поворота новой системы: alfa\n",
    "alfa = np.pi/6\n",
    "a = -1; b = -2\n",
    "\n",
    "def getNewCoord(x, y, alfa, a, b):\n",
    "    x1 = x * np.cos(alfa) - y * np.sin(alfa) + a\n",
    "    y1 = x * np.sin(alfa) + y * np.cos(alfa) + b\n",
    "    return [x1, y1]\n",
    "\n",
    "A_new = getNewCoord(A[0], A[1], alfa, a, b)\n",
    "B_new = getNewCoord(B[0], B[1], alfa, a, b)\n",
    "D_new = getNewCoord(D[0], D[1], alfa, a, b)\n",
    "C_new = getNewCoord(C[0], C[1], alfa, a, b)\n",
    "\n",
    "# начальная система координат\n",
    "plt.arrow(-2, 0, 7, 0, width=0.08, color='black')\n",
    "plt.arrow(0, -2, 0, 7, width=0.08, color='black')\n",
    "\n",
    "x = np.linspace(2, 4, 30)\n",
    "plt.plot(x, 0*x+2, color = \"black\")\n",
    "plt.plot(x, 0*x+4, color = \"black\")\n",
    "\n",
    "y = np.linspace(2, 4, 30)\n",
    "plt.plot(0*y+2, y, color = \"black\")\n",
    "plt.plot(0*y+4, y, color = \"black\")\n",
    "\n",
    "# новая система координат\n",
    "x3 = np.cos(-alfa); y3 = - np.sin(-alfa)\n",
    "x4 = np.sin(-alfa); y4 = np.cos(-alfa)\n",
    "plt.arrow(a, b, x3*3, y3*3, width=0.08, color='blue')\n",
    "plt.arrow(a, b, x4*3, y4*3, width=0.08, color='blue')\n",
    "\n",
    "plt.plot([A_new[0], B_new[0]], [A_new[1], B_new[1]], color = \"blue\")\n",
    "plt.plot([B_new[0], D_new[0]], [B_new[1], D_new[1]], color = \"blue\")\n",
    "plt.plot([D_new[0], C_new[0]], [D_new[1], C_new[1]], color = \"blue\")\n",
    "plt.plot([C_new[0], A_new[0]], [C_new[1], A_new[1]], color = \"blue\")\n",
    "\n",
    "plt.grid()\n",
    "plt.axis(\"equal\")\n",
    "plt.show()"
   ]
  }
 ],
 "metadata": {
  "kernelspec": {
   "display_name": "Python 3 (ipykernel)",
   "language": "python",
   "name": "python3"
  },
  "language_info": {
   "codemirror_mode": {
    "name": "ipython",
    "version": 3
   },
   "file_extension": ".py",
   "mimetype": "text/x-python",
   "name": "python",
   "nbconvert_exporter": "python",
   "pygments_lexer": "ipython3",
   "version": "3.9.12"
  }
 },
 "nbformat": 4,
 "nbformat_minor": 5
}
