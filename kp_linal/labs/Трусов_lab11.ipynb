{
 "cells": [
  {
   "cell_type": "markdown",
   "id": "84a33e4a-aceb-46ee-87fa-cc4b59ffd3c3",
   "metadata": {},
   "source": [
    "<big>**Лабораторный практикум 11. Методы решения систем линейных алгебраических уравнений (СЛАУ)**<big>"
   ]
  },
  {
   "cell_type": "markdown",
   "id": "9d05f8e5-677b-40e7-9ace-144cc5df510a",
   "metadata": {},
   "source": [
    "Загрузка необходимых библиотек:"
   ]
  },
  {
   "cell_type": "code",
   "execution_count": 1,
   "id": "cb3ea9da-db51-40d1-972c-772708dca62c",
   "metadata": {},
   "outputs": [],
   "source": [
    "import numpy as np\n",
    "from sympy import *"
   ]
  },
  {
   "cell_type": "markdown",
   "id": "aa155330-835a-401e-9e5a-d71fac70d628",
   "metadata": {},
   "source": [
    "**Упражнение 11.1. Исследовать на совместность и решить системы линейных уравнений любым методом в случае существования единственного решения, сделать проверку.**"
   ]
  },
  {
   "cell_type": "markdown",
   "id": "8c4fd70c-8c8e-468b-b9a4-69da6b2c5fbc",
   "metadata": {},
   "source": [
    "$\\begin{equation*}\n",
    " \\begin{cases}\n",
    "   x_1+2x_2+3x_3=7\\\\\n",
    "   x_1-3x_2+2x_3=5\\\\\n",
    "   2x_1+4x_2+6x_3=14\n",
    " \\end{cases}\n",
    "\\end{equation*}$"
   ]
  },
  {
   "cell_type": "code",
   "execution_count": 16,
   "id": "b29fcedf-0d58-407e-a0ef-38d9014f5605",
   "metadata": {},
   "outputs": [
    {
     "name": "stdout",
     "output_type": "stream",
     "text": [
      "СЛАУ неопределённая (бесконечное количество решений).\n"
     ]
    }
   ],
   "source": [
    "def checkSovmestnost(rankA, rankAB, n):\n",
    "    if rankA == rankAB and rankA == n:\n",
    "        return \"СЛАУ определённая (одно решение).\"\n",
    "    if rankA != rankAB:\n",
    "        return \"СЛАУ несовместна (нет решений).\"\n",
    "    return \"СЛАУ неопределённая (бесконечное количество решений).\"\n",
    "\n",
    "\n",
    "A = np.array([[1, 2, 3],\n",
    "              [1, -3, 2],\n",
    "              [2, 4, 6]])\n",
    "B = np.array([7, 5, 14])\n",
    "n = 3\n",
    "\n",
    "# Исследуем систему на совместность\n",
    "AB = np.column_stack((A, B))  # добавляем к матрице А столбец В\n",
    "rkA = np.linalg.matrix_rank(A)\n",
    "rkAB = np.linalg.matrix_rank(AB)\n",
    "print(checkSovmestnost(rkA, rkAB, n))"
   ]
  },
  {
   "cell_type": "markdown",
   "id": "d1900353-0254-4fc4-91d3-bd526a52eb78",
   "metadata": {},
   "source": [
    "$\\begin{equation*}\n",
    " \\begin{cases}\n",
    "   3x_1-2x_2+x_3+x_4=-8\\\\\n",
    "   5x_1+x_2+2x_3=-11\\\\\n",
    "   -x_1+x_2-x_3+x_4=0\\\\\n",
    "   2x_1-x_2+6x_3-3x_4=-9\n",
    " \\end{cases}\n",
    "\\end{equation*}$"
   ]
  },
  {
   "cell_type": "code",
   "execution_count": 19,
   "id": "7b28be16-3e71-4fa4-8ee4-e1baf1b7026e",
   "metadata": {},
   "outputs": [
    {
     "name": "stdout",
     "output_type": "stream",
     "text": [
      "СЛАУ определённая (одно решение).\n"
     ]
    }
   ],
   "source": [
    "def checkSovmestnost(rankA, rankAB, n):\n",
    "    if rankA == rankAB and rankA == n:\n",
    "        return \"СЛАУ определённая (одно решение).\"\n",
    "    if rankA != rankAB:\n",
    "        return \"СЛАУ несовместна (нет решений).\"\n",
    "    return \"СЛАУ неопределённая (бесконечное количество решений).\"\n",
    "\n",
    "\n",
    "A = np.array([[3, -2, 1, 1],\n",
    "              [5, 1, 2, 0],\n",
    "              [-1, 1, -1, 1],\n",
    "              [2, -1, 6, -3]])\n",
    "B = np.array([-8, -11, 0, -9])\n",
    "n = 4\n",
    "\n",
    "# Исследуем систему на совместность\n",
    "AB = np.column_stack((A, B))  # добавляем к матрице А столбец В\n",
    "rkA = np.linalg.matrix_rank(A)\n",
    "rkAB = np.linalg.matrix_rank(AB)\n",
    "print(checkSovmestnost(rkA, rkAB, n))"
   ]
  },
  {
   "cell_type": "code",
   "execution_count": 22,
   "id": "32a0a247-122f-4136-bdc2-e55727b6e4cf",
   "metadata": {},
   "outputs": [
    {
     "name": "stdout",
     "output_type": "stream",
     "text": [
      "Ответ: [-0.91304348 -0.52173913 -2.95652174 -3.34782609]\n"
     ]
    }
   ],
   "source": [
    "# Метод обратной матрицы\n",
    "X1 = np.linalg.inv(A).dot(B)\n",
    "print(\"Ответ:\", X1)"
   ]
  },
  {
   "cell_type": "code",
   "execution_count": 28,
   "id": "b0836676-5cb3-4416-86a1-8f57353e0c02",
   "metadata": {},
   "outputs": [
    {
     "name": "stdout",
     "output_type": "stream",
     "text": [
      "Ответ: [-0.9130434782608693, -0.5217391304347827, -2.956521739130436, -3.34782608695652]\n"
     ]
    }
   ],
   "source": [
    "# Метод Крамера\n",
    "DA = np.linalg.det(A)\n",
    "D1 = A.copy()\n",
    "D1[:, 0] = B\n",
    "D11 = np.linalg.det(D1)\n",
    "D2 = A.copy()\n",
    "D2[:, 1] = B\n",
    "D22 = np.linalg.det(D2)\n",
    "D3 = A.copy()\n",
    "D3[:, 2] = B\n",
    "D33 = np.linalg.det(D3)\n",
    "D4 = A.copy()\n",
    "D4[:, 3] = B\n",
    "D44 = np.linalg.det(D4)\n",
    "X2 = [D11 / DA, D22 / DA, D33 / DA, D44 / DA]\n",
    "print(\"Ответ:\", X2)"
   ]
  },
  {
   "cell_type": "code",
   "execution_count": 29,
   "id": "00784e95-a820-4c39-812c-4e7f51593f76",
   "metadata": {},
   "outputs": [
    {
     "name": "stdout",
     "output_type": "stream",
     "text": [
      "[-0.91304348 -0.52173913 -2.95652174 -3.34782609]\n",
      "[ True  True  True  True]\n"
     ]
    }
   ],
   "source": [
    "# Метод solve\n",
    "X3 = np.linalg.solve(A, B)\n",
    "print(X3)\n",
    "# Проверка\n",
    "print(np.isclose(np.dot(A, X3), B))"
   ]
  },
  {
   "cell_type": "markdown",
   "id": "05ddbe72-57d9-439a-921e-d679312978b8",
   "metadata": {},
   "source": [
    "$\\begin{equation*}\n",
    " \\begin{cases}\n",
    "   3x_1-2x_2+x_3+x_4=-8\\\\\n",
    "   5x_1+x_2+2x_3=-11\\\\\n",
    "   9x_1-6x_2+3x_3+3x_4=0\\\\\n",
    "   2x_1-x_2+6x_3-3x_4=-9\n",
    " \\end{cases}\n",
    "\\end{equation*}$"
   ]
  },
  {
   "cell_type": "code",
   "execution_count": 30,
   "id": "9cd4f82f-0fbd-4166-be46-782a6e41f09e",
   "metadata": {},
   "outputs": [
    {
     "name": "stdout",
     "output_type": "stream",
     "text": [
      "СЛАУ несовместна (нет решений).\n"
     ]
    }
   ],
   "source": [
    "def checkSovmestnost(rankA, rankAB, n):\n",
    "    if rankA == rankAB and rankA == n:\n",
    "        return \"СЛАУ определённая (одно решение).\"\n",
    "    if rankA != rankAB:\n",
    "        return \"СЛАУ несовместна (нет решений).\"\n",
    "    return \"СЛАУ неопределённая (бесконечное количество решений).\"\n",
    "\n",
    "\n",
    "A = np.array([[3, -2, 1, 1],\n",
    "              [5, 1, 2, 0],\n",
    "              [9, -6, 3, 3],\n",
    "              [2, -1, 6, -3]])\n",
    "B = np.array([-8, -11, 0, -9])\n",
    "n = 4\n",
    "\n",
    "# Исследуем систему на совместность\n",
    "AB = np.column_stack((A, B))  # добавляем к матрице А столбец В\n",
    "rkA = np.linalg.matrix_rank(A)\n",
    "rkAB = np.linalg.matrix_rank(AB)\n",
    "print(checkSovmestnost(rkA, rkAB, n))"
   ]
  },
  {
   "cell_type": "markdown",
   "id": "57de1e6d-545c-483b-984b-d5c252c69d1f",
   "metadata": {},
   "source": [
    "$\\begin{equation*}\n",
    " \\begin{cases}\n",
    "   2x_1+x_2-x_3+-3x_4=2\\\\\n",
    "   4x_1+x_3-7x_4=3\\\\\n",
    "   2x_2+-3x_3+x_4=1\\\\\n",
    "   2x_1+3x_2-4x_3-2x_4=3\n",
    " \\end{cases}\n",
    "\\end{equation*}$"
   ]
  },
  {
   "cell_type": "code",
   "execution_count": 31,
   "id": "1c206ede-d1b1-4f68-8a85-64ac39e55b38",
   "metadata": {},
   "outputs": [
    {
     "name": "stdout",
     "output_type": "stream",
     "text": [
      "СЛАУ неопределённая (бесконечное количество решений).\n"
     ]
    }
   ],
   "source": [
    "def checkSovmestnost(rankA, rankAB, n):\n",
    "    if rankA == rankAB and rankA == n:\n",
    "        return \"СЛАУ определённая (одно решение).\"\n",
    "    if rankA != rankAB:\n",
    "        return \"СЛАУ несовместна (нет решений).\"\n",
    "    return \"СЛАУ неопределённая (бесконечное количество решений).\"\n",
    "\n",
    "\n",
    "A = np.array([[2, 1, -1, -3],\n",
    "              [4, 0, 1, -7],\n",
    "              [0, 2, -3, 1],\n",
    "              [2, 3, -4, -2]])\n",
    "B = np.array([2, 3, 1, 3])\n",
    "n = 4\n",
    "\n",
    "# Исследуем систему на совместность\n",
    "AB = np.column_stack((A, B))  # добавляем к матрице А столбец В\n",
    "rkA = np.linalg.matrix_rank(A)\n",
    "rkAB = np.linalg.matrix_rank(AB)\n",
    "print(checkSovmestnost(rkA, rkAB, n))"
   ]
  },
  {
   "cell_type": "markdown",
   "id": "93dfc1d5-a309-4c64-af8e-6c9fffc57dff",
   "metadata": {},
   "source": [
    "**Упражнение 11.2. Решить систему линейных уравнений методом Гаусса. Сделать проверку.**"
   ]
  },
  {
   "cell_type": "markdown",
   "id": "a990e6fc-214f-46bc-962e-bc441ff3c6a0",
   "metadata": {},
   "source": [
    "$\\begin{equation*}\n",
    " \\begin{cases}\n",
    "   3x_1-2x_2+x_3+x_4=-8\\\\\n",
    "   5x_1+x_2+2x_3=-11\\\\\n",
    "   -x_1+x_2-x_3+x_4=0\\\\\n",
    "   2x_1-x_2+6x_3-3x_4=-9\n",
    " \\end{cases}\n",
    "\\end{equation*}$"
   ]
  },
  {
   "cell_type": "code",
   "execution_count": 144,
   "id": "ee431611-0867-448b-9c8f-1d3c3feb6816",
   "metadata": {},
   "outputs": [
    {
     "name": "stdout",
     "output_type": "stream",
     "text": [
      "СЛАУ определённая (одно решение).\n"
     ]
    }
   ],
   "source": [
    "def checkSovmestnost(rankA, rankAB, n):\n",
    "    if rankA == rankAB and rankA == n:\n",
    "        return \"СЛАУ определённая (одно решение).\"\n",
    "    if rankA != rankAB:\n",
    "        return \"СЛАУ несовместна (нет решений).\"\n",
    "    return \"СЛАУ неопределённая (бесконечное количество решений).\"\n",
    "\n",
    "\n",
    "A = np.array([[3, -2, 1, 1],\n",
    "              [5, 1, 2, 0],\n",
    "              [-1, 1, -1, 1],\n",
    "              [2, -1, 6, -3]])\n",
    "B = np.array([-8, -11, 0, 9])\n",
    "n = 4\n",
    "\n",
    "# Исследуем систему на совместность\n",
    "AB = np.column_stack((A, B))  # добавляем к матрице А столбец В\n",
    "rkA = np.linalg.matrix_rank(A)\n",
    "rkAB = np.linalg.matrix_rank(AB)\n",
    "print(checkSovmestnost(rkA, rkAB, n))"
   ]
  },
  {
   "cell_type": "code",
   "execution_count": 145,
   "id": "19064e2f-ae54-40a6-b4e3-993d7347edc3",
   "metadata": {},
   "outputs": [
    {
     "name": "stdout",
     "output_type": "stream",
     "text": [
      "⎛⎡1  0  0  0⎤              ⎞\n",
      "⎜⎢          ⎥              ⎟\n",
      "⎜⎢0  1  0  0⎥              ⎟\n",
      "⎜⎢          ⎥, (0, 1, 2, 3)⎟\n",
      "⎜⎢0  0  1  0⎥              ⎟\n",
      "⎜⎢          ⎥              ⎟\n",
      "⎝⎣0  0  0  1⎦              ⎠\n"
     ]
    }
   ],
   "source": [
    "A_Gauss = Matrix([[3, -2, 1, 1],\n",
    "                  [5, 1, 2, 0],\n",
    "                  [-1, 1, -1, 1],\n",
    "                  [2, -1, 6, -3]])\n",
    "B_Gauss = Matrix([-8, -11, 0, 9])\n",
    "RA = A_Gauss.rref()\n",
    "pprint(RA)"
   ]
  },
  {
   "cell_type": "code",
   "execution_count": 146,
   "id": "4b14a85d-f6d8-4d60-9098-23e4290edf10",
   "metadata": {},
   "outputs": [
    {
     "name": "stdout",
     "output_type": "stream",
     "text": [
      "(-3, 0, 2, -1)\n"
     ]
    }
   ],
   "source": [
    "x1, x2, x3, x4 = symbols('x1 x2 x3 x4')\n",
    "X = linsolve((A_Gauss, B_Gauss), x1, x2, x3, x4)\n",
    "print(*X)"
   ]
  },
  {
   "cell_type": "code",
   "execution_count": 148,
   "id": "13396b3e-d380-42e5-a4d0-14530a63b283",
   "metadata": {},
   "outputs": [
    {
     "name": "stdout",
     "output_type": "stream",
     "text": [
      "True\n"
     ]
    }
   ],
   "source": [
    "X = Matrix([[-3], [0], [2], [-1]])\n",
    "print(A_Gauss * X == B_Gauss)"
   ]
  },
  {
   "cell_type": "markdown",
   "id": "23d7543e-8805-4a8b-ae17-41343e625df0",
   "metadata": {},
   "source": [
    "$\\begin{equation*}\n",
    " \\begin{cases}\n",
    "   2x_1+3x_2-x_3+x_4=0\\\\\n",
    "   2x_1+7x_2-3x_3=1\\\\\n",
    "   4x_2-2x_3-x_4=1\\\\\n",
    "   2x_1-x_2+x_3+2x_4=-1\\\\\n",
    "   4x_1+10x_2-4x_3+x_4=1\n",
    " \\end{cases}\n",
    "\\end{equation*}$"
   ]
  },
  {
   "cell_type": "code",
   "execution_count": 100,
   "id": "ebe87ec9-3dd7-413b-b475-c5bdf81a819e",
   "metadata": {},
   "outputs": [
    {
     "name": "stdout",
     "output_type": "stream",
     "text": [
      "СЛАУ неопределённая (бесконечное количество решений).\n"
     ]
    }
   ],
   "source": [
    "def checkSovmestnost(rankA, rankAB, n):\n",
    "    if rankA == rankAB and rankA == n:\n",
    "        return \"СЛАУ определённая (одно решение).\"\n",
    "    if rankA != rankAB:\n",
    "        return \"СЛАУ несовместна (нет решений).\"\n",
    "    return \"СЛАУ неопределённая (бесконечное количество решений).\"\n",
    "\n",
    "\n",
    "A = np.array([[2, 3, -1, 1],\n",
    "              [2, 7, -3, 0],\n",
    "              [0, 4, -2, -1],\n",
    "              [2, -1, 1, 2],\n",
    "              [4, 10, -4, 1]])\n",
    "B = np.array([0, 1, 1, -1, 1])\n",
    "n = 4\n",
    "\n",
    "# Исследуем систему на совместность\n",
    "AB = np.column_stack((A, B))  # добавляем к матрице А столбец В\n",
    "rkA = np.linalg.matrix_rank(A)\n",
    "rkAB = np.linalg.matrix_rank(AB)\n",
    "print(checkSovmestnost(rkA, rkAB, n))"
   ]
  },
  {
   "cell_type": "code",
   "execution_count": 127,
   "id": "ba88f068-5447-418a-8940-480ff290f32b",
   "metadata": {},
   "outputs": [
    {
     "name": "stdout",
     "output_type": "stream",
     "text": [
      "⎛⎡1  0  1/4   7/8 ⎤        ⎞\n",
      "⎜⎢                ⎥        ⎟\n",
      "⎜⎢0  1  -1/2  -1/4⎥        ⎟\n",
      "⎜⎢                ⎥        ⎟\n",
      "⎜⎢0  0   0     0  ⎥, (0, 1)⎟\n",
      "⎜⎢                ⎥        ⎟\n",
      "⎜⎢0  0   0     0  ⎥        ⎟\n",
      "⎜⎢                ⎥        ⎟\n",
      "⎝⎣0  0   0     0  ⎦        ⎠\n"
     ]
    }
   ],
   "source": [
    "A_Gauss = Matrix([[2, 3, -1, 1],\n",
    "                  [2, 7, -3, 0],\n",
    "                  [0, 4, -2, -1],\n",
    "                  [2, -1, 1, 2],\n",
    "                  [4, 10, -4, 1]])\n",
    "B_Gauss = Matrix([0, 1, 1, -1, 1])\n",
    "RA = A_Gauss.rref()\n",
    "pprint(RA)"
   ]
  },
  {
   "cell_type": "code",
   "execution_count": 128,
   "id": "66de4648-df5d-4046-a127-f4e1b0e6a451",
   "metadata": {},
   "outputs": [
    {
     "name": "stdout",
     "output_type": "stream",
     "text": [
      "(-C1/4 - 7*C2/8 - 3/8, C1/2 + C2/4 + 1/4, C1, C2, C3)\n"
     ]
    }
   ],
   "source": [
    "x1, x2, C1, C2, C3 = symbols('x1 x2 C1 C2 C3')\n",
    "X = linsolve((A_Gauss, B_Gauss), x1, x2, C1, C2, C3)\n",
    "print(*X)"
   ]
  },
  {
   "cell_type": "code",
   "execution_count": 125,
   "id": "a6650538-d6f2-486e-a7ce-95b6f423112e",
   "metadata": {},
   "outputs": [
    {
     "name": "stdout",
     "output_type": "stream",
     "text": [
      "True\n"
     ]
    }
   ],
   "source": [
    "# Проверка\n",
    "X = Matrix([[-C1/4 - 7*C2/8 - 3/8], [C1/2 + C2/4 + 1/4], [C1], [C2]])\n",
    "print(A_Gauss * X == B_Gauss)"
   ]
  },
  {
   "cell_type": "markdown",
   "id": "12e31f2f-fe7e-417c-bf3f-a18a7adb028d",
   "metadata": {},
   "source": [
    "$\\begin{equation*}\n",
    " \\begin{cases}\n",
    "   2x_1-x_2+3x_3=3\\\\\n",
    "   3x_1+x_2-5x_3=0\\\\\n",
    "   4x_1-x_2+x_3=3\\\\\n",
    "   x_1+3x_2-13x_3=-6\\\\\n",
    "   x_1+2x_2-8x_3=-3\n",
    " \\end{cases}\n",
    "\\end{equation*}$"
   ]
  },
  {
   "cell_type": "code",
   "execution_count": 149,
   "id": "ead88b4c-5ad8-4b22-a322-df3f1b8d7f35",
   "metadata": {},
   "outputs": [
    {
     "name": "stdout",
     "output_type": "stream",
     "text": [
      "СЛАУ определённая (одно решение).\n"
     ]
    }
   ],
   "source": [
    "def checkSovmestnost(rankA, rankAB, n):\n",
    "    if rankA == rankAB and rankA == n:\n",
    "        return \"СЛАУ определённая (одно решение).\"\n",
    "    if rankA != rankAB:\n",
    "        return \"СЛАУ несовместна (нет решений).\"\n",
    "    return \"СЛАУ неопределённая (бесконечное количество решений).\"\n",
    "\n",
    "\n",
    "A = np.array([[2, -1, 3],\n",
    "              [3, 1, -5],\n",
    "              [4, -1, 1],\n",
    "              [1, 3, -13],\n",
    "              [1, 2, -8]])\n",
    "B = np.array([3, 0, 3, -6, -3])\n",
    "n = 3\n",
    "\n",
    "# Исследуем систему на совместность\n",
    "AB = np.column_stack((A, B))  # добавляем к матрице А столбец В\n",
    "rkA = np.linalg.matrix_rank(A)\n",
    "rkAB = np.linalg.matrix_rank(AB)\n",
    "print(checkSovmestnost(rkA, rkAB, n))"
   ]
  },
  {
   "cell_type": "code",
   "execution_count": 170,
   "id": "88c5ffd6-c937-4bc8-a36b-54598043da04",
   "metadata": {},
   "outputs": [
    {
     "name": "stdout",
     "output_type": "stream",
     "text": [
      "⎛⎡1  0  0⎤           ⎞\n",
      "⎜⎢       ⎥           ⎟\n",
      "⎜⎢0  1  0⎥           ⎟\n",
      "⎜⎢       ⎥           ⎟\n",
      "⎜⎢0  0  1⎥, (0, 1, 2)⎟\n",
      "⎜⎢       ⎥           ⎟\n",
      "⎜⎢0  0  0⎥           ⎟\n",
      "⎜⎢       ⎥           ⎟\n",
      "⎝⎣0  0  0⎦           ⎠\n"
     ]
    }
   ],
   "source": [
    "A_Gauss = Matrix([[2, -1, 3],\n",
    "                  [3, 1, -5],\n",
    "                  [4, -1, 1],\n",
    "                  [1, 3, -13],\n",
    "                  [1, 2, -8]])\n",
    "B_Gauss = Matrix([3, 0, 3, -6, -3])\n",
    "RA = A_Gauss.rref()\n",
    "pprint(RA)"
   ]
  },
  {
   "cell_type": "code",
   "execution_count": 171,
   "id": "7db4de2f-5480-485e-b289-3e606c2d4eab",
   "metadata": {},
   "outputs": [
    {
     "name": "stdout",
     "output_type": "stream",
     "text": [
      "(1, 2, 1)\n"
     ]
    }
   ],
   "source": [
    "x1, x2, x3 = symbols('x1 x2 x3')\n",
    "X = linsolve((A_Gauss, B_Gauss), x1, x2, x3)\n",
    "print(*X)"
   ]
  },
  {
   "cell_type": "code",
   "execution_count": 172,
   "id": "56cccc99-9bea-4389-9ef7-76b418b0ae63",
   "metadata": {},
   "outputs": [
    {
     "name": "stdout",
     "output_type": "stream",
     "text": [
      "True\n"
     ]
    }
   ],
   "source": [
    "# Проверка\n",
    "X = Matrix([[1], [2], [1]])\n",
    "print(A_Gauss * X == B_Gauss)"
   ]
  },
  {
   "cell_type": "markdown",
   "id": "f728b353-3070-430b-bc08-86344a56c35f",
   "metadata": {},
   "source": [
    "$\\begin{equation*}\n",
    " \\begin{cases}\n",
    "   2x_1-3x_2+x_3=2\\\\\n",
    "   x_1+x_2+x_3=2\\\\\n",
    "   -4x_1+6x_2-2x_3=-4\n",
    " \\end{cases}\n",
    "\\end{equation*}$"
   ]
  },
  {
   "cell_type": "code",
   "execution_count": 173,
   "id": "a1533b42-4b5f-4d4a-acf0-8112fd4340d2",
   "metadata": {},
   "outputs": [
    {
     "name": "stdout",
     "output_type": "stream",
     "text": [
      "СЛАУ неопределённая (бесконечное количество решений).\n"
     ]
    }
   ],
   "source": [
    "def checkSovmestnost(rankA, rankAB, n):\n",
    "    if rankA == rankAB and rankA == n:\n",
    "        return \"СЛАУ определённая (одно решение).\"\n",
    "    if rankA != rankAB:\n",
    "        return \"СЛАУ несовместна (нет решений).\"\n",
    "    return \"СЛАУ неопределённая (бесконечное количество решений).\"\n",
    "\n",
    "\n",
    "A = np.array([[2, -3, 1],\n",
    "              [1, 1, 1],\n",
    "              [-4, 6, -2]])\n",
    "B = np.array([2, 2, -4])\n",
    "n = 3\n",
    "\n",
    "# Исследуем систему на совместность\n",
    "AB = np.column_stack((A, B))  # добавляем к матрице А столбец В\n",
    "rkA = np.linalg.matrix_rank(A)\n",
    "rkAB = np.linalg.matrix_rank(AB)\n",
    "print(checkSovmestnost(rkA, rkAB, n))"
   ]
  },
  {
   "cell_type": "code",
   "execution_count": 174,
   "id": "cdebc17b-91be-4531-ae84-cc128873a6cd",
   "metadata": {},
   "outputs": [
    {
     "name": "stdout",
     "output_type": "stream",
     "text": [
      "⎛⎡1  0  4/5⎤        ⎞\n",
      "⎜⎢         ⎥        ⎟\n",
      "⎜⎢0  1  1/5⎥, (0, 1)⎟\n",
      "⎜⎢         ⎥        ⎟\n",
      "⎝⎣0  0   0 ⎦        ⎠\n"
     ]
    }
   ],
   "source": [
    "A_Gauss = Matrix([[2, -3, 1],\n",
    "                  [1, 1, 1],\n",
    "                  [-4, 6, -2]])\n",
    "B_Gauss = Matrix([2, 2, -4])\n",
    "RA = A_Gauss.rref()\n",
    "pprint(RA)"
   ]
  },
  {
   "cell_type": "code",
   "execution_count": 175,
   "id": "b3f532cb-8c9c-4942-a14e-3f4d3b028c92",
   "metadata": {},
   "outputs": [
    {
     "name": "stdout",
     "output_type": "stream",
     "text": [
      "(8/5 - 4*C1/5, 2/5 - C1/5, C1)\n"
     ]
    }
   ],
   "source": [
    "x1, x2, C1 = symbols('x1 x2 C1')\n",
    "X = linsolve((A_Gauss, B_Gauss), x1, x2, C1)\n",
    "print(*X)"
   ]
  },
  {
   "cell_type": "code",
   "execution_count": 176,
   "id": "ae503373-d6b7-4bbf-9a6d-24ba1fb00b7c",
   "metadata": {},
   "outputs": [
    {
     "name": "stdout",
     "output_type": "stream",
     "text": [
      "True\n"
     ]
    }
   ],
   "source": [
    "# Проверка\n",
    "X = Matrix([[8/5 - 4*C1/5], [2/5 - C1/5], [C1]])\n",
    "print(A_Gauss * X == B_Gauss)"
   ]
  },
  {
   "cell_type": "markdown",
   "id": "4fe3fa34-db00-4bc9-bc66-4affb77e6c8c",
   "metadata": {},
   "source": [
    "$\\begin{equation*}\n",
    " \\begin{cases}\n",
    "   2x_1+x_2-x_3-3x_4=2\\\\\n",
    "   4x_1+x_3-7x_4=3\\\\\n",
    "   2x_2-3x_3+x_4=1\\\\\n",
    "   2x_1+3x_2-4x_3-2x_4=3\n",
    " \\end{cases}\n",
    "\\end{equation*}$"
   ]
  },
  {
   "cell_type": "code",
   "execution_count": 181,
   "id": "78b40851-9bea-4cb1-a564-296bec823479",
   "metadata": {},
   "outputs": [
    {
     "name": "stdout",
     "output_type": "stream",
     "text": [
      "СЛАУ неопределённая (бесконечное количество решений).\n"
     ]
    }
   ],
   "source": [
    "def checkSovmestnost(rankA, rankAB, n):\n",
    "    if rankA == rankAB and rankA == n:\n",
    "        return \"СЛАУ определённая (одно решение).\"\n",
    "    if rankA != rankAB:\n",
    "        return \"СЛАУ несовместна (нет решений).\"\n",
    "    return \"СЛАУ неопределённая (бесконечное количество решений).\"\n",
    "\n",
    "\n",
    "A = np.array([[2, 1, -1, -3],\n",
    "              [4, 0, 1, -7],\n",
    "              [0, 2, -3, 1],\n",
    "              [2, 3, -4, -2]])\n",
    "B = np.array([2, 3, 1, 3])\n",
    "n = 4\n",
    "\n",
    "# Исследуем систему на совместность\n",
    "AB = np.column_stack((A, B))  # добавляем к матрице А столбец В\n",
    "rkA = np.linalg.matrix_rank(A)\n",
    "rkAB = np.linalg.matrix_rank(AB)\n",
    "print(checkSovmestnost(rkA, rkAB, n))"
   ]
  },
  {
   "cell_type": "code",
   "execution_count": 182,
   "id": "753f703a-c526-47d3-9cb6-eb69b1f5a2b1",
   "metadata": {},
   "outputs": [
    {
     "name": "stdout",
     "output_type": "stream",
     "text": [
      "⎛⎡1  0  1/4   -7/4⎤        ⎞\n",
      "⎜⎢                ⎥        ⎟\n",
      "⎜⎢0  1  -3/2  1/2 ⎥        ⎟\n",
      "⎜⎢                ⎥, (0, 1)⎟\n",
      "⎜⎢0  0   0     0  ⎥        ⎟\n",
      "⎜⎢                ⎥        ⎟\n",
      "⎝⎣0  0   0     0  ⎦        ⎠\n"
     ]
    }
   ],
   "source": [
    "A_Gauss = Matrix([[2, 1, -1, -3],\n",
    "                  [4, 0, 1, -7],\n",
    "                  [0, 2, -3, 1],\n",
    "                  [2, 3, -4, -2]])\n",
    "B_Gauss = Matrix([2, 3, 1, 3])\n",
    "RA = A_Gauss.rref()\n",
    "pprint(RA)"
   ]
  },
  {
   "cell_type": "code",
   "execution_count": 183,
   "id": "a59722a1-13ec-404f-bd7e-18053d2e7788",
   "metadata": {},
   "outputs": [
    {
     "name": "stdout",
     "output_type": "stream",
     "text": [
      "(-C1/4 + 7*C2/4 + 3/4, 3*C1/2 - C2/2 + 1/2, C1, C2)\n"
     ]
    }
   ],
   "source": [
    "x1, x2, C1, C2 = symbols('x1 x2 C1 C2')\n",
    "X = linsolve((A_Gauss, B_Gauss), x1, x2, C1, C2)\n",
    "print(*X)"
   ]
  },
  {
   "cell_type": "code",
   "execution_count": 184,
   "id": "41f4fa33-019f-4de5-881e-11eb1ceac2ab",
   "metadata": {},
   "outputs": [
    {
     "name": "stdout",
     "output_type": "stream",
     "text": [
      "True\n"
     ]
    }
   ],
   "source": [
    "# Проверка\n",
    "X = Matrix([[-C1/4 + 7*C2/4 + 3/4], [3*C1/2 - C2/2 + 1/2], [C1], [C2]])\n",
    "print(A_Gauss * X == B_Gauss)"
   ]
  },
  {
   "cell_type": "markdown",
   "id": "d2af64fd-5b81-4faf-8653-0610792b5ee3",
   "metadata": {},
   "source": [
    "**Упражнение 11.3. Найти общее решение и фундаментальную систему решений однородной системы уравнений. Сделать проверку.**"
   ]
  },
  {
   "cell_type": "markdown",
   "id": "2a4b7106-c2c9-4554-a884-8a85dff0763c",
   "metadata": {},
   "source": [
    "$\\begin{equation*}\n",
    " \\begin{cases}\n",
    "   2x_1-3x_2+x_3=0\\\\\n",
    "   x_1+x_2+x_3=0\\\\\n",
    "   3x_1-2x_2+2x_3=0\n",
    " \\end{cases}\n",
    "\\end{equation*}$"
   ]
  },
  {
   "cell_type": "code",
   "execution_count": 227,
   "id": "39cde90a-3f85-4d3b-af02-f7f2fbcfb5bd",
   "metadata": {},
   "outputs": [
    {
     "name": "stdout",
     "output_type": "stream",
     "text": [
      "Ранг матрицы системы: 2\n"
     ]
    }
   ],
   "source": [
    "AA = Matrix([[2, -3, 1],\n",
    "             [1, 1, 1],\n",
    "             [3, -2, 2]])\n",
    "\n",
    "print(\"Ранг матрицы системы:\", AA.rank())"
   ]
  },
  {
   "cell_type": "code",
   "execution_count": 220,
   "id": "c92e0cbe-727d-4260-85ec-5b1d5d1c8e1d",
   "metadata": {},
   "outputs": [
    {
     "name": "stdout",
     "output_type": "stream",
     "text": [
      "Фундаментальная система решений:\n",
      "⎡-4/5⎤\n",
      "⎢    ⎥\n",
      "⎢-1/5⎥\n",
      "⎢    ⎥\n",
      "⎣ 1  ⎦\n",
      "Общее решение системы:\n",
      "Matrix([[-4*C1/5], [-C1/5], [C1]])\n"
     ]
    }
   ],
   "source": [
    "E = AA.nullspace()\n",
    "print('Фундаментальная система решений:')\n",
    "pprint(*E)\n",
    "\n",
    "C1 = symbols('C1')\n",
    "print('Общее решение системы:')\n",
    "print(C1 * E[0])"
   ]
  },
  {
   "cell_type": "markdown",
   "id": "dd965acc-a5fb-4b06-b3eb-e710a4b8d77d",
   "metadata": {},
   "source": [
    "$\\begin{equation*}\n",
    " \\begin{cases}\n",
    "   x_1+2x_2+4x_3-3x_4=0\\\\\n",
    "   3x_1+5x_2+6x_3-x_4=0\\\\\n",
    "   4x_1+4x_2-2x_3+3x_4=0\\\\\n",
    "   3x_1+8x_2+24x_3-19x_4=0\n",
    " \\end{cases}\n",
    "\\end{equation*}$"
   ]
  },
  {
   "cell_type": "code",
   "execution_count": 228,
   "id": "39c86c73-03f6-4d1f-893d-2f1160cd3e45",
   "metadata": {},
   "outputs": [
    {
     "name": "stdout",
     "output_type": "stream",
     "text": [
      "Ранг матрицы системы: 4\n"
     ]
    }
   ],
   "source": [
    "AA = Matrix([[1, 2, 4, -3],\n",
    "             [3, 5, 6, -1],\n",
    "             [4, 4, -2, 3],\n",
    "             [3, 8, 24, -19]])\n",
    "\n",
    "print(\"Ранг матрицы системы:\", AA.rank())"
   ]
  },
  {
   "cell_type": "markdown",
   "id": "b28e77df-11f3-48ea-8b8e-d8e2b3087ebe",
   "metadata": {},
   "source": [
    "*Ранг матрицы системы равен числу неизвестных - система имеет только тривиальное решение $(0, 0, 0, 0)$.*"
   ]
  },
  {
   "cell_type": "markdown",
   "id": "69eff1cc-0fb8-458f-81a0-49ea727537ba",
   "metadata": {},
   "source": [
    "$\\begin{equation*}\n",
    " \\begin{cases}\n",
    "   x_1+x_3+x_5=0\\\\\n",
    "   x_2-x_4+x_6=0\\\\\n",
    "   x_1-x_2+x_5-x_6=0\\\\\n",
    "   x_2+x_3+x_6=0\\\\\n",
    "   x_1-x_4+x_5=0\n",
    " \\end{cases}\n",
    "\\end{equation*}$"
   ]
  },
  {
   "cell_type": "code",
   "execution_count": 233,
   "id": "e1d60dd4-75eb-4ee0-879f-39d054a8bced",
   "metadata": {},
   "outputs": [
    {
     "name": "stdout",
     "output_type": "stream",
     "text": [
      "Ранг матрицы системы: 3\n"
     ]
    }
   ],
   "source": [
    "AA = Matrix([[1, 0, 1, 0, 1, 0],\n",
    "             [0, 1, 0, -1, 0, 1],\n",
    "             [1, -1, 0, 0, 1, -1],\n",
    "             [0, 1, 1, 0, 0, 1],\n",
    "             [1, 0, 0, -1, 1, 0]])\n",
    "\n",
    "print(\"Ранг матрицы системы:\", AA.rank())"
   ]
  },
  {
   "cell_type": "code",
   "execution_count": 234,
   "id": "519f914d-da4f-4631-b54e-4946e2dbcb5e",
   "metadata": {},
   "outputs": [
    {
     "name": "stdout",
     "output_type": "stream",
     "text": [
      "Фундаментальная система решений:\n",
      "⎡⎡1 ⎤  ⎡-1⎤  ⎡0 ⎤⎤\n",
      "⎢⎢  ⎥  ⎢  ⎥  ⎢  ⎥⎥\n",
      "⎢⎢1 ⎥  ⎢0 ⎥  ⎢-1⎥⎥\n",
      "⎢⎢  ⎥  ⎢  ⎥  ⎢  ⎥⎥\n",
      "⎢⎢-1⎥  ⎢0 ⎥  ⎢0 ⎥⎥\n",
      "⎢⎢  ⎥, ⎢  ⎥, ⎢  ⎥⎥\n",
      "⎢⎢1 ⎥  ⎢0 ⎥  ⎢0 ⎥⎥\n",
      "⎢⎢  ⎥  ⎢  ⎥  ⎢  ⎥⎥\n",
      "⎢⎢0 ⎥  ⎢1 ⎥  ⎢0 ⎥⎥\n",
      "⎢⎢  ⎥  ⎢  ⎥  ⎢  ⎥⎥\n",
      "⎣⎣0 ⎦  ⎣0 ⎦  ⎣1 ⎦⎦\n",
      "\n",
      "Общее решение системы:\n",
      "Matrix([[C1 - C2], [C1 - C3], [-C1], [C1], [C2], [C3]])\n"
     ]
    }
   ],
   "source": [
    "E = AA.nullspace()\n",
    "print('Фундаментальная система решений:')\n",
    "pprint(E)\n",
    "\n",
    "C1, C2, C3 = symbols('C1 C2 C3')\n",
    "print('\\nОбщее решение системы:')\n",
    "print(C1 * E[0] + C2 * E[1] + C3 * E[2])"
   ]
  }
 ],
 "metadata": {
  "kernelspec": {
   "display_name": "Python 3 (ipykernel)",
   "language": "python",
   "name": "python3"
  },
  "language_info": {
   "codemirror_mode": {
    "name": "ipython",
    "version": 3
   },
   "file_extension": ".py",
   "mimetype": "text/x-python",
   "name": "python",
   "nbconvert_exporter": "python",
   "pygments_lexer": "ipython3",
   "version": "3.9.12"
  }
 },
 "nbformat": 4,
 "nbformat_minor": 5
}
