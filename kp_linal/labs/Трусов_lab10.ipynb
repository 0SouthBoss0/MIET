{
 "cells": [
  {
   "cell_type": "markdown",
   "id": "95bc0e35-bf6b-4b8b-b7df-7b1de08841d0",
   "metadata": {},
   "source": [
    "<big>**Лабораторный практикум 10. Приведение квадратичной формы к каноническому виду ортогональным преобразованием переменных.**<big>"
   ]
  },
  {
   "cell_type": "markdown",
   "id": "c1048cea-e820-4311-b83c-d60f9a07f2be",
   "metadata": {},
   "source": [
    "Загрузка необходимых библиотек:"
   ]
  },
  {
   "cell_type": "code",
   "execution_count": 57,
   "id": "63b05399-0d5c-4661-acbb-8a80e3eed561",
   "metadata": {},
   "outputs": [],
   "source": [
    "import numpy as np\n",
    "from sympy import *\n",
    "import matplotlib.pyplot as plt"
   ]
  },
  {
   "cell_type": "markdown",
   "id": "0bcbf04e-d5fd-4a46-b310-3e3b750bae0b",
   "metadata": {},
   "source": [
    "**Упражнение 10.1. Найти матрицу перехода $T$, которая приводит матрицу $A = \\begin{pmatrix}\n",
    "1 & -3 & 1\\\\\n",
    "3 & -3 & -1\\\\\n",
    "3 & -5 & 1\n",
    "\\end{pmatrix}$ к диагональному виду. Сделать проверку: $A=T*D*T^{-1}$.** "
   ]
  },
  {
   "cell_type": "code",
   "execution_count": 99,
   "id": "5252d5c9-a4d4-4442-ba24-5306d95a7065",
   "metadata": {},
   "outputs": [
    {
     "name": "stdout",
     "output_type": "stream",
     "text": [
      "⎡2  1  4⎤\n",
      "⎢       ⎥\n",
      "⎢3  1  1⎥\n",
      "⎢       ⎥\n",
      "⎣3  1  7⎦\n"
     ]
    }
   ],
   "source": [
    "A = Matrix([[1, -3, 1],\n",
    "            [3, -3, -1],\n",
    "            [3, -5, 1]])\n",
    "T, D = A.diagonalize()\n",
    "\n",
    "pprint(T)"
   ]
  },
  {
   "cell_type": "markdown",
   "id": "5081df2c-31b9-4bd1-b30e-2ace1d13e7f7",
   "metadata": {},
   "source": [
    "Проверка:"
   ]
  },
  {
   "cell_type": "code",
   "execution_count": 90,
   "id": "d6cd0239-d3e0-4d1f-908a-c5eb58ace75a",
   "metadata": {},
   "outputs": [
    {
     "name": "stdout",
     "output_type": "stream",
     "text": [
      "[[1 -3 1]\n",
      " [3 -3 -1]\n",
      " [3 -5 1]]\n"
     ]
    }
   ],
   "source": [
    "print(np.dot(T, np.dot(D, T.inv())))"
   ]
  },
  {
   "cell_type": "markdown",
   "id": "490fbbd0-e40c-47fb-a376-a106dee1b393",
   "metadata": {},
   "source": [
    "**Упражнение 10.2. Привести к каноническому виду квадратичную форму $F(x_1, x_2, x_3) = 6x_1^2 + 5x_2^2 + 7x_3^2-4x_1x_2+4x_1x_3$.**"
   ]
  },
  {
   "cell_type": "code",
   "execution_count": 100,
   "id": "7bd79125-104e-449f-8c75-93575f46c3ca",
   "metadata": {},
   "outputs": [
    {
     "name": "stdout",
     "output_type": "stream",
     "text": [
      "9.0*x**2 + 6.0*y**2 + 3.0*z**2\n"
     ]
    }
   ],
   "source": [
    "A = Matrix([[6, -4/2, 4/2],\n",
    "            [-4/2, 5, 0/2],\n",
    "            [4/2, 0/2, 7]])\n",
    "\n",
    "T, D = A.diagonalize()\n",
    "x, y, z = symbols('x y z')\n",
    "f = D[2, 2] * x ** 2 + D[1, 1] * y ** 2 + D[0, 0] * z ** 2\n",
    "print(f)"
   ]
  },
  {
   "cell_type": "markdown",
   "id": "06b438d1-0b2a-442f-8652-54532edc3465",
   "metadata": {},
   "source": [
    "**Упражнение 10.3. Определить тип кривой $2x^2-4xy+5y^2+8x-2y+9=0$. Найти каноническое уравнение и записать формулы перехода к новым переменным. Построить кривую в новой системе координат.**"
   ]
  },
  {
   "cell_type": "code",
   "execution_count": 313,
   "id": "e787791b-30db-4544-9a7d-fd8f7f6e50dd",
   "metadata": {},
   "outputs": [
    {
     "name": "stdout",
     "output_type": "stream",
     "text": [
      "x = sqrt(5)*(2*x1 - y1)/5\n",
      "y = sqrt(5)*(x1 + 2*y1)/5\n",
      "x1**2 + 14*sqrt(5)*x1/5 + 6*y1**2 - 12*sqrt(5)*y1/5 + 9\n"
     ]
    }
   ],
   "source": [
    "A = Matrix([[2, -2],\n",
    "            [-2, 5]])\n",
    "T, D = A.diagonalize()\n",
    "\n",
    "# нормализация\n",
    "arr = []\n",
    "arr.append(T[0] / sqrt(T[0] ** 2 + T[1] ** 2))\n",
    "arr.append(T[1] / sqrt(T[0] ** 2 + T[1] ** 2))\n",
    "arr.append(T[2] / sqrt(T[2] ** 2 + T[3] ** 2))\n",
    "arr.append(T[3] / sqrt(T[2] ** 2 + T[3] ** 2))\n",
    "T[0], T[1], T[2], T[3] = arr[0], arr[1], arr[2], arr[3]\n",
    "\n",
    "x1, y1 = symbols('x1 y1')\n",
    "X1 = Matrix([[x1, y1]])\n",
    "X = T * X1.T\n",
    "print('x =', simplify(X[0, 0]))\n",
    "print('y =', simplify(X[1, 0]))\n",
    "\n",
    "F = 2 * X[0] ** 2 - 4 * X[0] * X[1] + 5 * X[1] ** 2 + 8 * X[0] - 2 * X[1] + 9\n",
    "\n",
    "F = simplify(F)\n",
    "print(F)"
   ]
  },
  {
   "cell_type": "markdown",
   "id": "f86d89e6-1321-4b0d-b3ab-e5a727ea487f",
   "metadata": {},
   "source": [
    "Выделение полного квадрата."
   ]
  },
  {
   "cell_type": "code",
   "execution_count": 318,
   "id": "011977ab-1fc2-4347-b418-a530a5ba2b25",
   "metadata": {},
   "outputs": [
    {
     "name": "stdout",
     "output_type": "stream",
     "text": [
      "4.9*(0.31943828249997*x1 + 1)**2 + 0.6*(0.912870929175277*y1 - 1)**2 - 1.0\n"
     ]
    }
   ],
   "source": [
    "x1, y1 = symbols('x1 y1')\n",
    "curr = (14 * np.sqrt(5) / 5) / (2 * np.sqrt(1))\n",
    "curr2 = (-12 * np.sqrt(5) / 5) / (2 * np.sqrt(6))\n",
    "\n",
    "eqq = (x1 + curr) ** 2 + (y1 + curr2) ** 2 + 9 - curr ** 2 - curr2 ** 2\n",
    "print(eqq/2)"
   ]
  },
  {
   "cell_type": "code",
   "execution_count": 325,
   "id": "cfa83f08-0174-41c5-90a6-141b6206bb8e",
   "metadata": {},
   "outputs": [
    {
     "data": {
      "image/png": "[encoded data removed]",
      "text/plain": [
       "<Figure size 432x288 with 1 Axes>"
      ]
     },
     "metadata": {
      "needs_background": "light"
     },
     "output_type": "display_data"
    }
   ],
   "source": [
    "var('x y')\n",
    "plot_implicit(Eq(4.9 * (0.31943828249997 * x1 + 1) ** 2 + 0.6 * (0.912870929175277 * y1 - 1) ** 2, 1), title='В новой СК', xlabel='x1', ylabel='y1')\n",
    "plt.show()"
   ]
  },
  {
   "cell_type": "markdown",
   "id": "ff0e6411-7734-4f04-82ff-5fa2d05a170b",
   "metadata": {},
   "source": [
    "*Эллипс.*"
   ]
  },
  {
   "cell_type": "markdown",
   "id": "310d2b42-981e-44c0-ad7b-debaa2c20c62",
   "metadata": {},
   "source": [
    "**Упражнение 10.4. Определить тип кривой $x^2+4xy+4y^2-6x-2y+1=0$. Найти каноническое уравнение и записать формулы перехода к новым переменным. Построить кривую в старой и новой системах координат.**"
   ]
  },
  {
   "cell_type": "code",
   "execution_count": 332,
   "id": "7ba53eb6-3bb2-4f82-83ee-0108e01b614d",
   "metadata": {},
   "outputs": [
    {
     "name": "stdout",
     "output_type": "stream",
     "text": [
      "x= sqrt(5)*(-2*x1 + y1)/5\n",
      "y= sqrt(5)*(x1 + 2*y1)/5\n",
      "2*sqrt(5)*x1 + 5*y1**2 - 2*sqrt(5)*y1 + 1\n"
     ]
    }
   ],
   "source": [
    "A = Matrix([[1, 2],\n",
    "            [2, 4]])\n",
    "T, D = A.diagonalize()\n",
    "\n",
    "# нормализация\n",
    "arr = []\n",
    "for i in range(len(T)):\n",
    "    if i % 2 == 0:\n",
    "        arr.append(T[i] / sqrt(T[i] ** 2 + T[i + 1] ** 2))\n",
    "    else:\n",
    "        arr.append(T[i] / sqrt(T[i - 1] ** 2 + T[i] ** 2))\n",
    "\n",
    "for i in range(len(T)):\n",
    "    T[i] = arr[i]\n",
    "\n",
    "x1, y1 = symbols('x1 y1')\n",
    "X1 = Matrix([[x1, y1]])\n",
    "X = T * X1.T\n",
    "print('x=', simplify(X[0, 0]))\n",
    "print('y=', simplify(X[1, 0]))\n",
    "\n",
    "F = X[0] ** 2 + 4 * X[0] * X[1] + 4 * X[1] ** 2 - 6 * X[0] - 2 * X[1] + 1\n",
    "\n",
    "F = simplify(F)\n",
    "print(F)"
   ]
  },
  {
   "cell_type": "markdown",
   "id": "6a058745-5919-4b20-8f10-62df968abbcc",
   "metadata": {},
   "source": [
    "Выделение полного квадрата."
   ]
  },
  {
   "cell_type": "code",
   "execution_count": 322,
   "id": "b838686b-07cf-4a46-b05a-62c79be0fde3",
   "metadata": {},
   "outputs": [
    {
     "name": "stdout",
     "output_type": "stream",
     "text": [
      "sqrt(5)*x1/4 + 0.15*(0.912870929175277*y1 - 1)**2 + 1.0\n"
     ]
    }
   ],
   "source": [
    "x1, y1 = symbols('x1 y1')\n",
    "curr = (- 2*sqrt(5)) / (2 * np.sqrt(5))\n",
    "\n",
    "eqq = 2*sqrt(5)*x1 + (y1 + curr2) ** 2 + 9 - curr ** 2\n",
    "print(eqq/8)"
   ]
  },
  {
   "cell_type": "code",
   "execution_count": 324,
   "id": "6de65500-9e55-4f85-b189-1b368c078ec7",
   "metadata": {},
   "outputs": [
    {
     "data": {
      "image/png": "[encoded data removed]",
      "text/plain": [
       "<Figure size 432x288 with 1 Axes>"
      ]
     },
     "metadata": {
      "needs_background": "light"
     },
     "output_type": "display_data"
    },
    {
     "data": {
      "image/png": "[encoded data removed]",
      "text/plain": [
       "<Figure size 432x288 with 1 Axes>"
      ]
     },
     "metadata": {
      "needs_background": "light"
     },
     "output_type": "display_data"
    }
   ],
   "source": [
    "var('x y')\n",
    "plot_implicit(Eq(x ** 2 + 4 * x * y + 4 * y ** 2 - 6 * x - 2 * y, +1), title='В старой СК', xlabel='x', ylabel='y')\n",
    "plot_implicit(Eq(sqrt(5)*x1/4 + 0.15*(0.912870929175277*y1 - 1)**2 + 1.0, -1), title='В новой СК', xlabel='x1', ylabel='y1')\n",
    "plt.show()"
   ]
  },
  {
   "cell_type": "markdown",
   "id": "85272765-fbe8-4221-aa31-fe413514c7f1",
   "metadata": {},
   "source": [
    "*Парабола.*"
   ]
  },
  {
   "cell_type": "markdown",
   "id": "7bcbea4e-2778-4645-a11b-2a269463f4df",
   "metadata": {},
   "source": [
    "**Упражнение 10.5. Определить тип поверхности $x^2-2y^2+z^2+4xy-8xz-4yz+6=0$ и построить ее в новой системе координат.**"
   ]
  },
  {
   "cell_type": "code",
   "execution_count": 340,
   "id": "3e378110-cdab-4f27-b5d8-1ec3f4991dc5",
   "metadata": {},
   "outputs": [
    {
     "name": "stdout",
     "output_type": "stream",
     "text": [
      "x = sqrt(6)*(-x1 + y1 - 2*z1)/6\n",
      "y = sqrt(5)*(2*x1 - z1)/5\n",
      "z = sqrt(5)*(y1 + 2*z1)/5\n",
      "-2*(2*x1 - z1)**2/5 - 4*(2*x1 - z1)*(y1 + 2*z1)/5 - 2*sqrt(30)*(2*x1 - z1)*(x1 - y1 + 2*z1)/15 + (y1 + 2*z1)**2/5 + 4*sqrt(30)*(y1 + 2*z1)*(x1 - y1 + 2*z1)/15 + (x1 - y1 + 2*z1)**2/6 + 6\n"
     ]
    }
   ],
   "source": [
    "A = Matrix([[1, 2, -4],\n",
    "            [2, -2, -2],\n",
    "            [-4, -2, 1]])\n",
    "T, D = A.diagonalize()\n",
    "\n",
    "# нормализация\n",
    "arr = []\n",
    "for i in range(len(T)):\n",
    "    if i % 3 == 0:\n",
    "        arr.append(T[i] / sqrt(T[i] ** 2 + T[i + 1] ** 2 + T[i + 2] ** 2))\n",
    "    else:\n",
    "        if i % 3 == 1:\n",
    "            arr.append(T[i] / sqrt(T[i - 1] ** 2 + T[i] ** 2 + T[i + 1] ** 2))\n",
    "        else:\n",
    "            arr.append(T[i] / sqrt(T[i - 2] ** 2 + T[i - 1] ** 2 + T[i] ** 2))\n",
    "for i in range(len(T)):\n",
    "    T[i] = arr[i]\n",
    "\n",
    "x1, y1, z1 = symbols('x1 y1 z1')\n",
    "X1 = Matrix([[x1, y1, z1]])\n",
    "X = T * X1.T\n",
    "print('x =', simplify(X[0, 0]))\n",
    "print('y =', simplify(X[1, 0]))\n",
    "print('z =', simplify(X[2, 0]))\n",
    "\n",
    "F = X[0] ** 2 - 2 * X[1] ** 2 + X[2] ** 2 + 4 * X[0] * X[1] - 8 * X[0] * X[2] - 4 * X[1] * X[2] + 6\n",
    "\n",
    "F = simplify(F)\n",
    "print(F)"
   ]
  }
 ],
 "metadata": {
  "kernelspec": {
   "display_name": "Python 3 (ipykernel)",
   "language": "python",
   "name": "python3"
  },
  "language_info": {
   "codemirror_mode": {
    "name": "ipython",
    "version": 3
   },
   "file_extension": ".py",
   "mimetype": "text/x-python",
   "name": "python",
   "nbconvert_exporter": "python",
   "pygments_lexer": "ipython3",
   "version": "3.9.12"
  }
 },
 "nbformat": 4,
 "nbformat_minor": 5
}
