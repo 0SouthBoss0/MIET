{
 "cells": [
  {
   "cell_type": "markdown",
   "id": "b9e8aa34-f783-4e51-89a9-e10df7d894a9",
   "metadata": {},
   "source": [
    "**Лабораторный практикум 4. Прямая на плоскости. Виды уравнений.**"
   ]
  },
  {
   "cell_type": "markdown",
   "id": "d2f2edef-f40c-4096-bf7d-337c268ea0e8",
   "metadata": {},
   "source": [
    "Загрузка необходимых библиотек."
   ]
  },
  {
   "cell_type": "code",
   "execution_count": 2,
   "id": "610ac77f-a83f-4f6e-bbeb-bdb697a0073b",
   "metadata": {},
   "outputs": [],
   "source": [
    "import numpy as np\n",
    "import matplotlib.pyplot as plt\n",
    "from sympy import *"
   ]
  },
  {
   "cell_type": "markdown",
   "id": "a0b14086-31a1-42fb-b8c2-774672d46a71",
   "metadata": {},
   "source": [
    "**Упражнение 4.1. Найти параметрические уравнения прямой из примера 1.**"
   ]
  },
  {
   "cell_type": "code",
   "execution_count": 47,
   "id": "5f1864ba-fd74-4881-9aac-0d53eff9ff42",
   "metadata": {},
   "outputs": [
    {
     "name": "stdout",
     "output_type": "stream",
     "text": [
      "Point2D(4*t + 1, 3*t)\n"
     ]
    }
   ],
   "source": [
    "p1, p2 = Point(1,0), Point(5,3) \n",
    "L = Line(p1, p2) \n",
    "print(L.arbitrary_point())"
   ]
  },
  {
   "cell_type": "markdown",
   "id": "7a72020e-f5a8-4153-9dc8-4703baa4a4a4",
   "metadata": {},
   "source": [
    "**Упражнение 4.2. Найти расстояние от точки (-1,1) до прямой, проходящей через точки (1,4) и (5,3).**"
   ]
  },
  {
   "cell_type": "code",
   "execution_count": 49,
   "id": "31b73286-2374-4630-b193-e2fa4b9caf68",
   "metadata": {},
   "outputs": [
    {
     "name": "stdout",
     "output_type": "stream",
     "text": [
      "14*sqrt(17)/17\n"
     ]
    }
   ],
   "source": [
    "p1, p2, p3 = Point(1,4), Point(5,3), Point(-1,1)\n",
    "L = Line(p1, p2)\n",
    "print(L.distance(p3))"
   ]
  },
  {
   "cell_type": "markdown",
   "id": "c795e22b-513c-4bb9-a824-3c9b278462f6",
   "metadata": {},
   "source": [
    " **Упражнение 4.3. Прямая L1 проходит через точки (0,0) и (2,3). Найти уравнение прямой L2, параллельной прямой L1 и проходящей через точку (–2,2). Найти уравнение прямой L3, перпендикулярной прямой L1 и проходящей через точку (–2,2). Сделать рисунок.**"
   ]
  },
  {
   "cell_type": "code",
   "execution_count": 50,
   "id": "73a8d704-9f82-47dc-b451-ef6a706a71dd",
   "metadata": {},
   "outputs": [
    {
     "name": "stdout",
     "output_type": "stream",
     "text": [
      "Первая прямая: -3*x + 2*y\n",
      "Вторая прямая: -3*x + 2*y - 10\n",
      "Третья прямая: -2*x - 3*y + 2\n"
     ]
    },
    {
     "data": {
      "image/png": "[encoded data removed]",
      "text/plain": [
       "<Figure size 432x288 with 1 Axes>"
      ]
     },
     "metadata": {
      "needs_background": "light"
     },
     "output_type": "display_data"
    }
   ],
   "source": [
    "p1, p2, p3 = Point(0,0), Point(2,3), Point(-2,2)\n",
    "L1 = Line(p1, p2)\n",
    "\n",
    "# прямая, параллельная L1, проходящая через точку p3\n",
    "L2 = L1.parallel_line(p3)\n",
    "\n",
    "# прямая, перпендикулярная L1, проходящая через точку p3\n",
    "L3 = L1.perpendicular_line(p3) \n",
    "\n",
    "# получение уравнений прямых\n",
    "L1 =  L1.equation()\n",
    "L2 =  L2.equation()\n",
    "L3 =  L3.equation()\n",
    "\n",
    "print(\"Первая прямая:\", L1)\n",
    "print(\"Вторая прямая:\", L2)\n",
    "print(\"Третья прямая:\", L3)\n",
    "\n",
    "x = np.linspace(-5,5,1000)\n",
    "\n",
    "y = 3/2 * x\n",
    "plt.plot(x,y, \"m\")\n",
    "\n",
    "y = 3/2 * x + 5\n",
    "plt.plot(x,y, \"g\")\n",
    "\n",
    "y = -2/3 * x + 2/3\n",
    "plt.plot(x,y, \"b\")\n",
    "\n",
    "plt.grid()\n",
    "plt.axis('equal')\n",
    "\n",
    "plt.show()"
   ]
  },
  {
   "cell_type": "markdown",
   "id": "981c56d2-6083-4a59-8891-32a41b1e0b8c",
   "metadata": {},
   "source": [
    "**Упражнение 4.4. Спроектировать точку (0.5, 0) на прямую x-y=0.**"
   ]
  },
  {
   "cell_type": "code",
   "execution_count": 51,
   "id": "e0376629-6c86-4dda-a456-f2a69551b015",
   "metadata": {},
   "outputs": [
    {
     "name": "stdout",
     "output_type": "stream",
     "text": [
      "Point2D(1/4, 1/4)\n"
     ]
    }
   ],
   "source": [
    "p1, p2, p3 = Point(0,0), Point(1,1), Point(0.5,0)\n",
    "L1 = Line(p1, p2)\n",
    "print(L1.projection(p3))"
   ]
  },
  {
   "cell_type": "markdown",
   "id": "a31d5230-d52b-424d-82c4-bb27bc1d257a",
   "metadata": {},
   "source": [
    "**Упражнение 4.5. Построить прямую, проходящую через точку M(0.6,–0.4) параллельно вектору q(-3,3). Сделать рисунок (изобразите вектор q с началом в точке (0,–2). При решении использовать метод parallel_line.**"
   ]
  },
  {
   "cell_type": "code",
   "execution_count": 52,
   "id": "4dddad54-a66b-439d-ae01-4676c8606f23",
   "metadata": {},
   "outputs": [
    {
     "name": "stdout",
     "output_type": "stream",
     "text": [
      "Вектор: -3*x - 3*y\n",
      "Прямая: -3*x - 3*y + 3/5\n"
     ]
    },
    {
     "data": {
      "image/png": "[encoded data removed]",
      "text/plain": [
       "<Figure size 432x288 with 1 Axes>"
      ]
     },
     "metadata": {
      "needs_background": "light"
     },
     "output_type": "display_data"
    }
   ],
   "source": [
    "p1, p2, p3 = Point(0, 0), Point(-3,3), Point(0.6,-0.4)\n",
    "\n",
    "L1 = Line(p1, p2)\n",
    "\n",
    "# прямая, параллельная L2, проходящая через точку p3\n",
    "L2 = L1.parallel_line(p3)\n",
    "\n",
    "# получение уравнений прямых\n",
    "L1 =  L1.equation()\n",
    "L2 =  L2.equation()\n",
    "\n",
    "print(\"Вектор:\", L1)\n",
    "print(\"Прямая:\", L2)\n",
    "\n",
    "x = np.linspace(-1,1,1000)\n",
    "\n",
    "# построение вектора {-3, 3} с началом в точке (0; -2)\n",
    "plt.arrow(0, -2, -3, 3, width=0.05,color='g', length_includes_head=True)\n",
    "\n",
    "y = (-3*x-3/5)/3\n",
    "plt.plot(x,y, \"m\")\n",
    "\n",
    "# отображение осей\n",
    "plt.axhline(y=0, color='k')  \n",
    "plt.axvline(x=0, color='k')\n",
    "\n",
    "plt.grid()\n",
    "\n",
    "plt.show()"
   ]
  },
  {
   "cell_type": "markdown",
   "id": "3fbefdd3-f7cc-4b26-90dc-03dfba74508c",
   "metadata": {},
   "source": [
    "**Дополнительное задание.\n",
    "Даны вершины треугольника А(2,–2), В(3,5) и С(6,1). Найти:**"
   ]
  },
  {
   "cell_type": "markdown",
   "id": "bcb33871-9ca9-40c3-9590-f9da90c5453c",
   "metadata": {},
   "source": [
    "**1. Уравнение прямой, на которой лежит высота, проведенная из точки В.**"
   ]
  },
  {
   "cell_type": "markdown",
   "id": "592ac3d6-93c6-43b7-ac32-e2103a7d0282",
   "metadata": {},
   "source": [
    "**2. Длину этой высоты.**"
   ]
  },
  {
   "cell_type": "markdown",
   "id": "b0ce12c2-f925-479f-a368-5bae498fc438",
   "metadata": {},
   "source": [
    "**3. Уравнение прямой, на которой лежит медиана, проведенная из точки А.**"
   ]
  },
  {
   "cell_type": "markdown",
   "id": "9dd09dde-d099-4aae-85cc-bc1e1d187b13",
   "metadata": {},
   "source": [
    "**4. Длину этой медианы.**"
   ]
  },
  {
   "cell_type": "markdown",
   "id": "f5466258-bca2-4c83-aa3d-0e15533ce6b1",
   "metadata": {},
   "source": [
    "**5. Уравнение прямой, на которой лежит биссектриса угла С.**"
   ]
  },
  {
   "cell_type": "code",
   "execution_count": 33,
   "id": "f3a203e1",
   "metadata": {},
   "outputs": [
    {
     "name": "stdout",
     "output_type": "stream",
     "text": [
      "AB: -7*x + y + 16\n",
      "BC: 4*x + 3*y - 27\n",
      "AC: -3*x + 4*y + 14\n",
      "\n",
      "1. Уравнение прямой, на которой лежит высота (малиновый цвет), проведённая из точки В: -4*x - 3*y + 27\n",
      "2. Длина этой высоты: 5.0\n",
      "3. Уравнение прямой, на которой лежит медиана (зелёный цвет), проведённая из точки A: -5*x + 5*y/2 + 15\n",
      "4. Длина этой медианы: 5.5901699437494745\n",
      "5. Уравнение прямой, на которой лежит биссектриса (синий цвет) угла С: -x - 7*y + 13\n"
     ]
    },
    {
     "data": {
      "image/png": "[encoded data removed]",
      "text/plain": [
       "<Figure size 432x288 with 1 Axes>"
      ]
     },
     "metadata": {
      "needs_background": "light"
     },
     "output_type": "display_data"
    }
   ],
   "source": [
    "A, B, C = Point(2, -2), Point(3, 5), Point(6, 1)\n",
    "\n",
    "AB = Line(A, B)\n",
    "BC = Line(B, C)\n",
    "AC = Line(A, C)\n",
    "\n",
    "print(\"AB:\", AB.equation())\n",
    "print(\"BC:\", BC.equation())\n",
    "print(\"AC:\", AC.equation())\n",
    "\n",
    "# построение сторон треугольника\n",
    "x = np.linspace(2, 3, 100)\n",
    "y = 7*x-16\n",
    "plt.plot(x, y, \"k\")\n",
    "\n",
    "x = np.linspace(3, 6, 100)\n",
    "y = (-4*x+27)/3\n",
    "plt.plot(x, y, \"k\")\n",
    "\n",
    "x = np.linspace(2, 6, 100)\n",
    "y = (3*x-14)/4\n",
    "plt.plot(x, y, \"k\")\n",
    "\n",
    "# построение высоты треугольника\n",
    "H = AC.perpendicular_line(B)\n",
    "print(\"\\n1. Уравнение прямой, на которой лежит высота (малиновый цвет), проведённая из точки В:\", H.equation())\n",
    "\n",
    "x = np.linspace(3, 6, 100)\n",
    "y = (-4*x+27)/3\n",
    "plt.plot(x, y, \"m\")\n",
    "print(\"2. Длина этой высоты:\", np.sqrt((6-3)**2+(1-5)**2))\n",
    "\n",
    "# построение медианы треугольника\n",
    "M = Point((3+6)/2,(5+1)/2)\n",
    "AM = Line(A,M)\n",
    "print(\"3. Уравнение прямой, на которой лежит медиана (зелёный цвет), проведённая из точки A:\", AM.equation())\n",
    "\n",
    "x = np.linspace(2, (3+6)/2, 100)\n",
    "y = (-15+5*x)/2.5\n",
    "plt.plot(x, y, \"g\")\n",
    "print(\"4. Длина этой медианы:\", np.sqrt((2-(3+6)/2)**2+(-2-(5+1)/2)**2))\n",
    "\n",
    "# построение биссектрисы треугольника\n",
    "biss = AB.perpendicular_line(C)\n",
    "print(\"5. Уравнение прямой, на которой лежит биссектриса (синий цвет) угла С:\", biss.equation())\n",
    "x = np.linspace(2.5, 6, 100)\n",
    "y = (13-x)/7\n",
    "plt.plot(x, y, \"b\")\n",
    "\n",
    "plt.axis(\"equal\")\n",
    "\n",
    "plt.grid()\n",
    "plt.show()"
   ]
  }
 ],
 "metadata": {
  "kernelspec": {
   "display_name": "Python 3 (ipykernel)",
   "language": "python",
   "name": "python3"
  },
  "language_info": {
   "codemirror_mode": {
    "name": "ipython",
    "version": 3
   },
   "file_extension": ".py",
   "mimetype": "text/x-python",
   "name": "python",
   "nbconvert_exporter": "python",
   "pygments_lexer": "ipython3",
   "version": "3.9.12"
  }
 },
 "nbformat": 4,
 "nbformat_minor": 5
}
