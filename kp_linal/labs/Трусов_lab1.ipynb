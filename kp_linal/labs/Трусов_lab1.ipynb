{
 "cells": [
  {
   "cell_type": "markdown",
   "id": "6f7d3bc0-cdbe-4e92-909c-f3851b45e5e6",
   "metadata": {},
   "source": [
    "**Упражнение 1. Записать и выполнить следующие команды (каждую в своей ячейке).**"
   ]
  },
  {
   "cell_type": "code",
   "execution_count": 10,
   "id": "eb0708a9-bbd9-4c58-bb75-80724db2df30",
   "metadata": {},
   "outputs": [
    {
     "data": {
      "text/plain": [
       "6"
      ]
     },
     "execution_count": 10,
     "metadata": {},
     "output_type": "execute_result"
    }
   ],
   "source": [
    "2*3"
   ]
  },
  {
   "cell_type": "code",
   "execution_count": 9,
   "id": "924a3f03-702c-4dac-861a-5f479e0663bb",
   "metadata": {},
   "outputs": [
    {
     "name": "stdout",
     "output_type": "stream",
     "text": [
      "7\n"
     ]
    }
   ],
   "source": [
    "k=3+4\n",
    "print(k)"
   ]
  },
  {
   "cell_type": "code",
   "execution_count": 5,
   "id": "be1debfd-b359-42e7-aa95-127438078f0c",
   "metadata": {},
   "outputs": [
    {
     "data": {
      "text/plain": [
       "48"
      ]
     },
     "execution_count": 5,
     "metadata": {},
     "output_type": "execute_result"
    }
   ],
   "source": [
    "(k+1)*(k-1)"
   ]
  },
  {
   "cell_type": "code",
   "execution_count": 6,
   "id": "63677eca-0cf0-4030-93ee-3e4b965afbf8",
   "metadata": {},
   "outputs": [
    {
     "ename": "NameError",
     "evalue": "name 'x' is not defined",
     "output_type": "error",
     "traceback": [
      "\u001b[1;31m---------------------------------------------------------------------------\u001b[0m",
      "\u001b[1;31mNameError\u001b[0m                                 Traceback (most recent call last)",
      "Input \u001b[1;32mIn [6]\u001b[0m, in \u001b[0;36m<cell line: 1>\u001b[1;34m()\u001b[0m\n\u001b[1;32m----> 1\u001b[0m (\u001b[43mx\u001b[49m\u001b[38;5;241m+\u001b[39m\u001b[38;5;241m1\u001b[39m)\u001b[38;5;241m*\u001b[39m(x\u001b[38;5;241m-\u001b[39m\u001b[38;5;241m1\u001b[39m)\n",
      "\u001b[1;31mNameError\u001b[0m: name 'x' is not defined"
     ]
    }
   ],
   "source": [
    "(x+1)*(x-1)"
   ]
  },
  {
   "cell_type": "code",
   "execution_count": 3,
   "id": "73e1849f-b165-42f7-83c8-4e2d22201d88",
   "metadata": {},
   "outputs": [
    {
     "name": "stdout",
     "output_type": "stream",
     "text": [
      "44\n"
     ]
    }
   ],
   "source": [
    "h=(k+2)*3+\\\n",
    "3+(k+7)\n",
    "print(h)"
   ]
  },
  {
   "cell_type": "markdown",
   "id": "95de6912-59df-4794-8a87-df72892a8b99",
   "metadata": {},
   "source": [
    "**Упражнение 2. Вычислить значение выражения.**"
   ]
  },
  {
   "cell_type": "code",
   "execution_count": 9,
   "id": "b77201f4-1747-4c54-aeff-ab852952f89f",
   "metadata": {},
   "outputs": [],
   "source": [
    "a=-1\n",
    "b=3\n",
    "c=2"
   ]
  },
  {
   "cell_type": "code",
   "execution_count": 10,
   "id": "24e0dc16-6fa6-4f5f-8d07-6bd7cd79a946",
   "metadata": {},
   "outputs": [
    {
     "data": {
      "text/plain": [
       "66"
      ]
     },
     "execution_count": 10,
     "metadata": {},
     "output_type": "execute_result"
    }
   ],
   "source": [
    "(a+2)*(b-1)+c**(2*b)"
   ]
  },
  {
   "cell_type": "markdown",
   "id": "1e4c606d-b2fc-434d-9d1d-9499d9c6416d",
   "metadata": {},
   "source": [
    "**Упражнение 3. Выполните следующие команды.**"
   ]
  },
  {
   "cell_type": "code",
   "execution_count": 4,
   "id": "cd3cdaa0-933d-4330-9806-fb9765175149",
   "metadata": {},
   "outputs": [
    {
     "name": "stdout",
     "output_type": "stream",
     "text": [
      "6.300000000000001\n",
      "False\n"
     ]
    }
   ],
   "source": [
    "a = 4.2\n",
    "b = 2.1\n",
    "print(a+b)\n",
    "print(a+b==6.3)"
   ]
  },
  {
   "cell_type": "markdown",
   "id": "38061cb2-d33b-4ec1-9062-f48c79a214d5",
   "metadata": {},
   "source": [
    "**Упражнение 4. Вычислите значения следующих переменных.**"
   ]
  },
  {
   "cell_type": "code",
   "execution_count": 15,
   "id": "0470b202-0e6c-47a3-8f9f-80afd0b7cb77",
   "metadata": {},
   "outputs": [],
   "source": [
    "x=(1/3)-(1/7)\n",
    "y=2**4+2**(-4)\n",
    "z=(3+0.2)/(1-0.35)"
   ]
  },
  {
   "cell_type": "markdown",
   "id": "e1ff36f9-fcce-4552-af76-34fd0c425bc7",
   "metadata": {},
   "source": [
    "**и отобразите результат в виде столбца чисел с тремя знаками после запятой и десятичными точками друг над другом.**"
   ]
  },
  {
   "cell_type": "code",
   "execution_count": 25,
   "id": "5ba2e088-f9f0-4dfa-af76-00599e2a2f0f",
   "metadata": {},
   "outputs": [
    {
     "name": "stdout",
     "output_type": "stream",
     "text": [
      "     0.190\n",
      "    16.062\n",
      "     4.923\n"
     ]
    }
   ],
   "source": [
    "print(format(x, '>10.3f'))\n",
    "print(format(y, '>10.3f'))\n",
    "print(format(z, '>10.3f'))"
   ]
  },
  {
   "cell_type": "markdown",
   "id": "1dba6844-4666-4222-84ed-0a84948afa99",
   "metadata": {},
   "source": [
    "**Упражнение 5.**"
   ]
  },
  {
   "cell_type": "markdown",
   "id": "6868d32c-cdc8-4217-9d35-7edd44be0723",
   "metadata": {},
   "source": [
    "**Убрать из рабочего пространства все переменные.**"
   ]
  },
  {
   "cell_type": "code",
   "execution_count": 28,
   "id": "61b5d05f-69c3-450f-9d8e-484e73076d38",
   "metadata": {},
   "outputs": [
    {
     "name": "stdin",
     "output_type": "stream",
     "text": [
      "Once deleted, variables cannot be recovered. Proceed (y/[n])?  y\n"
     ]
    }
   ],
   "source": [
    "%reset"
   ]
  },
  {
   "cell_type": "markdown",
   "id": "ff15dd4e-2232-4cf8-9314-5e895d36f5d0",
   "metadata": {},
   "source": [
    "**Ввести переменные x, y, z, t, задав им значения соответственно 1, 2, 3, 4.**"
   ]
  },
  {
   "cell_type": "code",
   "execution_count": 30,
   "id": "7f361586-caa0-4ae7-9bd6-2ca17a1a2b84",
   "metadata": {},
   "outputs": [],
   "source": [
    "x=1\n",
    "y=2\n",
    "z=3\n",
    "t=4"
   ]
  },
  {
   "cell_type": "markdown",
   "id": "379250d8-881d-4b5f-aeb3-b7f56ee46fa6",
   "metadata": {},
   "source": [
    "**Вывести в командное окно информацию обо всех переменных.**"
   ]
  },
  {
   "cell_type": "code",
   "execution_count": 31,
   "id": "0d978ea4-6aa9-42f1-bd41-80a879d2032c",
   "metadata": {},
   "outputs": [
    {
     "name": "stdout",
     "output_type": "stream",
     "text": [
      "Variable   Type    Data/Info\n",
      "----------------------------\n",
      "t          int     4\n",
      "x          int     1\n",
      "y          int     2\n",
      "z          int     3\n"
     ]
    }
   ],
   "source": [
    "%whos"
   ]
  },
  {
   "cell_type": "markdown",
   "id": "d5d83056-f3eb-4a26-859b-e9ee3eb0b9e7",
   "metadata": {},
   "source": [
    "**Удалить из рабочего пространства переменную x.**"
   ]
  },
  {
   "cell_type": "code",
   "execution_count": 32,
   "id": "e9d2e621-bc34-4306-9c6f-649c53c0ea3b",
   "metadata": {},
   "outputs": [],
   "source": [
    "del(x)"
   ]
  },
  {
   "cell_type": "markdown",
   "id": "72fd4edd-57f7-4da8-a60f-a6f5d73eb05c",
   "metadata": {},
   "source": [
    "**Вывести в командное окно информацию об оставшихся переменных.**"
   ]
  },
  {
   "cell_type": "code",
   "execution_count": 33,
   "id": "1d6947be-b5bd-470f-a4f6-a2be9b4a790e",
   "metadata": {},
   "outputs": [
    {
     "name": "stdout",
     "output_type": "stream",
     "text": [
      "Variable   Type    Data/Info\n",
      "----------------------------\n",
      "t          int     4\n",
      "y          int     2\n",
      "z          int     3\n"
     ]
    }
   ],
   "source": [
    "%whos"
   ]
  },
  {
   "cell_type": "markdown",
   "id": "a8908df5-0941-464b-a60f-a415cdb7f2ce",
   "metadata": {},
   "source": [
    "**Упражнение 6.  \n",
    "Вывести на печать значения математических констант е и π.**"
   ]
  },
  {
   "cell_type": "code",
   "execution_count": 5,
   "id": "3b7160cf-637e-45f5-b42a-df69122c0667",
   "metadata": {},
   "outputs": [
    {
     "name": "stdout",
     "output_type": "stream",
     "text": [
      "2.718281828459045\n",
      "3.141592653589793\n"
     ]
    }
   ],
   "source": [
    "import math\n",
    "print(math.e)\n",
    "print(math.pi)"
   ]
  },
  {
   "cell_type": "markdown",
   "id": "6b1e6b53-746e-45dd-99d6-a77bb1dd5691",
   "metadata": {},
   "source": [
    "**Упражнение 7. \n",
    "Вычислить значения следующих выражений:**"
   ]
  },
  {
   "cell_type": "code",
   "execution_count": 41,
   "id": "151f4381-9370-4f05-8e9d-21f1ed860aab",
   "metadata": {},
   "outputs": [
    {
     "data": {
      "text/plain": [
       "2.8951125538319022"
      ]
     },
     "execution_count": 41,
     "metadata": {},
     "output_type": "execute_result"
    }
   ],
   "source": [
    "math.log((math.e)**3-2)"
   ]
  },
  {
   "cell_type": "code",
   "execution_count": 42,
   "id": "007b854f-9b08-4fe7-aa6d-ff71070ea862",
   "metadata": {},
   "outputs": [
    {
     "data": {
      "text/plain": [
       "1.0"
      ]
     },
     "execution_count": 42,
     "metadata": {},
     "output_type": "execute_result"
    }
   ],
   "source": [
    "math.sqrt(math.sin(1)**2+math.cos(1)**2)"
   ]
  }
 ],
 "metadata": {
  "kernelspec": {
   "display_name": "Python 3 (ipykernel)",
   "language": "python",
   "name": "python3"
  },
  "language_info": {
   "codemirror_mode": {
    "name": "ipython",
    "version": 3
   },
   "file_extension": ".py",
   "mimetype": "text/x-python",
   "name": "python",
   "nbconvert_exporter": "python",
   "pygments_lexer": "ipython3",
   "version": "3.9.12"
  }
 },
 "nbformat": 4,
 "nbformat_minor": 5
}
