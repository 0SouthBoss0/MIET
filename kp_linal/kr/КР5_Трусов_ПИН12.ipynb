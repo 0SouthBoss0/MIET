{
 "cells": [
  {
   "cell_type": "markdown",
   "id": "dc6f27aa-efcd-4d76-89de-a684e40ed238",
   "metadata": {},
   "source": [
    "**Контрольная работа №5**"
   ]
  },
  {
   "cell_type": "markdown",
   "id": "aebd3712-f797-4988-b9e4-1da3dba2ddf5",
   "metadata": {},
   "source": [
    "Загрузка необходимых библиотек:"
   ]
  },
  {
   "cell_type": "code",
   "execution_count": 2,
   "id": "bbace3f5-536b-4fed-b071-ca77f670322b",
   "metadata": {},
   "outputs": [],
   "source": [
    "import numpy as np\n",
    "import matplotlib.pyplot as plt\n",
    "import math\n",
    "from sympy import *\n",
    "from matplotlib import cm"
   ]
  },
  {
   "cell_type": "markdown",
   "id": "f7d8be75-30e5-4eb0-8c65-a993b9b09b1b",
   "metadata": {},
   "source": [
    "**1. Лежат ли на одной прямой точки $А(2,3,1)$, $В(0,-11,3)$ и $С(4,5,-1)$? В случае положительного ответа написать уравнение этой прямой, проходящей через точку $С$.**"
   ]
  },
  {
   "cell_type": "code",
   "execution_count": 25,
   "id": "f179f3f4-96ac-42ec-9dad-f8ebefcfb828",
   "metadata": {},
   "outputs": [
    {
     "name": "stdout",
     "output_type": "stream",
     "text": [
      "АВ: Point3D(2 - 2*t, 3 - 14*t, 2*t + 1)\n",
      "BC: Point3D(4*t, 16*t - 11, 3 - 4*t)\n"
     ]
    }
   ],
   "source": [
    "A, B, C = Point3D(2, 3, 1), Point3D(0, -11, 3), Point3D(4, 5, -1)\n",
    "\n",
    "AB = Line(A, B)\n",
    "BC = Line(B, C)\n",
    "\n",
    "print(\"АВ:\", AB.arbitrary_point())\n",
    "print(\"BC:\", BC.arbitrary_point())"
   ]
  },
  {
   "cell_type": "markdown",
   "id": "2def1935-bcae-4d20-a263-b6f9bd766fe4",
   "metadata": {},
   "source": [
    "*Параметрические уравнения прямых AB и BC разные. Точки не лежат на одной прямой.*"
   ]
  },
  {
   "cell_type": "markdown",
   "id": "631c3a01-8b61-4ed2-8532-4ef3efd69e43",
   "metadata": {},
   "source": [
    "**2. Найти геометрическое место точек, равноудаленных от точек $М(2,1,-2)$ и $N(-1,3,4)$.**"
   ]
  },
  {
   "cell_type": "code",
   "execution_count": 32,
   "id": "b2edf1b4-a5e3-471d-86e5-3d962f85f990",
   "metadata": {},
   "outputs": [
    {
     "name": "stdout",
     "output_type": "stream",
     "text": [
      "Геометрическое место: -6*x + 4*y - 5 z - 1\n"
     ]
    }
   ],
   "source": [
    "M, N = Point3D(2, 1, -2), Point3D(-1, 3, 4)\n",
    "\n",
    "MN = Line(M, N)\n",
    "MN_center = ((M[0]+N[0])/2, (M[1]+N[1])/2, (M[2]+N[2])/2)\n",
    "\n",
    "line = MN.perpendicular_line(MN_center)\n",
    "print(\"Геометрическое место:\", *line.equation())"
   ]
  },
  {
   "cell_type": "markdown",
   "id": "60863a19-bea6-48cb-b917-9a43c1165300",
   "metadata": {},
   "source": [
    "**3. Найти величину угла между плоскостями: $2x+3y−4z+4=0$ и $5x−2y+z−3=0$.**"
   ]
  },
  {
   "cell_type": "code",
   "execution_count": 36,
   "id": "2a60cc0d-3bd3-409f-9067-0fa80367a210",
   "metadata": {},
   "outputs": [
    {
     "name": "stdout",
     "output_type": "stream",
     "text": [
      "Угол между плоскостями: 90.0\n"
     ]
    }
   ],
   "source": [
    "n_a = [2, 3, -4]\n",
    "n_b = [5, -2, 1]\n",
    "\n",
    "cos_alpha = (abs(n_a[0]*n_b[0]+n_a[1]*n_b[1]+n_a[2]*n_b[2])/(np.sqrt(n_a[0]**2+n_a[1]**2+n_a[2]**2)*np.sqrt(n_b[0]**2+n_b[1]**2+n_b[2]**2)))\n",
    "print(\"Угол между плоскостями:\", math.degrees(math.acos(cos_alpha)))"
   ]
  },
  {
   "cell_type": "markdown",
   "id": "73cfc5fb-92d6-4fd8-891e-0722bf8b0050",
   "metadata": {},
   "source": [
    "**4. Установить взаимное расположение прямой $L$ и плоскости $α$.**"
   ]
  },
  {
   "cell_type": "code",
   "execution_count": 44,
   "id": "0adb0d0d-57df-4887-a1f1-d2c83fe253bd",
   "metadata": {},
   "outputs": [
    {
     "name": "stdout",
     "output_type": "stream",
     "text": [
      "Point3D(28/5, 6/5, -27/5)\n"
     ]
    }
   ],
   "source": [
    "x0 = np.array([2, 0, -3])\n",
    "q = np.array([-3, -1, 2])\n",
    "\n",
    "L_line = Line(x0, x0+q)\n",
    "alpha_plane = Plane(Point(2, 0, 0), normal_vector = (5, -6, 2))\n",
    "\n",
    "print(*L_line.intersection(alpha_plane))"
   ]
  },
  {
   "cell_type": "markdown",
   "id": "5971480b-6b98-4d8a-9e66-dbbba65fef25",
   "metadata": {},
   "source": [
    "*Прямая и плоскость пересекаются в точке (28/5, 6/5, -27/5)*."
   ]
  }
 ],
 "metadata": {
  "kernelspec": {
   "display_name": "Python 3 (ipykernel)",
   "language": "python",
   "name": "python3"
  },
  "language_info": {
   "codemirror_mode": {
    "name": "ipython",
    "version": 3
   },
   "file_extension": ".py",
   "mimetype": "text/x-python",
   "name": "python",
   "nbconvert_exporter": "python",
   "pygments_lexer": "ipython3",
   "version": "3.9.12"
  }
 },
 "nbformat": 4,
 "nbformat_minor": 5
}
