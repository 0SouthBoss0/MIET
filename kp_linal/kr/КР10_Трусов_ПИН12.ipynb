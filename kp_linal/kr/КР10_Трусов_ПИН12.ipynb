{
 "cells": [
  {
   "cell_type": "markdown",
   "id": "935cda99-b6b6-44ce-9d65-3a5b64bf221c",
   "metadata": {},
   "source": [
    "**Контрольная работа №10. Вариант 1**"
   ]
  },
  {
   "cell_type": "markdown",
   "id": "5336ba34-0e4b-4a07-9326-192da2d96025",
   "metadata": {},
   "source": [
    "Загрузка необходимых библиотек:"
   ]
  },
  {
   "cell_type": "code",
   "execution_count": 3,
   "id": "b963074b-cdb5-4051-b963-426492397f79",
   "metadata": {},
   "outputs": [],
   "source": [
    "import matplotlib.pyplot as plt\n",
    "from mpl_toolkits import mplot3d\n",
    "import numpy as np\n",
    "from sympy import *"
   ]
  },
  {
   "cell_type": "markdown",
   "id": "247dfa33-ea78-4d03-98e6-6cc5cde3947e",
   "metadata": {},
   "source": [
    "**1.\tОпределить, какие квадратичные формы являются положительно либо отрицательно определенными, а какие нет.**"
   ]
  },
  {
   "cell_type": "markdown",
   "id": "5e44fb8c-df35-480c-9799-d316136bb367",
   "metadata": {},
   "source": [
    "**а) $-x_1^2+26x_2^2+10x_1x_2$**"
   ]
  },
  {
   "cell_type": "code",
   "execution_count": 61,
   "id": "a41c4474-8f8e-48e2-898e-31d0c12ddb7e",
   "metadata": {},
   "outputs": [
    {
     "name": "stdout",
     "output_type": "stream",
     "text": [
      "-1\n",
      "-51\n"
     ]
    }
   ],
   "source": [
    "A = Matrix([[-1]])\n",
    "\n",
    "print(det(A))\n",
    "\n",
    "A = Matrix([[-1, 5], \n",
    "            [5, 26]])\n",
    "\n",
    "print(det(A))"
   ]
  },
  {
   "cell_type": "markdown",
   "id": "7cfa4edb-ba21-4ace-a4bb-6cfe4fa88fbe",
   "metadata": {},
   "source": [
    "*Квадратичная форма не является положительно либо отрицательно определенной.*"
   ]
  },
  {
   "cell_type": "markdown",
   "id": "823575e7-c075-4d19-8e32-364c8a27f2bb",
   "metadata": {},
   "source": [
    "**б) $x_1^2+4x_2^2+4x_3^2+8x_4^2+8x_2x_4$**"
   ]
  },
  {
   "cell_type": "code",
   "execution_count": 59,
   "id": "c85ba9e1-853d-4339-a79a-5af4e2c026de",
   "metadata": {},
   "outputs": [
    {
     "name": "stdout",
     "output_type": "stream",
     "text": [
      "1\n",
      "4\n",
      "16\n",
      "64\n"
     ]
    }
   ],
   "source": [
    "A = Matrix([[1]])\n",
    "\n",
    "print(det(A))\n",
    "\n",
    "A = Matrix([[1, 0],\n",
    "            [0, 4]])\n",
    "\n",
    "print(det(A))\n",
    "\n",
    "A = Matrix([[1, 0, 0],\n",
    "            [0, 4, 0],\n",
    "            [0, 0, 4]])\n",
    "\n",
    "print(det(A))\n",
    "\n",
    "A = Matrix([[1, 0, 0, 0],\n",
    "            [0, 4, 0, 4],\n",
    "            [0, 0, 4, 0],\n",
    "            [0, 4, 0, 8]])\n",
    "\n",
    "print(det(A))"
   ]
  },
  {
   "cell_type": "markdown",
   "id": "fbeade3b-4587-40f0-9814-f30d853ae9e6",
   "metadata": {},
   "source": [
    "*Квадратичная форма является положительно определенной.*"
   ]
  },
  {
   "cell_type": "markdown",
   "id": "ec059d05-c84f-45b0-a84f-a88397e3d8f1",
   "metadata": {},
   "source": [
    "**2.\tЗаписать каноническое уравнение кривой второго порядка, определить тип и найти каноническую систему координат. Изобразить кривую.**"
   ]
  },
  {
   "cell_type": "markdown",
   "id": "8d644edb-aca4-415b-a90f-cc1852dbb441",
   "metadata": {},
   "source": [
    "$x^2-2xy+y^2-10x-6y+25=0$"
   ]
  },
  {
   "cell_type": "code",
   "execution_count": 52,
   "id": "223cb40d-d4c8-453e-a72b-29220de95489",
   "metadata": {},
   "outputs": [
    {
     "name": "stdout",
     "output_type": "stream",
     "text": [
      "⎡0  0⎤\n",
      "⎢    ⎥\n",
      "⎣0  2⎦\n",
      "x = sqrt(2)*(x1 - y1)/2\n",
      "y = sqrt(2)*(x1 + y1)/2\n",
      "-8*sqrt(2)*x1 + 2*y1**2 + 2*sqrt(2)*y1 + 25\n"
     ]
    }
   ],
   "source": [
    "A = Matrix([[1, -1],\n",
    "            [-1, 1]])\n",
    "T, D = A.diagonalize()\n",
    "\n",
    "pprint(D)\n",
    "\n",
    "arr = []\n",
    "for i in range(len(T)):\n",
    "    if i % 2 == 0:\n",
    "        arr.append(T[i] / sqrt(T[i] ** 2 + T[i + 1] ** 2))\n",
    "    else:\n",
    "        arr.append(T[i] / sqrt(T[i - 1] ** 2 + T[i] ** 2))\n",
    "\n",
    "for i in range(len(T)):\n",
    "    T[i] = arr[i]\n",
    "\n",
    "x1, y1 = symbols('x1 y1')\n",
    "X1 = Matrix([[x1, y1]])\n",
    "X = T * X1.T\n",
    "print('x =', simplify(X[0, 0]))\n",
    "print('y =', simplify(X[1, 0]))\n",
    "\n",
    "F = X[0] ** 2 - 2 * X[0] * X[1] +  X[1] ** 2 - 10 * X[0] - 6 * X[1] + 25\n",
    "\n",
    "F = simplify(F)\n",
    "print(F)"
   ]
  },
  {
   "cell_type": "markdown",
   "id": "4c504fc0-caf3-4c74-bd6a-d5598ffff2bb",
   "metadata": {},
   "source": [
    "Получили уравнение:"
   ]
  },
  {
   "cell_type": "markdown",
   "id": "674b133d-4e90-4a0b-a109-93e906789100",
   "metadata": {},
   "source": [
    "$2y^2+2\\sqrt{2}y-8\\sqrt{2}x+25=0$"
   ]
  },
  {
   "cell_type": "markdown",
   "id": "809645b7-fd6a-46d3-a061-fbc3d28c402f",
   "metadata": {},
   "source": [
    "Выделение полного квадрата."
   ]
  },
  {
   "cell_type": "markdown",
   "id": "1a7b2c1c-a3ac-4f1f-869d-9a113a31bbcb",
   "metadata": {},
   "source": [
    "$(y+\\frac{\\sqrt{2}}{2})^2=-12(x+1)$"
   ]
  },
  {
   "cell_type": "markdown",
   "id": "dd7feea7-8e37-49b6-bb12-382e74cec807",
   "metadata": {},
   "source": [
    "Получили уравнение параболы $(y - y_0)^2 = 2p(x - x_0)$."
   ]
  },
  {
   "cell_type": "code",
   "execution_count": 51,
   "id": "253539b4-a46e-49d0-a8d2-d6ce57dac469",
   "metadata": {},
   "outputs": [
    {
     "data": {
      "image/png": "[encoded data removed]",
      "text/plain": [
       "<Figure size 432x288 with 1 Axes>"
      ]
     },
     "metadata": {
      "needs_background": "light"
     },
     "output_type": "display_data"
    },
    {
     "data": {
      "image/png": "[encoded data removed]",
      "text/plain": [
       "<Figure size 432x288 with 1 Axes>"
      ]
     },
     "metadata": {
      "needs_background": "light"
     },
     "output_type": "display_data"
    }
   ],
   "source": [
    "var('x y')\n",
    "plot_implicit(Eq(x ** 2 - 2 * x * y + y ** 2 - 10 * x - 6 * y, +25), title='В старой СК', xlabel='x', ylabel='y')\n",
    "plot_implicit(Eq((y+(np.sqrt(2)/2))**2, -12*x-12), title='В новой СК', xlabel='x1', ylabel='y1')\n",
    "plt.show()"
   ]
  },
  {
   "cell_type": "markdown",
   "id": "fb2a70ac-cf88-4806-8e93-f93575d87a17",
   "metadata": {},
   "source": [
    "**3.\tЗаписать каноническое уравнение поверхности второго порядка, определить тип и найти каноническую систему координат. Изобразить поверхность.**"
   ]
  },
  {
   "cell_type": "code",
   "execution_count": null,
   "id": "e8350571-a31b-4134-9824-b4f791a440b3",
   "metadata": {},
   "outputs": [],
   "source": []
  }
 ],
 "metadata": {
  "kernelspec": {
   "display_name": "Python 3 (ipykernel)",
   "language": "python",
   "name": "python3"
  },
  "language_info": {
   "codemirror_mode": {
    "name": "ipython",
    "version": 3
   },
   "file_extension": ".py",
   "mimetype": "text/x-python",
   "name": "python",
   "nbconvert_exporter": "python",
   "pygments_lexer": "ipython3",
   "version": "3.9.12"
  }
 },
 "nbformat": 4,
 "nbformat_minor": 5
}
