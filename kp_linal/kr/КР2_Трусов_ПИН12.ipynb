{
 "cells": [
  {
   "cell_type": "markdown",
   "id": "f3f5ead0-0e6f-476a-9eb4-a2021e7a13b0",
   "metadata": {},
   "source": [
    "**1. (3 балла) Вычислить определители (упростите полученное выражение).**"
   ]
  },
  {
   "cell_type": "markdown",
   "id": "e8a13af9-c475-4f16-a24b-505616e6f202",
   "metadata": {},
   "source": [
    "**a)**"
   ]
  },
  {
   "cell_type": "code",
   "execution_count": 77,
   "id": "437e20d7-aab1-4099-af18-c92388f8eba2",
   "metadata": {},
   "outputs": [
    {
     "name": "stdout",
     "output_type": "stream",
     "text": [
      "sin(a)*sin(2*a) - cos(a)**2\n"
     ]
    }
   ],
   "source": [
    "import numpy as np\n",
    "from sympy import *\n",
    "\n",
    "a=symbols('a')\n",
    "\n",
    "v1=Matrix([[-cos(a), sin(2*a)],[-sin(a), cos(a)]])\n",
    "print(det(v1))"
   ]
  },
  {
   "cell_type": "markdown",
   "id": "5d14716c-65a9-4821-86c4-41ef73ad4414",
   "metadata": {},
   "source": [
    "**б)**"
   ]
  },
  {
   "cell_type": "code",
   "execution_count": 78,
   "id": "a45371df-bb31-4061-a061-97dfa1aae21e",
   "metadata": {},
   "outputs": [
    {
     "name": "stdout",
     "output_type": "stream",
     "text": [
      "5.999999999999997\n"
     ]
    }
   ],
   "source": [
    "A = np.matrix ('1 1 1; 5 7 8; 25 49 64')\n",
    "print(np.linalg.det(A))"
   ]
  },
  {
   "cell_type": "markdown",
   "id": "15e7aecd-a8d1-499a-ba17-2d88e778b8f7",
   "metadata": {},
   "source": [
    "**2. (3 балла) Решить уравнение и неравенство (используйте функцию, которая раскладывает выражение на множители). Сделайте графическую иллюстрацию решения.**"
   ]
  },
  {
   "cell_type": "markdown",
   "id": "11521aff-8f6e-46aa-a9e9-1ea4659371fe",
   "metadata": {},
   "source": [
    "**а)**"
   ]
  },
  {
   "cell_type": "code",
   "execution_count": 87,
   "id": "fa13c44b-adb5-4f53-a6fd-1b7b5f7785d4",
   "metadata": {},
   "outputs": [
    {
     "data": {
      "text/plain": [
       "[-1/2, 1]"
      ]
     },
     "execution_count": 87,
     "metadata": {},
     "output_type": "execute_result"
    }
   ],
   "source": [
    "x=symbols('x')\n",
    "v2=Matrix([[x, x+1],[1-x, x-1]])\n",
    "\n",
    "solve(det(v2))"
   ]
  },
  {
   "cell_type": "markdown",
   "id": "91dcce47-18d6-4286-9a84-e4aea24e2967",
   "metadata": {},
   "source": [
    "**б)**"
   ]
  },
  {
   "cell_type": "code",
   "execution_count": 88,
   "id": "5bcf3f11-6427-4abe-b68f-552b89247876",
   "metadata": {},
   "outputs": [
    {
     "data": {
      "text/latex": [
       "$\\displaystyle \\frac{153}{106} < x \\wedge x < \\infty$"
      ],
      "text/plain": [
       "(153/106 < x) & (x < oo)"
      ]
     },
     "execution_count": 88,
     "metadata": {},
     "output_type": "execute_result"
    }
   ],
   "source": [
    "x=symbols('x')\n",
    "v2=Matrix([[2, 20, 1],[-1, 6, x-3], [5, -3, 6]])\n",
    "\n",
    "solve(det(v2)>0)"
   ]
  },
  {
   "cell_type": "markdown",
   "id": "1fdc8874-1533-4480-802b-a792ca14b32d",
   "metadata": {},
   "source": [
    "**3. (3 балла) Решить системы уравнений по правилу Крамера. Сделать проверку (в матричной форме!)**"
   ]
  },
  {
   "cell_type": "markdown",
   "id": "88316080-d2ec-4fc6-b371-d7396238f2d8",
   "metadata": {},
   "source": [
    "**а)**"
   ]
  },
  {
   "cell_type": "code",
   "execution_count": 81,
   "id": "c72f0d4a-bf6e-4dab-986a-34f2f5cf55bb",
   "metadata": {},
   "outputs": [],
   "source": [
    "A = np.matrix ('5 -3; 2 7')\n",
    "B = np.matrix ('16; 31')"
   ]
  },
  {
   "cell_type": "markdown",
   "id": "18a8a8ca-f3a6-4c17-a95a-9c1c89fc2339",
   "metadata": {},
   "source": [
    "Проверка применимости формулы Крамера"
   ]
  },
  {
   "cell_type": "code",
   "execution_count": 82,
   "id": "f64625cb-be3a-4c99-944e-fb9f969ae3fc",
   "metadata": {},
   "outputs": [
    {
     "name": "stdout",
     "output_type": "stream",
     "text": [
      "True\n"
     ]
    }
   ],
   "source": [
    "A_det = np.linalg.det(A)\n",
    "print(A_det != 0)"
   ]
  },
  {
   "cell_type": "code",
   "execution_count": 27,
   "id": "10ceca99-632f-4e30-831d-02d3806d9d22",
   "metadata": {},
   "outputs": [
    {
     "name": "stdout",
     "output_type": "stream",
     "text": [
      "5.000000000000001 2.9999999999999982\n"
     ]
    }
   ],
   "source": [
    "X_m = np.matrix(A)\n",
    "X_m[:, 0] = B\n",
    "Y_m = np.matrix(A)\n",
    "Y_m[:, 1] = B\n",
    "\n",
    "x=np.linalg.det(X_m)/A_det\n",
    "y=np.linalg.det(Y_m)/A_det\n",
    "\n",
    "print(x, y)"
   ]
  },
  {
   "cell_type": "markdown",
   "id": "227acb21-05e8-4c2e-af19-7a8f1430d5f7",
   "metadata": {},
   "source": [
    "Проверка"
   ]
  },
  {
   "cell_type": "code",
   "execution_count": 28,
   "id": "83b2834c-3158-4f59-8919-e2b9e9f9da8e",
   "metadata": {},
   "outputs": [
    {
     "name": "stdout",
     "output_type": "stream",
     "text": [
      "[[ True]\n",
      " [ True]]\n"
     ]
    }
   ],
   "source": [
    "X = np.matrix ('5; 3')\n",
    "print(np.dot(A, X)-B==0)"
   ]
  },
  {
   "cell_type": "markdown",
   "id": "7cb59c05-9537-4062-b61f-d1ac97a4cd9a",
   "metadata": {},
   "source": [
    "*Ответ: (5, 3).*"
   ]
  },
  {
   "cell_type": "markdown",
   "id": "ef6bedf4-8d44-42e3-9840-6290c421ca96",
   "metadata": {},
   "source": [
    "**б)**"
   ]
  },
  {
   "cell_type": "code",
   "execution_count": 53,
   "id": "3a083760-ee3f-401e-9502-f7ed1751ba33",
   "metadata": {},
   "outputs": [],
   "source": [
    "A = np.matrix ('1 2 3; 4 5 6; 7 8 0')\n",
    "B = np.matrix ('12; 30; 30')"
   ]
  },
  {
   "cell_type": "markdown",
   "id": "d9455fdf-67fc-49f5-9772-60e0cf680a93",
   "metadata": {},
   "source": [
    "Проверка применимости формулы Крамера"
   ]
  },
  {
   "cell_type": "code",
   "execution_count": 19,
   "id": "a50747a4-607c-444d-a62c-31f23fe7c774",
   "metadata": {},
   "outputs": [
    {
     "name": "stdout",
     "output_type": "stream",
     "text": [
      "True\n"
     ]
    }
   ],
   "source": [
    "A_det = np.linalg.det(A)\n",
    "print(A_det != 0)"
   ]
  },
  {
   "cell_type": "code",
   "execution_count": 21,
   "id": "fa1b0b4e-79ea-45ed-aeb5-5e9268fa8360",
   "metadata": {},
   "outputs": [
    {
     "name": "stdout",
     "output_type": "stream",
     "text": [
      "1.9999999999999984 1.9999999999999996 1.9999999999999996\n"
     ]
    }
   ],
   "source": [
    "X_m = np.matrix(A)\n",
    "X_m[:, 0] = B\n",
    "Y_m = np.matrix(A)\n",
    "Y_m[:, 1] = B\n",
    "Z_m = np.matrix(A)\n",
    "Z_m[:, 2] = B\n",
    "\n",
    "x=np.linalg.det(X_m)/A_det\n",
    "y=np.linalg.det(Y_m)/A_det\n",
    "z=np.linalg.det(Z_m)/A_det\n",
    "\n",
    "print(x, y, z)"
   ]
  },
  {
   "cell_type": "markdown",
   "id": "d369bbf2-e56f-41c4-8b43-b90d1e1e243b",
   "metadata": {},
   "source": [
    "Проверка"
   ]
  },
  {
   "cell_type": "code",
   "execution_count": 23,
   "id": "749c2907-6a93-4e55-879b-a39c396809f9",
   "metadata": {},
   "outputs": [
    {
     "name": "stdout",
     "output_type": "stream",
     "text": [
      "[[ True]\n",
      " [ True]\n",
      " [ True]]\n"
     ]
    }
   ],
   "source": [
    "X = np.matrix ('2; 2; 2')\n",
    "print(np.dot(A, X)-B==0)"
   ]
  },
  {
   "cell_type": "markdown",
   "id": "10959ff8-f893-4114-bbb5-bbb196171389",
   "metadata": {},
   "source": [
    "*Ответ: (2, 2, 2).*"
   ]
  },
  {
   "cell_type": "markdown",
   "id": "c911beeb-d4a5-4d22-812e-311169694e8a",
   "metadata": {},
   "source": [
    "**4. (3 балла) Решить системы уравнений из задания 3 с помощью обратной матрицы**"
   ]
  },
  {
   "cell_type": "markdown",
   "id": "a7aab16b-2158-4fa5-a1db-d0dfd12bf094",
   "metadata": {},
   "source": [
    "**a)**"
   ]
  },
  {
   "cell_type": "code",
   "execution_count": 49,
   "id": "5d7f9a67-1b8c-472c-8a32-31e274066ff0",
   "metadata": {},
   "outputs": [],
   "source": [
    "A = np.matrix ('5 -3; 2 7')\n",
    "B = np.matrix ('16; 31')"
   ]
  },
  {
   "cell_type": "code",
   "execution_count": 50,
   "id": "2f3e6557-f61d-41e4-a5fa-f1a9b633a55d",
   "metadata": {},
   "outputs": [
    {
     "name": "stdout",
     "output_type": "stream",
     "text": [
      "[[5.]\n",
      " [3.]]\n"
     ]
    }
   ],
   "source": [
    "A_inv = np.linalg.inv(A)\n",
    "X = A_inv.dot(B)\n",
    "print(X)"
   ]
  },
  {
   "cell_type": "markdown",
   "id": "346ec3b9-24d9-49a0-81ca-6feeb7a6337d",
   "metadata": {},
   "source": [
    "*Ответ: (5, 3).*"
   ]
  },
  {
   "cell_type": "markdown",
   "id": "ea9c0b07-a493-4169-8ce4-cd4723d1f388",
   "metadata": {},
   "source": [
    "**б)**"
   ]
  },
  {
   "cell_type": "code",
   "execution_count": 47,
   "id": "cc0284db-d276-4f8b-bb57-837650a895ff",
   "metadata": {},
   "outputs": [],
   "source": [
    "A = np.matrix ('1 2 3; 4 5 6; 7 8 0')\n",
    "B = np.matrix ('12; 30; 30')"
   ]
  },
  {
   "cell_type": "code",
   "execution_count": 48,
   "id": "ba6c25d0-1643-422e-86b9-8979943711e3",
   "metadata": {},
   "outputs": [
    {
     "name": "stdout",
     "output_type": "stream",
     "text": [
      "[[2.]\n",
      " [2.]\n",
      " [2.]]\n"
     ]
    }
   ],
   "source": [
    "A_inv = np.linalg.inv(A)\n",
    "X = A_inv.dot(B)\n",
    "print(X)"
   ]
  },
  {
   "cell_type": "markdown",
   "id": "4da21494-3c03-458d-9cc5-10d7956bc3da",
   "metadata": {},
   "source": [
    "*Ответ: (2, 2, 2).*"
   ]
  }
 ],
 "metadata": {
  "kernelspec": {
   "display_name": "Python 3 (ipykernel)",
   "language": "python",
   "name": "python3"
  },
  "language_info": {
   "codemirror_mode": {
    "name": "ipython",
    "version": 3
   },
   "file_extension": ".py",
   "mimetype": "text/x-python",
   "name": "python",
   "nbconvert_exporter": "python",
   "pygments_lexer": "ipython3",
   "version": "3.9.12"
  }
 },
 "nbformat": 4,
 "nbformat_minor": 5
}
