{
 "cells": [
  {
   "cell_type": "markdown",
   "id": "2c78c655-cdf6-4136-993f-8c6052b52c69",
   "metadata": {},
   "source": [
    "**Вариант № 10**"
   ]
  },
  {
   "cell_type": "markdown",
   "id": "7edc53b3-d23c-4b2f-bbc8-1c811c5a030b",
   "metadata": {},
   "source": [
    "**1. Решите систему уравнений по правилу Крамера. Сделайте геометрическую иллюстрацию решения.**"
   ]
  },
  {
   "cell_type": "code",
   "execution_count": 16,
   "id": "544bd721-fd69-4953-9b3c-330a7f037d51",
   "metadata": {},
   "outputs": [],
   "source": [
    "import numpy as np\n",
    "\n",
    "A = np.matrix ([[1/np.sqrt(2), -3], [2, -3*np.sqrt(2)]])\n",
    "B = np.matrix ([[4], [-np.sqrt(2)]])"
   ]
  },
  {
   "cell_type": "markdown",
   "id": "a1e44aaa-3a74-448f-91e4-9a3fbee3459d",
   "metadata": {},
   "source": [
    "Проверка применимости формулы Крамера"
   ]
  },
  {
   "cell_type": "code",
   "execution_count": 11,
   "id": "b935a70d-1193-4b1f-8884-2520f2c9ad34",
   "metadata": {},
   "outputs": [
    {
     "name": "stdout",
     "output_type": "stream",
     "text": [
      "True\n"
     ]
    }
   ],
   "source": [
    "A_det = np.linalg.det(A)\n",
    "print(A_det != 0)"
   ]
  },
  {
   "cell_type": "code",
   "execution_count": 36,
   "id": "b4995b1b-0209-4b80-a5ca-8d906cd0cf6b",
   "metadata": {},
   "outputs": [
    {
     "name": "stdout",
     "output_type": "stream",
     "text": [
      "-7.071067811865476 -3.000000000000001\n"
     ]
    }
   ],
   "source": [
    "X_m = np.matrix(A)\n",
    "X_m[:, 0] = B\n",
    "Y_m = np.matrix(A)\n",
    "Y_m[:, 1] = B\n",
    "\n",
    "x=np.linalg.det(X_m)/A_det\n",
    "y=np.linalg.det(Y_m)/A_det\n",
    "\n",
    "print(x, y)"
   ]
  },
  {
   "cell_type": "code",
   "execution_count": 45,
   "id": "96bc4e2e-20c0-449b-a5c6-da36e7ea3b4c",
   "metadata": {},
   "outputs": [
    {
     "data": {
      "image/png": "[encoded data removed]",
      "text/plain": [
       "<Figure size 432x288 with 1 Axes>"
      ]
     },
     "metadata": {
      "needs_background": "light"
     },
     "output_type": "display_data"
    }
   ],
   "source": [
    "import matplotlib.pyplot as plt\n",
    "x = np.linspace(-10,-6,1000)\n",
    "\n",
    "y = ((x/np.sqrt(2))-4)/3\n",
    "plt.plot(x,y, \"m\")\n",
    "\n",
    "y = (2*x+np.sqrt(2))/(3*np.sqrt(2))\n",
    "plt.plot(x,y, \"g\")\n",
    "\n",
    "plt.grid()\n",
    "plt.axis('equal')\n",
    "\n",
    "plt.show()"
   ]
  },
  {
   "cell_type": "markdown",
   "id": "28238cc6-021a-440a-a46c-9e3ceb7284c7",
   "metadata": {},
   "source": [
    "*Ответ: (-7.07, -3)*"
   ]
  },
  {
   "cell_type": "markdown",
   "id": "0213fcd8-2330-4aa2-a9c4-796dc0d4469b",
   "metadata": {},
   "source": [
    "**2. С помощью обратной матрицы решите систему уравнений из условия задачи 1.**"
   ]
  },
  {
   "cell_type": "code",
   "execution_count": 53,
   "id": "5462581a-64ca-41f4-a623-7ab7936b915b",
   "metadata": {},
   "outputs": [
    {
     "name": "stdout",
     "output_type": "stream",
     "text": [
      "[[-7.07106781]\n",
      " [-3.        ]]\n"
     ]
    }
   ],
   "source": [
    "A = np.matrix ([[1/np.sqrt(2), -3], [2, -3*np.sqrt(2)]])\n",
    "B = np.matrix ([[4], [-np.sqrt(2)]])\n",
    "\n",
    "A_inv = np.linalg.inv(A)\n",
    "X = A_inv.dot(B)\n",
    "print(X)"
   ]
  },
  {
   "cell_type": "markdown",
   "id": "34fa1e5e-0776-4a17-a64d-dfa76fef921c",
   "metadata": {},
   "source": [
    "Проверка."
   ]
  },
  {
   "cell_type": "code",
   "execution_count": 52,
   "id": "a74ec991-d394-42aa-975b-fd0bdb418775",
   "metadata": {},
   "outputs": [
    {
     "name": "stdout",
     "output_type": "stream",
     "text": [
      "[[1.31909061e-09]\n",
      " [3.73095266e-09]]\n"
     ]
    }
   ],
   "source": [
    "X = np.matrix ('-7.07106781; -3')\n",
    "print(np.dot(A, X)-B)"
   ]
  },
  {
   "cell_type": "markdown",
   "id": "a5056ace-0868-4593-8a61-2d10342e0876",
   "metadata": {},
   "source": [
    "**3. Даны векторы a, b, c. Проверьте, составляют ли они базис.**"
   ]
  },
  {
   "cell_type": "code",
   "execution_count": 91,
   "id": "1632b243-d037-4d3b-857a-4808a1443e35",
   "metadata": {},
   "outputs": [
    {
     "name": "stdout",
     "output_type": "stream",
     "text": [
      "True\n"
     ]
    }
   ],
   "source": [
    "OA = np.array([15, 23, 12])\n",
    "OB = np.array([3, 4, 8])\n",
    "OC = np.array([-17, 12, 14])\n",
    "\n",
    "A = np.matrix([OA, OB, OC])\n",
    "\n",
    "print(np.linalg.det(A)!=0)"
   ]
  },
  {
   "cell_type": "markdown",
   "id": "e4114ba7-eff5-4ecf-a98e-8fe2761976ed",
   "metadata": {},
   "source": [
    "*Определитель матрицы не равен нулю, следовательно, вектора являются базисными.*"
   ]
  },
  {
   "cell_type": "markdown",
   "id": "828d297d-d8f1-496f-a817-40fc1364e8f6",
   "metadata": {},
   "source": [
    "**В случае положительного ответа разложите по данному базису вектор d. При решении используйте правило\n",
    "Крамера или обратную матрицу. Сделайте проверку.**"
   ]
  },
  {
   "cell_type": "code",
   "execution_count": 86,
   "id": "6f6d6aa9-e52b-46bf-8ab1-da384ea1e9eb",
   "metadata": {},
   "outputs": [
    {
     "name": "stdout",
     "output_type": "stream",
     "text": [
      "[[ 0.03598375]\n",
      " [-0.13987232]\n",
      " [ 0.30644225]]\n"
     ]
    }
   ],
   "source": [
    "B = np.matrix ('1; 2; 2')\n",
    "A = A.transpose()\n",
    "A_inv = np.linalg.inv(A)\n",
    "print(A_inv.dot(B))"
   ]
  },
  {
   "cell_type": "code",
   "execution_count": 87,
   "id": "5517c006-74d0-45a0-be92-eae6d43b4e02",
   "metadata": {},
   "outputs": [
    {
     "name": "stdout",
     "output_type": "stream",
     "text": [
      "[[-1.10000000e-07]\n",
      " [-2.99999998e-08]\n",
      " [-8.99999995e-08]]\n"
     ]
    }
   ],
   "source": [
    "X = np.matrix ('0.03598375; -0.13987232; 0.30644225')\n",
    "print(np.dot(A, X)-B)"
   ]
  },
  {
   "cell_type": "markdown",
   "id": "1d7b835d-b3e7-41ee-b56c-84a20a5d5cac",
   "metadata": {},
   "source": [
    "*Ответ: d = 0.035a + -0.13b + 0.306c*"
   ]
  },
  {
   "cell_type": "markdown",
   "id": "15ba3b3e-c9c7-4771-90a9-5599af3dc453",
   "metadata": {},
   "source": [
    "**4. Даны три точки А(1,-2,3), В(0,-11,2) и С(3,4,5). Вычислите площадь треугольника АВС по известной формуле S = 1/2 a·b·sin α.**"
   ]
  },
  {
   "cell_type": "code",
   "execution_count": 118,
   "id": "d77b2616-2845-43b0-9cc7-ffed07e4bf11",
   "metadata": {},
   "outputs": [
    {
     "name": "stdout",
     "output_type": "stream",
     "text": [
      "8.485281374238602\n"
     ]
    }
   ],
   "source": [
    "import math \n",
    "OA = np.array([1, -2, 3])\n",
    "OB = np.array([0, -11, 2])\n",
    "OC = np.array([3, 4, 5])\n",
    "\n",
    "AB = OB - OA\n",
    "CB = OB - OC\n",
    "\n",
    "cos_angle1 = np.dot(AB, CB) / (np.linalg.norm(AB) * np.linalg.norm(CB))\n",
    "sin_alfa1 = np.sqrt(1-cos_angle1**2) \n",
    "\n",
    "S = 1/2 * np.linalg.norm(AB) * np.linalg.norm(CB) * sin_alfa1\n",
    "print(S)"
   ]
  },
  {
   "cell_type": "markdown",
   "id": "e4d4a436-d7b5-469b-b028-0b57af230fb1",
   "metadata": {},
   "source": [
    "**Результат проверьте с помощью свойства векторного произведения.**"
   ]
  },
  {
   "cell_type": "code",
   "execution_count": 105,
   "id": "bc9bc362-d5d7-45f4-927b-47dc304e181a",
   "metadata": {},
   "outputs": [
    {
     "name": "stdout",
     "output_type": "stream",
     "text": [
      "8.48528137423857\n"
     ]
    }
   ],
   "source": [
    "print(np.linalg.norm(np.cross(AB, CB))/2)"
   ]
  },
  {
   "cell_type": "markdown",
   "id": "a9f85967-df73-429c-bdb4-6ccc312aa7d9",
   "metadata": {},
   "source": [
    "*Ответ: 8.48*"
   ]
  },
  {
   "cell_type": "markdown",
   "id": "e6b9ba82-f393-40d0-a4f4-943d5b977b72",
   "metadata": {},
   "source": [
    "**5. Используя свойство смешанного произведения, найдите объем пирамиды ABCD, если A(1, 13, 6), В(2, 2, 1), С(-1, 0, 1), D(-4, 6, -3).**"
   ]
  },
  {
   "cell_type": "code",
   "execution_count": 119,
   "id": "02352c49-e30e-4355-a5c6-6ccde7c60333",
   "metadata": {},
   "outputs": [
    {
     "name": "stdout",
     "output_type": "stream",
     "text": [
      "43.333333333333336\n"
     ]
    }
   ],
   "source": [
    "OA = np.array([1, 13, 6])\n",
    "OB = np.array([2, 2, 1])\n",
    "OC = np.array([-1, 0, 1])\n",
    "OD = np.array([-4, 6, -3])\n",
    "\n",
    "AB = OB - OA\n",
    "AC = OC - OA\n",
    "AD = OD - OA\n",
    "\n",
    "vector_proizvedenie = np.cross(AC, AD)\n",
    "scalar_proizvedenie = np.dot(AB, vector_proizvedenie)\n",
    "sm_proizvedenie = np.linalg.norm(scalar_proizvedenie)\n",
    "\n",
    "V = sm_proizvedenie / 6\n",
    "print(V)"
   ]
  },
  {
   "cell_type": "markdown",
   "id": "f0fea573-3a28-4b10-b6a0-fe83eb95d691",
   "metadata": {},
   "source": [
    "*Ответ: 43.33*"
   ]
  }
 ],
 "metadata": {
  "kernelspec": {
   "display_name": "Python 3 (ipykernel)",
   "language": "python",
   "name": "python3"
  },
  "language_info": {
   "codemirror_mode": {
    "name": "ipython",
    "version": 3
   },
   "file_extension": ".py",
   "mimetype": "text/x-python",
   "name": "python",
   "nbconvert_exporter": "python",
   "pygments_lexer": "ipython3",
   "version": "3.9.12"
  }
 },
 "nbformat": 4,
 "nbformat_minor": 5
}
