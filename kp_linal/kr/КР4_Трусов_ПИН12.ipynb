{
 "cells": [
  {
   "cell_type": "markdown",
   "id": "571dafbe-ab06-4a1c-a292-40a0a89e0ee2",
   "metadata": {},
   "source": [
    "Загрузка необходимых библиотек."
   ]
  },
  {
   "cell_type": "code",
   "execution_count": 1,
   "id": "f697a1bd-68c9-4df8-8bb0-1c44374049c7",
   "metadata": {},
   "outputs": [],
   "source": [
    "import numpy as np\n",
    "import matplotlib.pyplot as plt\n",
    "from sympy import *"
   ]
  },
  {
   "cell_type": "markdown",
   "id": "50037739-0f07-4d31-869f-2cc92d24a255",
   "metadata": {},
   "source": [
    "**1. Прямая проходит через точки А(2, 3) и В(-4, 0), пересекает ось Оу в точке С. Найти координаты точки С.**"
   ]
  },
  {
   "cell_type": "code",
   "execution_count": 102,
   "id": "b1cb980f-e7b1-4a8f-8a30-336be9bd52ec",
   "metadata": {},
   "outputs": [
    {
     "name": "stdout",
     "output_type": "stream",
     "text": [
      "Уравнение прямой: 3*x - 6*y + 12\n",
      "Уравнение Oy: x\n",
      "Point2D(0, 2)\n"
     ]
    },
    {
     "data": {
      "image/png": "[encoded data removed]",
      "text/plain": [
       "<Figure size 432x288 with 1 Axes>"
      ]
     },
     "metadata": {
      "needs_background": "light"
     },
     "output_type": "display_data"
    }
   ],
   "source": [
    "p1, p2 = Point(2, 3), Point(-4, 0) \n",
    "\n",
    "L = Line(p1, p2)\n",
    "oy = Line(Point(0, 0), Point(0, 1))\n",
    "\n",
    "print(\"Уравнение прямой:\", L.equation())\n",
    "print(\"Уравнение Oy:\", oy.equation())\n",
    "\n",
    "print(*L.intersection(oy))\n",
    "\n",
    "x = np.linspace(-5,5,1000)\n",
    "y = (3*x+12)/6\n",
    "plt.plot(x,y, \"m\")\n",
    "\n",
    "plt.axvline(x=0, color='b') \n",
    "\n",
    "plt.grid()\n",
    "plt.axis('equal')\n",
    "\n",
    "plt.show()"
   ]
  },
  {
   "cell_type": "markdown",
   "id": "0c1d8bf9-8f7a-436e-8f00-5015c8927615",
   "metadata": {},
   "source": [
    "**2. Даны уравнения оснований трапеции 3x − 2y − 15 = 0 и 3x − 2y − 5 = 0. Найти длину ее высоты.**"
   ]
  },
  {
   "cell_type": "code",
   "execution_count": 103,
   "id": "afc27fa5-9a7a-4385-a54c-70d12d663d6b",
   "metadata": {},
   "outputs": [
    {
     "name": "stdout",
     "output_type": "stream",
     "text": [
      "Уравнение первого основания трапеции: 3*x - 2*y - 15\n",
      "Уравнение второго основания трапеции: 3*x - 2*y - 5\n",
      "Уравнение высоты: 4*x + 6*y + 2\n",
      "\n",
      "Длина высоты: 7*sqrt(5)/5\n"
     ]
    },
    {
     "data": {
      "image/png": "[encoded data removed]",
      "text/plain": [
       "<Figure size 432x288 with 1 Axes>"
      ]
     },
     "metadata": {
      "needs_background": "light"
     },
     "output_type": "display_data"
    }
   ],
   "source": [
    "p1, p2 = Point(5, 0), Point(1, -6) \n",
    "p3, p4 = Point(1, -1), Point(5/3, 0)\n",
    "\n",
    "L1 = Line(p1, p2)\n",
    "L2 = Line(p3, p4)\n",
    "\n",
    "print(\"Уравнение первого основания трапеции:\", L1.equation()/2)\n",
    "print(\"Уравнение второго основания трапеции:\", L2.equation()*-3)\n",
    "\n",
    "x = np.linspace(-5,5,1000)\n",
    "\n",
    "y = (3*x-15)/2\n",
    "plt.plot(x,y, \"m\")\n",
    "\n",
    "y = (3*x-5)/2\n",
    "plt.plot(x,y, \"m\")\n",
    "\n",
    "L3 = L1.perpendicular_line(p3) \n",
    "print(\"Уравнение высоты:\", L3.equation())\n",
    "\n",
    "y = (4*x+2)/-6\n",
    "plt.plot(x,y, \"m\")\n",
    "\n",
    "print(\"\\nДлина высоты:\", L.distance(p3))\n",
    "\n",
    "plt.grid()\n",
    "plt.axis('scaled')\n",
    "\n",
    "plt.show()"
   ]
  },
  {
   "cell_type": "markdown",
   "id": "2034cc77-423f-4a1e-b470-f2a8b3863317",
   "metadata": {},
   "source": [
    "**3. Найти площадь треугольника, заключенного между осями координат и прямой 2x − 5y + 10 = 0.**"
   ]
  },
  {
   "cell_type": "code",
   "execution_count": 79,
   "id": "7e23f531-1684-4333-9dba-afa986b1ec45",
   "metadata": {},
   "outputs": [
    {
     "name": "stdout",
     "output_type": "stream",
     "text": [
      "Уравнение ox: y\n",
      "Уравнение oy: x\n",
      "Уравнение L: 2*x - 5*y + 10\n",
      "\n",
      "Точка пересечения прямой и oy: Point2D(0, 2)\n",
      "Точка пересечения прямой и ox: Point2D(-5, 0)\n",
      "\n",
      "Площадь треугольника: 5.0\n"
     ]
    },
    {
     "data": {
      "image/png": "[encoded data removed]",
      "text/plain": [
       "<Figure size 432x288 with 1 Axes>"
      ]
     },
     "metadata": {
      "needs_background": "light"
     },
     "output_type": "display_data"
    }
   ],
   "source": [
    "p1, p2 = Point(0, 0), Point(1, 0) \n",
    "p3, p4 = Point(0, 0), Point(0, 1)\n",
    "p5, p6 = Point(0, 2), Point(-5, 0)\n",
    "\n",
    "ox = Line(p1, p2)\n",
    "oy = Line(p3, p4)\n",
    "L = Line(p5, p6)\n",
    "\n",
    "print(\"Уравнение ox:\", ox.equation())\n",
    "print(\"Уравнение oy:\", oy.equation())\n",
    "print(\"Уравнение L:\", L.equation())\n",
    "\n",
    "print(\"\\nТочка пересечения прямой и oy:\", *oy.intersection(L))\n",
    "print(\"Точка пересечения прямой и ox:\", *ox.intersection(L))\n",
    "\n",
    "print(\"\\nПлощадь треугольника:\", 1/2*2*5)\n",
    "\n",
    "x = np.linspace(-5,1,1000)\n",
    "y = (2*x+10)/5\n",
    "plt.plot(x,y, \"m\")\n",
    "\n",
    "# отображение осей\n",
    "plt.axhline(y=0, color='m')\n",
    "plt.axvline(x=0, color='m')\n",
    "\n",
    "plt.grid()\n",
    "plt.axis('equal')\n",
    "\n",
    "plt.show()"
   ]
  },
  {
   "cell_type": "markdown",
   "id": "eb6bf93b-9576-4088-85e0-842c914344ec",
   "metadata": {},
   "source": [
    "**4. Найти уравнение прямой, проходящей через точку пересечения прямых x − y + 3 = 0 и 2x + y + 5 = 0 параллельную оси ординат.**"
   ]
  },
  {
   "cell_type": "code",
   "execution_count": 101,
   "id": "ab11891a-a005-4c5a-b05c-3536144f1f32",
   "metadata": {},
   "outputs": [
    {
     "name": "stdout",
     "output_type": "stream",
     "text": [
      "Уравнение L1: x - y + 3\n",
      "Уравнение L2: 2*x + y + 5\n",
      "Уравнение oy: x\n",
      "Точка пересечения прямых: Point2D(-8/3, 1/3)\n",
      "\n",
      "Уравнение прямой, проходящей через точку пересечения прямых, параллельную оси ординат: x + 8/3\n"
     ]
    },
    {
     "data": {
      "image/png": "[encoded data removed]",
      "text/plain": [
       "<Figure size 432x288 with 1 Axes>"
      ]
     },
     "metadata": {
      "needs_background": "light"
     },
     "output_type": "display_data"
    }
   ],
   "source": [
    "p1, p2 = Point(0, 3), Point(-3, 0)\n",
    "p3, p4 = Point(0, -5), Point(1, -7)\n",
    "p5, p6 = Point(0, 0), Point(0, 1)\n",
    "\n",
    "L1 = Line(p1, p2)\n",
    "L2 = Line(p3, p4)\n",
    "oy = Line(p5, p6)\n",
    "\n",
    "print(\"Уравнение L1:\", L1.equation()/3)\n",
    "print(\"Уравнение L2:\", L2.equation())\n",
    "print(\"Уравнение oy:\", oy.equation())\n",
    "\n",
    "intersection_point = L1.intersection(L2)\n",
    "print(\"Точка пересечения прямых:\", *intersection_point)\n",
    "\n",
    "# прямая, параллельная oy, проходящая через точку intersection_point\n",
    "PL = oy.parallel_line(Point(-8/3, 1/3))\n",
    "\n",
    "print(\"\\nУравнение прямой, проходящей через точку пересечения прямых, параллельную оси ординат:\", PL.equation())\n",
    "x = np.linspace(-5,-1,1000)\n",
    "\n",
    "y = x+3\n",
    "plt.plot(x,y, \"m\")\n",
    "\n",
    "y = -2*x-5\n",
    "plt.plot(x,y, \"m\")\n",
    "\n",
    "plt.axvline(x=-8/3, color='b')\n",
    "\n",
    "# отображение осей\n",
    "plt.axhline(y=0, color='k')\n",
    "plt.axvline(x=0, color='k')\n",
    "\n",
    "plt.grid()\n",
    "plt.axis('equal')\n",
    "\n",
    "plt.show()"
   ]
  }
 ],
 "metadata": {
  "kernelspec": {
   "display_name": "Python 3 (ipykernel)",
   "language": "python",
   "name": "python3"
  },
  "language_info": {
   "codemirror_mode": {
    "name": "ipython",
    "version": 3
   },
   "file_extension": ".py",
   "mimetype": "text/x-python",
   "name": "python",
   "nbconvert_exporter": "python",
   "pygments_lexer": "ipython3",
   "version": "3.9.12"
  }
 },
 "nbformat": 4,
 "nbformat_minor": 5
}
