{
 "cells": [
  {
   "cell_type": "markdown",
   "id": "a90fef10-7acc-4f90-9eb9-ac7cfc83d17a",
   "metadata": {},
   "source": [
    "**Практикум 2.1. Интегрирование.**"
   ]
  },
  {
   "cell_type": "markdown",
   "id": "b65b2c59-f532-42d7-bc48-7e0b7581a28b",
   "metadata": {},
   "source": [
    "**Упражнение 1. Вычислить неопределённые интегралы.**"
   ]
  },
  {
   "cell_type": "code",
   "execution_count": 12,
   "id": "850deb9b-accb-4de1-b549-83641190ab8f",
   "metadata": {},
   "outputs": [
    {
     "name": "stdout",
     "output_type": "stream",
     "text": [
      "  x⋅cos(5⋅x)   sin(5⋅x)\n",
      "- ────────── + ────────\n",
      "      5           25   \n",
      "                      ⎛ 2    ⎞                       \n",
      "  4⋅log(x - 2)   2⋅log⎝x  + 1⎠   3⋅atan(x)      1    \n",
      "- ──────────── + ───────────── + ───────── - ────────\n",
      "       25              25            25      5⋅x - 10\n"
     ]
    }
   ],
   "source": [
    "import sympy as sp\n",
    "x = sp.Symbol('x')\n",
    "\n",
    "I = sp.integrate(x*sp.sin(5*x), x)\n",
    "sp.pprint(I)\n",
    "\n",
    "I = sp.integrate(1/((x**2+1)*(x-2)**2), x)\n",
    "sp.pprint(I)"
   ]
  },
  {
   "cell_type": "markdown",
   "id": "b45fc5fa-b976-4350-9ceb-10e9d0a0a6df",
   "metadata": {},
   "source": [
    "**Упражнение 2. Вычислить определённые интегралы в символьном виде.**"
   ]
  },
  {
   "cell_type": "code",
   "execution_count": 22,
   "id": "74acf6a2-e10a-4f42-a2f2-d7c07e55f916",
   "metadata": {},
   "outputs": [
    {
     "name": "stdout",
     "output_type": "stream",
     "text": [
      "π\n",
      "─\n",
      "2\n",
      "       3\n",
      "1   2⋅ℯ \n",
      "─ + ────\n",
      "9    9  \n"
     ]
    }
   ],
   "source": [
    "import sympy as sp\n",
    "x = sp.Symbol('x')\n",
    "\n",
    "I = sp.integrate(sp.sqrt((1-x**2)), (x, -1, 1))\n",
    "sp.pprint(I)\n",
    "\n",
    "I = sp.integrate(x*sp.exp(3*x), (x, 0, 1))\n",
    "sp.pprint(I)"
   ]
  },
  {
   "cell_type": "markdown",
   "id": "51a84294-15e0-4f3e-9989-ca1d1095d279",
   "metadata": {},
   "source": [
    "**Упражнение 3. Создать функции, вычисляющие значения интегральных сумм на отрезке $[a;b]$ при равномерном разбиении его на $n$ отрезков и выбором точек на**"
   ]
  },
  {
   "cell_type": "markdown",
   "id": "543b219c-636f-4a4f-8cfd-814d85f33adb",
   "metadata": {},
   "source": [
    "**а) левых концах отрезков разбиения;**"
   ]
  },
  {
   "cell_type": "code",
   "execution_count": 35,
   "id": "2c4a183e-a297-48f5-8105-e1e624b0e7f8",
   "metadata": {},
   "outputs": [],
   "source": [
    "def leftRiman(f, a, b, n):\n",
    "    delta_x = (b-a)/n\n",
    "    sum = 0\n",
    "    for i in range(n):\n",
    "        sum += delta_x*f(a + i*delta_x)\n",
    "    return sum"
   ]
  },
  {
   "cell_type": "markdown",
   "id": "e7dc4514-d6a1-4731-a7f0-e20a064dd7e3",
   "metadata": {},
   "source": [
    "**б) правых концах отрезков разбиения.**"
   ]
  },
  {
   "cell_type": "code",
   "execution_count": 36,
   "id": "82de4dc2-9484-4314-b18d-2d78a38b8b5e",
   "metadata": {},
   "outputs": [],
   "source": [
    "def rightRiman(f, a, b, n):\n",
    "    delta_x = (b-a)/n\n",
    "    sum = 0\n",
    "    for i in range(n):\n",
    "        sum += delta_x*f(a+delta_x + i*delta_x)\n",
    "    return sum"
   ]
  },
  {
   "cell_type": "markdown",
   "id": "25e5e088-cd74-483f-ba13-c8fa1ce9be69",
   "metadata": {},
   "source": [
    "**Проверить работу функций, сопоставив результат выполнения программы и результат, полученный вручную, для интегральных сумм функции $f(x)=x$ на отрезке $[1;2]$ при разбиении его на четыре равных части.**"
   ]
  },
  {
   "cell_type": "code",
   "execution_count": 41,
   "id": "a90a9492-2627-4b0d-805e-0cea9d1dbf45",
   "metadata": {},
   "outputs": [
    {
     "name": "stdout",
     "output_type": "stream",
     "text": [
      "1.375\n",
      "1.625\n"
     ]
    }
   ],
   "source": [
    "def function(x):\n",
    "    return x\n",
    "\n",
    "print(leftRiman(function, 1, 2, 4))\n",
    "print(rightRiman(function, 1, 2, 4))"
   ]
  },
  {
   "cell_type": "markdown",
   "id": "7f316892-0cb6-4b14-9ff0-2d075bd3d8c5",
   "metadata": {},
   "source": [
    "**Упражнение 4. Создать функции, вычисляющие значения верхних и нижних сумм Дарбу на отрезке $[a;b]$ при равномерном разбиении его на $n$ отрезков.**"
   ]
  },
  {
   "cell_type": "code",
   "execution_count": 78,
   "id": "7c1f58f0-7aa4-408c-aca0-6f2f1b429351",
   "metadata": {},
   "outputs": [],
   "source": [
    "import numpy as np\n",
    "from scipy import optimize\n",
    "\n",
    "epsilon = 0.00001"
   ]
  },
  {
   "cell_type": "markdown",
   "id": "f4f594ca-3422-4bb8-a4b1-e387e4b20905",
   "metadata": {},
   "source": [
    "**а) верхняя сумма Дарбу;**"
   ]
  },
  {
   "cell_type": "code",
   "execution_count": 79,
   "id": "c78f1f0c-bb14-4d73-870b-37a73b6366ef",
   "metadata": {},
   "outputs": [],
   "source": [
    "def highDarby(f, a, b, n):\n",
    "    delta_x = (b-a)/n\n",
    "    sum = 0\n",
    "    for i in range(n):     \n",
    "        arr = np.arange(a + i*delta_x, a + (i+1)*delta_x+epsilon, epsilon)\n",
    "        sup = max(arr)\n",
    "        sum += delta_x*sup\n",
    "    return sum"
   ]
  },
  {
   "cell_type": "markdown",
   "id": "30ebfa4d-5064-44d3-b2bc-53e42ad1814d",
   "metadata": {},
   "source": [
    "**б) нижняя сумма Дарбу;**"
   ]
  },
  {
   "cell_type": "code",
   "execution_count": 80,
   "id": "be15735b-1de0-4af0-8cda-5c84bed83613",
   "metadata": {},
   "outputs": [],
   "source": [
    "def lowDarby(f, a, b, n):\n",
    "    delta_x = (b-a)/n\n",
    "    sum = 0\n",
    "    for i in range(n):  \n",
    "        arr = np.arange(a + i*delta_x, a + (i+1)*delta_x+epsilon, epsilon)\n",
    "        inf = min(arr)\n",
    "        sum += delta_x*inf\n",
    "    return sum"
   ]
  },
  {
   "cell_type": "markdown",
   "id": "960bd16b-e6fa-4bfb-b1b7-318dbdf42d12",
   "metadata": {},
   "source": [
    "**Проверить работу функций, сопоставив результат выполнения программы и результат, полученный вручную, для сумм Дарбу функции $f(x)=x$ на отрезке $[1;2]$ при разбиении его на четыре равных части.**"
   ]
  },
  {
   "cell_type": "code",
   "execution_count": 81,
   "id": "024f83a4-47f1-478e-8af9-3ffb08e02f9b",
   "metadata": {},
   "outputs": [
    {
     "name": "stdout",
     "output_type": "stream",
     "text": [
      "1.6250100000016379\n",
      "1.375\n"
     ]
    }
   ],
   "source": [
    "def function(x):\n",
    "    return x\n",
    "\n",
    "print(highDarby(function, 1, 2, 4))\n",
    "print(lowDarby(function, 1, 2, 4))"
   ]
  },
  {
   "cell_type": "markdown",
   "id": "1cd76a6a-cf42-48c3-af13-ddfbe51dc319",
   "metadata": {},
   "source": [
    "**Упражнение 5. Используя функции упражнения 3 и 4, вычислить интегральные суммы и суммы Дарбу для $f(x)=x$**"
   ]
  },
  {
   "cell_type": "code",
   "execution_count": null,
   "id": "8e66fc0c-02f2-4cd1-8400-0d0b9190406a",
   "metadata": {},
   "outputs": [],
   "source": []
  }
 ],
 "metadata": {
  "kernelspec": {
   "display_name": "Python 3 (ipykernel)",
   "language": "python",
   "name": "python3"
  },
  "language_info": {
   "codemirror_mode": {
    "name": "ipython",
    "version": 3
   },
   "file_extension": ".py",
   "mimetype": "text/x-python",
   "name": "python",
   "nbconvert_exporter": "python",
   "pygments_lexer": "ipython3",
   "version": "3.9.12"
  }
 },
 "nbformat": 4,
 "nbformat_minor": 5
}
