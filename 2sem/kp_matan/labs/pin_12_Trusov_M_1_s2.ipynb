{
 "cells": [
  {
   "cell_type": "markdown",
   "id": "a90fef10-7acc-4f90-9eb9-ac7cfc83d17a",
   "metadata": {},
   "source": [
    "<big>**Практикум 2.1. Интегрирование.**</big>"
   ]
  },
  {
   "cell_type": "markdown",
   "id": "b65b2c59-f532-42d7-bc48-7e0b7581a28b",
   "metadata": {},
   "source": [
    "**Упражнение 1. Вычислить неопределённые интегралы.**"
   ]
  },
  {
   "cell_type": "markdown",
   "id": "7fadc35b-b7f1-4c41-93e7-3bad09e5d4fd",
   "metadata": {},
   "source": [
    "**а) <big>$\\int x sin(5x) \\, dx$**</big>"
   ]
  },
  {
   "cell_type": "code",
   "execution_count": 1,
   "id": "850deb9b-accb-4de1-b549-83641190ab8f",
   "metadata": {},
   "outputs": [
    {
     "name": "stdout",
     "output_type": "stream",
     "text": [
      "  x⋅cos(5⋅x)   sin(5⋅x)\n",
      "- ────────── + ────────\n",
      "      5           25   \n"
     ]
    }
   ],
   "source": [
    "import sympy as sp\n",
    "x = sp.Symbol(\"x\")\n",
    "\n",
    "I = sp.integrate(x * sp.sin(5 * x), x)\n",
    "sp.pprint(I)"
   ]
  },
  {
   "cell_type": "markdown",
   "id": "755511b0-54f0-4e87-8fd1-af3db1f5cc18",
   "metadata": {},
   "source": [
    "**б) <big>$\\int \\frac{dx}{(x^2+1)(x-2)^2}\\ $**</big>"
   ]
  },
  {
   "cell_type": "code",
   "execution_count": 2,
   "id": "d16f430c-4489-466e-8bab-e0648b93d592",
   "metadata": {},
   "outputs": [
    {
     "name": "stdout",
     "output_type": "stream",
     "text": [
      "                      ⎛ 2    ⎞                       \n",
      "  4⋅log(x - 2)   2⋅log⎝x  + 1⎠   3⋅atan(x)      1    \n",
      "- ──────────── + ───────────── + ───────── - ────────\n",
      "       25              25            25      5⋅x - 10\n"
     ]
    }
   ],
   "source": [
    "I = sp.integrate(1 / ((x**2 + 1) * (x - 2) ** 2), x)\n",
    "sp.pprint(I)"
   ]
  },
  {
   "cell_type": "markdown",
   "id": "b45fc5fa-b976-4350-9ceb-10e9d0a0a6df",
   "metadata": {},
   "source": [
    "**Упражнение 2. Вычислить определённые интегралы в символьном виде.**"
   ]
  },
  {
   "cell_type": "markdown",
   "id": "70d90e5a-5161-404b-b45b-21338488dfe4",
   "metadata": {},
   "source": [
    "**а) <big>$\\int_{-1}^{1} \\sqrt{1-x^2} \\,dx$**</big>"
   ]
  },
  {
   "cell_type": "code",
   "execution_count": 3,
   "id": "74acf6a2-e10a-4f42-a2f2-d7c07e55f916",
   "metadata": {},
   "outputs": [
    {
     "name": "stdout",
     "output_type": "stream",
     "text": [
      "π\n",
      "─\n",
      "2\n"
     ]
    }
   ],
   "source": [
    "import sympy as sp\n",
    "x = sp.Symbol(\"x\")\n",
    "\n",
    "I = sp.integrate(sp.sqrt((1 - x**2)), (x, -1, 1))\n",
    "sp.pprint(I)"
   ]
  },
  {
   "cell_type": "markdown",
   "id": "e2c65300-033f-4088-91f6-301fc12465c4",
   "metadata": {},
   "source": [
    "**б) <big>$\\int_{0}^{1} xe^{3x} \\,dx$**</big>"
   ]
  },
  {
   "cell_type": "code",
   "execution_count": 4,
   "id": "ac2d3540-6587-49fe-a99b-816809bfd67c",
   "metadata": {},
   "outputs": [
    {
     "name": "stdout",
     "output_type": "stream",
     "text": [
      "       3\n",
      "1   2⋅ℯ \n",
      "─ + ────\n",
      "9    9  \n"
     ]
    }
   ],
   "source": [
    "I = sp.integrate(x * sp.exp(3 * x), (x, 0, 1))\n",
    "sp.pprint(I)"
   ]
  },
  {
   "cell_type": "markdown",
   "id": "51a84294-15e0-4f3e-9989-ca1d1095d279",
   "metadata": {},
   "source": [
    "**Упражнение 3. Создать функции, вычисляющие значения интегральных сумм на отрезке $[a;b]$ при равномерном разбиении его на $n$ отрезков и выбором точек на**"
   ]
  },
  {
   "cell_type": "markdown",
   "id": "543b219c-636f-4a4f-8cfd-814d85f33adb",
   "metadata": {},
   "source": [
    "**а) левых концах отрезков разбиения;**"
   ]
  },
  {
   "cell_type": "code",
   "execution_count": 5,
   "id": "2c4a183e-a297-48f5-8105-e1e624b0e7f8",
   "metadata": {},
   "outputs": [],
   "source": [
    "def leftRiman(f, a, b, n):\n",
    "    delta_x = (b - a) / n\n",
    "    sum = 0\n",
    "    for i in range(n):\n",
    "        sum += delta_x * f(a + i * delta_x)\n",
    "    return sum"
   ]
  },
  {
   "cell_type": "markdown",
   "id": "e7dc4514-d6a1-4731-a7f0-e20a064dd7e3",
   "metadata": {},
   "source": [
    "**б) правых концах отрезков разбиения.**"
   ]
  },
  {
   "cell_type": "code",
   "execution_count": 6,
   "id": "82de4dc2-9484-4314-b18d-2d78a38b8b5e",
   "metadata": {},
   "outputs": [],
   "source": [
    "def rightRiman(f, a, b, n):\n",
    "    delta_x = (b - a) / n\n",
    "    sum = 0\n",
    "    for i in range(n):\n",
    "        sum += delta_x * f(a + delta_x + i * delta_x)\n",
    "    return sum"
   ]
  },
  {
   "cell_type": "markdown",
   "id": "25e5e088-cd74-483f-ba13-c8fa1ce9be69",
   "metadata": {},
   "source": [
    "**Проверить работу функций, сопоставив результат выполнения программы и результат, полученный вручную, для интегральных сумм функции $f(x)=x$ на отрезке $[1;2]$ при разбиении его на четыре равных части.**"
   ]
  },
  {
   "cell_type": "code",
   "execution_count": 39,
   "id": "a90a9492-2627-4b0d-805e-0cea9d1dbf45",
   "metadata": {},
   "outputs": [
    {
     "name": "stdout",
     "output_type": "stream",
     "text": [
      "Выбором точек на левых концах: 1.375\n",
      "Выбором точек на правых концах: 1.625\n"
     ]
    }
   ],
   "source": [
    "def function(x):\n",
    "    return x\n",
    "\n",
    "print(\"Выбором точек на левых концах:\", leftRiman(function, 1, 2, 4))\n",
    "print(\"Выбором точек на правых концах:\", rightRiman(function, 1, 2, 4))"
   ]
  },
  {
   "cell_type": "markdown",
   "id": "7f316892-0cb6-4b14-9ff0-2d075bd3d8c5",
   "metadata": {},
   "source": [
    "**Упражнение 4. Создать функции, вычисляющие значения верхних и нижних сумм Дарбу на отрезке $[a;b]$ при равномерном разбиении его на $n$ отрезков.**"
   ]
  },
  {
   "cell_type": "code",
   "execution_count": 48,
   "id": "7c1f58f0-7aa4-408c-aca0-6f2f1b429351",
   "metadata": {},
   "outputs": [],
   "source": [
    "import numpy as np\n",
    "\n",
    "epsilon = 0.00001"
   ]
  },
  {
   "cell_type": "markdown",
   "id": "f4f594ca-3422-4bb8-a4b1-e387e4b20905",
   "metadata": {},
   "source": [
    "**а) верхняя сумма Дарбу;**"
   ]
  },
  {
   "cell_type": "code",
   "execution_count": 78,
   "id": "c78f1f0c-bb14-4d73-870b-37a73b6366ef",
   "metadata": {},
   "outputs": [],
   "source": [
    "def highDarby(f, a, b, n):\n",
    "    delta_x = (b - a) / n\n",
    "    sum = 0\n",
    "    for i in range(n):\n",
    "        arr = np.arange(a + i * delta_x, a + (i + 1) * delta_x, epsilon)\n",
    "        arr = np.append(arr, a + (i + 1) * delta_x)\n",
    "        sup = max(f(arr))\n",
    "        sum += delta_x * sup\n",
    "    return sum"
   ]
  },
  {
   "cell_type": "markdown",
   "id": "30ebfa4d-5064-44d3-b2bc-53e42ad1814d",
   "metadata": {},
   "source": [
    "**б) нижняя сумма Дарбу;**"
   ]
  },
  {
   "cell_type": "code",
   "execution_count": 79,
   "id": "be15735b-1de0-4af0-8cda-5c84bed83613",
   "metadata": {},
   "outputs": [],
   "source": [
    "def lowDarby(f, a, b, n):\n",
    "    delta_x = (b - a) / n\n",
    "    sum = 0\n",
    "    for i in range(n):\n",
    "        arr = np.arange(a + i * delta_x, a + (i + 1) * delta_x, epsilon)\n",
    "        arr = np.append(arr, a + (i + 1) * delta_x)\n",
    "        inf = min(f(arr))\n",
    "        sum += delta_x * inf\n",
    "    return sum"
   ]
  },
  {
   "cell_type": "markdown",
   "id": "960bd16b-e6fa-4bfb-b1b7-318dbdf42d12",
   "metadata": {},
   "source": [
    "**Проверить работу функций, сопоставив результат выполнения программы и результат, полученный вручную, для сумм Дарбу функции $f(x)=x$ на отрезке $[1;2]$ при разбиении его на четыре равных части.**"
   ]
  },
  {
   "cell_type": "code",
   "execution_count": 80,
   "id": "024f83a4-47f1-478e-8af9-3ffb08e02f9b",
   "metadata": {},
   "outputs": [
    {
     "name": "stdout",
     "output_type": "stream",
     "text": [
      "Верхняя сумма Дарбу: 1.625\n",
      "Нижняя сумма Дарбу: 1.375\n"
     ]
    }
   ],
   "source": [
    "def function(x):\n",
    "    return x\n",
    "\n",
    "print(\"Верхняя сумма Дарбу:\", highDarby(function, 1, 2, 4))\n",
    "print(\"Нижняя сумма Дарбу:\", lowDarby(function, 1, 2, 4))"
   ]
  },
  {
   "cell_type": "markdown",
   "id": "1cd76a6a-cf42-48c3-af13-ddfbe51dc319",
   "metadata": {},
   "source": [
    "**Упражнение 5. Используя функции упражнения 3 и 4, вычислить интегральные суммы и суммы Дарбу для $f(x)=e^{-x^2}$ на отрезке $[1;2]$ при $n=1000$.**"
   ]
  },
  {
   "cell_type": "code",
   "execution_count": 90,
   "id": "8e66fc0c-02f2-4cd1-8400-0d0b9190406a",
   "metadata": {},
   "outputs": [
    {
     "name": "stdout",
     "output_type": "stream",
     "text": [
      "Выбором точек на левых концах: 0.135432095059166\n",
      "Выбором точек на правых концах: 0.135082531256884\n",
      "Верхняя сумма Дарбу: 0.1354320950591664\n",
      "Нижняя сумма Дарбу: 0.1350825312568827\n"
     ]
    }
   ],
   "source": [
    "import sympy as sp\n",
    "\n",
    "def sp_function(x):\n",
    "    return sp.exp(-(x**2))\n",
    "\n",
    "def np_function(x):\n",
    "    return np.exp(-(x**2))\n",
    "\n",
    "print(\"Выбором точек на левых концах:\", leftRiman(sp_function, 1, 2, 1000))\n",
    "print(\"Выбором точек на правых концах:\", rightRiman(sp_function, 1, 2, 1000))\n",
    "print(\"Верхняя сумма Дарбу:\", highDarby(np_function, 1, 2, 1000))\n",
    "print(\"Нижняя сумма Дарбу:\", lowDarby(np_function, 1, 2, 1000))"
   ]
  },
  {
   "cell_type": "markdown",
   "id": "459864b2-21de-43d3-9dd8-0fc228bba7a1",
   "metadata": {},
   "source": [
    "**Упражнение 6. Вычислить <big>$\\int_{1}^{2} e^{-x^2}\\,dx$</big> используя функцию $integrate.simpson$. Сравнить результат с результатами упражнения 5, вычислив разности между численным значением интеграла, полученным по формуле Симпсона (взяв разбиение на 100 интервалов и на 1000), и значениями интегральных сумм и сумм Дарбу.**"
   ]
  },
  {
   "cell_type": "code",
   "execution_count": 94,
   "id": "0d7e7a60-7936-4629-9306-1b413625e889",
   "metadata": {},
   "outputs": [],
   "source": [
    "import scipy.integrate as integrate\n",
    "import numpy as np\n",
    "import sympy as sp\n",
    "\n",
    "def sp_function(x):\n",
    "    return sp.exp(-(x**2))\n",
    "\n",
    "\n",
    "def np_function(x):\n",
    "    return np.exp(-(x**2))"
   ]
  },
  {
   "cell_type": "markdown",
   "id": "c7d1870a-8314-4e43-b686-d8d93f6387c4",
   "metadata": {},
   "source": [
    "**а) Разбиением на 100 интервалов:**"
   ]
  },
  {
   "cell_type": "code",
   "execution_count": 120,
   "id": "d2b492ca-cd0d-4e8a-8819-bc2b9caa9ca4",
   "metadata": {},
   "outputs": [
    {
     "name": "stdout",
     "output_type": "stream",
     "text": [
      "Численное значение по формуле Симпсона: 0.13525730090456511\n",
      "Разность с выбором точек на левых концах: -0.000174794154601282\n",
      "Разность с выбором точек на правых концах: 0.000174769647681344\n",
      "Разность с верхней суммой Дарбу: -0.00017479415460128211\n",
      "Разность с нижней суммой Дарбу: 0.00017476964768242675\n"
     ]
    }
   ],
   "source": [
    "x = np.linspace(1, 2, 100)\n",
    "I = integrate.simpson(np.e ** (-(x**2)), x)\n",
    "\n",
    "print(\"Численное значение по формуле Симпсона:\", I)\n",
    "print(\"Разность с выбором точек на левых концах:\", I - leftRiman(sp_function, 1, 2, 1000))\n",
    "print(\"Разность с выбором точек на правых концах:\", I - rightRiman(sp_function, 1, 2, 1000))\n",
    "print(\"Разность с верхней суммой Дарбу:\", I - highDarby(np_function, 1, 2, 1000))\n",
    "print(\"Разность с нижней суммой Дарбу:\", I - lowDarby(np_function, 1, 2, 1000))"
   ]
  },
  {
   "cell_type": "markdown",
   "id": "3c1e87bf-1390-43e2-9beb-2f876d4bc71a",
   "metadata": {},
   "source": [
    "**б) Разбиением на 1000 интервалов:**"
   ]
  },
  {
   "cell_type": "code",
   "execution_count": 102,
   "id": "b73ddbc9-d380-44aa-b57a-d0cad91a8d00",
   "metadata": {},
   "outputs": [
    {
     "name": "stdout",
     "output_type": "stream",
     "text": [
      "Численное значение по формуле Симпсона: 0.13525725799149346\n",
      "Разность с выбором точек на левых концах: -0.000174837067672934\n",
      "Разность с выбором точек на правых концах: 0.000174726734609693\n",
      "Разность с верхней суммой Дарбу: -0.00017483706767293383\n",
      "Разность с нижней суммой Дарбу: 0.00017472673461077504\n"
     ]
    }
   ],
   "source": [
    "x = np.linspace(1, 2, 1000)\n",
    "I = integrate.simpson(np.e ** (-(x**2)), x)\n",
    "\n",
    "print(\"Численное значение по формуле Симпсона:\", I)\n",
    "print(\"Разность с выбором точек на левых концах:\", I - leftRiman(sp_function, 1, 2, 1000))\n",
    "print(\"Разность с выбором точек на правых концах:\", I - rightRiman(sp_function, 1, 2, 1000))\n",
    "print(\"Разность с верхней суммой Дарбу:\", I - highDarby(np_function, 1, 2, 1000))\n",
    "print(\"Разность с нижней суммой Дарбу:\", I - lowDarby(np_function, 1, 2, 1000))"
   ]
  },
  {
   "cell_type": "markdown",
   "id": "0667de86-4c56-4477-b3fd-038827737665",
   "metadata": {},
   "source": [
    "**!!!!!!!Упражнение С1. Вычислить интеграл <big>$\\int \\frac{dx}{\\sqrt{x^2+2x+3}}\\$</big>**"
   ]
  },
  {
   "cell_type": "code",
   "execution_count": 121,
   "id": "3f5f97de-70a2-4ed8-96fc-87dd5611e8d6",
   "metadata": {},
   "outputs": [
    {
     "name": "stdout",
     "output_type": "stream",
     "text": [
      "Integral(1/sqrt(x**2 + 2*x + 3), x)\n"
     ]
    }
   ],
   "source": [
    "################\n",
    "import sympy as sp\n",
    "x = sp.Symbol(\"x\")\n",
    "\n",
    "I = sp.integrate(1/sp.sqrt(x**2+2*x+3), x)\n",
    "print(I)"
   ]
  },
  {
   "cell_type": "markdown",
   "id": "988c09b7-7a5e-4e69-8527-cfb3b9c114aa",
   "metadata": {},
   "source": [
    "**Упражнение С2. Вычислить определённый интеграл <big>$\\int_{0}^{\\frac{π}{2}} x cos(x^2) \\, dx$</big>, используя символьное вычисление Python.**"
   ]
  },
  {
   "cell_type": "code",
   "execution_count": 125,
   "id": "61b55a83-fc96-4cc8-95fa-bf8dad7ddfde",
   "metadata": {},
   "outputs": [
    {
     "name": "stdout",
     "output_type": "stream",
     "text": [
      "   ⎛ 2⎞\n",
      "   ⎜π ⎟\n",
      "sin⎜──⎟\n",
      "   ⎝4 ⎠\n",
      "───────\n",
      "   2   \n"
     ]
    }
   ],
   "source": [
    "import sympy as sp\n",
    "x = sp.Symbol(\"x\")\n",
    "\n",
    "I = sp.integrate(x * sp.cos(x**2), (x, 0, sp.pi / 2))\n",
    "sp.pprint(I)"
   ]
  },
  {
   "cell_type": "markdown",
   "id": "cc682406-7cc8-4fdd-b8c9-27057055446f",
   "metadata": {},
   "source": [
    "**Упражнение С3. Создать функцию, вычисляющую значения интегральных сумм на отрезке $[a, b]$ при равномерном разбиении его на $n$ отрезков и выбором точек, делящих отрезки разбиения в произвольном заданном отношении $λ$.**"
   ]
  },
  {
   "cell_type": "code",
   "execution_count": 37,
   "id": "e530c3d4-e245-4c8d-b1fe-0311b17bcf90",
   "metadata": {},
   "outputs": [],
   "source": [
    "def lambdaDel(f, a, b, n, lam):\n",
    "    delta_x = (b - a) / n\n",
    "    sum = 0\n",
    "    c = a + delta_x * lam\n",
    "    while c < b:\n",
    "        sum += delta_x * f(c)\n",
    "        c += delta_x\n",
    "    return sum"
   ]
  },
  {
   "cell_type": "markdown",
   "id": "7fda286f-b048-420a-b7a3-3e1993cd6a2a",
   "metadata": {},
   "source": [
    "**Проверить работу функции, сопоставив результат выполнения программы и результат, полученный вручную, для интегральных сумм функции $f(x)=x$ на отрезке $[1;2]$ при разбиении его на четыре равных части и выбором точек, делящих отрезки разбиения пополам.**"
   ]
  },
  {
   "cell_type": "code",
   "execution_count": 38,
   "id": "c8930e5b-e827-488e-9b29-bedf4211ba42",
   "metadata": {},
   "outputs": [
    {
     "name": "stdout",
     "output_type": "stream",
     "text": [
      "1.5\n"
     ]
    }
   ],
   "source": [
    "def function(x):\n",
    "    return x\n",
    "\n",
    "print(lambdaDel(function, 1, 2, 4, 0.5))"
   ]
  },
  {
   "cell_type": "markdown",
   "id": "2de1eb14-b39b-4e41-bbbe-c47f00becd6e",
   "metadata": {},
   "source": [
    "**Индивидуальные задания.**"
   ]
  },
  {
   "cell_type": "markdown",
   "id": "cfdede89-3e81-4e55-9ec3-ac5cecec4b0b",
   "metadata": {},
   "source": [
    "**Задание 1. Вычислить значения интегральных сумм функции $f(x)$ на отрезке $[a, b]$ при его разбиении на $n$ равных частей и выборе в качестве $\\xi_k$ точек, делящих отрезки разбиения в указанном отношении $λ$. Рассмотреть $n=2, 4, 8, 16,..., 1024$. Результаты представить в виде таблицы.**"
   ]
  },
  {
   "cell_type": "markdown",
   "id": "2b5014f8-a9c0-498c-b001-7d461bffc071",
   "metadata": {},
   "source": [
    "**<big>$f(x) = -x^3+1$, $a=-3$, $b=1$, $λ=\\frac{1}{3}$</big>**"
   ]
  },
  {
   "cell_type": "code",
   "execution_count": 39,
   "id": "7b34857f-671d-460e-9e91-6a0b8fc0456f",
   "metadata": {},
   "outputs": [
    {
     "name": "stdout",
     "output_type": "stream",
     "text": [
      "n\t S\n",
      "2 \t 29.481481481481485\n",
      "4 \t 27.851851851851848\n",
      "8 \t 26.148148148148152\n",
      "16 \t 25.12268518518518\n",
      "32 \t 24.572627314814824\n",
      "64 \t 24.289026331018537\n",
      "128 \t 24.145177770543963\n",
      "256 \t 24.072753341109696\n",
      "512 \t 24.03641757258683\n",
      "1024 \t 24.018218985310064\n"
     ]
    }
   ],
   "source": [
    "def lambdaDel(f, a, b, n, lam):\n",
    "    delta_x = (b - a) / n\n",
    "    sum = 0\n",
    "    c = a + delta_x * lam\n",
    "    while c < b:\n",
    "        sum += delta_x * f(c)\n",
    "        c += delta_x\n",
    "    return sum\n",
    "\n",
    "def function(x):\n",
    "    return -(x**3) + 1\n",
    "\n",
    "n = 2\n",
    "a = -3\n",
    "b = 1\n",
    "lam = 1 / 3\n",
    "\n",
    "print(\"n\\t S\")\n",
    "while n <= 1024:\n",
    "    print(n, \"\\t\", lambdaDel(function, a, b, n, lam))\n",
    "    n *= 2"
   ]
  },
  {
   "cell_type": "markdown",
   "id": "cfd2c1ff-879a-4d2c-959d-53567deac6d9",
   "metadata": {},
   "source": [
    "**Задание 2. Оценить значение <big>$\\int_{a}^{b} f(x)\\,dx$</big> с помощью сумм Дарбу при разбиении отрезка на $n$ равных частей. Рассмотреть $n=2, 4, 8, 16,..., 1024$. Полученными\n",
    "результатами дополнить таблицу из задания 1.**"
   ]
  },
  {
   "cell_type": "markdown",
   "id": "bc1678b7-8de6-4300-a3ed-6786dc19eb4c",
   "metadata": {},
   "source": [
    "**<big>$f(x) = -x^3+1$, $a=-3$, $b=1$, $λ=\\frac{1}{3}$</big>**"
   ]
  },
  {
   "cell_type": "code",
   "execution_count": 40,
   "id": "39f4d40c-d0ff-4c17-8e20-e1e837d9057d",
   "metadata": {},
   "outputs": [
    {
     "name": "stdout",
     "output_type": "stream",
     "text": [
      "n\t S\t\t D_H\t\t D_L\n",
      "2 \t 29.4814814815 \t 60.0000000000 \t 4.0000000000\n",
      "4 \t 27.8518518519 \t 40.0000000000 \t 12.0000000000\n",
      "8 \t 26.1481481481 \t 31.5000000000 \t 17.5000000000\n",
      "16 \t 25.1226851852 \t 27.6250000000 \t 20.6250000000\n",
      "32 \t 24.5726273148 \t 25.7812500000 \t 22.2812500000\n",
      "64 \t 24.2890263310 \t 24.8828125000 \t 23.1328125000\n",
      "128 \t 24.1451777705 \t 24.4394531250 \t 23.5644531250\n",
      "256 \t 24.0727533411 \t 24.2192382812 \t 23.7817382812\n",
      "512 \t 24.0364175726 \t 24.1094970703 \t 23.8907470703\n",
      "1024 \t 24.0182189853 \t 24.0547180176 \t 23.9453430176\n"
     ]
    }
   ],
   "source": [
    "import numpy as np\n",
    "\n",
    "epsilon = 0.00001\n",
    "\n",
    "def toFixed(numObj, digits=10):\n",
    "    return f\"{numObj:.{digits}f}\"\n",
    "\n",
    "def highDarby(f, a, b, n):\n",
    "    delta_x = (b - a) / n\n",
    "    sum = 0\n",
    "    for i in range(n):\n",
    "        arr = np.arange(a + i * delta_x, a + (i + 1) * delta_x, epsilon)\n",
    "        arr = np.append(arr, a + (i + 1) * delta_x)\n",
    "        sup = max(f(arr))\n",
    "        sum += delta_x * sup\n",
    "    return sum\n",
    "\n",
    "def lowDarby(f, a, b, n):\n",
    "    delta_x = (b - a) / n\n",
    "    sum = 0\n",
    "    for i in range(n):\n",
    "        arr = np.arange(a + i * delta_x, a + (i + 1) * delta_x, epsilon)\n",
    "        arr = np.append(arr, a + (i + 1) * delta_x)\n",
    "        inf = min(f(arr))\n",
    "        sum += delta_x * inf\n",
    "    return sum\n",
    "\n",
    "def function(x):\n",
    "    return -(x**3) + 1\n",
    "\n",
    "n = 2\n",
    "a = -3\n",
    "b = 1\n",
    "lam = 1 / 3\n",
    "\n",
    "print(\"n\\t S\\t\\t D_H\\t\\t D_L\")\n",
    "while n <= 1024:\n",
    "    print(n,\"\\t\", toFixed(lambdaDel(function, a, b, n, lam)), \"\\t\", toFixed(highDarby(function, a, b, n)), \"\\t\", toFixed(lowDarby(function, a, b, n)))\n",
    "    n *= 2"
   ]
  }
 ],
 "metadata": {
  "kernelspec": {
   "display_name": "Python 3 (ipykernel)",
   "language": "python",
   "name": "python3"
  },
  "language_info": {
   "codemirror_mode": {
    "name": "ipython",
    "version": 3
   },
   "file_extension": ".py",
   "mimetype": "text/x-python",
   "name": "python",
   "nbconvert_exporter": "python",
   "pygments_lexer": "ipython3",
   "version": "3.9.12"
  }
 },
 "nbformat": 4,
 "nbformat_minor": 5
}
