{
 "cells": [
  {
   "cell_type": "markdown",
   "id": "2180861f-5907-43ca-8a05-b10c64d3dcdc",
   "metadata": {},
   "source": [
    "<big>**Практикум 2.4. Принцип сжимающих отображений. Решение уравнений и систем линейных уравнений методом итераций.**</big>"
   ]
  },
  {
   "cell_type": "code",
   "execution_count": 10,
   "id": "6d718616-ed65-4fe4-8eeb-25a7d0c441aa",
   "metadata": {},
   "outputs": [],
   "source": [
    "import numpy as np\n",
    "import matplotlib.pyplot as plt\n",
    "import sympy as sp\n",
    "import math"
   ]
  },
  {
   "cell_type": "markdown",
   "id": "b4446a3c-4635-4c83-b438-8043ea2129b1",
   "metadata": {},
   "source": [
    "**Упражнение 1. Создать функции, которые вычисляют расстояние между точками <big>$R^n$</big> в различных метриках.**"
   ]
  },
  {
   "cell_type": "code",
   "execution_count": 11,
   "id": "b99ded9d-6cdc-4fb1-9a9c-4541fc9862a0",
   "metadata": {},
   "outputs": [],
   "source": [
    "def getMetricDistances(x, y):\n",
    "\n",
    "    # первая метрика\n",
    "    d1 = 0\n",
    "    for i in range(len(x)):\n",
    "        if (abs(x[i] - y[i])) > d1:\n",
    "            d1 = abs(x[i] - y[i])\n",
    "    print(\"В первой метрике:\", d1)\n",
    "\n",
    "    # вторая метрика\n",
    "    d2 = 0\n",
    "    for i in range(len(x)):\n",
    "        d2 += abs(x[i] - y[i])\n",
    "    print(\"Во второй метрике:\", d2)\n",
    "\n",
    "    # евклидова метрика\n",
    "    d3 = 0\n",
    "    for i in range(len(x)):\n",
    "        d3 += (x[i] - y[i]) ** 2\n",
    "    d3 = d3**0.5\n",
    "    print(\"В евклидовой метрике:\", d3)"
   ]
  },
  {
   "cell_type": "markdown",
   "id": "106ccb92-884d-40b7-a338-e4113fafd07f",
   "metadata": {},
   "source": [
    "**Проверить их работу для расстояний между точкой <big>$O(0;0)$</big> и точками <big>$A(3;4)$</big> и <big>$B(4;3)$</big>.**"
   ]
  },
  {
   "cell_type": "code",
   "execution_count": 12,
   "id": "ee000a9d-3504-4b70-8be4-a595dd517c68",
   "metadata": {},
   "outputs": [
    {
     "name": "stdout",
     "output_type": "stream",
     "text": [
      "В первой метрике: 4\n",
      "Во второй метрике: 7\n",
      "В евклидовой метрике: 5.0\n"
     ]
    }
   ],
   "source": [
    "O = [0, 0]\n",
    "A = [3, 4]\n",
    "B = [4, 3]\n",
    "getMetricDistances(O, A)"
   ]
  },
  {
   "cell_type": "code",
   "execution_count": 13,
   "id": "c6f1b263-c0f1-46c8-8b5b-ec74c5e94302",
   "metadata": {},
   "outputs": [
    {
     "name": "stdout",
     "output_type": "stream",
     "text": [
      "В первой метрике: 4\n",
      "Во второй метрике: 7\n",
      "В евклидовой метрике: 5.0\n"
     ]
    }
   ],
   "source": [
    "getMetricDistances(O, B)"
   ]
  },
  {
   "cell_type": "markdown",
   "id": "4647eaa9-7442-46ae-a90c-0296d46195d0",
   "metadata": {},
   "source": [
    "**Вычислить расстояния между точками <big>$A(1;2;3;4)$</big> и <big>$B(7;3;4;200)$</big> в различных метриках.**"
   ]
  },
  {
   "cell_type": "code",
   "execution_count": 14,
   "id": "12cfa2e0-cc35-48b6-9ace-6e27e454c506",
   "metadata": {},
   "outputs": [
    {
     "name": "stdout",
     "output_type": "stream",
     "text": [
      "В первой метрике: 196\n",
      "Во второй метрике: 204\n",
      "В евклидовой метрике: 196.0969148150985\n"
     ]
    }
   ],
   "source": [
    "A = [1, 2, 3, 4]\n",
    "B = [7, 3, 4, 200]\n",
    "getMetricDistances(A, B)"
   ]
  },
  {
   "cell_type": "markdown",
   "id": "3e7fe646-e44c-4f86-9718-089ef0a16941",
   "metadata": {},
   "source": [
    "**Упражнение 2. Создать функцию, строящую изображение замкнутого шара в <big>$R^2$</big> для различных метрик.**"
   ]
  },
  {
   "cell_type": "code",
   "execution_count": 15,
   "id": "75b1661a-10d1-455b-b406-6dcc7431a9fb",
   "metadata": {},
   "outputs": [],
   "source": [
    "def drawMetricSphere(center, r):\n",
    "\n",
    "    x = r - 2 * r * np.random.rand(100000) + center[0]\n",
    "    y = r - 2 * r * np.random.rand(100000) + center[1]\n",
    "\n",
    "    plt.subplots(figsize=(10, 10))\n",
    "\n",
    "    # первая метрика\n",
    "    plt.subplot(1, 3, 1)\n",
    "    L = np.logical_and(\n",
    "        ((abs(x - center[0])) <= r), ((abs(y - center[1])) <= r)\n",
    "    )  # логический индекс для отбора значений\n",
    "    plt.plot(x[L], y[L], \".\")\n",
    "\n",
    "    # параметры координатной плоскости\n",
    "    plt.xlabel(\"x\")\n",
    "    plt.ylabel(\"y\", rotation=0)\n",
    "    plt.grid()\n",
    "    plt.axhline(y=0, color=\"k\")\n",
    "    plt.axvline(x=0, color=\"k\")\n",
    "    plt.xlim(center[0] - r - 2, center[0] + r + 2)\n",
    "    plt.ylim(center[1] - r - 2, center[1] + r + 2)\n",
    "    plt.axis(\"scaled\")\n",
    "\n",
    "    # вторая метрика\n",
    "    plt.subplot(1, 3, 2)\n",
    "    L = (abs(x - center[0])) + (abs(y - center[1])) <= r\n",
    "    plt.plot(x[L], y[L], \".\")\n",
    "\n",
    "    # параметры координатной плоскости\n",
    "    plt.xlabel(\"x\")\n",
    "    plt.ylabel(\"y\", rotation=0)\n",
    "    plt.grid()\n",
    "    plt.axhline(y=0, color=\"k\")\n",
    "    plt.axvline(x=0, color=\"k\")\n",
    "    plt.xlim(center[0] - r - 2, center[0] + r + 2)\n",
    "    plt.ylim(center[1] - r - 2, center[1] + r + 2)\n",
    "    plt.axis(\"scaled\")\n",
    "\n",
    "    # третья метрика\n",
    "    plt.subplot(1, 3, 3)\n",
    "    L = ((x - center[0]) ** 2 + (y - center[1]) ** 2) ** 0.5 <= r\n",
    "    plt.plot(x[L], y[L], \".\")\n",
    "\n",
    "    # параметры координатной плоскости\n",
    "    plt.xlabel(\"x\")\n",
    "    plt.ylabel(\"y\", rotation=0)\n",
    "    plt.grid()\n",
    "    plt.axhline(y=0, color=\"k\")\n",
    "    plt.axvline(x=0, color=\"k\")\n",
    "    plt.xlim(center[0] - r - 2, center[0] + r + 2)\n",
    "    plt.ylim(center[1] - r - 2, center[1] + r + 2)\n",
    "    plt.axis(\"scaled\")\n",
    "\n",
    "    plt.subplots_adjust(left=None, bottom=None, right=None, top=None, wspace=0.25, hspace=None)\n",
    "    plt.show()"
   ]
  },
  {
   "cell_type": "markdown",
   "id": "f296912c-7fed-4a94-88ea-6f63128a2017",
   "metadata": {},
   "source": [
    "**Построить шары <big>$\\overline{B}_{0, 1}$</big> в метриках <big>$\\rho_0$</big>, <big>$\\rho_1$</big>, <big>$\\rho_2$</big>.**"
   ]
  },
  {
   "cell_type": "code",
   "execution_count": 16,
   "id": "93e33eb7-2cef-43ae-9384-bddfe8f58fd7",
   "metadata": {},
   "outputs": [
    {
     "data": {
      "image/png": "[encoded data removed]",
      "text/plain": [
       "<Figure size 720x720 with 3 Axes>"
      ]
     },
     "metadata": {
      "needs_background": "light"
     },
     "output_type": "display_data"
    }
   ],
   "source": [
    "center_point = [0, 0]\n",
    "r = 1\n",
    "\n",
    "drawMetricSphere(center_point, r)"
   ]
  },
  {
   "cell_type": "markdown",
   "id": "4f92c283-2f28-486c-90dd-3624d619c459",
   "metadata": {},
   "source": [
    "**Упражнение 3. Положив <big>$x_1=3$</big> вывести <big>$10$</big> первых членов последовательности <big>$x_n$</big>, заданной рекуррентной формулой <big>$x_{k+1}=tg(x_k)$</big>.**"
   ]
  },
  {
   "cell_type": "code",
   "execution_count": 17,
   "id": "2fdec498-f58d-42c0-a682-b15e46aba9c6",
   "metadata": {},
   "outputs": [
    {
     "name": "stdout",
     "output_type": "stream",
     "text": [
      "3\n",
      "-0.1425465430742778\n",
      "-0.14351994778492885\n",
      "-0.14451354178374737\n",
      "-0.14552803216462146\n",
      "-0.14656416116305784\n",
      "-0.14762270843290942\n",
      "-0.14870449350594378\n",
      "-0.14981037845185682\n",
      "-0.15094127075832087\n"
     ]
    }
   ],
   "source": [
    "x = 3\n",
    "for i in range(2, 12):\n",
    "    print(x)\n",
    "    x = np.tan(x)"
   ]
  },
  {
   "cell_type": "markdown",
   "id": "012c641a-c5e8-4014-a9c6-d6b3effb04e9",
   "metadata": {},
   "source": [
    "*Процесс итераций для уравнения расходится.*"
   ]
  },
  {
   "cell_type": "markdown",
   "id": "c63654f6-e918-4bd3-bcfc-8e7d62ecefb5",
   "metadata": {},
   "source": [
    "**Упражнение 4. Создать функцию для решения уравнения <big>$f(x)=x$</big> с заданной точностью с выводом последовательности приближений. Входными параметрами являются функция <big>$f(x)$</big>, параметр сжатия <big>$\\alpha$</big>, начальное приближение <big>$x_1$</big>, точность решения <big>$ε$</big>.**"
   ]
  },
  {
   "cell_type": "code",
   "execution_count": 18,
   "id": "3823e7cc-2e5c-4545-a554-afb7238ae3dc",
   "metadata": {},
   "outputs": [],
   "source": [
    "def solveFunc(f, alpha, x1, epsilon):\n",
    "    print(x1)\n",
    "    x = f(x1)\n",
    "    r0 = abs(x - x1)\n",
    "    n = math.ceil((np.log(epsilon * (1 - alpha)) - np.log(r0)) / np.log(alpha))\n",
    "\n",
    "    for i in range(n + 1):\n",
    "        print(x)\n",
    "        x = f(x)"
   ]
  },
  {
   "cell_type": "markdown",
   "id": "962ad19b-bd0f-4d8a-9a0f-f630004d5800",
   "metadata": {},
   "source": [
    "**Проверить работу для уравнения из примера 2.**"
   ]
  },
  {
   "cell_type": "code",
   "execution_count": 19,
   "id": "306def24-fb7d-4bff-ab70-3f7ae60b8724",
   "metadata": {},
   "outputs": [
    {
     "name": "stdout",
     "output_type": "stream",
     "text": [
      "3\n",
      "4.3906384259880475\n",
      "4.4884516448912075\n",
      "4.4931752502709985\n",
      "4.493398404996493\n",
      "4.493408936315932\n",
      "4.493409433294847\n",
      "4.493409456747508\n",
      "4.493409457854249\n"
     ]
    }
   ],
   "source": [
    "def f(x):\n",
    "    return np.arctan(x) + np.pi\n",
    "\n",
    "solveFunc(f, 0.2884, 3, 0.001)"
   ]
  },
  {
   "cell_type": "markdown",
   "id": "bbe6195f-25f5-42b3-a9a3-217f1e87b8d0",
   "metadata": {},
   "source": [
    "**С точностью <big>$0.0001$</big> решить уравнение: <big>$x+1 = xlgx$</big>.**"
   ]
  },
  {
   "cell_type": "markdown",
   "id": "01e088d5-9f8b-441c-8882-2fb60df44e3a",
   "metadata": {},
   "source": [
    "**<big>$1+\\frac{1}{x} = lgx$</big>**"
   ]
  },
  {
   "cell_type": "markdown",
   "id": "fb34f5c5-08a9-4360-8394-f3f309adac87",
   "metadata": {},
   "source": [
    "**<big>$x = 10^{1+\\frac{1}{x}}$</big>**"
   ]
  },
  {
   "cell_type": "code",
   "execution_count": 20,
   "id": "0c64424e-a01e-4149-bd31-a7fb889acde1",
   "metadata": {},
   "outputs": [
    {
     "name": "stdout",
     "output_type": "stream",
     "text": [
      "20\n",
      "11.220184543019636\n",
      "12.277928326341959\n",
      "12.062767718787475\n",
      "12.10318619477071\n",
      "12.095473427204789\n",
      "12.096940840874877\n",
      "12.09666149622171\n",
      "12.09671466803236\n",
      "12.096704546845833\n",
      "12.096706473393306\n",
      "12.096706106678607\n"
     ]
    }
   ],
   "source": [
    "def f(x):\n",
    "    return 10 ** (1 + (1 / x))\n",
    "\n",
    "x = sp.Symbol(\"x\")\n",
    "solveFunc(f, 0.2884, 20, 0.0001)"
   ]
  },
  {
   "cell_type": "markdown",
   "id": "5f011356-bd73-4974-aacf-ec4f04f0d472",
   "metadata": {},
   "source": [
    "**Сравнить с ответом, полученными при непосредственном решении в Python.**"
   ]
  },
  {
   "cell_type": "code",
   "execution_count": 21,
   "id": "ddd95b1e-d726-44bf-a5c4-c547a0a612fe",
   "metadata": {},
   "outputs": [
    {
     "name": "stdout",
     "output_type": "stream",
     "text": [
      "12.096706165319809\n"
     ]
    }
   ],
   "source": [
    "x = sp.Symbol(\"x\")\n",
    "print(float(sp.solve(x + 1 - x * sp.log(x, 10), x)[0]))"
   ]
  },
  {
   "cell_type": "markdown",
   "id": "2ccfac3b-343a-4569-8074-e063311634ee",
   "metadata": {},
   "source": [
    "**Упражнение 5. Записать систему уравнений в виде <big>$B+CX=X$</big>. Проверить выполнение условия сжатости матрицы <big>$C$</big>. Создать функцию для решения методом итераций системы уравнений <big>$AX=B$</big> с точностью <big>$ε$</big>, взяв в качестве начального приближения решения <big>$X_1=B$</big>. Выходные параметры: приближённое решение и количество итераций.**"
   ]
  },
  {
   "cell_type": "code",
   "execution_count": 27,
   "id": "031e9108-b8f0-48be-bd9e-bc4d7c3a516f",
   "metadata": {},
   "outputs": [],
   "source": [
    "def checkC(A, B):\n",
    "    C = -A + np.eye(A.shape[0])\n",
    "\n",
    "    condition1 = np.zeros(A.shape[0])\n",
    "    condition2 = np.zeros(A.shape[0])\n",
    "    condition3 = 0\n",
    "\n",
    "    for i in range(C.shape[0]):\n",
    "        for j in range(C.shape[0]):\n",
    "            condition1[i] += abs(C[i][j])\n",
    "            condition2[i] += abs(C[j][i])\n",
    "            condition3 += C[i][j] ** 2\n",
    "\n",
    "    if max(condition1) < 1 or max(condition2) < 1 or condition3**0.5 < 1:\n",
    "        print(\"Итерационный процесс сходится.\")\n",
    "        return True\n",
    "    else:\n",
    "        print(\"Итерационный процесс расходится.\")\n",
    "        return False\n",
    "\n",
    "def solveMatrixFunc(A, B, epsilon):\n",
    "    if checkC(A, B):\n",
    "        C = -A + np.eye(A.shape[0])\n",
    "        X = B + np.matmul(C, B)\n",
    "        alpha = 0.5\n",
    "        r0 = abs(X - B)\n",
    "        n = (np.log(epsilon * (1 - alpha)) - np.log(r0)) / np.log(alpha)\n",
    "        for i in range((math.ceil(max(map(max, n)))) + 1):\n",
    "            X = B + np.matmul(C, X)\n",
    "        return X"
   ]
  },
  {
   "cell_type": "markdown",
   "id": "7ff76fc3-94e1-494a-989b-ff68d9005956",
   "metadata": {},
   "source": [
    "**Решить систему уравнений с точностью <big>$0.001$</big>.**"
   ]
  },
  {
   "cell_type": "markdown",
   "id": "59483833-0637-47b0-af8c-91790e1f0ebf",
   "metadata": {},
   "source": [
    "**<big>$A=$</big> \n",
    " $\\begin{pmatrix}\n",
    "  1 & 0,06 & -0,02\\\\ \n",
    "  0,03 & 1 & -0,05\\\\ \n",
    "  0,01 & -0,02 & 1\n",
    "\\end{pmatrix}$, <big>$B=$</big> \n",
    " $\\begin{pmatrix}\n",
    "  2\\\\ \n",
    "  3\\\\ \n",
    "  5\n",
    "\\end{pmatrix}$**"
   ]
  },
  {
   "cell_type": "code",
   "execution_count": 28,
   "id": "f4a4d68b-f81d-4649-bd8f-01893929c566",
   "metadata": {},
   "outputs": [
    {
     "name": "stdout",
     "output_type": "stream",
     "text": [
      "Итерационный процесс сходится.\n",
      "[[1.90919828]\n",
      " [3.19496442]\n",
      " [5.04480731]]\n"
     ]
    }
   ],
   "source": [
    "A = np.array([[1, 0.06, -0.02], [0.03, 1, -0.05], [0.01, -0.02, 1]])\n",
    "B = np.array([[2], [3], [5]])\n",
    "\n",
    "print(solveMatrixFunc(A, B, 0.001))"
   ]
  },
  {
   "cell_type": "markdown",
   "id": "b3c17a03-629c-42f7-8f0b-ee2b3538d43d",
   "metadata": {},
   "source": [
    "**Проверить решение подстановкой.**"
   ]
  },
  {
   "cell_type": "code",
   "execution_count": 9,
   "id": "4454171e-d637-45e6-9a9f-4d0e4a0744fc",
   "metadata": {},
   "outputs": [
    {
     "name": "stdout",
     "output_type": "stream",
     "text": [
      "[[2.]\n",
      " [3.]\n",
      " [5.]]\n"
     ]
    }
   ],
   "source": [
    "ans = np.array([[1.90919828], [3.19496442], [5.04480731]])\n",
    "print(np.matmul(A, ans))"
   ]
  }
 ],
 "metadata": {
  "kernelspec": {
   "display_name": "Python 3 (ipykernel)",
   "language": "python",
   "name": "python3"
  },
  "language_info": {
   "codemirror_mode": {
    "name": "ipython",
    "version": 3
   },
   "file_extension": ".py",
   "mimetype": "text/x-python",
   "name": "python",
   "nbconvert_exporter": "python",
   "pygments_lexer": "ipython3",
   "version": "3.9.12"
  }
 },
 "nbformat": 4,
 "nbformat_minor": 5
}
