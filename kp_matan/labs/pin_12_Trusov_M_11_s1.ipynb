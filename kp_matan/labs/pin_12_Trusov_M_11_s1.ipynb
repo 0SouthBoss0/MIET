{
 "cells": [
  {
   "cell_type": "markdown",
   "id": "aee206ac-71fc-48dc-9ff5-b7d91370e635",
   "metadata": {},
   "source": [
    "**Практикум 11. Исследование функций и построение графиков.**"
   ]
  },
  {
   "cell_type": "markdown",
   "id": "5efbdfc5-dd5f-4157-b500-71526b695de0",
   "metadata": {},
   "source": [
    "**Упражнение 1. Найти корни уравнения $sin(x)=x^2cos(x)$, принадлежащие промежутку $[-5; 5]$.**"
   ]
  },
  {
   "cell_type": "code",
   "execution_count": 10,
   "id": "8aaeacbe-a476-4934-9f2b-102f3818d445",
   "metadata": {},
   "outputs": [
    {
     "name": "stdout",
     "output_type": "stream",
     "text": [
      "Корень уравнения 1: -4.756559405702904\n",
      "Корень уравнения 2: -1.8539274596961504\n",
      "Корень уравнения 3: 1.9406995821759366e-17\n",
      "Корень уравнения 4: 4.666499563444645\n"
     ]
    },
    {
     "data": {
      "image/png": "[encoded data removed]",
      "text/plain": [
       "<Figure size 432x288 with 1 Axes>"
      ]
     },
     "metadata": {
      "needs_background": "light"
     },
     "output_type": "display_data"
    }
   ],
   "source": [
    "from scipy import optimize\n",
    "import matplotlib.pyplot as plt\n",
    "import numpy as np\n",
    "\n",
    "def f(x):\n",
    "    return np.sin(x) - x ** 2 * np.cos(x)\n",
    "\n",
    "# построение функции\n",
    "x = np.arange(-5, 5, 0.01)\n",
    "plt.plot(x, f(x), \"b\")\n",
    "\n",
    "# нули функции\n",
    "x1 = optimize.brentq(f, -5, -4.5)\n",
    "print(\"Корень уравнения 1:\", x1)\n",
    "x2 = optimize.brentq(f, -2, -1.5)\n",
    "print(\"Корень уравнения 2:\", x2)\n",
    "x3 = optimize.brentq(f, -0.5, 0.5)\n",
    "print(\"Корень уравнения 3:\", x3)\n",
    "x4 = optimize.brentq(f, 4.5, 5)\n",
    "print(\"Корень уравнения 4:\", x4)\n",
    "\n",
    "# построение точек нулей функции\n",
    "plt.plot(x1, 0, \"ro\")\n",
    "plt.plot(x2, 0, \"ro\")\n",
    "plt.plot(x3, 0, \"ro\")\n",
    "plt.plot(x4, 0, \"ro\")\n",
    "\n",
    "# установить границы оси\n",
    "plt.ylim(-5, 5)\n",
    "plt.xlim(-5, 5)\n",
    "\n",
    "# параметры координатной плоскости\n",
    "plt.xlabel(\"x\")\n",
    "plt.ylabel(\"y\", rotation=0)\n",
    "plt.grid()\n",
    "plt.axhline(y=0, color='k')\n",
    "plt.axvline(x=0, color='k')\n",
    "plt.show()"
   ]
  },
  {
   "cell_type": "markdown",
   "id": "aee24bf0-311d-4ac9-927b-b5494c6dbc35",
   "metadata": {},
   "source": [
    "**Упражнение 3. Найти все корни уравнения $sin(x)-x^2cos(x)=0$, принадлежащие промежутку $[-10; 10]$.**"
   ]
  },
  {
   "cell_type": "code",
   "execution_count": 11,
   "id": "171b695b-3fd0-453f-9704-10e54197e326",
   "metadata": {},
   "outputs": [
    {
     "name": "stdout",
     "output_type": "stream",
     "text": [
      "Корень уравнения 1: -7.870125181975536\n",
      "Корень уравнения 2: -4.756559405702904\n",
      "Корень уравнения 3: -1.8539274596961504\n",
      "Корень уравнения 4: 1.9406995821759366e-17\n",
      "Корень уравнения 5: 4.666499563444645\n",
      "Корень уравнения 6: 7.837704276716606\n"
     ]
    },
    {
     "data": {
      "image/png": "[encoded data removed]",
      "text/plain": [
       "<Figure size 432x288 with 1 Axes>"
      ]
     },
     "metadata": {
      "needs_background": "light"
     },
     "output_type": "display_data"
    }
   ],
   "source": [
    "from scipy import optimize\n",
    "import matplotlib.pyplot as plt\n",
    "import numpy as np\n",
    "\n",
    "def f(x):\n",
    "    return np.sin(x) - x ** 2 * np.cos(x)\n",
    "\n",
    "# построение функции\n",
    "x = np.arange(-10, 10, 0.01)\n",
    "plt.plot(x, f(x), \"b\")\n",
    "\n",
    "# нули функции\n",
    "x1 = optimize.brentq(f, -8, -7.5)\n",
    "print(\"Корень уравнения 1:\", x1)\n",
    "x2 = optimize.brentq(f, -5, -4.5)\n",
    "print(\"Корень уравнения 2:\", x2)\n",
    "x3 = optimize.brentq(f, -2, -1.5)\n",
    "print(\"Корень уравнения 3:\", x3)\n",
    "x4 = optimize.brentq(f, -0.5, 0.5)\n",
    "print(\"Корень уравнения 4:\", x4)\n",
    "x5 = optimize.brentq(f, 4.5, 5)\n",
    "print(\"Корень уравнения 5:\", x5)\n",
    "x6 = optimize.brentq(f, 7.5, 8)\n",
    "print(\"Корень уравнения 6:\", x6)\n",
    "\n",
    "# построение нулей функции\n",
    "plt.plot(x1, 0, \"ro\")\n",
    "plt.plot(x2, 0, \"ro\")\n",
    "plt.plot(x3, 0, \"ro\")\n",
    "plt.plot(x4, 0, \"ro\")\n",
    "plt.plot(x5, 0, \"ro\")\n",
    "plt.plot(x6, 0, \"ro\")\n",
    "\n",
    "# установить границы оси\n",
    "plt.ylim(-5, 5)\n",
    "plt.xlim(-10, 10)\n",
    "\n",
    "# параметры координатной плоскости\n",
    "plt.xlabel(\"x\")\n",
    "plt.ylabel(\"y\", rotation=0)\n",
    "plt.grid()\n",
    "plt.axhline(y=0, color='k')\n",
    "plt.axvline(x=0, color='k')\n",
    "plt.show()"
   ]
  },
  {
   "cell_type": "markdown",
   "id": "be2c2ab6-0cbe-40c8-b819-9c5a16e85570",
   "metadata": {},
   "source": [
    "**Упражнение 4. Найти локальные максимумы и минимумы для функции $f(x)=e^{-x}sin(3πx)$ на промежутке $[0; 2]$.**"
   ]
  },
  {
   "cell_type": "markdown",
   "id": "c1ed9fc2-62c2-4fd6-a0d3-4a77f1e9c344",
   "metadata": {},
   "source": [
    "Найдем производную:"
   ]
  },
  {
   "cell_type": "code",
   "execution_count": 12,
   "id": "9a676912-31bc-427e-a25c-513ec016a33f",
   "metadata": {},
   "outputs": [
    {
     "name": "stdout",
     "output_type": "stream",
     "text": [
      "-1.0*sin(9.42477796076938*x)/2.71828182845905**x + 9.42477796076938*cos(9.42477796076938*x)/2.71828182845905**x\n"
     ]
    }
   ],
   "source": [
    "import matplotlib.pyplot as plt\n",
    "import numpy as np\n",
    "import sympy as sp\n",
    "from scipy import optimize\n",
    "\n",
    "x = sp.Symbol('x')\n",
    "y = np.e ** (-x) * sp.sin(3 * np.pi * x)\n",
    "print(y.diff())"
   ]
  },
  {
   "cell_type": "code",
   "execution_count": 13,
   "id": "4bb63ee9-1d53-4f25-a482-1040399e516d",
   "metadata": {},
   "outputs": [
    {
     "name": "stdout",
     "output_type": "stream",
     "text": [
      "Точка экстремума 1: 0.15545072112179584 - Максимум\n",
      "Точка экстремума 2: 0.48878405445512924 - Минимум\n",
      "Точка экстремума 3: 0.8221173877884626 - Максимум\n",
      "Точка экстремума 4: 1.155450721121796 - Минимум\n",
      "Точка экстремума 5: 1.4887840544551294 - Максимум\n",
      "Точка экстремума 6: 1.8221173877884627 - Минимум\n"
     ]
    },
    {
     "data": {
      "image/png": "[encoded data removed]",
      "text/plain": [
       "<Figure size 432x288 with 1 Axes>"
      ]
     },
     "metadata": {
      "needs_background": "light"
     },
     "output_type": "display_data"
    }
   ],
   "source": [
    "def f(x):\n",
    "    return np.e ** (-x) * np.sin(3 * np.pi * x)\n",
    "\n",
    "def der(x_podst):\n",
    "    y = -1.0 * sp.sin(9.42477796076938 * x) / 2.71828182845905 ** x + 9.42477796076938 * sp.cos(9.42477796076938 * x) / 2.71828182845905 ** x\n",
    "    return y.subs(x, x_podst)\n",
    "\n",
    "def checkExtremum(f, x):\n",
    "    eps = 0.001\n",
    "    if f(x) - f(x - eps) > 0:\n",
    "        return \"Максимум\"\n",
    "    return \"Минимум\"\n",
    "\n",
    "# построение функции\n",
    "x = np.arange(0, 2, 0.01)\n",
    "plt.plot(x, f(x), \"r\")\n",
    "\n",
    "# построение производной\n",
    "x = sp.Symbol('x')\n",
    "x_plt = np.arange(0, 2, 0.01)\n",
    "y_plt = []\n",
    "for i in range(len(x_plt)):\n",
    "    y_plt.append(der(x_plt[i]))\n",
    "plt.plot(x_plt, y_plt, \"b:\")\n",
    "\n",
    "# точки экстремума\n",
    "x1 = optimize.brentq(der, 0, 0.25)\n",
    "print(\"Точка экстремума 1:\", x1, \"-\", checkExtremum(f, x1))\n",
    "x2 = optimize.brentq(der, 0.25, 0.5)\n",
    "print(\"Точка экстремума 2:\", x2, \"-\", checkExtremum(f, x2))\n",
    "x3 = optimize.brentq(der, 0.75, 1)\n",
    "print(\"Точка экстремума 3:\", x3, \"-\", checkExtremum(f, x3))\n",
    "x4 = optimize.brentq(der, 1, 1.25)\n",
    "print(\"Точка экстремума 4:\", x4, \"-\", checkExtremum(f, x4))\n",
    "x5 = optimize.brentq(der, 1.25, 1.5)\n",
    "print(\"Точка экстремума 5:\", x5, \"-\", checkExtremum(f, x5))\n",
    "x6 = optimize.brentq(der, 1.75, 2)\n",
    "print(\"Точка экстремума 6:\", x6, \"-\", checkExtremum(f, x6))\n",
    "\n",
    "# построение точек экстремума функции\n",
    "plt.plot(x1, f(x1), \"ro\")\n",
    "plt.plot(x2, f(x2), \"ro\")\n",
    "plt.plot(x3, f(x3), \"ro\")\n",
    "plt.plot(x4, f(x4), \"ro\")\n",
    "plt.plot(x5, f(x5), \"ro\")\n",
    "plt.plot(x6, f(x6), \"ro\")\n",
    "\n",
    "# установить границы оси\n",
    "plt.ylim(-1, 1)\n",
    "\n",
    "# параметры координатной плоскости\n",
    "plt.xlabel(\"x\")\n",
    "plt.ylabel(\"y\", rotation=0)\n",
    "plt.grid()\n",
    "plt.axhline(y=0, color='k')\n",
    "plt.axvline(x=0, color='k')\n",
    "plt.show()"
   ]
  },
  {
   "cell_type": "markdown",
   "id": "82637d71-6de0-494e-bb62-70af66e30caa",
   "metadata": {},
   "source": [
    "**Упражнение 5. Найти точки перегиба для функции $f(x)=e^{-x}sin(3πx)$ на промежутке $[0; 2]$.**"
   ]
  },
  {
   "cell_type": "markdown",
   "id": "7373342a-3481-42aa-936d-ae055e2e6f6a",
   "metadata": {},
   "source": [
    "Найдем вторую производную:"
   ]
  },
  {
   "cell_type": "code",
   "execution_count": 14,
   "id": "ec63d2f5-04a0-4245-93d9-33df48b718b2",
   "metadata": {},
   "outputs": [
    {
     "name": "stdout",
     "output_type": "stream",
     "text": [
      "-87.8264396098042*sin(9.42477796076938*x)/2.71828182845905**x - 18.8495559215388*cos(9.42477796076938*x)/2.71828182845905**x\n"
     ]
    }
   ],
   "source": [
    "import matplotlib.pyplot as plt\n",
    "import numpy as np\n",
    "import sympy as sp\n",
    "from scipy import optimize\n",
    "\n",
    "x = sp.Symbol('x')\n",
    "y = np.e ** (-x) * sp.sin(3 * np.pi * x)\n",
    "y=y.diff()\n",
    "print(y.diff())"
   ]
  },
  {
   "cell_type": "code",
   "execution_count": 15,
   "id": "0ec5f5f0-43a4-4a46-af94-2b740faa5e55",
   "metadata": {},
   "outputs": [
    {
     "name": "stdout",
     "output_type": "stream",
     "text": [
      "Точка перегиба 1: 0.31090144224359173\n",
      "Точка перегиба 2: 0.644234775576922\n",
      "Точка перегиба 3: 0.9775681089102627\n",
      "Точка перегиба 4: 1.3109014422435918\n",
      "Точка перегиба 5: 1.644234775576922\n",
      "Точка перегиба 6: 1.9775681089102628\n"
     ]
    },
    {
     "data": {
      "image/png": "[encoded data removed]",
      "text/plain": [
       "<Figure size 432x288 with 1 Axes>"
      ]
     },
     "metadata": {
      "needs_background": "light"
     },
     "output_type": "display_data"
    }
   ],
   "source": [
    "def f(x):\n",
    "    return np.e ** (-x) * np.sin(3 * np.pi * x)\n",
    "\n",
    "def der_2(x_podst):\n",
    "    y = -87.8264396098042*sp.sin(9.42477796076938*x)/2.71828182845905**x - 18.8495559215388*sp.cos(9.42477796076938*x)/2.71828182845905**x\n",
    "    return y.subs(x, x_podst)\n",
    "\n",
    "# построение функции\n",
    "x = np.arange(0, 2, 0.01)\n",
    "plt.plot(x, f(x), \"r\")\n",
    "\n",
    "# построение второй производной\n",
    "x = sp.Symbol('x')\n",
    "x_plt = np.arange(0, 2, 0.01)\n",
    "y_plt = []\n",
    "for i in range(len(x_plt)):\n",
    "    y_plt.append(der_2(x_plt[i]))\n",
    "plt.plot(x_plt, y_plt, \"b:\")\n",
    "\n",
    "# точки перегиба\n",
    "x1 = optimize.brentq(der_2, 0.25, 0.5)\n",
    "print(\"Точка перегиба 1:\", x1)\n",
    "x2 = optimize.brentq(der_2, 0.5, 0.75)\n",
    "print(\"Точка перегиба 2:\", x2)\n",
    "x3 = optimize.brentq(der_2, 0.75, 1)\n",
    "print(\"Точка перегиба 3:\", x3)\n",
    "x4 = optimize.brentq(der_2, 1.25, 1.5)\n",
    "print(\"Точка перегиба 4:\", x4)\n",
    "x5 = optimize.brentq(der_2, 1.5, 1.75)\n",
    "print(\"Точка перегиба 5:\", x5)\n",
    "x6 = optimize.brentq(der_2, 1.75, 2)\n",
    "print(\"Точка перегиба 6:\", x6)\n",
    "\n",
    "# построение точек перегиба функции\n",
    "plt.plot(x1, f(x1), \"ro\")\n",
    "plt.plot(x2, f(x2), \"ro\")\n",
    "plt.plot(x3, f(x3), \"ro\")\n",
    "plt.plot(x4, f(x4), \"ro\")\n",
    "plt.plot(x5, f(x5), \"ro\")\n",
    "plt.plot(x6, f(x6), \"ro\")\n",
    "\n",
    "# установить границы оси\n",
    "plt.ylim(-1, 1)\n",
    "\n",
    "# параметры координатной плоскости\n",
    "plt.xlabel(\"x\")\n",
    "plt.ylabel(\"y\", rotation=0)\n",
    "plt.grid()\n",
    "plt.axhline(y=0, color='k')\n",
    "plt.axvline(x=0, color='k')\n",
    "plt.show()"
   ]
  },
  {
   "cell_type": "markdown",
   "id": "982c3bc7-d631-4319-bb73-4a263d67bb4a",
   "metadata": {},
   "source": [
    "**Упражнение 6. Построить график функции $f(x) = \\frac{x^3-3x^2-3x}{x^2-1}$. Найти нули функции, точки экстремума и значения в них, точки перегиба, значения в них, значения тангенса угла наклона касательной в точке перегиба, найти односторонние пределы в точках разрыва, уравнения асимптот. Обозначить на графике экстремумы, построить касательные в окрестностях точек перегиба, асимптоты.**"
   ]
  },
  {
   "cell_type": "markdown",
   "id": "984864ab-a13f-46fb-bc4f-98e28c54e12b",
   "metadata": {},
   "source": [
    "Нули функции:"
   ]
  },
  {
   "cell_type": "code",
   "execution_count": 16,
   "id": "1b96e8d8-2b79-4e32-95c4-f2591df43c51",
   "metadata": {},
   "outputs": [
    {
     "name": "stdout",
     "output_type": "stream",
     "text": [
      "Корень уравнения 1: -0.791287847477934\n",
      "Корень уравнения 2: 1.9924228328730886e-24\n",
      "Корень уравнения 3: 3.7912878474779292\n"
     ]
    },
    {
     "data": {
      "image/png": "[encoded data removed]",
      "text/plain": [
       "<Figure size 432x288 with 1 Axes>"
      ]
     },
     "metadata": {
      "needs_background": "light"
     },
     "output_type": "display_data"
    }
   ],
   "source": [
    "import matplotlib.pyplot as plt\n",
    "import numpy as np\n",
    "from scipy import optimize\n",
    "\n",
    "def f(x):\n",
    "    return (x ** 3 - 3 * x ** 2 - 3 * x) / (x ** 2 - 1)\n",
    "\n",
    "# нули функции\n",
    "x1 = optimize.brentq(f, -0.9, -0.5)\n",
    "print(\"Корень уравнения 1:\", x1)\n",
    "x2 = optimize.brentq(f, -0.5, 0.5)\n",
    "print(\"Корень уравнения 2:\", x2)\n",
    "x3 = optimize.brentq(f, 3, 4)\n",
    "print(\"Корень уравнения 3:\", x3)\n",
    "\n",
    "# построение точек нулей функции\n",
    "plt.plot(x1, 0, \"ro\")\n",
    "plt.plot(x2, 0, \"ro\")\n",
    "plt.plot(x3, 0, \"ro\")\n",
    "\n",
    "# построение функции\n",
    "x = np.linspace(-5, -1.0001, 5000)\n",
    "plt.plot(x, f(x), \"r\")\n",
    "x = np.linspace(-0.9999, 0.9999, 5000)\n",
    "plt.plot(x, f(x), \"r\")\n",
    "x = np.linspace(1.0001, 5, 5000)\n",
    "plt.plot(x, f(x), \"r\")\n",
    "\n",
    "# установить границы оси\n",
    "plt.ylim(-10, 10)\n",
    "plt.xlim(-4, 5)\n",
    "\n",
    "# параметры координатной плоскости\n",
    "plt.xlabel(\"x\")\n",
    "plt.ylabel(\"y\", rotation=0)\n",
    "plt.grid()\n",
    "plt.axhline(y=0, color='k')\n",
    "plt.axvline(x=0, color='k')\n",
    "plt.show()"
   ]
  },
  {
   "cell_type": "markdown",
   "id": "e1faafa1-7ee3-4c62-a952-b1edee15da5a",
   "metadata": {},
   "source": [
    "Точки экстремума:"
   ]
  },
  {
   "cell_type": "markdown",
   "id": "ea2b5ceb-e0b3-445c-abcd-b4231c9bc3a3",
   "metadata": {},
   "source": [
    "*Найдем производную:*"
   ]
  },
  {
   "cell_type": "code",
   "execution_count": 17,
   "id": "9cabfd44-20da-4468-94bc-17a423b47e89",
   "metadata": {},
   "outputs": [
    {
     "name": "stdout",
     "output_type": "stream",
     "text": [
      "-2*x*(x**3 - 3*x**2 - 3*x)/(x**2 - 1)**2 + (3*x**2 - 6*x - 3)/(x**2 - 1)\n"
     ]
    }
   ],
   "source": [
    "import matplotlib.pyplot as plt\n",
    "import numpy as np\n",
    "import sympy as sp\n",
    "from scipy import optimize\n",
    "\n",
    "x = sp.Symbol('x')\n",
    "y = (x ** 3 - 3 * x ** 2 - 3 * x) / (x ** 2 - 1)\n",
    "print(y.diff())"
   ]
  },
  {
   "cell_type": "code",
   "execution_count": 18,
   "id": "f6ab4780-1728-42fb-b6a5-0df795bb8056",
   "metadata": {},
   "outputs": [
    {
     "name": "stdout",
     "output_type": "stream",
     "text": [
      "Точка экстремума 1: -1.604439209043494 - Максимум Значение: -4.471752715817704\n",
      "Точка экстремума 2: -0.5113996193930973 - Минимум Значение: -0.8339724905515954\n"
     ]
    },
    {
     "data": {
      "image/png": "[encoded data removed]",
      "text/plain": [
       "<Figure size 432x288 with 1 Axes>"
      ]
     },
     "metadata": {
      "needs_background": "light"
     },
     "output_type": "display_data"
    }
   ],
   "source": [
    "def f(x):\n",
    "    return (x ** 3 - 3 * x ** 2 - 3 * x) / (x ** 2 - 1)\n",
    "\n",
    "def der(x_podst):\n",
    "    y = -2 * x * (x ** 3 - 3 * x ** 2 - 3 * x) / (x ** 2 - 1) ** 2 + (3 * x ** 2 - 6 * x - 3) / (x ** 2 - 1)\n",
    "    return y.subs(x, x_podst)\n",
    "\n",
    "def checkExtremum(f, x):\n",
    "    eps = 0.001\n",
    "    if f(x) - f(x - eps) > 0:\n",
    "        return \"Максимум\"\n",
    "    return \"Минимум\"\n",
    "\n",
    "# построение функции\n",
    "x = np.linspace(-5, -1.0001, 5000)\n",
    "plt.plot(x, f(x), \"r\")\n",
    "x = np.linspace(-0.9999, 0.9999, 5000)\n",
    "plt.plot(x, f(x), \"r\")\n",
    "x = np.linspace(1.0001, 5, 5000)\n",
    "plt.plot(x, f(x), \"r\")\n",
    "\n",
    "# построение производной\n",
    "x = sp.Symbol('x')\n",
    "x_plt = np.arange(-5, 5, 0.01)\n",
    "y_plt = []\n",
    "for i in range(len(x_plt)):\n",
    "    y_plt.append(der(x_plt[i]))\n",
    "plt.plot(x_plt, y_plt, \"b:\")\n",
    "\n",
    "# точки экстремума\n",
    "x1 = optimize.brentq(der, -2, -1.1)\n",
    "print(\"Точка экстремума 1:\", x1, \"-\", checkExtremum(f, x1), \"Значение:\", f(x1))\n",
    "x2 = optimize.brentq(der, -0.9, -0.5)\n",
    "print(\"Точка экстремума 2:\", x2, \"-\", checkExtremum(f, x2), \"Значение:\", f(x2))\n",
    "\n",
    "# построение точек экстремума\n",
    "plt.plot(x1, f(x1), \"ro\")\n",
    "plt.plot(x2, f(x2), \"ro\")\n",
    "\n",
    "# установить границы оси\n",
    "plt.ylim(-10, 10)\n",
    "plt.xlim(-4, 5)\n",
    "\n",
    "# параметры координатной плоскости\n",
    "plt.xlabel(\"x\")\n",
    "plt.ylabel(\"y\", rotation=0)\n",
    "plt.grid()\n",
    "plt.axhline(y=0, color='k')\n",
    "plt.axvline(x=0, color='k')\n",
    "plt.show()"
   ]
  },
  {
   "cell_type": "markdown",
   "id": "104f6c35-137f-4cb3-a819-2609508f111a",
   "metadata": {},
   "source": [
    "Точки перегиба:"
   ]
  },
  {
   "cell_type": "markdown",
   "id": "2e92ca27-b956-4580-b693-c00df75e2a6d",
   "metadata": {},
   "source": [
    "*Найдем вторую производную:*"
   ]
  },
  {
   "cell_type": "code",
   "execution_count": 19,
   "id": "699b3d35-3948-4331-bba6-8a6f1aa42ded",
   "metadata": {},
   "outputs": [
    {
     "name": "stdout",
     "output_type": "stream",
     "text": [
      "8*x**2*(x**3 - 3*x**2 - 3*x)/(x**2 - 1)**3 - 4*x*(3*x**2 - 6*x - 3)/(x**2 - 1)**2 + (6*x - 6)/(x**2 - 1) - 2*(x**3 - 3*x**2 - 3*x)/(x**2 - 1)**2\n"
     ]
    }
   ],
   "source": [
    "import matplotlib.pyplot as plt\n",
    "import numpy as np\n",
    "import sympy as sp\n",
    "from scipy import optimize\n",
    "\n",
    "x = sp.Symbol('x')\n",
    "y = (x ** 3 - 3 * x ** 2 - 3 * x) / (x ** 2 - 1)\n",
    "y=y.diff()\n",
    "print(y.diff())"
   ]
  },
  {
   "cell_type": "code",
   "execution_count": 20,
   "id": "aae8643d-5003-4f25-b145-9fce1f3ea88e",
   "metadata": {},
   "outputs": [
    {
     "name": "stdout",
     "output_type": "stream",
     "text": [
      "Точка перегиба 1: -3.8169968424447287 Значение: -6.475495263667117\n"
     ]
    },
    {
     "data": {
      "image/png": "[encoded data removed]",
      "text/plain": [
       "<Figure size 432x288 with 1 Axes>"
      ]
     },
     "metadata": {
      "needs_background": "light"
     },
     "output_type": "display_data"
    }
   ],
   "source": [
    "def f(x):\n",
    "    return (x ** 3 - 3 * x ** 2 - 3 * x) / (x ** 2 - 1)\n",
    "\n",
    "def der_2(x_podst):\n",
    "    y = 8 * x ** 2 * (x ** 3 - 3 * x ** 2 - 3 * x) / (x ** 2 - 1) ** 3 - 4 * x * (3 * x ** 2 - 6 * x - 3) / (\n",
    "                x ** 2 - 1) ** 2 + (6 * x - 6) / (x ** 2 - 1) - 2 * (x ** 3 - 3 * x ** 2 - 3 * x) / (x ** 2 - 1) ** 2\n",
    "    return y.subs(x, x_podst)\n",
    "\n",
    "# построение функции\n",
    "x = np.linspace(-5, -1.0001, 5000)\n",
    "plt.plot(x, f(x), \"r\")\n",
    "x = np.linspace(-0.9999, 0.9999, 5000)\n",
    "plt.plot(x, f(x), \"r\")\n",
    "x = np.linspace(1.0001, 5, 5000)\n",
    "plt.plot(x, f(x), \"r\")\n",
    "\n",
    "# построение второй производной\n",
    "x = sp.Symbol('x')\n",
    "x_plt = np.arange(-5, -1.01, 0.01)\n",
    "y_plt = []\n",
    "for i in range(len(x_plt)):\n",
    "    y_plt.append(der_2(x_plt[i]))\n",
    "plt.plot(x_plt, y_plt, \"b:\")\n",
    "x_plt = np.arange(-0.99, 0.99, 0.01)\n",
    "y_plt = []\n",
    "for i in range(len(x_plt)):\n",
    "    y_plt.append(der_2(x_plt[i]))\n",
    "plt.plot(x_plt, y_plt, \"b:\")\n",
    "x_plt = np.arange(1.01, 5, 0.01)\n",
    "y_plt = []\n",
    "for i in range(len(x_plt)):\n",
    "    y_plt.append(der_2(x_plt[i]))\n",
    "plt.plot(x_plt, y_plt, \"b:\")\n",
    "\n",
    "# точки перегиба\n",
    "x1 = optimize.brentq(der_2, -100, -1.1)\n",
    "print(\"Точка перегиба 1:\", x1, \"Значение:\", f(x1))\n",
    "\n",
    "# построение точек перегиба\n",
    "plt.plot(x1, f(x1), \"ro\")\n",
    "\n",
    "# установить границы оси\n",
    "plt.ylim(-10, 10)\n",
    "plt.xlim(-5, 5)\n",
    "\n",
    "# параметры координатной плоскости\n",
    "plt.xlabel(\"x\")\n",
    "plt.ylabel(\"y\", rotation=0)\n",
    "plt.grid()\n",
    "plt.axhline(y=0, color='k')\n",
    "plt.axvline(x=0, color='k')\n",
    "plt.show()"
   ]
  },
  {
   "cell_type": "markdown",
   "id": "311f9207-f6d8-425b-84ef-db3a5b84fd46",
   "metadata": {},
   "source": [
    "Касательная к точке перегиба:"
   ]
  },
  {
   "cell_type": "code",
   "execution_count": 21,
   "id": "6c137466-de5a-44a6-9f79-e2347957dcba",
   "metadata": {},
   "outputs": [
    {
     "name": "stdout",
     "output_type": "stream",
     "text": [
      "Значение тангенса угла наклона касательной в точке перегиба:  1.04473432817394\n"
     ]
    },
    {
     "data": {
      "image/png": "[encoded data removed]",
      "text/plain": [
       "<Figure size 432x288 with 1 Axes>"
      ]
     },
     "metadata": {
      "needs_background": "light"
     },
     "output_type": "display_data"
    }
   ],
   "source": [
    "x = sp.Symbol('x')\n",
    "x_peregiba = -3.8169968424447287\n",
    "\n",
    "# построение точки перегиба\n",
    "plt.plot(x_peregiba, f(x_peregiba), \"ro\")\n",
    "\n",
    "# касательная в точке перегиба\n",
    "x_plt = np.linspace(-50, 50, 5000)\n",
    "print(\"Значение тангенса угла наклона касательной в точке перегиба: \", der(x_peregiba))\n",
    "plt.plot(x_plt, f(x_peregiba) + der(x_peregiba) * (x_plt - (x_peregiba)), \"k-.\")\n",
    "\n",
    "# построение функции\n",
    "x = np.linspace(-50, -1.0001, 5000)\n",
    "plt.plot(x, f(x), \"r\")\n",
    "x = np.linspace(-0.9999, 0.9999, 5000)\n",
    "plt.plot(x, f(x), \"r\")\n",
    "x = np.linspace(1.0001, 15, 5000)\n",
    "plt.plot(x, f(x), \"r\")\n",
    "\n",
    "# установить границы оси\n",
    "plt.ylim(f(x_peregiba) - 30, f(x_peregiba) + 5)\n",
    "plt.xlim(x_peregiba - 20, x_peregiba + 10)\n",
    "\n",
    "# параметры координатной плоскости\n",
    "plt.xlabel(\"x\")\n",
    "plt.ylabel(\"y\", rotation=0)\n",
    "plt.grid()\n",
    "plt.axhline(y=0, color='k')\n",
    "plt.axvline(x=0, color='k')\n",
    "plt.show()"
   ]
  },
  {
   "cell_type": "markdown",
   "id": "616d3a2b-70f5-4bdf-80fb-92ba1040df80",
   "metadata": {},
   "source": [
    "Точки разрыва:"
   ]
  },
  {
   "cell_type": "code",
   "execution_count": 24,
   "id": "cda2aa56-87cc-4984-8757-a4be2fdd9337",
   "metadata": {},
   "outputs": [
    {
     "name": "stdout",
     "output_type": "stream",
     "text": [
      "Точка разрыва: -1\n",
      "f(x₀-0): -oo\n",
      "f(x₀+0): oo\n",
      "Точка разрыва второго рода\n"
     ]
    }
   ],
   "source": [
    "x = sp.Symbol('x')\n",
    "print('Точка разрыва:', \"-1\")\n",
    "a = sp.limit( (x ** 3 - 3 * x ** 2 - 3 * x) / (x ** 2 - 1) , x, -1, dir = \"-\")\n",
    "b = sp.limit( (x ** 3 - 3 * x ** 2 - 3 * x) / (x ** 2 - 1) , x, -1, dir = \"+\")\n",
    "print(\"f(x₀-0):\", a)\n",
    "print(\"f(x₀+0):\", b)\n",
    "print(\"Точка разрыва второго рода\")"
   ]
  },
  {
   "cell_type": "code",
   "execution_count": 25,
   "id": "f06faeae-2e55-4ca6-9e4d-e784b4eae908",
   "metadata": {},
   "outputs": [
    {
     "name": "stdout",
     "output_type": "stream",
     "text": [
      "Точка разрыва: 1\n",
      "f(x₀-0): oo\n",
      "f(x₀+0): -oo\n",
      "Точка разрыва второго рода\n"
     ]
    }
   ],
   "source": [
    "x = sp.Symbol('x')\n",
    "print('Точка разрыва:', \"1\")\n",
    "a = sp.limit( (x ** 3 - 3 * x ** 2 - 3 * x) / (x ** 2 - 1) , x, 1, dir = \"-\")\n",
    "b = sp.limit( (x ** 3 - 3 * x ** 2 - 3 * x) / (x ** 2 - 1) , x, 1, dir = \"+\")\n",
    "print(\"f(x₀-0):\", a)\n",
    "print(\"f(x₀+0):\", b)\n",
    "print(\"Точка разрыва второго рода\")"
   ]
  },
  {
   "cell_type": "markdown",
   "id": "500a5f6a-92d5-4399-8dd2-7b77e22f7e9d",
   "metadata": {},
   "source": [
    "Асимптоты:"
   ]
  },
  {
   "cell_type": "markdown",
   "id": "86052e28-1598-42d7-82d5-87f56a5a4fdf",
   "metadata": {},
   "source": [
    "*Вертикальные асимптоты: $x=-1$, $x=1$.*"
   ]
  },
  {
   "cell_type": "code",
   "execution_count": 26,
   "id": "3c09fb5c-efe9-4d33-af63-8ab6d94b0d8c",
   "metadata": {},
   "outputs": [
    {
     "name": "stdout",
     "output_type": "stream",
     "text": [
      "Наклонная асимптота: x - 3\n"
     ]
    }
   ],
   "source": [
    "from sympy.abc import x\n",
    "import matplotlib.pyplot as plt\n",
    "import numpy as np\n",
    "from scipy import optimize\n",
    "\n",
    "k = sp.limit(((x ** 3 - 3 * x ** 2 - 3 * x) / (x ** 2 - 1)) / x, x, sp.oo)\n",
    "b = sp.limit(((x ** 3 - 3 * x ** 2 - 3 * x) / (x ** 2 - 1)) - k * x, x, sp.oo)\n",
    "print(\"Наклонная асимптота:\", k * x + b)"
   ]
  },
  {
   "cell_type": "code",
   "execution_count": 27,
   "id": "12c85dd1-12dc-475b-81d8-0a6b7907b1a0",
   "metadata": {},
   "outputs": [
    {
     "data": {
      "image/png": "[encoded data removed]",
      "text/plain": [
       "<Figure size 432x288 with 1 Axes>"
      ]
     },
     "metadata": {
      "needs_background": "light"
     },
     "output_type": "display_data"
    }
   ],
   "source": [
    "def f(x):\n",
    "    return (x ** 3 - 3 * x ** 2 - 3 * x) / (x ** 2 - 1)\n",
    "\n",
    "# построение функции\n",
    "x = np.linspace(-5, -1.0001, 5000)\n",
    "plt.plot(x, f(x), \"r\")\n",
    "x = np.linspace(-0.9999, 0.9999, 5000)\n",
    "plt.plot(x, f(x), \"r\")\n",
    "x = np.linspace(1.0001, 5, 5000)\n",
    "plt.plot(x, f(x), \"r\")\n",
    "\n",
    "# построение асимптот\n",
    "x = np.linspace(-5, 5, 5000)\n",
    "plt.plot(x, x - 3, \"b:\")\n",
    "x = np.linspace(-10, 10, 5000)\n",
    "plt.plot(-1+0*x, x, \"b:\")\n",
    "x = np.linspace(-10, 10, 5000)\n",
    "plt.plot(1+0*x, x, \"b:\")\n",
    "\n",
    "# установить границы оси\n",
    "plt.ylim(-10, 10)\n",
    "plt.xlim(-4, 5)\n",
    "\n",
    "# параметры координатной плоскости\n",
    "plt.xlabel(\"x\")\n",
    "plt.ylabel(\"y\", rotation=0)\n",
    "plt.grid()\n",
    "plt.axhline(y=0, color='k')\n",
    "plt.axvline(x=0, color='k')\n",
    "plt.show()"
   ]
  },
  {
   "cell_type": "markdown",
   "id": "839c22ff-5723-4931-ad60-7070e012531d",
   "metadata": {},
   "source": [
    "**Упражнение C1. Найти точки перегиба для функции $f(x)=sin(x)-x^2cos(x)$ на промежутке $[-10; 10]$.**"
   ]
  },
  {
   "cell_type": "markdown",
   "id": "5076bfe5-757c-44c0-9821-083ec5927377",
   "metadata": {},
   "source": [
    "*Найдем вторую производную:*"
   ]
  },
  {
   "cell_type": "code",
   "execution_count": 28,
   "id": "dbcb3bef-b0c4-49df-9c17-a3f94517b91e",
   "metadata": {},
   "outputs": [
    {
     "name": "stdout",
     "output_type": "stream",
     "text": [
      "x**2*cos(x) + 4*x*sin(x) - sin(x) - 2*cos(x)\n"
     ]
    }
   ],
   "source": [
    "import matplotlib.pyplot as plt\n",
    "import numpy as np\n",
    "import sympy as sp\n",
    "from scipy import optimize\n",
    "\n",
    "x = sp.Symbol('x')\n",
    "y = sp.sin(x)-x**2*sp.cos(x)\n",
    "y=y.diff()\n",
    "print(y.diff())"
   ]
  },
  {
   "cell_type": "code",
   "execution_count": 29,
   "id": "35118c08-ce11-4ce3-a5ab-127d18ebd7c9",
   "metadata": {},
   "outputs": [
    {
     "name": "stdout",
     "output_type": "stream",
     "text": [
      "Точка перегиба 1: -8.325277463654482\n",
      "Точка перегиба 2: -5.405776353483629\n",
      "Точка перегиба 3: -2.7160705478134077\n",
      "Точка перегиба 4: -0.5154080120890583\n",
      "Точка перегиба 5: 0.699219307940448\n",
      "Точка перегиба 6: 2.6575888660140756\n",
      "Точка перегиба 7: 5.3647578062661285\n",
      "Точка перегиба 8: 8.30250714559319\n"
     ]
    },
    {
     "data": {
      "image/png": "[encoded data removed]",
      "text/plain": [
       "<Figure size 432x288 with 1 Axes>"
      ]
     },
     "metadata": {
      "needs_background": "light"
     },
     "output_type": "display_data"
    }
   ],
   "source": [
    "def f(x):\n",
    "    return np.sin(x)-x**2*np.cos(x)\n",
    "\n",
    "def der_2(x_podst):\n",
    "    y = x**2*sp.cos(x) + 4*x*sp.sin(x) - sp.sin(x) - 2*sp.cos(x)\n",
    "    return y.subs(x, x_podst)\n",
    "\n",
    "# построение функции\n",
    "x = np.arange(-10, 10, 0.01)\n",
    "plt.plot(x, f(x), \"r\")\n",
    "\n",
    "# построение второй производной\n",
    "x = sp.Symbol('x')\n",
    "x_plt = np.arange(-10, 10, 0.01)\n",
    "y_plt = []\n",
    "for i in range(len(x_plt)):\n",
    "    y_plt.append(der_2(x_plt[i]))\n",
    "plt.plot(x_plt, y_plt, \"b:\")\n",
    "\n",
    "# точки перегиба\n",
    "x1 = optimize.brentq(der_2, -9, -7.5)\n",
    "print(\"Точка перегиба 1:\", x1)\n",
    "x2 = optimize.brentq(der_2, -6, -5)\n",
    "print(\"Точка перегиба 2:\", x2)\n",
    "x3 = optimize.brentq(der_2, -3, -2)\n",
    "print(\"Точка перегиба 3:\", x3)\n",
    "x4 = optimize.brentq(der_2, -0.75, -0.5)\n",
    "print(\"Точка перегиба 4:\", x4)\n",
    "x5 = optimize.brentq(der_2, 0.5, 0.75)\n",
    "print(\"Точка перегиба 5:\", x5)\n",
    "x6 = optimize.brentq(der_2, 2, 3)\n",
    "print(\"Точка перегиба 6:\", x6)\n",
    "x7 = optimize.brentq(der_2, 5, 6)\n",
    "print(\"Точка перегиба 7:\", x7)\n",
    "x8 = optimize.brentq(der_2, 7.5, 9)\n",
    "print(\"Точка перегиба 8:\", x8)\n",
    "\n",
    "# построение точек перегиба\n",
    "plt.plot(x1, f(x1), \"ro\")\n",
    "plt.plot(x2, f(x2), \"ro\")\n",
    "plt.plot(x3, f(x3), \"ro\")\n",
    "plt.plot(x4, f(x4), \"ro\")\n",
    "plt.plot(x5, f(x5), \"ro\")\n",
    "plt.plot(x6, f(x6), \"ro\")\n",
    "plt.plot(x7, f(x7), \"ro\")\n",
    "plt.plot(x8, f(x8), \"ro\")\n",
    "\n",
    "# установить границы оси\n",
    "plt.xlim(-10, 10)\n",
    "\n",
    "# параметры координатной плоскости\n",
    "plt.xlabel(\"x\")\n",
    "plt.ylabel(\"y\", rotation=0)\n",
    "plt.grid()\n",
    "plt.axhline(y=0, color='k')\n",
    "plt.axvline(x=0, color='k')\n",
    "plt.show()"
   ]
  },
  {
   "cell_type": "markdown",
   "id": "b9045446-7a94-4adb-82eb-2bee1f1c79b4",
   "metadata": {},
   "source": [
    "**Упражнение C2. Построить график функции $f(x) = e^{\\frac{1}{x^2-1}}$. Найти нули функции, точки экстремума и значения в них, точки перегиба, значения в них, значения тангенса угла наклона касательной в точке перегиба, найти односторонние пределы в точках разрыва, уравнения асимптот. Обозначить на графике экстремумы, построить касательные в окрестностях точек перегиба, асимптоты.**"
   ]
  },
  {
   "cell_type": "markdown",
   "id": "7a6953ae-2eb5-4683-9862-f287ec09cb2c",
   "metadata": {},
   "source": [
    "Нули функции:"
   ]
  },
  {
   "cell_type": "code",
   "execution_count": 30,
   "id": "6332d86a-135f-4466-9290-53c03dcf469c",
   "metadata": {},
   "outputs": [
    {
     "name": "stdout",
     "output_type": "stream",
     "text": [
      "Нулей функции нет.\n"
     ]
    },
    {
     "data": {
      "image/png": "[encoded data removed]",
      "text/plain": [
       "<Figure size 432x288 with 1 Axes>"
      ]
     },
     "metadata": {
      "needs_background": "light"
     },
     "output_type": "display_data"
    }
   ],
   "source": [
    "import matplotlib.pyplot as plt\n",
    "import numpy as np\n",
    "from scipy import optimize\n",
    "\n",
    "def f(x):\n",
    "    return np.e**(1/(x**2-1))\n",
    "\n",
    "# построение функции\n",
    "x = np.linspace(-5, -1.001, 5000)\n",
    "plt.plot(x, f(x), \"r\")\n",
    "x = np.linspace(-0.999, 0.999, 5000)\n",
    "plt.plot(x, f(x), \"r\")\n",
    "x = np.linspace(1.001, 5, 5000)\n",
    "plt.plot(x, f(x), \"r\")\n",
    "\n",
    "print(\"Нулей функции нет.\")\n",
    "\n",
    "# установить границы оси\n",
    "plt.ylim(-3, 10)\n",
    "plt.xlim(-4, 4)\n",
    "\n",
    "# параметры координатной плоскости\n",
    "plt.xlabel(\"x\")\n",
    "plt.ylabel(\"y\", rotation=0)\n",
    "plt.grid()\n",
    "plt.axhline(y=0, color='k')\n",
    "plt.axvline(x=0, color='k')\n",
    "plt.show()"
   ]
  },
  {
   "cell_type": "markdown",
   "id": "2cd542f7-575a-495a-a1b7-0fac450c8e82",
   "metadata": {},
   "source": [
    "Точки экстремума:"
   ]
  },
  {
   "cell_type": "markdown",
   "id": "7b14ab89-cf46-417a-abd8-56da5faf907f",
   "metadata": {},
   "source": [
    "*Найдем производную:*"
   ]
  },
  {
   "cell_type": "code",
   "execution_count": 31,
   "id": "113a4365-474c-4c4a-bb82-e858182c61cd",
   "metadata": {},
   "outputs": [
    {
     "name": "stdout",
     "output_type": "stream",
     "text": [
      "-2.0*2.71828182845905**(1/(x**2 - 1))*x/(x**2 - 1)**2\n"
     ]
    }
   ],
   "source": [
    "import matplotlib.pyplot as plt\n",
    "import numpy as np\n",
    "import sympy as sp\n",
    "from scipy import optimize\n",
    "\n",
    "x = sp.Symbol('x')\n",
    "y = np.e**(1/(x**2-1))\n",
    "print(y.diff())"
   ]
  },
  {
   "cell_type": "code",
   "execution_count": 32,
   "id": "e6e2096b-4e29-4111-a3ff-688aacfb5198",
   "metadata": {},
   "outputs": [
    {
     "name": "stdout",
     "output_type": "stream",
     "text": [
      "Точка экстремума 1: 0.0 - Максимум Значение: 0.36787944117144233\n"
     ]
    },
    {
     "data": {
      "image/png": "[encoded data removed]",
      "text/plain": [
       "<Figure size 432x288 with 1 Axes>"
      ]
     },
     "metadata": {
      "needs_background": "light"
     },
     "output_type": "display_data"
    }
   ],
   "source": [
    "def f(x):\n",
    "    return np.e**(1/(x**2-1))\n",
    "\n",
    "def der(x_podst):\n",
    "    y = -2.0*2.71828182845905**(1/(x**2 - 1))*x/(x**2 - 1)**2\n",
    "    return y.subs(x, x_podst)\n",
    "\n",
    "def checkExtremum(f, x):\n",
    "    eps = 0.001\n",
    "    if f(x) - f(x - eps) > 0:\n",
    "        return \"Максимум\"\n",
    "    return \"Минимум\"\n",
    "\n",
    "# построение функции\n",
    "x = np.linspace(-5, -1.001, 5000)\n",
    "plt.plot(x, f(x), \"r\")\n",
    "x = np.linspace(-0.999, 0.999, 5000)\n",
    "plt.plot(x, f(x), \"r\")\n",
    "x = np.linspace(1.001, 5, 5000)\n",
    "plt.plot(x, f(x), \"r\")\n",
    "\n",
    "# построение производной\n",
    "x = sp.Symbol('x')\n",
    "x_plt = np.arange(-5, -1.001, 0.01)\n",
    "y_plt = []\n",
    "for i in range(len(x_plt)):\n",
    "    y_plt.append(der(x_plt[i]))\n",
    "plt.plot(x_plt, y_plt, \"b:\")\n",
    "x_plt = np.arange(-0.999, 0.999, 0.01)\n",
    "y_plt = []\n",
    "for i in range(len(x_plt)):\n",
    "    y_plt.append(der(x_plt[i]))\n",
    "plt.plot(x_plt, y_plt, \"b:\")\n",
    "x_plt = np.arange(1.001, 5, 0.01)\n",
    "y_plt = []\n",
    "for i in range(len(x_plt)):\n",
    "    y_plt.append(der(x_plt[i]))\n",
    "plt.plot(x_plt, y_plt, \"b:\")\n",
    "\n",
    "# точки экстремума\n",
    "x1 = optimize.brentq(der, -1, 1)\n",
    "print(\"Точка экстремума 1:\", x1, \"-\", checkExtremum(f, x1), \"Значение:\", f(x1))\n",
    "\n",
    "# построение точек экстремума\n",
    "plt.plot(x1, f(x1), \"ro\")\n",
    "\n",
    "# установить границы оси\n",
    "plt.ylim(-3, 10)\n",
    "plt.xlim(-4, 4)\n",
    "# параметры координатной плоскости\n",
    "plt.xlabel(\"x\")\n",
    "plt.ylabel(\"y\", rotation=0)\n",
    "plt.grid()\n",
    "plt.axhline(y=0, color='k')\n",
    "plt.axvline(x=0, color='k')\n",
    "plt.show()"
   ]
  },
  {
   "cell_type": "markdown",
   "id": "73c70291-f420-4f21-b786-9f5e6fce8a3b",
   "metadata": {},
   "source": [
    "Точки перегиба:"
   ]
  },
  {
   "cell_type": "markdown",
   "id": "636fd4d6-7984-449a-8c31-bb20b4c67fd1",
   "metadata": {},
   "source": [
    "*Найдем вторую производную:*"
   ]
  },
  {
   "cell_type": "code",
   "execution_count": 33,
   "id": "c23cc728-2ceb-49b6-907e-fd89f4902b3d",
   "metadata": {},
   "outputs": [
    {
     "name": "stdout",
     "output_type": "stream",
     "text": [
      "8.0*2.71828182845905**(1/(x**2 - 1))*x**2/(x**2 - 1)**3 + 4.0*2.71828182845905**(1/(x**2 - 1))*x**2/(x**2 - 1)**4 - 2.0*2.71828182845905**(1/(x**2 - 1))/(x**2 - 1)**2\n"
     ]
    }
   ],
   "source": [
    "import matplotlib.pyplot as plt\n",
    "import numpy as np\n",
    "import sympy as sp\n",
    "from scipy import optimize\n",
    "\n",
    "x = sp.Symbol('x')\n",
    "y = np.e**(1/(x**2-1))\n",
    "y=y.diff()\n",
    "print(y.diff())"
   ]
  },
  {
   "cell_type": "code",
   "execution_count": 34,
   "id": "db7e63f4-5a1f-4dd7-8af9-8c30d973ea5b",
   "metadata": {},
   "outputs": [
    {
     "name": "stdout",
     "output_type": "stream",
     "text": [
      "Точка перегиба 1: -0.7598356856512318 Значение: 0.09385301377537936\n",
      "Точка перегиба 2: 0.7598356856512318 Значение: 0.09385301377537936\n"
     ]
    },
    {
     "data": {
      "image/png": "[encoded data removed]",
      "text/plain": [
       "<Figure size 432x288 with 1 Axes>"
      ]
     },
     "metadata": {
      "needs_background": "light"
     },
     "output_type": "display_data"
    }
   ],
   "source": [
    "def f(x):\n",
    "    return np.e**(1/(x**2-1))\n",
    "\n",
    "def der_2(x_podst):\n",
    "    y = 8.0*2.71828182845905**(1/(x**2 - 1))*x**2/(x**2 - 1)**3 + 4.0*2.71828182845905**(1/(x**2 - 1))*x**2/(x**2 - 1)**4 - 2.0*2.71828182845905**(1/(x**2 - 1))/(x**2 - 1)**2\n",
    "    return y.subs(x, x_podst)\n",
    "\n",
    "# построение функции\n",
    "x = np.linspace(-5, -1.001, 5000)\n",
    "plt.plot(x, f(x), \"r\")\n",
    "x = np.linspace(-0.999, 0.999, 5000)\n",
    "plt.plot(x, f(x), \"r\")\n",
    "x = np.linspace(1.001, 5, 5000)\n",
    "plt.plot(x, f(x), \"r\")\n",
    "\n",
    "# построение второй производной\n",
    "x = sp.Symbol('x')\n",
    "x_plt = np.arange(-5, -1.01, 0.01)\n",
    "y_plt = []\n",
    "for i in range(len(x_plt)):\n",
    "    y_plt.append(der_2(x_plt[i]))\n",
    "plt.plot(x_plt, y_plt, \"b:\")\n",
    "x_plt = np.arange(-0.99, 0.99, 0.01)\n",
    "y_plt = []\n",
    "for i in range(len(x_plt)):\n",
    "    y_plt.append(der_2(x_plt[i]))\n",
    "plt.plot(x_plt, y_plt, \"b:\")\n",
    "x_plt = np.arange(1.01, 5, 0.01)\n",
    "y_plt = []\n",
    "for i in range(len(x_plt)):\n",
    "    y_plt.append(der_2(x_plt[i]))\n",
    "plt.plot(x_plt, y_plt, \"b:\")\n",
    "\n",
    "# точки перегиба\n",
    "x1 = optimize.brentq(der_2, -0.99, -0.5)\n",
    "print(\"Точка перегиба 1:\", x1, \"Значение:\", f(x1))\n",
    "x2 = optimize.brentq(der_2, 0.5, 0.99)\n",
    "print(\"Точка перегиба 2:\", x2, \"Значение:\", f(x2))\n",
    "\n",
    "# построение точек перегиба\n",
    "plt.plot(x1, f(x1), \"ro\")\n",
    "plt.plot(x2, f(x2), \"ro\")\n",
    "\n",
    "# установить границы оси\n",
    "plt.ylim(-3, 10)\n",
    "plt.xlim(-4, 4)\n",
    "\n",
    "# параметры координатной плоскости\n",
    "plt.xlabel(\"x\")\n",
    "plt.ylabel(\"y\", rotation=0)\n",
    "plt.grid()\n",
    "plt.axhline(y=0, color='k')\n",
    "plt.axvline(x=0, color='k')\n",
    "plt.show()"
   ]
  },
  {
   "cell_type": "markdown",
   "id": "da4be029-9ea3-4fc0-9f02-1151bf784c1a",
   "metadata": {},
   "source": [
    "Касательные к точкам перегиба:"
   ]
  },
  {
   "cell_type": "code",
   "execution_count": 35,
   "id": "fb7a41cf-88fe-49f7-b3d0-e2fcc18f8e98",
   "metadata": {},
   "outputs": [
    {
     "name": "stdout",
     "output_type": "stream",
     "text": [
      "Значение тангенса угла наклона касательной в точке перегиба:  0.798429751833596\n"
     ]
    },
    {
     "data": {
      "image/png": "[encoded data removed]",
      "text/plain": [
       "<Figure size 432x288 with 1 Axes>"
      ]
     },
     "metadata": {
      "needs_background": "light"
     },
     "output_type": "display_data"
    }
   ],
   "source": [
    "x = sp.Symbol('x')\n",
    "x_peregiba = -0.7598356856512318\n",
    "\n",
    "# построение точки перегиба\n",
    "plt.plot(x_peregiba, f(x_peregiba), \"ro\")\n",
    "\n",
    "# касательная в точке перегиба\n",
    "x_plt = np.linspace(-50, 50, 5000)\n",
    "print(\"Значение тангенса угла наклона касательной в точке перегиба: \", der(x_peregiba))\n",
    "plt.plot(x_plt, f(x_peregiba) + der(x_peregiba) * (x_plt - (x_peregiba)), \"k-.\")\n",
    "\n",
    "# построение функции\n",
    "x = np.linspace(-50, -1.001, 5000)\n",
    "plt.plot(x, f(x), \"r\")\n",
    "x = np.linspace(-0.999, 0.999, 5000)\n",
    "plt.plot(x, f(x), \"r\")\n",
    "x = np.linspace(1.001, 50, 5000)\n",
    "plt.plot(x, f(x), \"r\")\n",
    "\n",
    "# установить границы оси\n",
    "plt.ylim(f(x_peregiba) - 0.1, f(x_peregiba) + 0.1)\n",
    "plt.xlim(x_peregiba - 0.25, x_peregiba + 0.25)\n",
    "\n",
    "# параметры координатной плоскости\n",
    "plt.xlabel(\"x\")\n",
    "plt.ylabel(\"y\", rotation=0)\n",
    "plt.grid()\n",
    "plt.axhline(y=0, color='k')\n",
    "plt.axvline(x=0, color='k')\n",
    "plt.show()"
   ]
  },
  {
   "cell_type": "code",
   "execution_count": 36,
   "id": "07ae2aa4-fcc6-4d7c-93cf-6fed12aec734",
   "metadata": {},
   "outputs": [
    {
     "name": "stdout",
     "output_type": "stream",
     "text": [
      "Значение тангенса угла наклона касательной в точке перегиба:  -0.798429751833596\n"
     ]
    },
    {
     "data": {
      "image/png": "[encoded data removed]",
      "text/plain": [
       "<Figure size 432x288 with 1 Axes>"
      ]
     },
     "metadata": {
      "needs_background": "light"
     },
     "output_type": "display_data"
    }
   ],
   "source": [
    "x = sp.Symbol('x')\n",
    "x_peregiba = 0.7598356856512318\n",
    "\n",
    "# построение точки перегиба\n",
    "plt.plot(x_peregiba, f(x_peregiba), \"ro\")\n",
    "\n",
    "# касательная в точке перегиба\n",
    "x_plt = np.linspace(-50, 50, 5000)\n",
    "print(\"Значение тангенса угла наклона касательной в точке перегиба: \", der(x_peregiba))\n",
    "plt.plot(x_plt, f(x_peregiba) + der(x_peregiba) * (x_plt - (x_peregiba)), \"k-.\")\n",
    "\n",
    "# построение функции\n",
    "x = np.linspace(-50, -1.001, 5000)\n",
    "plt.plot(x, f(x), \"r\")\n",
    "x = np.linspace(-0.999, 0.999, 5000)\n",
    "plt.plot(x, f(x), \"r\")\n",
    "x = np.linspace(1.001, 50, 5000)\n",
    "plt.plot(x, f(x), \"r\")\n",
    "\n",
    "# установить границы оси\n",
    "plt.ylim(f(x_peregiba) - 0.1, f(x_peregiba) + 0.1)\n",
    "plt.xlim(x_peregiba - 0.25, x_peregiba + 0.25)\n",
    "\n",
    "# параметры координатной плоскости\n",
    "plt.xlabel(\"x\")\n",
    "plt.ylabel(\"y\", rotation=0)\n",
    "plt.grid()\n",
    "plt.axhline(y=0, color='k')\n",
    "plt.axvline(x=0, color='k')\n",
    "plt.show()"
   ]
  },
  {
   "cell_type": "markdown",
   "id": "0ea043f8-306a-48cc-af31-fa14ea9f9ca4",
   "metadata": {},
   "source": [
    "Точки разрыва:"
   ]
  },
  {
   "cell_type": "markdown",
   "id": "c84888b0-72c3-4b80-8fcf-70c995280174",
   "metadata": {},
   "source": [
    "$x=-1$:"
   ]
  },
  {
   "cell_type": "markdown",
   "id": "82356e5f-af3f-4d73-8e15-90215d8d117c",
   "metadata": {},
   "source": [
    "<big>$\\lim\\limits_{x\\to -1-0}e^{\\frac{1}{x^2-1}} = ∞$; $\\lim\\limits_{x\\to -1+0}e^{\\frac{1}{x^2-1}} = 0$</big>"
   ]
  },
  {
   "cell_type": "markdown",
   "id": "792d2bd8-cc23-4bf1-a7dc-9bb6812d0ca0",
   "metadata": {},
   "source": [
    "*Точка разрыва второго рода.*"
   ]
  },
  {
   "cell_type": "markdown",
   "id": "f3b73e6b-bd4c-497f-9f6e-7d416251b203",
   "metadata": {},
   "source": [
    "$x=1$:"
   ]
  },
  {
   "cell_type": "markdown",
   "id": "cf266747-b0e6-45be-8ca6-6b061d6ab96c",
   "metadata": {},
   "source": [
    "<big>$\\lim\\limits_{x\\to 1-0}e^{\\frac{1}{x^2-1}} = 0$; $\\lim\\limits_{x\\to 1+0}e^{\\frac{1}{x^2-1}} = ∞$</big>"
   ]
  },
  {
   "cell_type": "markdown",
   "id": "cc0dabd4-e76c-4f5b-bcb3-958ea521ebcf",
   "metadata": {},
   "source": [
    "*Точка разрыва второго рода.*"
   ]
  },
  {
   "cell_type": "markdown",
   "id": "026b7456-22c4-4cf1-a9b3-df5439081fc2",
   "metadata": {},
   "source": [
    "Асимптоты:"
   ]
  },
  {
   "cell_type": "markdown",
   "id": "98fdf825-3714-40f3-a5c2-53ec6dce5f46",
   "metadata": {},
   "source": [
    "*Вертикальные асимптоты: $x=-1$, $x=1$.*"
   ]
  },
  {
   "cell_type": "code",
   "execution_count": 37,
   "id": "8b79d2dc-d961-4490-b0e4-021a55940222",
   "metadata": {},
   "outputs": [
    {
     "name": "stdout",
     "output_type": "stream",
     "text": [
      "Наклонная асимптота: 1\n"
     ]
    }
   ],
   "source": [
    "from sympy.abc import x\n",
    "import matplotlib.pyplot as plt\n",
    "import numpy as np\n",
    "from scipy import optimize\n",
    "\n",
    "k = sp.limit(np.e**(1/(x**2-1)) / x, x, sp.oo)\n",
    "b = sp.limit(np.e**(1/(x**2-1)) - k * x, x, sp.oo)\n",
    "print(\"Наклонная асимптота:\", k * x + b)"
   ]
  },
  {
   "cell_type": "code",
   "execution_count": 38,
   "id": "baddda78-1121-4ab3-9a1d-96d171a4495c",
   "metadata": {},
   "outputs": [
    {
     "data": {
      "image/png": "[encoded data removed]",
      "text/plain": [
       "<Figure size 432x288 with 1 Axes>"
      ]
     },
     "metadata": {
      "needs_background": "light"
     },
     "output_type": "display_data"
    }
   ],
   "source": [
    "def f(x):\n",
    "    return np.e**(1/(x**2-1))\n",
    "\n",
    "# построение функции\n",
    "x = np.linspace(-5, -1.001, 5000)\n",
    "plt.plot(x, f(x), \"r\")\n",
    "x = np.linspace(-0.999, 0.999, 5000)\n",
    "plt.plot(x, f(x), \"r\")\n",
    "x = np.linspace(1.001, 5, 5000)\n",
    "plt.plot(x, f(x), \"r\")\n",
    "\n",
    "# построение асимптот\n",
    "x = np.linspace(-5, 5, 5000)\n",
    "plt.plot(x, 1+0*x, \"b:\")\n",
    "x = np.linspace(-10, 10, 5000)\n",
    "plt.plot(-1+0*x, x, \"b:\")\n",
    "x = np.linspace(-10, 10, 5000)\n",
    "plt.plot(1+0*x, x, \"b:\")\n",
    "\n",
    "# установить границы оси\n",
    "plt.ylim(-3, 10)\n",
    "plt.xlim(-4, 4)\n",
    "\n",
    "# параметры координатной плоскости\n",
    "plt.xlabel(\"x\")\n",
    "plt.ylabel(\"y\", rotation=0)\n",
    "plt.grid()\n",
    "plt.axhline(y=0, color='k')\n",
    "plt.axvline(x=0, color='k')\n",
    "plt.show()"
   ]
  }
 ],
 "metadata": {
  "kernelspec": {
   "display_name": "Python 3 (ipykernel)",
   "language": "python",
   "name": "python3"
  },
  "language_info": {
   "codemirror_mode": {
    "name": "ipython",
    "version": 3
   },
   "file_extension": ".py",
   "mimetype": "text/x-python",
   "name": "python",
   "nbconvert_exporter": "python",
   "pygments_lexer": "ipython3",
   "version": "3.9.12"
  }
 },
 "nbformat": 4,
 "nbformat_minor": 5
}
