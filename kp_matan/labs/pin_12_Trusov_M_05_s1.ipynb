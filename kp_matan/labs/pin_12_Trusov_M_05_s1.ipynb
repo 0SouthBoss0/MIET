{
 "cells": [
  {
   "cell_type": "markdown",
   "id": "50c41b91-ceb1-4573-a047-2989390c763d",
   "metadata": {},
   "source": [
    "**Практикум 5. Предел последовательности**"
   ]
  },
  {
   "cell_type": "markdown",
   "id": "d623a891-2cc1-44a2-861e-7fa9a24d8cd5",
   "metadata": {},
   "source": [
    "**Упражнение 1. Используя символьное число pi вычислить значения при k=1,2,...,10, а затем проделать тоже самое с численным значением системной константы (из модуля numpy), снова вычислить. Проверить равенство полученных результатов с помощью логической операции. Проделать операцию с помощью конструкции [f(i) for i in M]. Объяснить результат.**"
   ]
  },
  {
   "cell_type": "code",
   "execution_count": 38,
   "id": "298fed4c-9ae2-4752-9914-e8c07bb9b0c1",
   "metadata": {},
   "outputs": [
    {
     "name": "stdout",
     "output_type": "stream",
     "text": [
      "⎡   ⎛π⎞             ⎛3⋅π⎞               ⎛5⋅π⎞               ⎛7⋅π⎞             \n",
      "⎢cos⎜─⎟, cos(π), cos⎜───⎟, cos(2⋅π), cos⎜───⎟, cos(3⋅π), cos⎜───⎟, cos(4⋅π), c\n",
      "⎣   ⎝2⎠             ⎝ 2 ⎠               ⎝ 2 ⎠               ⎝ 2 ⎠             \n",
      "\n",
      "  ⎛9⋅π⎞          ⎤\n",
      "os⎜───⎟, cos(5⋅π)⎥\n",
      "  ⎝ 2 ⎠          ⎦\n",
      "[0, -1, 0, 1, 0, -1, 0, 1, 0, -1]\n"
     ]
    }
   ],
   "source": [
    "import sympy as sp\n",
    "from sympy.abc import pi\n",
    "\n",
    "a = [sp.cos(pi*i/2) for i in range(1, 11)]\n",
    "sp.pprint(a)\n",
    "\n",
    "a = [sp.cos(sp.pi*i/2) for i in range(1, 11)]\n",
    "sp.pprint(a)"
   ]
  },
  {
   "cell_type": "markdown",
   "id": "b5d28a87-665c-4f54-9c36-b2b8ecd4048f",
   "metadata": {},
   "source": [
    "**Упражнение 3. Разложить на множители и упростить.**"
   ]
  },
  {
   "cell_type": "code",
   "execution_count": 39,
   "id": "e818eb8d-5597-4e50-a928-4be6a12fe78f",
   "metadata": {},
   "outputs": [
    {
     "name": "stdout",
     "output_type": "stream",
     "text": [
      "Разложить на множители и упростить:  x**6 + x**5 + x**4 + x**3 + x**2 + 4*x + 4\n"
     ]
    }
   ],
   "source": [
    "import sympy as sp\n",
    "from sympy.abc import x\n",
    "\n",
    "v = ((x**7+3*x**2-4)/(x-1))\n",
    "print(\"Разложить на множители и упростить: \", sp.simplify(sp.factor(v)))"
   ]
  },
  {
   "cell_type": "markdown",
   "id": "7baaf5ac-381a-45f6-b6b9-7f04d08038c1",
   "metadata": {},
   "source": [
    "**Упражнение 4. Разложить на множители.**"
   ]
  },
  {
   "cell_type": "code",
   "execution_count": null,
   "id": "ded9ccaf-854f-4dca-ad84-6a1d2a470632",
   "metadata": {},
   "outputs": [
    {
     "name": "stdout",
     "output_type": "stream",
     "text": [
      "а)  (x**2 - 2*x + 2)*(x**2 + 2*x + 2)\n",
      "б)  (x + 1)*(x**6 - x**5 + x**4 - x**3 + x**2 - x + 1)\n",
      "в)  (x - y)*(x + 2*y)*(2*x - y)\n"
     ]
    }
   ],
   "source": [
    "import sympy as sp\n",
    "from sympy.abc import x, y\n",
    "\n",
    "v = x**4 + 4\n",
    "print(\"а) \", sp.factor(v))\n",
    "\n",
    "v = x**7 + 1\n",
    "print(\"б) \", sp.factor(v))\n",
    "\n",
    "v = 2*x**3 + x**2*y - 5*x*y**2+2*y**3\n",
    "print(\"в) \", sp.factor(v))"
   ]
  },
  {
   "cell_type": "markdown",
   "id": "96807319-6e13-49ec-b243-3c8976400e55",
   "metadata": {},
   "source": [
    "**Упражнение 5. Решить неравенство. Округлить ответ до 5 знаков.**"
   ]
  },
  {
   "cell_type": "code",
   "execution_count": 37,
   "id": "ff93b6b0-ceaf-4d53-865c-38844da15555",
   "metadata": {},
   "outputs": [
    {
     "name": "stdout",
     "output_type": "stream",
     "text": [
      "(0.81773, ∞)\n"
     ]
    }
   ],
   "source": [
    "import sympy as sp\n",
    "from sympy.abc import x\n",
    "\n",
    "a = sp.solve_univariate_inequality(x**3+3*x>3,x, relational = False)\n",
    "\n",
    "sp.pprint(sp.N(a, 5))"
   ]
  },
  {
   "cell_type": "markdown",
   "id": "44370094-56e6-4695-9227-016f9d526eaf",
   "metadata": {},
   "source": [
    "**Упражнение 6. Написать скрипт с параметрами x(n), n0, a, epsilon, осуществляющий следующие действия:**"
   ]
  },
  {
   "cell_type": "markdown",
   "id": "2ed2b0e3-b3bc-478f-98a3-c6ba9b0ffe87",
   "metadata": {},
   "source": [
    "**1. Задаёт массив n номеров от n0–2 до n0+10.**"
   ]
  },
  {
   "cell_type": "markdown",
   "id": "825d7f6d-51ea-479b-9b32-26d27a6b88e1",
   "metadata": {},
   "source": [
    "**2. Строит график последовательности x(n) на указанном промежутке.**"
   ]
  },
  {
   "cell_type": "markdown",
   "id": "89d3b835-8fc4-4d0a-835d-aa224d702177",
   "metadata": {},
   "source": [
    "**3. Строит прямые.**"
   ]
  },
  {
   "cell_type": "code",
   "execution_count": 47,
   "id": "aa64c604-732a-4762-8800-1a0bdd40b7ff",
   "metadata": {},
   "outputs": [
    {
     "name": "stdout",
     "output_type": "stream",
     "text": [
      "Предел: 1/2\n",
      "n0 (0.01) = Interval.open(7.46321168040309, oo)\n",
      "n0 (0.001) = Interval.open(22.8233947035835, oo)\n"
     ]
    },
    {
     "data": {
      "image/png": "[encoded data removed]",
      "text/plain": [
       "<Figure size 432x288 with 2 Axes>"
      ]
     },
     "metadata": {
      "needs_background": "light"
     },
     "output_type": "display_data"
    }
   ],
   "source": [
    "import matplotlib.pyplot as plt\n",
    "import numpy as np\n",
    "import sympy as sp\n",
    "from sympy.abc import n\n",
    "\n",
    "#############################\n",
    "n0 = 5\n",
    "x_n = [(n**3-1) / (2*n**3+2*n) for n in range(n0-2, n0+10+1)]\n",
    "a = sp.limit( (n**3-1) / (2*n**3+2*n) , n, sp.oo)\n",
    "eps = 0.01\n",
    "\n",
    "plt.subplot(1,2,1)\n",
    "\n",
    "print(\"Предел:\", a)\n",
    "\n",
    "x = [n for n in range(n0-2, n0+10+1)]\n",
    "y = x_n\n",
    "plt.plot(x,y, 'm:*')\n",
    "\n",
    "x = [n for n in range(n0-2, n0+10+1)]\n",
    "y = [a-eps for n in range(n0-2, n0+10+1)]\n",
    "plt.plot(x,y, 'k-')\n",
    "\n",
    "x = [n for n in range(n0-2, n0+10+1)]\n",
    "y = [a+eps for n in range(n0-2, n0+10+1)]\n",
    "plt.plot(x,y, 'k-')\n",
    "\n",
    "a = sp.solve_univariate_inequality(sp.Abs( ((n**3-1) / (2*n**3+2*n)) - a )<eps,n,relational=False)\n",
    "b = sp.solve_univariate_inequality(n>0,n,relational=False)\n",
    "\n",
    "print(\"n0 (\", eps, \") = \", sp.Intersection(a,b), sep=\"\")\n",
    "\n",
    "# нанести координатную сетку\n",
    "plt.grid()\n",
    "\n",
    "#############################\n",
    "n0 = 20\n",
    "x_n = [(n**3-1) / (2*n**3+2*n) for n in range(n0-2, n0+10+1)]\n",
    "a = sp.limit( (n**3-1) / (2*n**3+2*n) , n, sp.oo)\n",
    "eps = 0.001\n",
    "\n",
    "plt.subplot(1,2,2)\n",
    "\n",
    "x = [n for n in range(n0-2, n0+10+1)]\n",
    "y = x_n\n",
    "plt.plot(x,y, 'm:*')\n",
    "\n",
    "x = [n for n in range(n0-2, n0+10+1)]\n",
    "y = [a-eps for n in range(n0-2, n0+10+1)]\n",
    "plt.plot(x,y, 'k-')\n",
    "\n",
    "x = [n for n in range(n0-2, n0+10+1)]\n",
    "y = [a+eps for n in range(n0-2, n0+10+1)]\n",
    "plt.plot(x,y, 'k-')\n",
    "\n",
    "a = sp.solve_univariate_inequality(sp.Abs( ((n**3-1) / (2*n**3+2*n)) - a )<eps,n,relational=False)\n",
    "b = sp.solve_univariate_inequality(n>0,n,relational=False)\n",
    "\n",
    "print(\"n0 (\", eps, \") = \", sp.Intersection(a,b), sep=\"\")\n",
    "\n",
    "# нанести координатную сетку\n",
    "plt.grid()\n",
    "\n",
    "# показать график\n",
    "plt.show()"
   ]
  },
  {
   "cell_type": "code",
   "execution_count": 46,
   "id": "852aa91c-5972-457a-ab22-bea61c0f3e2c",
   "metadata": {},
   "outputs": [
    {
     "name": "stdout",
     "output_type": "stream",
     "text": [
      "Предел: 0\n",
      "n0 (0.01) = Interval.open(0.986841725591973, 1.01351392480900)\n",
      "n0 (0.001) = Interval.open(0.998668441683745, 1.00133511388129)\n"
     ]
    },
    {
     "data": {
      "image/png": "[encoded data removed]",
      "text/plain": [
       "<Figure size 432x288 with 2 Axes>"
      ]
     },
     "metadata": {
      "needs_background": "light"
     },
     "output_type": "display_data"
    }
   ],
   "source": [
    "import matplotlib.pyplot as plt\n",
    "import numpy as np\n",
    "import sympy as sp\n",
    "from sympy.abc import n\n",
    "\n",
    "#############################\n",
    "n0 = 50\n",
    "x_n = [(n**3+2*n) / (2*n**4+1) for n in range(n0-2, n0+10+1)]\n",
    "a = sp.limit( (n**3+2*n) / (2*n**4+1) , n, sp.oo)\n",
    "eps = 0.01\n",
    "\n",
    "plt.subplot(1,2,1)\n",
    "\n",
    "print(\"Предел:\", a)\n",
    "\n",
    "x = [n for n in range(n0-2, n0+10+1)]\n",
    "y = x_n\n",
    "plt.plot(x,y, 'm:*')\n",
    "\n",
    "x = [n for n in range(n0-2, n0+10+1)]\n",
    "y = [a-eps for n in range(n0-2, n0+10+1)]\n",
    "plt.plot(x,y, 'k-')\n",
    "\n",
    "x = [n for n in range(n0-2, n0+10+1)]\n",
    "y = [a+eps for n in range(n0-2, n0+10+1)]\n",
    "plt.plot(x,y, 'k-')\n",
    "\n",
    "a = sp.solve_univariate_inequality(sp.Abs( ((n**3-1) / (2*n**3+2*n)) - a )<eps,n,relational=False)\n",
    "b = sp.solve_univariate_inequality(n>0,n,relational=False)\n",
    "\n",
    "print(\"n0 (\", eps, \") = \", sp.Intersection(a,b), sep=\"\")\n",
    "\n",
    "# нанести координатную сетку\n",
    "plt.grid()\n",
    "\n",
    "#############################\n",
    "n0 = 2500\n",
    "x_n = [(n**3+2*n) / (2*n**4+1) for n in range(n0-2, n0+10+1)]\n",
    "a = sp.limit( (n**3+2*n) / (2*n**4+1) , n, sp.oo)\n",
    "eps = 0.001\n",
    "\n",
    "plt.subplot(1,2,2)\n",
    "\n",
    "x = [n for n in range(n0-2, n0+10+1)]\n",
    "y = x_n\n",
    "plt.plot(x,y, 'm:*')\n",
    "\n",
    "x = [n for n in range(n0-2, n0+10+1)]\n",
    "y = [a-eps for n in range(n0-2, n0+10+1)]\n",
    "plt.plot(x,y, 'k-')\n",
    "\n",
    "x = [n for n in range(n0-2, n0+10+1)]\n",
    "y = [a+eps for n in range(n0-2, n0+10+1)]\n",
    "plt.plot(x,y, 'k-')\n",
    "\n",
    "a = sp.solve_univariate_inequality(sp.Abs( ((n**3-1) / (2*n**3+2*n)) - a )<eps,n,relational=False)\n",
    "b = sp.solve_univariate_inequality(n>0,n,relational=False)\n",
    "\n",
    "print(\"n0 (\", eps, \") = \", sp.Intersection(a,b), sep=\"\")\n",
    "\n",
    "# нанести координатную сетку\n",
    "plt.grid()\n",
    "\n",
    "# показать график\n",
    "plt.show()"
   ]
  },
  {
   "cell_type": "markdown",
   "id": "28f8f76a-c16b-4859-9977-7484b048b172",
   "metadata": {},
   "source": [
    "**Упражнение С1. Решить неравенство, получить точный и приближённый ответ.**"
   ]
  },
  {
   "cell_type": "code",
   "execution_count": 29,
   "id": "3574134c-4a1d-45b7-ab44-1e9b534a40ee",
   "metadata": {},
   "outputs": [
    {
     "name": "stdout",
     "output_type": "stream",
     "text": [
      "(-1.8794, 0.3473) ∪ (1.5321, ∞)\n",
      "(-1.88, 0.347) ∪ (1.53, ∞)\n"
     ]
    }
   ],
   "source": [
    "import sympy as sp\n",
    "from sympy.abc import x\n",
    "\n",
    "a = sp.solve_univariate_inequality(x**3-3*x+1.0>0,x,relational=False)\n",
    "sp.pprint(sp.N(a, 5))\n",
    "\n",
    "b = sp.solve_univariate_inequality(x**3-3.0*x+1>0,x,relational=False)\n",
    "sp.pprint(sp.N(b, 3))"
   ]
  },
  {
   "cell_type": "markdown",
   "id": "206a2be3-dff3-45db-8aad-543047294040",
   "metadata": {},
   "source": [
    "<b><big> Упражнение C2</big></b><br>\n",
    "Для последовательностей ${x_n}$: <br>\n",
    "а)<big> <big> $x_n$ =$\\frac{2n^5 + 2n^4 + 3}{n^5 - 5n - 10000}$</big></big>;<br>\n",
    "б)$\\lim\\limits_{x\\to\\infty}$ $\\frac{\\sqrt{2n^5 + 3}}{\\sqrt{n^5-5}}$<br>\n",
    "в) $x_n = \\sqrt[3] {n^3 + n ^ 2} - \\sqrt[3]{n^3 - n^2}$\n",
    "<br>выполнить:<br>\n",
    "1.Найти a = $\\lim\\limits_{x\\to\\infty}$ $x_n$.<br>\n",
    "2.Вычислить $n_0(0.01)$, $n_0(0.001)$."
   ]
  },
  {
   "cell_type": "markdown",
   "id": "dd1fb4e1-84b5-4e53-b0e2-2e970889e3d2",
   "metadata": {},
   "source": [
    "**а)**"
   ]
  },
  {
   "cell_type": "code",
   "execution_count": 46,
   "id": "c7b90488-c382-43a5-ab7f-7fa92a6654ba",
   "metadata": {},
   "outputs": [
    {
     "name": "stdout",
     "output_type": "stream",
     "text": [
      "Предел: 2\n",
      "n0 (0.01) = Interval.open(200.001382025172, oo)\n",
      "n0 (0.001) = Interval.open(2000.00000250166, oo)\n"
     ]
    },
    {
     "data": {
      "image/png": "[encoded data removed]",
      "text/plain": [
       "<Figure size 432x288 with 2 Axes>"
      ]
     },
     "metadata": {
      "needs_background": "light"
     },
     "output_type": "display_data"
    }
   ],
   "source": [
    "import matplotlib.pyplot as plt\n",
    "import numpy as np\n",
    "import sympy as sp\n",
    "from sympy.abc import n\n",
    "\n",
    "#############################\n",
    "n0 = 500\n",
    "x_n = [(2*n**5+2*n**4+3) / (n**5-5*n-10000) for n in range(n0-2, n0+10+1)]\n",
    "a = sp.limit( (2*n**5+2*n**4+3) / (n**5-5*n-10000) , n, sp.oo)\n",
    "eps = 0.01\n",
    "\n",
    "plt.subplot(1,2,1)\n",
    "\n",
    "print(\"Предел:\", a)\n",
    "\n",
    "x = [n for n in range(n0-2, n0+10+1)]\n",
    "y = x_n\n",
    "plt.plot(x,y, 'm:*')\n",
    "\n",
    "x = [n for n in range(n0-2, n0+10+1)]\n",
    "y = [a-eps for n in range(n0-2, n0+10+1)]\n",
    "plt.plot(x,y, 'k-')\n",
    "\n",
    "x = [n for n in range(n0-2, n0+10+1)]\n",
    "y = [a+eps for n in range(n0-2, n0+10+1)]\n",
    "plt.plot(x,y, 'k-')\n",
    "\n",
    "a = sp.solve_univariate_inequality(sp.Abs( ((2*n**5+2*n**4+3) / (n**5-5*n-10000)) - a )<eps,n,relational=False)\n",
    "b = sp.solve_univariate_inequality(n>0,n,relational=False)\n",
    "\n",
    "print(\"n0 (\", eps, \") = \", sp.Intersection(a,b), sep=\"\")\n",
    "\n",
    "# нанести координатную сетку\n",
    "plt.grid()\n",
    "\n",
    "#############################\n",
    "n0 = 2500\n",
    "x_n = [(2*n**5+2*n**4+3) / (n**5-5*n-10000) for n in range(n0-2, n0+10+1)]\n",
    "a = sp.limit( (2*n**5+2*n**4+3) / (n**5-5*n-10000) , n, sp.oo)\n",
    "eps = 0.001\n",
    "\n",
    "plt.subplot(1,2,2)\n",
    "\n",
    "x = [n for n in range(n0-2, n0+10+1)]\n",
    "y = x_n\n",
    "plt.plot(x,y, 'm:*')\n",
    "\n",
    "x = [n for n in range(n0-2, n0+10+1)]\n",
    "y = [a-eps for n in range(n0-2, n0+10+1)]\n",
    "plt.plot(x,y, 'k-')\n",
    "\n",
    "x = [n for n in range(n0-2, n0+10+1)]\n",
    "y = [a+eps for n in range(n0-2, n0+10+1)]\n",
    "plt.plot(x,y, 'k-')\n",
    "\n",
    "a = sp.solve_univariate_inequality(sp.Abs( ((2*n**5+2*n**4+3) / (n**5-5*n-10000)) - a )<eps,n,relational=False)\n",
    "b = sp.solve_univariate_inequality(n>0,n,relational=False)\n",
    "\n",
    "print(\"n0 (\", eps, \") = \", sp.Intersection(a,b), sep=\"\")\n",
    "\n",
    "# нанести координатную сетку\n",
    "plt.grid()\n",
    "\n",
    "# показать график\n",
    "plt.show()"
   ]
  },
  {
   "cell_type": "markdown",
   "id": "9e6b9e92-c8fb-4abb-8dfc-40c3e21f290b",
   "metadata": {},
   "source": [
    "**б)**"
   ]
  },
  {
   "cell_type": "code",
   "execution_count": null,
   "id": "ecc804e1-a37f-4b43-8c38-7c5cf5fc0327",
   "metadata": {},
   "outputs": [
    {
     "name": "stdout",
     "output_type": "stream",
     "text": [
      "Предел: sqrt(2)\n",
      "n0 (0.01) = Interval.open((0.1*sqrt(2) + 13.0005)**(1/5)/(0.000100000000000211 + 0.02*sqrt(2))**(1/5), oo)\n",
      "n0 (0.001) = Interval.open((0.01*sqrt(2) + 13.000005)**(1/5)/(1.00000000013978e-6 + 0.002*sqrt(2))**(1/5), oo)\n"
     ]
    },
    {
     "data": {
      "image/png": "[encoded data removed]",
      "text/plain": [
       "<Figure size 432x288 with 2 Axes>"
      ]
     },
     "metadata": {
      "needs_background": "light"
     },
     "output_type": "display_data"
    }
   ],
   "source": [
    "import matplotlib.pyplot as plt\n",
    "import numpy as np\n",
    "import sympy as sp\n",
    "from sympy.abc import n\n",
    "\n",
    "#############################\n",
    "n0 = 500\n",
    "x_n = [(sp.sqrt(2*n**5+3)) / (sp.sqrt(n**5-5)) for n in range(n0-2, n0+10+1)]\n",
    "a = sp.limit( (sp.sqrt(2*n**5+3)) / (sp.sqrt(n**5-5)) , n, sp.oo)\n",
    "eps = 0.01\n",
    "\n",
    "plt.subplot(1,2,1)\n",
    "\n",
    "print(\"Предел:\", a)\n",
    "\n",
    "x = [n for n in range(n0-2, n0+10+1)]\n",
    "y = x_n\n",
    "plt.plot(x,y, 'm:*')\n",
    "\n",
    "x = [n for n in range(n0-2, n0+10+1)]\n",
    "y = [a-eps for n in range(n0-2, n0+10+1)]\n",
    "plt.plot(x,y, 'k-')\n",
    "\n",
    "x = [n for n in range(n0-2, n0+10+1)]\n",
    "y = [a+eps for n in range(n0-2, n0+10+1)]\n",
    "plt.plot(x,y, 'k-')\n",
    "\n",
    "a = sp.solve_univariate_inequality(sp.Abs( (sp.sqrt(2*n**5+3)) / (sp.sqrt(n**5-5)) - a )<eps,n,relational=False)\n",
    "b = sp.solve_univariate_inequality(n>0,n,relational=False)\n",
    "\n",
    "print(\"n0 (\", eps, \") = \", sp.Intersection(a,b), sep=\"\")\n",
    "\n",
    "# нанести координатную сетку\n",
    "plt.grid()\n",
    "\n",
    "#############################\n",
    "n0 = 2500\n",
    "x_n = [(sp.sqrt(2*n**5+3)) / (sp.sqrt(n**5-5)) for n in range(n0-2, n0+10+1)]\n",
    "a = sp.limit( (sp.sqrt(2*n**5+3)) / (sp.sqrt(n**5-5)) , n, sp.oo)\n",
    "eps = 0.001\n",
    "\n",
    "plt.subplot(1,2,2)\n",
    "\n",
    "x = [n for n in range(n0-2, n0+10+1)]\n",
    "y = x_n\n",
    "plt.plot(x,y, 'm:*')\n",
    "\n",
    "x = [n for n in range(n0-2, n0+10+1)]\n",
    "y = [a-eps for n in range(n0-2, n0+10+1)]\n",
    "plt.plot(x,y, 'k-')\n",
    "\n",
    "x = [n for n in range(n0-2, n0+10+1)]\n",
    "y = [a+eps for n in range(n0-2, n0+10+1)]\n",
    "plt.plot(x,y, 'k-')\n",
    "\n",
    "a = sp.solve_univariate_inequality(sp.Abs( (sp.sqrt(2*n**5+3)) / (sp.sqrt(n**5-5)) - a )<eps,n,relational=False)\n",
    "b = sp.solve_univariate_inequality(n>0,n,relational=False)\n",
    "\n",
    "print(\"n0 (\", eps, \") = \", sp.Intersection(a,b), sep=\"\")\n",
    "\n",
    "# нанести координатную сетку\n",
    "plt.grid()\n",
    "\n",
    "# показать график\n",
    "plt.show()"
   ]
  },
  {
   "cell_type": "markdown",
   "id": "f200335e-d3d3-4412-9ba0-112df725ad80",
   "metadata": {},
   "source": [
    "**в)**"
   ]
  },
  {
   "cell_type": "code",
   "execution_count": 45,
   "id": "2c129b5e-a167-44f8-9824-e8b8ceeff331",
   "metadata": {},
   "outputs": [
    {
     "name": "stdout",
     "output_type": "stream",
     "text": [
      "Предел: 2/3\n"
     ]
    },
    {
     "data": {
      "image/png": "[encoded data removed]",
      "text/plain": [
       "<Figure size 432x288 with 2 Axes>"
      ]
     },
     "metadata": {
      "needs_background": "light"
     },
     "output_type": "display_data"
    },
    {
     "name": "stdout",
     "output_type": "stream",
     "text": [
      "\n"
     ]
    }
   ],
   "source": [
    "import matplotlib.pyplot as plt\n",
    "import numpy as np\n",
    "import sympy as sp\n",
    "from sympy.abc import n\n",
    "\n",
    "#############################\n",
    "n0 = 20\n",
    "x_n = [ sp.real_root((n**3+n**2), 3) - sp.real_root((n**3-n**2), 3)  for n in range(n0-2, n0+10+1)]\n",
    "a = sp.limit( sp.real_root((n**3+n**2), 3) - sp.real_root((n**3-n**2), 3) , n, sp.oo)\n",
    "eps = 0.01\n",
    "\n",
    "plt.subplot(1,2,1)\n",
    "\n",
    "print(\"Предел:\", a)\n",
    "\n",
    "x = [n for n in range(n0-2, n0+10+1)]\n",
    "y = x_n\n",
    "plt.plot(x,y, 'm:*')\n",
    "\n",
    "x = [n for n in range(n0-2, n0+10+1)]\n",
    "y = [a-eps for n in range(n0-2, n0+10+1)]\n",
    "plt.plot(x,y, 'k-')\n",
    "\n",
    "x = [n for n in range(n0-2, n0+10+1)]\n",
    "y = [a+eps for n in range(n0-2, n0+10+1)]\n",
    "plt.plot(x,y, 'k-')\n",
    "\n",
    "#a = sp.solve_univariate_inequality(sp.Abs( sp.real_root((n**3+n**2), 3) - sp.real_root((n**3-n**2), 3) - a )<eps,n,relational=False)\n",
    "#b = sp.solve_univariate_inequality(n>0,n,relational=False)\n",
    "\n",
    "#print(\"n0 (\", eps, \") = \", sp.Intersection(a,b), sep=\"\")\n",
    "\n",
    "# нанести координатную сетку\n",
    "plt.grid()\n",
    "\n",
    "#############################\n",
    "n0 = 25000\n",
    "x_n = [sp.real_root((n**3+n**2), 3) - sp.real_root((n**3-n**2), 3) for n in range(n0-2, n0+10+1)]\n",
    "a = sp.limit( sp.real_root((n**3+n**2), 3) - sp.real_root((n**3-n**2), 3) , n, sp.oo)\n",
    "eps = 0.001\n",
    "\n",
    "plt.subplot(1,2,2)\n",
    "\n",
    "x = [n for n in range(n0-2, n0+10+1)]\n",
    "y = x_n\n",
    "plt.plot(x,y, 'm:*')\n",
    "\n",
    "x = [n for n in range(n0-2, n0+10+1)]\n",
    "y = [a-eps for n in range(n0-2, n0+10+1)]\n",
    "plt.plot(x,y, 'k-')\n",
    "\n",
    "x = [n for n in range(n0-2, n0+10+1)]\n",
    "y = [a+eps for n in range(n0-2, n0+10+1)]\n",
    "plt.plot(x,y, 'k-')\n",
    "\n",
    "#a = sp.solve_univariate_inequality(sp.Abs( sp.real_root((n**3+n**2), 3) - sp.real_root((n**3-n**2), 3) - a )<eps,n,relational=False)\n",
    "#b = sp.solve_univariate_inequality(n>0,n,relational=False)\n",
    "\n",
    "#print(\"n0 (\", eps, \") = \", sp.Intersection(a,b), sep=\"\")\n",
    "\n",
    "# нанести координатную сетку\n",
    "plt.grid()\n",
    "\n",
    "# показать график\n",
    "plt.show()\n",
    "\n",
    "print()"
   ]
  },
  {
   "cell_type": "markdown",
   "id": "c124ff18-2b92-4a05-9cc3-f745d1300e81",
   "metadata": {},
   "source": [
    "**3. Ответить на контрольные вопросы:**"
   ]
  },
  {
   "cell_type": "markdown",
   "id": "20b15ff2-40f4-4efb-a7b4-ed4cbcd151c9",
   "metadata": {},
   "source": [
    "**1) Каким образом задаются символьные переменные и массивы?**"
   ]
  },
  {
   "cell_type": "markdown",
   "id": "85aa0683-44b2-4232-947c-5e58080ca8cd",
   "metadata": {},
   "source": [
    "*Для создания символьных переменных используется функция sp.Symbol. Для создания группы символьных объектов служит функция symbols.*"
   ]
  },
  {
   "cell_type": "markdown",
   "id": "54d8e477-9ed9-4b44-8088-b15333d27805",
   "metadata": {},
   "source": [
    "**2) Каким образом можно упростить символьное выражение?**"
   ]
  },
  {
   "cell_type": "markdown",
   "id": "5a5e09b2-520b-487d-bdb2-857da27500c8",
   "metadata": {},
   "source": [
    "*Функция simplify(S) упрощает символьное выражение S.*"
   ]
  },
  {
   "cell_type": "markdown",
   "id": "d4351635-7de3-43eb-9db1-f788ae14ed4d",
   "metadata": {},
   "source": [
    "**3) Каким образом можно разложить на множители алгебраическое выражение или натуральное число?**"
   ]
  },
  {
   "cell_type": "markdown",
   "id": "b0a69a60-0925-428c-83dc-a0efb4d479ff",
   "metadata": {},
   "source": [
    "*Функция factor(S) осуществляет разложение выражения S на множители.*"
   ]
  },
  {
   "cell_type": "markdown",
   "id": "3d686a4e-2d47-4af7-8ac8-1a8acb157a2b",
   "metadata": {},
   "source": [
    "**4) В каком случае при решении неравенства выдаётся символьное выражение?**"
   ]
  },
  {
   "cell_type": "markdown",
   "id": "4cec4755-1b89-4223-8271-929a750937bc",
   "metadata": {},
   "source": [
    "*Если неравенство имеет точное решение в символах, то выдается это решение, иначе – приближенное численно.*"
   ]
  },
  {
   "cell_type": "markdown",
   "id": "54b19dd9-31e2-407a-83fb-1b427fc65ed6",
   "metadata": {},
   "source": [
    "**5) Как получить численное решение неравенства?**"
   ]
  },
  {
   "cell_type": "markdown",
   "id": "3044cd7b-0c56-4d2e-b094-7acd70c90d2e",
   "metadata": {},
   "source": [
    "*Если неравенство не имеет точное решение в радикалах, то выдается приближенное число.*"
   ]
  },
  {
   "cell_type": "markdown",
   "id": "d05e5b72-7d1d-4aa9-b16f-a31365ea0cbe",
   "metadata": {},
   "source": [
    "**6) Дайте определение предела последовательности.**"
   ]
  },
  {
   "cell_type": "markdown",
   "id": "1a58d726-87f8-445e-8f9e-68aa51335b7a",
   "metadata": {},
   "source": [
    "*Число a называется пределом последовательности {Xn} при n стремящемся к бесконечности (a=limXn), если для любого ε>0 найдѐтся номер N0(ε) такой, что при всех N>N0(ε) выполняется неравенство |Xn-a|<ε*"
   ]
  }
 ],
 "metadata": {
  "kernelspec": {
   "display_name": "Python 3 (ipykernel)",
   "language": "python",
   "name": "python3"
  },
  "language_info": {
   "codemirror_mode": {
    "name": "ipython",
    "version": 3
   },
   "file_extension": ".py",
   "mimetype": "text/x-python",
   "name": "python",
   "nbconvert_exporter": "python",
   "pygments_lexer": "ipython3",
   "version": "3.9.12"
  }
 },
 "nbformat": 4,
 "nbformat_minor": 5
}
