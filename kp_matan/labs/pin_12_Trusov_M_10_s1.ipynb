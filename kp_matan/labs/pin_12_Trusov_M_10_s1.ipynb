{
 "cells": [
  {
   "cell_type": "markdown",
   "id": "9bde86ff-a091-43ef-9d5c-d753e9ca42dc",
   "metadata": {},
   "source": [
    "**Практикум 10. Формула Тейлора для функций одной переменной**"
   ]
  },
  {
   "cell_type": "markdown",
   "id": "711b2a93-2bc9-4ccc-bf39-b1a5555fb6e6",
   "metadata": {},
   "source": [
    "**Упражнение 1. Вычислить значения первых пяти производных функции $y=cos(x)$ в точке $1$, результат записать в текстовый файл в виде таблицы: первый столбец – номер производной, второй – значение. Сделать заголовок и шапку таблицы**"
   ]
  },
  {
   "cell_type": "code",
   "execution_count": 1,
   "id": "535109b3-702f-4896-b0b0-d90f8e5fddfd",
   "metadata": {},
   "outputs": [],
   "source": [
    "from sympy import *\n",
    "\n",
    "file = open(\"1.txt\", \"w\")\n",
    "\n",
    "x = Symbol('x')\n",
    "y = cos(x)\n",
    "k = 5\n",
    "point = 1\n",
    "\n",
    "file.write(\"Значения производных функции y = cos(x)\\n\")\n",
    "file.write(\"\\nНомер  \\tЗначение\\n\")\n",
    "for i in range(k):\n",
    "    y = y.diff(x)\n",
    "    file.write(str(i + 1) + \" \\t\" + str(y.evalf(subs={x: point})) + \"\\n\")\n",
    "\n",
    "file.close()"
   ]
  },
  {
   "cell_type": "code",
   "execution_count": 2,
   "id": "c84c3446-28e5-4500-b14f-17ad0667c5fe",
   "metadata": {},
   "outputs": [
    {
     "name": "stdout",
     "output_type": "stream",
     "text": [
      "Значения производных функции y = cos(x)\n",
      "\n",
      "Номер  \tЗначение\n",
      "1 \t-0.841470984807897\n",
      "2 \t-0.540302305868140\n",
      "3 \t0.841470984807897\n",
      "4 \t0.540302305868140\n",
      "5 \t-0.841470984807897\n",
      "\n"
     ]
    }
   ],
   "source": [
    "file = open(\"1.txt\", \"r\")\n",
    "print(file.read())\n",
    "file.close()"
   ]
  },
  {
   "cell_type": "markdown",
   "id": "209ad451-393c-4595-873e-9dff9534f8c0",
   "metadata": {},
   "source": [
    "**Упражнение 2. Создать массив ячеек: первая ячейка – количество производных, вторая – значение аргумента, третья - вектор значений функции и её производных в точке из упражнения 3.**"
   ]
  },
  {
   "cell_type": "code",
   "execution_count": 78,
   "id": "2fee3d6f-7a06-4bba-8f31-07506658786d",
   "metadata": {},
   "outputs": [
    {
     "name": "stdout",
     "output_type": "stream",
     "text": [
      "0     \t1      \t2      \t3     \t4     \t5      \n",
      "cos(x)\t-sin(x)\t-cos(x)\tsin(x)\tcos(x)\t-sin(x)\n",
      "1     \t0      \t-1     \t0     \t1     \t0      \n",
      "\n",
      "\n",
      "0     \t1     \t2      \t3      \t4     \t5     \n",
      "sin(x)\tcos(x)\t-sin(x)\t-cos(x)\tsin(x)\tcos(x)\n",
      "0     \t1     \t0      \t-1     \t0     \t1     \n",
      "\n",
      "\n",
      "0         \t1        \t2            \t3           \t4            \t5            \n",
      "log(x + 1)\t1/(x + 1)\t-1/(x + 1)**2\t2/(x + 1)**3\t-6/(x + 1)**4\t24/(x + 1)**5\n",
      "0         \t1        \t-1           \t2           \t-6           \t24           \n",
      "\n",
      "\n"
     ]
    }
   ],
   "source": [
    "from sympy import *\n",
    "\n",
    "def rowPrint(array):\n",
    "    s = [[str(e) for e in row] for row in array]\n",
    "    lens = [max(map(len, col)) for col in zip(*s)]\n",
    "    fmt = '\\t'.join('{{:{}}}'.format(x) for x in lens)\n",
    "    table = [fmt.format(*row) for row in s]\n",
    "    print('\\n'.join(table))\n",
    "    print(\"\\n\")\n",
    "\n",
    "\n",
    "def collectArray(function, derNumber, point):\n",
    "    y = function\n",
    "    arr = [[], [], []]\n",
    "    for i in range(derNumber + 1):\n",
    "        arr[0].append(i)\n",
    "        arr[1].append(y)\n",
    "        arr[2].append(round(y.subs(x, point), 2))\n",
    "        y = y.diff(x)\n",
    "    return arr\n",
    "\n",
    "x = Symbol('x')\n",
    "\n",
    "y = cos(x)\n",
    "rowPrint(collectArray(y, 5, 0))\n",
    "\n",
    "y = sin(x)\n",
    "rowPrint(collectArray(y, 5, 0))\n",
    "\n",
    "y = ln(1 + x)\n",
    "rowPrint(collectArray(y, 5, 0))"
   ]
  },
  {
   "cell_type": "markdown",
   "id": "f0a8aa0f-5198-4b1e-bd70-62dc70c17294",
   "metadata": {},
   "source": [
    "**Упражнение 3. Создать функцию, зависящую от функции, точки, и числа $n$ - количества производных, выходным аргументом которой является вектор длины $n+1$, первый элемент которого – значение функции в точке, остальные – значения производных. Проверить работу $М$-функции для функций $cos x$, $sin x$, $ln(1+x)$ в точке $x_0=0$.**"
   ]
  },
  {
   "cell_type": "code",
   "execution_count": 79,
   "id": "e2386b64-2319-4cd9-acde-10a00ff042ab",
   "metadata": {},
   "outputs": [
    {
     "name": "stdout",
     "output_type": "stream",
     "text": [
      "[1, 0, -1, 0, 1, 0, -1, 0]\n",
      "[0, 1, 0, -1, 0, 1, 0, -1]\n",
      "[0, 1, -1, 2, -6, 24, -120, 720]\n"
     ]
    }
   ],
   "source": [
    "from sympy import *\n",
    "\n",
    "def getFuncDerValue(func, point, n):\n",
    "    arr = []\n",
    "    for i in range(n + 1):\n",
    "        arr.append(round(func.subs(x, point), 2))\n",
    "        func = func.diff(x)\n",
    "    return arr\n",
    "\n",
    "x = Symbol('x')\n",
    "\n",
    "print(getFuncDerValue(cos(x), 0, 7))\n",
    "print(getFuncDerValue(sin(x), 0, 7))\n",
    "print(getFuncDerValue(ln(1 + x), 0, 7))"
   ]
  },
  {
   "cell_type": "markdown",
   "id": "f44ca282-a73c-4f98-bc05-34914759bc4b",
   "metadata": {},
   "source": [
    "**Упражнение 4. Создать функцию, входным аргументом которой является массив, в первой ячейке которого записана $x_0$ - точка, в окрестности которой происходит разложение по формуле Тейлора, во второй число $n$ - порядок, до которого происходит разложение, в третьей – вектор длины $n+1$, составленный из значений функции и производных в точке $x_0$. Выходной аргумент – многочлен Тейлора.**"
   ]
  },
  {
   "cell_type": "code",
   "execution_count": 5,
   "id": "6c24ff13-be9a-43ac-b833-ca6c7b930f76",
   "metadata": {},
   "outputs": [
    {
     "name": "stdout",
     "output_type": "stream",
     "text": [
      "1568*x + 166*(x + 4)**3 - 712*(x + 4)**2 + 4864\n",
      "0.96*x - 0.16*(x - 5)**3 - 0.14*(x - 5)**2 - 4.5\n"
     ]
    }
   ],
   "source": [
    "import math\n",
    "from sympy import *\n",
    "\n",
    "def getTaylor(array):\n",
    "    x0 = array[0]\n",
    "    n = array[1]\n",
    "    vec = array[2]\n",
    "    collectTaylor(x0, n, vec)\n",
    "\n",
    "def collectTaylor(point, num, values):\n",
    "    larr = []\n",
    "    for i in range(num + 1):\n",
    "        larr.append(round(values[i] / math.factorial(i), i + 2) * (x - point) ** i)\n",
    "    eq = 0\n",
    "    for i in range(len(larr)):\n",
    "        eq += larr[i]\n",
    "    print(eq)\n",
    "\n",
    "def getFuncDerValue(func, point, n):\n",
    "    arr = []\n",
    "    for i in range(n + 1):\n",
    "        arr.append(round(func.subs(x, point), 2))\n",
    "        func = func.diff(x)\n",
    "    return arr\n",
    "\n",
    "x = Symbol('x')\n",
    "\n",
    "f = x**5+6*x**3\n",
    "n = 3\n",
    "point = -4\n",
    "getTaylor([point, n, getFuncDerValue(f, point, n)])\n",
    "# проверка - https://mathforyou.net/online/calculus/series/taylor/?e0=eABeADUAKwA2AHgAXgAzAA2&e1=LQA0AA2&v0=x&o0=3&s=97&i=0&h=BD2B84E8B088ADBFAB67819C183DDDBA\n",
    "\n",
    "f = cos(x)\n",
    "n = 3\n",
    "point = 5\n",
    "getTaylor([point, n, getFuncDerValue(f, point, n)])\n",
    "# проверка - https://mathforyou.net/online/calculus/series/taylor/?e0=YwBvAHMAKAB4ACkA0&e1=NQA1&v0=x&o0=3&s=97&i=0&h=42AD8760B8B4513038A4947FF7BADB33"
   ]
  },
  {
   "cell_type": "markdown",
   "id": "5af512f7-0952-4b3d-800a-65418cf222af",
   "metadata": {},
   "source": [
    "**Для следующих функций в указанной точке $x_0$ в одном графическом окне построить графики функции и многочленов Тейлора порядка $n_1$, $n_2$, $n_3$.**"
   ]
  },
  {
   "cell_type": "markdown",
   "id": "87937858-baaf-4ffb-9e09-7cc08d2d278b",
   "metadata": {},
   "source": [
    "**а) $f(x) = sin(x)$, $x_0=0$, $n_1=1$, $n_2=2$, $n_3=3$;**"
   ]
  },
  {
   "cell_type": "code",
   "execution_count": 201,
   "id": "44fa3be7-9148-4ee4-ac62-2a0f98b2e648",
   "metadata": {},
   "outputs": [
    {
     "name": "stdout",
     "output_type": "stream",
     "text": [
      "x\n",
      "x\n",
      "-0.16667*x**3 + x\n"
     ]
    }
   ],
   "source": [
    "import numpy as np\n",
    "from sympy import *\n",
    "import math\n",
    "\n",
    "def f(x):\n",
    "    return np.sin(x)\n",
    "\n",
    "def getTaylor(array):\n",
    "    x0 = array[0]\n",
    "    n = array[1]\n",
    "    vec = array[2]\n",
    "    collectTaylor(x0, n, vec)\n",
    "\n",
    "def collectTaylor(point, num, values):\n",
    "    larr = []\n",
    "    for i in range(num + 1):\n",
    "        larr.append(round(values[i] / math.factorial(i), i + 2) * (x - point) ** i)\n",
    "    eq = 0\n",
    "    for i in range(len(larr)):\n",
    "        eq += larr[i]\n",
    "    print(eq)\n",
    "\n",
    "def getFuncDerValue(func, point, n):\n",
    "    arr = []\n",
    "    for i in range(n + 1):\n",
    "        arr.append(round(func.subs(x, point), 2))\n",
    "        func = func.diff(x)\n",
    "    return arr\n",
    "\n",
    "x = Symbol('x')\n",
    "\n",
    "function = sin(x)\n",
    "\n",
    "n = 1\n",
    "point = 0\n",
    "getTaylor([point, n, getFuncDerValue(function, point, n)])\n",
    "\n",
    "n = 2\n",
    "point = 0\n",
    "getTaylor([point, n, getFuncDerValue(function, point, n)])\n",
    "\n",
    "n = 3\n",
    "point = 0\n",
    "getTaylor([point, n, getFuncDerValue(function, point, n)])"
   ]
  },
  {
   "cell_type": "code",
   "execution_count": 202,
   "id": "260f81da-0e16-4a41-915c-fa6c805179a6",
   "metadata": {},
   "outputs": [
    {
     "data": {
      "image/png": "[encoded data removed]",
      "text/plain": [
       "<Figure size 432x288 with 1 Axes>"
      ]
     },
     "metadata": {
      "needs_background": "light"
     },
     "output_type": "display_data"
    }
   ],
   "source": [
    "import matplotlib.pyplot as plt\n",
    "import numpy as np\n",
    "\n",
    "def f(x):\n",
    "    return np.sin(x)\n",
    "\n",
    "x = np.arange(-5, 5, 0.1)\n",
    "plt.plot(x, f(x), \"r\")\n",
    "\n",
    "plt.plot(x, x, \"b\")\n",
    "plt.plot(x, x, \"\")\n",
    "plt.plot(x, -0.16667 * x ** 3 + x, \"b\")\n",
    "\n",
    "# параметры координатной плоскости\n",
    "plt.xlabel(\"x\")\n",
    "plt.ylabel(\"y\", rotation=0)\n",
    "plt.grid()\n",
    "plt.axhline(y=0, color='k')\n",
    "plt.axvline(x=0, color='k')\n",
    "\n",
    "plt.show()"
   ]
  },
  {
   "cell_type": "markdown",
   "id": "1279903e-e1fe-4de3-9560-b773fb2c2c60",
   "metadata": {},
   "source": [
    "**б) $f(x) = cos(x)$, $x_0=0$, $n_1=1$, $n_2=2$, $n_3=4$;**"
   ]
  },
  {
   "cell_type": "code",
   "execution_count": 203,
   "id": "e211d765-edd7-448a-9d95-2b0f57da92a0",
   "metadata": {},
   "outputs": [
    {
     "name": "stdout",
     "output_type": "stream",
     "text": [
      "1\n",
      "1 - 0.5*x**2\n",
      "0.041667*x**4 - 0.5*x**2 + 1\n"
     ]
    }
   ],
   "source": [
    "import numpy as np\n",
    "from sympy import *\n",
    "import math\n",
    "\n",
    "def f(x):\n",
    "    return np.cos(x)\n",
    "\n",
    "def getTaylor(array):\n",
    "    x0 = array[0]\n",
    "    n = array[1]\n",
    "    vec = array[2]\n",
    "    collectTaylor(x0, n, vec)\n",
    "\n",
    "def collectTaylor(point, num, values):\n",
    "    larr = []\n",
    "    for i in range(num + 1):\n",
    "        larr.append(round(values[i] / math.factorial(i), i + 2) * (x - point) ** i)\n",
    "    eq = 0\n",
    "    for i in range(len(larr)):\n",
    "        eq += larr[i]\n",
    "    print(eq)\n",
    "\n",
    "def getFuncDerValue(func, point, n):\n",
    "    arr = []\n",
    "    for i in range(n + 1):\n",
    "        arr.append(round(func.subs(x, point), 2))\n",
    "        func = func.diff(x)\n",
    "    return arr\n",
    "\n",
    "x = Symbol('x')\n",
    "\n",
    "function = cos(x)\n",
    "\n",
    "n = 1\n",
    "point = 0\n",
    "getTaylor([point, n, getFuncDerValue(function, point, n)])\n",
    "\n",
    "n = 2\n",
    "point = 0\n",
    "getTaylor([point, n, getFuncDerValue(function, point, n)])\n",
    "\n",
    "n = 4\n",
    "point = 0\n",
    "getTaylor([point, n, getFuncDerValue(function, point, n)])"
   ]
  },
  {
   "cell_type": "code",
   "execution_count": 11,
   "id": "d5520934-f1cd-405f-9fbf-d201e8172acf",
   "metadata": {},
   "outputs": [
    {
     "data": {
      "image/png": "[encoded data removed]",
      "text/plain": [
       "<Figure size 432x288 with 1 Axes>"
      ]
     },
     "metadata": {
      "needs_background": "light"
     },
     "output_type": "display_data"
    }
   ],
   "source": [
    "import matplotlib.pyplot as plt\n",
    "import numpy as np\n",
    "\n",
    "def f(x):\n",
    "    return np.cos(x)\n",
    "\n",
    "x = np.arange(-4, 4, 0.1)\n",
    "plt.plot(x, f(x), \"r\")\n",
    "\n",
    "plt.plot(x, 1+0*x, \"g\")\n",
    "plt.plot(x, 1 - 0.5*x**2, \"b\")\n",
    "plt.plot(x, 0.041667*x**4 - 0.5*x**2 + 1, \"b\")\n",
    "\n",
    "# параметры координатной плоскости\n",
    "plt.xlabel(\"x\")\n",
    "plt.ylabel(\"y\", rotation=0)\n",
    "plt.grid()\n",
    "plt.axhline(y=0, color='k')\n",
    "plt.axvline(x=0, color='k')\n",
    "\n",
    "plt.show()"
   ]
  },
  {
   "cell_type": "markdown",
   "id": "dd73a2b6-7504-48d4-b2ee-a808db66875c",
   "metadata": {},
   "source": [
    "**в) $f(x) = ln(4+x)$, $x_0=1$, $n_1=1$, $n_2=2$, $n_3=4$.**"
   ]
  },
  {
   "cell_type": "code",
   "execution_count": 210,
   "id": "136a122e-aaf3-4df3-bdc3-763a2da1cfe0",
   "metadata": {},
   "outputs": [
    {
     "name": "stdout",
     "output_type": "stream",
     "text": [
      "0.2*x + 1.41\n",
      "0.2*x - 0.02*(x - 1)**2 + 1.41\n",
      "0.2*x - 0.0004*(x - 1)**4 + 0.003*(x - 1)**3 - 0.02*(x - 1)**2 + 1.41\n"
     ]
    }
   ],
   "source": [
    "import numpy as np\n",
    "from sympy import *\n",
    "import math\n",
    "\n",
    "def f(x):\n",
    "    return np.log(4+x)\n",
    "\n",
    "def getTaylor(array):\n",
    "    x0 = array[0]\n",
    "    n = array[1]\n",
    "    vec = array[2]\n",
    "    collectTaylor(x0, n, vec)\n",
    "\n",
    "def collectTaylor(point, num, values):\n",
    "    larr = []\n",
    "    for i in range(num + 1):\n",
    "        larr.append(round(values[i] / math.factorial(i), i + 2) * (x - point) ** i)\n",
    "    eq = 0\n",
    "    for i in range(len(larr)):\n",
    "        eq += larr[i]\n",
    "    print(eq)\n",
    "\n",
    "def getFuncDerValue(func, point, n):\n",
    "    arr = []\n",
    "    for i in range(n + 1):\n",
    "        arr.append(round(func.subs(x, point), 2))\n",
    "        func = func.diff(x)\n",
    "    return arr\n",
    "\n",
    "x = Symbol('x')\n",
    "\n",
    "function = log(4+x)\n",
    "\n",
    "n = 1\n",
    "point = 1\n",
    "getTaylor([point, n, getFuncDerValue(function, point, n)])\n",
    "\n",
    "n = 2\n",
    "point = 1\n",
    "getTaylor([point, n, getFuncDerValue(function, point, n)])\n",
    "\n",
    "n = 4\n",
    "point = 1\n",
    "getTaylor([point, n, getFuncDerValue(function, point, n)])"
   ]
  },
  {
   "cell_type": "code",
   "execution_count": 214,
   "id": "670efda4-7e5e-47cb-bbc4-ae78e6798c5f",
   "metadata": {},
   "outputs": [
    {
     "data": {
      "image/png": "[encoded data removed]",
      "text/plain": [
       "<Figure size 432x288 with 1 Axes>"
      ]
     },
     "metadata": {
      "needs_background": "light"
     },
     "output_type": "display_data"
    }
   ],
   "source": [
    "import matplotlib.pyplot as plt\n",
    "import numpy as np\n",
    "\n",
    "def f(x):\n",
    "    return np.log(4+x)\n",
    "\n",
    "x = np.arange(-3, 4, 0.1)\n",
    "plt.plot(x, f(x), \"r\")\n",
    "\n",
    "plt.plot(x, 0.2*x + 1.41, \"b\")\n",
    "plt.plot(x, 0.2*x - 0.02*(x - 1)**2 + 1.41, \"b\")\n",
    "plt.plot(x, 0.2*x - 0.0004*(x - 1)**4 + 0.003*(x - 1)**3 - 0.02*(x - 1)**2 + 1.41, \"b\")\n",
    "\n",
    "# параметры координатной плоскости\n",
    "plt.xlabel(\"x\")\n",
    "plt.ylabel(\"y\", rotation=0)\n",
    "plt.grid()\n",
    "plt.axhline(y=0, color='k')\n",
    "plt.axvline(x=0, color='k')\n",
    "\n",
    "plt.show()"
   ]
  },
  {
   "cell_type": "markdown",
   "id": "638c0017-ff02-409a-bf11-f2996bbb97fe",
   "metadata": {},
   "source": [
    "**Упражнение С1. Для указанной функции в точке $x_0$ построить многочлены Тейлора порядка $n_1$ и $n_2$, в одном графическом окне построить графики функции и многочленов Тейлора: $f(x)=\\sqrt{4+x}$, $x_0 = 0$, $n_1=1$, $n_2=2$, $n_3=4$.**"
   ]
  },
  {
   "cell_type": "code",
   "execution_count": 14,
   "id": "4a0eb764-d2fa-4eab-b219-16557eeb198b",
   "metadata": {},
   "outputs": [
    {
     "name": "stdout",
     "output_type": "stream",
     "text": [
      "0.25*x + 2\n",
      "-0.02*x**2 + 0.25*x + 2\n",
      "-0.0004*x**4 + 0.002*x**3 - 0.02*x**2 + 0.25*x + 2\n"
     ]
    }
   ],
   "source": [
    "import numpy as np\n",
    "from sympy import *\n",
    "import math\n",
    "\n",
    "def f(x):\n",
    "    return np.sqrt(4+x)\n",
    "\n",
    "def getTaylor(array):\n",
    "    x0 = array[0]\n",
    "    n = array[1]\n",
    "    vec = array[2]\n",
    "    collectTaylor(x0, n, vec)\n",
    "\n",
    "def collectTaylor(point, num, values):\n",
    "    larr = []\n",
    "    for i in range(num + 1):\n",
    "        larr.append(round(values[i] / math.factorial(i), i + 2) * (x - point) ** i)\n",
    "    eq = 0\n",
    "    for i in range(len(larr)):\n",
    "        eq += larr[i]\n",
    "    print(eq)\n",
    "\n",
    "def getFuncDerValue(func, point, n):\n",
    "    arr = []\n",
    "    for i in range(n + 1):\n",
    "        arr.append(round(func.subs(x, point), 2))\n",
    "        func = func.diff(x)\n",
    "    return arr\n",
    "\n",
    "x = Symbol('x')\n",
    "\n",
    "function = sqrt(4+x)\n",
    "\n",
    "n = 1\n",
    "point = 0\n",
    "getTaylor([point, n, getFuncDerValue(function, point, n)])\n",
    "\n",
    "n = 2\n",
    "point = 0\n",
    "getTaylor([point, n, getFuncDerValue(function, point, n)])\n",
    "\n",
    "n = 4\n",
    "point = 0\n",
    "getTaylor([point, n, getFuncDerValue(function, point, n)])"
   ]
  },
  {
   "cell_type": "code",
   "execution_count": 221,
   "id": "f6c8b32e-96af-48b3-ba2c-4aa32ff9e262",
   "metadata": {},
   "outputs": [
    {
     "data": {
      "image/png": "[encoded data removed]",
      "text/plain": [
       "<Figure size 432x288 with 1 Axes>"
      ]
     },
     "metadata": {
      "needs_background": "light"
     },
     "output_type": "display_data"
    }
   ],
   "source": [
    "import matplotlib.pyplot as plt\n",
    "import numpy as np\n",
    "\n",
    "def f(x):\n",
    "    return np.sqrt(4+x)\n",
    "\n",
    "x = np.arange(-3, 5, 0.1)\n",
    "plt.plot(x, f(x), \"r\")\n",
    "\n",
    "plt.plot(x, 0.25*x + 2, \"b\")\n",
    "plt.plot(x, -0.02*x**2 + 0.25*x + 2, \"b\")\n",
    "plt.plot(x, -0.0004*x**4 + 0.002*x**3 - 0.02*x**2 + 0.25*x + 2, \"b\")\n",
    "\n",
    "# параметры координатной плоскости\n",
    "plt.xlabel(\"x\")\n",
    "plt.ylabel(\"y\", rotation=0)\n",
    "plt.grid()\n",
    "plt.axhline(y=0, color='k')\n",
    "plt.axvline(x=0, color='k')\n",
    "\n",
    "plt.show()"
   ]
  },
  {
   "cell_type": "markdown",
   "id": "d1dedb4d-5fba-4c9f-bda8-652063d0a50e",
   "metadata": {},
   "source": [
    "**Упражнение С2. Воспользуйтесь $help$, чтобы познакомиться с встроенной функцией approximate_taylor_polynomial. Используя эту функцию, найдите:**"
   ]
  },
  {
   "cell_type": "markdown",
   "id": "97d94262-74c6-47cb-80eb-390f62784445",
   "metadata": {},
   "source": [
    "**а) многочлены Тейлора 7-го порядка в точке $x_0=0$ для функций $sin (x)$, $cos (x)$, $e^x$, $ln(1+x)$, $tg (x)$;**"
   ]
  },
  {
   "cell_type": "code",
   "execution_count": 10,
   "id": "35d2ae34-359e-43b2-a10d-c5ed278a1204",
   "metadata": {},
   "outputs": [
    {
     "name": "stdout",
     "output_type": "stream",
     "text": [
      "            7             6            5             4          3\n",
      "-0.0001984 x - 2.294e-13 x + 0.008333 x + 4.621e-14 x - 0.1667 x\n",
      "              2\n",
      " - 2.734e-15 x + 1 x + 2.311e-17\n"
     ]
    }
   ],
   "source": [
    "from scipy.interpolate import approximate_taylor_polynomial\n",
    "import numpy as np\n",
    "\n",
    "point = 0\n",
    "n = 7\n",
    "\n",
    "def f(x):\n",
    "    return np.sin(x)\n",
    "\n",
    "print(approximate_taylor_polynomial(f, point, n, 1, order=n+10))"
   ]
  },
  {
   "cell_type": "code",
   "execution_count": 289,
   "id": "6c2f747a-2e33-411d-b22f-dbb2bbc83896",
   "metadata": {},
   "outputs": [
    {
     "name": "stdout",
     "output_type": "stream",
     "text": [
      "           7            6            5           4          3       2\n",
      "0.0001984 x + 0.001389 x + 0.008333 x + 0.04167 x + 0.1667 x + 0.5 x + 1 x + 1\n"
     ]
    }
   ],
   "source": [
    "def f(x):\n",
    "    return np.e**x\n",
    "\n",
    "print(approximate_taylor_polynomial(f, point, n, 1, order=n+10))"
   ]
  },
  {
   "cell_type": "code",
   "execution_count": 290,
   "id": "92b13aee-b900-4f3d-9b50-7b6155a52ef9",
   "metadata": {},
   "outputs": [
    {
     "name": "stdout",
     "output_type": "stream",
     "text": [
      "       7         6         5          4          3          2\n",
      "26.57 x + 9.616 x - 4.403 x - 0.9147 x + 0.6622 x - 0.4873 x + 0.9936 x - 1.521e-16\n"
     ]
    }
   ],
   "source": [
    "def f(x):\n",
    "    return np.log(1+x)\n",
    "\n",
    "print(approximate_taylor_polynomial(f, point, n, 1, order=n+10))"
   ]
  },
  {
   "cell_type": "code",
   "execution_count": 291,
   "id": "ad2d866e-bad0-4f09-8405-91d5f68074a9",
   "metadata": {},
   "outputs": [
    {
     "name": "stdout",
     "output_type": "stream",
     "text": [
      "         7           6          5             4          3\n",
      "0.05165 x - 2.4e-11 x + 0.1337 x + 1.688e-12 x + 0.3333 x\n",
      "              2\n",
      " - 8.759e-15 x + 1 x - 1.012e-15\n"
     ]
    }
   ],
   "source": [
    "def f(x):\n",
    "    return np.tan(x)\n",
    "\n",
    "print(approximate_taylor_polynomial(f, point, n, 1, order=n+10))"
   ]
  },
  {
   "cell_type": "markdown",
   "id": "c18ce764-8707-4e79-8f54-5cb6e980fdbc",
   "metadata": {},
   "source": [
    "**б) многочлены Тейлора 5-го порядка в точке $x_0=\\frac{π}{2}$ для функций $sin (x)$, $cos (x)$.**"
   ]
  },
  {
   "cell_type": "code",
   "execution_count": 299,
   "id": "f932153a-9814-4b40-957b-f6d196d87237",
   "metadata": {},
   "outputs": [
    {
     "name": "stdout",
     "output_type": "stream",
     "text": [
      "            5           4             3       2\n",
      "-1.733e-13 x + 0.04167 x + 1.947e-14 x - 0.5 x - 4.693e-16 x + 1\n"
     ]
    }
   ],
   "source": [
    "from scipy.interpolate import approximate_taylor_polynomial\n",
    "\n",
    "point = np.pi/2\n",
    "n = 5\n",
    "\n",
    "def f(x):\n",
    "    return np.sin(x)\n",
    "\n",
    "print(approximate_taylor_polynomial(f, point, n, 1, order=n+10))"
   ]
  },
  {
   "cell_type": "code",
   "execution_count": 293,
   "id": "dd47207e-b59e-4ec9-bf05-6ca2ff026949",
   "metadata": {},
   "outputs": [
    {
     "name": "stdout",
     "output_type": "stream",
     "text": [
      "           5             4          3             2\n",
      "-0.008333 x + 8.931e-15 x + 0.1667 x - 8.973e-16 x - 1 x + 1.066e-16\n"
     ]
    }
   ],
   "source": [
    "def f(x):\n",
    "    return np.cos(x)\n",
    "\n",
    "print(approximate_taylor_polynomial(f, point, n, 1, order=n+10))"
   ]
  },
  {
   "cell_type": "markdown",
   "id": "6e20569d-c089-4ed0-8bae-400e48e73367",
   "metadata": {},
   "source": [
    "**Ответить на контрольные вопросы:**"
   ]
  },
  {
   "cell_type": "markdown",
   "id": "6b25ae99-aa14-49ed-82e5-47f54b1c9052",
   "metadata": {},
   "source": [
    "**1. Как можно использовать многочлены Тейлора для приближенных оценок значений функции?**"
   ]
  },
  {
   "cell_type": "markdown",
   "id": "0b434951-2de4-4840-84a8-691377c028b7",
   "metadata": {},
   "source": [
    "*С помощью разложения функции по формуле Тейлора можно получить достаточно точное значение функции в точке, причём точность зависит от величины степени разложения.*"
   ]
  },
  {
   "cell_type": "markdown",
   "id": "45c5cd98-c58e-4d26-ac62-063d98afba12",
   "metadata": {},
   "source": [
    "**2. Как изменяется ошибка в оценках значений функции с помощью формулы Тейлора при увеличении порядка многочлена?**"
   ]
  },
  {
   "cell_type": "markdown",
   "id": "dd072c27-569a-4804-b99a-6cf1406a7934",
   "metadata": {},
   "source": [
    "*При увеличении порядка многочлена уменьшается oшибка в оценках значений функции.*"
   ]
  },
  {
   "cell_type": "markdown",
   "id": "35e7565e-3d16-4204-96ad-ad716a71b791",
   "metadata": {},
   "source": [
    "**3. Как изменяется ошибка в оценках значений функции с помощью формулы Тейлора при удалении значений аргумента от точки разложения $x_0$?**"
   ]
  },
  {
   "cell_type": "markdown",
   "id": "7566967f-fbab-4647-bb7c-4a518819f635",
   "metadata": {},
   "source": [
    "*Ошибка в оценках значений функции с помощью формулы Тейлора при удалении значений аргумента от точки разложения $x0$ увеличивается (видно из графиков).*"
   ]
  },
  {
   "cell_type": "markdown",
   "id": "b4785a2c-f02e-4290-b717-d6dac7f6abde",
   "metadata": {},
   "source": [
    "**Дополнительное задание на защите: функция, получает функцию, порядок, точку, строит на одном график функции производных до порядка.**"
   ]
  },
  {
   "cell_type": "code",
   "execution_count": 85,
   "id": "3e44dd13-3a10-4545-a9ca-70602763aa5c",
   "metadata": {},
   "outputs": [
    {
     "name": "stdout",
     "output_type": "stream",
     "text": [
      "1\n",
      "1.0*x + 1\n",
      "0.5*x**2 + 1.0*x + 1\n",
      "0.16667*x**3 + 0.5*x**2 + 1.0*x + 1\n",
      "0.041667*x**4 + 0.16667*x**3 + 0.5*x**2 + 1.0*x + 1\n",
      "0.0083333*x**5 + 0.041667*x**4 + 0.16667*x**3 + 0.5*x**2 + 1.0*x + 1\n"
     ]
    },
    {
     "data": {
      "image/png": "[encoded data removed]",
      "text/plain": [
       "<Figure size 432x288 with 1 Axes>"
      ]
     },
     "metadata": {
      "needs_background": "light"
     },
     "output_type": "display_data"
    }
   ],
   "source": [
    "import numpy as np\n",
    "from sympy import *\n",
    "import math\n",
    "import matplotlib.pyplot as plt\n",
    "\n",
    "\n",
    "def getTaylor(array):\n",
    "    x0 = array[0]\n",
    "    n = array[1]\n",
    "    vec = array[2]\n",
    "    return collectTaylor(x0, n, vec)\n",
    "\n",
    "\n",
    "def collectTaylor(point, num, values):\n",
    "    larr = []\n",
    "    for i in range(num + 1):\n",
    "        larr.append(round(values[i] / math.factorial(i), i + 2) * (x - point) ** i)\n",
    "    eq = 0\n",
    "    for i in range(len(larr)):\n",
    "        eq += larr[i]\n",
    "    return eq\n",
    "\n",
    "\n",
    "def getFuncDerValue(func, point, n):\n",
    "    arr = []\n",
    "    for i in range(n + 1):\n",
    "        arr.append(round(func.subs(x, point), 2))\n",
    "        func = func.diff(x)\n",
    "    return arr\n",
    "\n",
    "\n",
    "def getTaylorValue(f, n, point):\n",
    "    for i in range(n + 1):\n",
    "        eee = getTaylor([point, i, getFuncDerValue(function, point, i)])\n",
    "        drawTaylor(eee, i)\n",
    "\n",
    "\n",
    "def drawTaylor(f, num):\n",
    "    print(f)\n",
    "    arr_colors = [\"k\", \"g\", \"r\", \"c\", \"m\", \"y\", \"b\"]\n",
    "    x_graph = np.arange(-5, 5, 0.1)\n",
    "    y_graph = []\n",
    "    for i in range(len(x_graph)):\n",
    "        y_graph.append(f.evalf(subs={x: x_graph[i]}))\n",
    "    plt.plot(\n",
    "        x_graph, y_graph, arr_colors[num % len(arr_colors)], label=str(num) + \" порядок\"\n",
    "    )\n",
    "\n",
    "\n",
    "###############################################\n",
    "x = Symbol(\"x\")\n",
    "function = np.e**x\n",
    "n = 5\n",
    "point = 0\n",
    "getTaylorValue(function, n, point)\n",
    "######################################################\n",
    "\n",
    "# параметры координатной плоскости\n",
    "plt.xlabel(\"x\")\n",
    "plt.ylabel(\"y\", rotation=0)\n",
    "plt.ylim(-2, 5)\n",
    "plt.grid()\n",
    "plt.axhline(y=0, color=\"k\")\n",
    "plt.axvline(x=0, color=\"k\")\n",
    "# вывести легенду графиков\n",
    "plt.legend()\n",
    "plt.show()"
   ]
  }
 ],
 "metadata": {
  "kernelspec": {
   "display_name": "Python 3 (ipykernel)",
   "language": "python",
   "name": "python3"
  },
  "language_info": {
   "codemirror_mode": {
    "name": "ipython",
    "version": 3
   },
   "file_extension": ".py",
   "mimetype": "text/x-python",
   "name": "python",
   "nbconvert_exporter": "python",
   "pygments_lexer": "ipython3",
   "version": "3.9.12"
  }
 },
 "nbformat": 4,
 "nbformat_minor": 5
}
