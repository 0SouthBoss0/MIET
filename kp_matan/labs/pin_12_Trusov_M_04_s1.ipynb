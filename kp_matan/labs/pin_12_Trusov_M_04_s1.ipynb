{
 "cells": [
  {
   "cell_type": "markdown",
   "id": "ff8e420d-3e70-49ca-8c7d-3d7d5f9f9473",
   "metadata": {},
   "source": [
    "**Практикум 4. Комплексные числа (2)**"
   ]
  },
  {
   "cell_type": "markdown",
   "id": "8b2551c1-5969-4428-a148-803cfa6494e8",
   "metadata": {},
   "source": [
    "**Упражнение 1. Найти все значения корней 8 степени 256.** "
   ]
  },
  {
   "cell_type": "markdown",
   "id": "d0779885-9072-4ad4-a00e-807be61b9fb8",
   "metadata": {},
   "source": [
    "**Используя операции отношения, выяснить:**"
   ]
  },
  {
   "cell_type": "markdown",
   "id": "28d143d8-ec07-4ad3-a510-b4e3de82105a",
   "metadata": {},
   "source": [
    "**1) какие из найденных корней изображаются на комплексной плоскости точками, лежащими в левой полуплоскости;**"
   ]
  },
  {
   "cell_type": "markdown",
   "id": "1aadd360-2b30-439e-8be6-96233168382a",
   "metadata": {},
   "source": [
    "**2) какие из найденных корней изображаются на комплексной плоскости точками, лежащими на действительной оси;**"
   ]
  },
  {
   "cell_type": "markdown",
   "id": "27e635b5-94ed-4626-ac41-19b885625513",
   "metadata": {},
   "source": [
    "**3) какие из найденных корней имеют главный аргумент, больший pi/3.**"
   ]
  },
  {
   "cell_type": "code",
   "execution_count": 42,
   "id": "9855740b-74ae-410b-9a21-5884a7d4cff3",
   "metadata": {},
   "outputs": [
    {
     "name": "stdout",
     "output_type": "stream",
     "text": [
      "Корни: (1.4142135623730951+1.4142135623730951j) (1.2246467991473532e-16+2j) (-1.414213562373095+1.4142135623730951j) (-2+2.4492935982947064e-16j) (-1.4142135623730954-1.414213562373095j) (-3.6739403974420594e-16-2j) (1.4142135623730947-1.4142135623730954j) (2-4.898587196589413e-16j)\n"
     ]
    },
    {
     "data": {
      "image/png": "[encoded data removed]",
      "text/plain": [
       "<Figure size 432x288 with 1 Axes>"
      ]
     },
     "metadata": {
      "needs_background": "light"
     },
     "output_type": "display_data"
    },
    {
     "name": "stdout",
     "output_type": "stream",
     "text": [
      "\n",
      "1) Левая полуплоскость:\n",
      "(-1.414213562373095+1.4142135623730951j)\n",
      "(-2+2.4492935982947064e-16j)\n",
      "(-1.4142135623730954-1.414213562373095j)\n",
      "\n",
      "2) На действительной оси:\n",
      "(-2+2.4492935982947064e-16j)\n",
      "(2-4.898587196589413e-16j)\n",
      "\n",
      "3) Аргумент больше pi/3:\n",
      "(1.2246467991473532e-16+2j)\n",
      "(-1.414213562373095+1.4142135623730951j)\n",
      "(-2+2.4492935982947064e-16j)\n"
     ]
    }
   ],
   "source": [
    "import matplotlib.pyplot as plt\n",
    "import numpy as np\n",
    "import math\n",
    "\n",
    "z = 256\n",
    "stepen = 8\n",
    "\n",
    "r = np.abs(z)\n",
    "phi=np.angle(z)\n",
    "k = np.arange(1,stepen+1)\n",
    "\n",
    "zroot = r**(1/stepen)*(np.cos((phi+2.0*np.pi*k)/stepen) + 1j*np.sin((phi+2.0*np.pi*k)/stepen))\n",
    "\n",
    "print(\"Корни:\", *zroot)\n",
    "plt.title('$\\sqrt[8]{256}$ complex roots')\n",
    "\n",
    "plt.plot(np.real(zroot), np.imag(zroot), '*g')\n",
    "\n",
    "plt.axhline(y=0, color='k')\n",
    "plt.axvline(x=0, color='k')\n",
    "\n",
    "t = np.linspace(0,2*np.pi,100)\n",
    "plt.plot(r**(1/stepen)*np.cos(t),r**(1/stepen)*np.sin(t),':')\n",
    "\n",
    "x1=np.real(zroot[0])\n",
    "y1=np.imag(zroot[0])\n",
    "\n",
    "x2=np.real(zroot[1])\n",
    "y2=np.imag(zroot[1])\n",
    "\n",
    "x3=np.real(zroot[2])\n",
    "y3=np.imag(zroot[2])\n",
    "\n",
    "x4=np.real(zroot[3])\n",
    "y4=np.imag(zroot[3])\n",
    "\n",
    "x5=np.real(zroot[4])\n",
    "y5=np.imag(zroot[4])\n",
    "\n",
    "x6=np.real(zroot[5])\n",
    "y6=np.imag(zroot[5])\n",
    "\n",
    "x7=np.real(zroot[6])\n",
    "y7=np.imag(zroot[6])\n",
    "\n",
    "x8=np.real(zroot[7])\n",
    "y8=np.imag(zroot[7])\n",
    "\n",
    "plt.plot([x1, x2],[y1, y2], '-.b')\n",
    "plt.plot([x2, x3],[y2, y3], '-.b')\n",
    "plt.plot([x3, x4],[y3, y4], '-.b')\n",
    "plt.plot([x4, x5],[y4, y5], '-.b')\n",
    "plt.plot([x5, x6],[y5, y6], '-.b')\n",
    "plt.plot([x6, x7],[y6, y7], '-.b')\n",
    "plt.plot([x7, x8],[y7, y8], '-.b')\n",
    "plt.plot([x8, x1],[y8, y1], '-.b')\n",
    "\n",
    "plt.xlabel('Re(z)')\n",
    "plt.ylabel('Im(z)', rotation = 0)\n",
    "\n",
    "plt.grid(True)\n",
    "\n",
    "# одинаковый масштаб по осям\n",
    "plt.axis('scaled')\n",
    "\n",
    "plt.show()\n",
    "\n",
    "print(\"\\n1) Левая полуплоскость:\")\n",
    "for i in range(len(zroot)):\n",
    "    if zroot[i].real<0 and np.isclose(zroot[i].real, 0)==0:\n",
    "        print(zroot[i])\n",
    "\n",
    "print(\"\\n2) На действительной оси:\")\n",
    "for i in range(len(zroot)):\n",
    "    if np.isclose(zroot[i].imag, 0)==1:\n",
    "        print(zroot[i])\n",
    "\n",
    "print(\"\\n3) Аргумент больше pi/3:\")\n",
    "for i in range(len(zroot)):\n",
    "    if np.angle(zroot[i])>np.pi/3:\n",
    "        print(zroot[i])\n"
   ]
  },
  {
   "cell_type": "markdown",
   "id": "5211a41a-1695-40e2-9742-3a4f222be25d",
   "metadata": {},
   "source": [
    "**Упражнение 2. Используя операции отношения и логические операции (использовать np.isclose(x,y) вместо равенства), выяснить, какие из приведенных ниже утверждений верные, а какие нет:**"
   ]
  },
  {
   "cell_type": "code",
   "execution_count": 47,
   "id": "c4bcd7e2-22fb-4a83-8576-c83b3ea86fa9",
   "metadata": {},
   "outputs": [
    {
     "name": "stdout",
     "output_type": "stream",
     "text": [
      "Первое утверждение: False\n",
      "Второе утверждение: True\n"
     ]
    }
   ],
   "source": [
    "z1 = 2-3j\n",
    "z2 = 5+1j\n",
    "arg1 = np.angle(z1)\n",
    "arg2 = np.angle(z2)\n",
    "\n",
    "print(\"Первое утверждение:\", arg1>np.pi*(1/3) and arg2<=np.pi*(5/6))\n",
    "print(\"Второе утверждение:\",(3*z1+2*z2).real<8 or (z1-z2).imag!=2)"
   ]
  },
  {
   "cell_type": "markdown",
   "id": "f8bb2da7-c246-4d2c-9a66-2a90e2575ebf",
   "metadata": {},
   "source": [
    "**Упражнение 3. Сформировать массив с элементами. Используя операцию логического индексирования, выбрать из массива числа, удовлетворяющие условиям:**"
   ]
  },
  {
   "cell_type": "code",
   "execution_count": 5,
   "id": "301c5a7a-22be-4640-ba7c-16e7cb6babc1",
   "metadata": {},
   "outputs": [
    {
     "name": "stdout",
     "output_type": "stream",
     "text": [
      "Массив: (1+3j) (-8+6j) (-26-18j) (28-96j) (316-12j) (352+936j) (-2456+1992j) (-8432-5376j)\n",
      "Re(z)>2: (28-96j) (316-12j) (352+936j)\n",
      "Im(z)<=Re(z): (28-96j) (316-12j)\n"
     ]
    }
   ],
   "source": [
    "import numpy as np\n",
    "\n",
    "k = np.arange(1, 9)\n",
    "A = (1+3j)**k\n",
    "print(\"Массив:\", *A)\n",
    "\n",
    "b = A[A.real>2]\n",
    "print(\"Re(z)>2:\", *b)\n",
    "\n",
    "c = A[A.imag<=A.real]\n",
    "print(\"Im(z)<=Re(z):\", *c)"
   ]
  },
  {
   "cell_type": "markdown",
   "id": "7146ba50-a3d5-48a4-8019-b8069a8c3b1f",
   "metadata": {},
   "source": [
    "**Упражнение 4. Сформировать массив с элементами. Используя операцию логического индексирования, заменить в этом массиве числа, удовлетворяющие условию, на 0:**"
   ]
  },
  {
   "cell_type": "code",
   "execution_count": 39,
   "id": "312bbf94-59fa-4bd6-bc16-96d5dfe92682",
   "metadata": {},
   "outputs": [
    {
     "name": "stdout",
     "output_type": "stream",
     "text": [
      "Массив: (3-1j) (3-2j) (3-3j) (3-4j) (3-5j) (3-6j) (3-7j) (3-8j) (3-9j)\n",
      "B=A(L): (3-3j) (3-4j) (3-5j) (3-6j)\n",
      "A(L)=0j: (3-1j) (3-2j) 0j 0j 0j 0j (3-7j) (3-8j) (3-9j)\n"
     ]
    }
   ],
   "source": [
    "import numpy as np\n",
    "\n",
    "k = np.arange(1, 10)\n",
    "A = (3-k*(1j))\n",
    "print(\"Массив:\", *A)\n",
    "\n",
    "first_condition = 4<np.abs(A)\n",
    "second_condition=np.abs(A)<=7\n",
    "\n",
    "B = A[first_condition*second_condition]\n",
    "A[first_condition*second_condition] = 0\n",
    "\n",
    "print(\"B=A(L):\", *B)\n",
    "print(\"A(L)=0j:\", *(A))"
   ]
  },
  {
   "cell_type": "markdown",
   "id": "8c538ca7-1aa7-4346-b9c6-d0ca9f6c9147",
   "metadata": {},
   "source": [
    "**Упражнение 5. На комплексной плоскости построить множество точек, координаты которых удовлетворяют условиям:**"
   ]
  },
  {
   "cell_type": "code",
   "execution_count": 133,
   "id": "835f2fbd-f808-48f9-a8cc-cd2319c112a8",
   "metadata": {},
   "outputs": [
    {
     "data": {
      "image/png": "[encoded data removed]",
      "text/plain": [
       "<Figure size 432x288 with 1 Axes>"
      ]
     },
     "metadata": {
      "needs_background": "light"
     },
     "output_type": "display_data"
    }
   ],
   "source": [
    "import numpy as np\n",
    "import numpy.random as rng\n",
    "import matplotlib.pyplot as plt\n",
    "\n",
    "x = 3 - 6*rng.rand(10000) # 10_000 точек x на отрезке [-3;3]\n",
    "y = 3 - 6*rng.rand(10000) # 10_000 точек y на отрезке [-3;3]\n",
    "\n",
    "z = x+ 1j*y\n",
    "L = (np.logical_and((np.abs(z-1j-1)>=1) , (np.abs(z-1j-1)<=2) )) # логический индекс для отбора значений\n",
    "\n",
    "plt.plot(x[L],y[L],'.')\n",
    "plt.axis('equal')\n",
    "plt.grid(True)\n",
    "plt.axhline(y=0, color='k')\n",
    "plt.axvline(x=0, color='k')\n",
    "plt.title('$1 \\leq | z-i-1 | \\leq 2 $')\n",
    "plt.xlabel('Re(z)')\n",
    "plt.ylabel('Im(z)')\n",
    "plt.show()"
   ]
  },
  {
   "cell_type": "markdown",
   "id": "b08818dd-c7fa-4d23-a363-aa64b7242073",
   "metadata": {},
   "source": [
    "**Упражнение C1. Найти все значения корней 8 степени -256.** "
   ]
  },
  {
   "cell_type": "code",
   "execution_count": 2,
   "id": "fa141fcb-54ac-41d0-9a5b-38f772887207",
   "metadata": {},
   "outputs": [
    {
     "name": "stdout",
     "output_type": "stream",
     "text": [
      "Корни: (0.7653668647301797+1.8477590650225735j) (-0.7653668647301795+1.8477590650225735j) (-1.8477590650225735+0.7653668647301798j) (-1.8477590650225737-0.7653668647301793j) (-0.7653668647301807-1.847759065022573j) (0.76536686473018-1.8477590650225733j) (1.847759065022573-0.7653668647301808j) (1.8477590650225735+0.7653668647301799j)\n"
     ]
    },
    {
     "data": {
      "image/png": "[encoded data removed]",
      "text/plain": [
       "<Figure size 432x288 with 1 Axes>"
      ]
     },
     "metadata": {
      "needs_background": "light"
     },
     "output_type": "display_data"
    },
    {
     "name": "stdout",
     "output_type": "stream",
     "text": [
      "\n",
      "1) Левая полуплоскость:\n",
      "(-0.7653668647301795+1.8477590650225735j)\n",
      "(-1.8477590650225735+0.7653668647301798j)\n",
      "(-1.8477590650225737-0.7653668647301793j)\n",
      "(-0.7653668647301807-1.847759065022573j)\n",
      "\n",
      "2) На действительной оси:\n",
      "\n",
      "3) Аргумент больше 2pi/3:\n",
      "(-1.8477590650225735+0.7653668647301798j)\n"
     ]
    }
   ],
   "source": [
    "import matplotlib.pyplot as plt\n",
    "import numpy as np\n",
    "import math\n",
    "\n",
    "z = -256\n",
    "stepen = 8\n",
    "\n",
    "r = np.abs(z)\n",
    "phi=np.angle(z)\n",
    "k = np.arange(1,stepen+1)\n",
    "\n",
    "zroot = r**(1/stepen)*(np.cos((phi+2.0*np.pi*k)/stepen) + 1j*np.sin((phi+2.0*np.pi*k)/stepen))\n",
    "\n",
    "print(\"Корни:\", *zroot)\n",
    "plt.title('$\\sqrt[8]{-256}$ complex roots')\n",
    "\n",
    "plt.plot(np.real(zroot), np.imag(zroot), '*g')\n",
    "\n",
    "plt.axhline(y=0, color='k')\n",
    "plt.axvline(x=0, color='k')\n",
    "\n",
    "t = np.linspace(0,2*np.pi,100)\n",
    "plt.plot(r**(1/stepen)*np.cos(t),r**(1/stepen)*np.sin(t),':')\n",
    "\n",
    "x1=np.real(zroot[0])\n",
    "y1=np.imag(zroot[0])\n",
    "\n",
    "x2=np.real(zroot[1])\n",
    "y2=np.imag(zroot[1])\n",
    "\n",
    "x3=np.real(zroot[2])\n",
    "y3=np.imag(zroot[2])\n",
    "\n",
    "x4=np.real(zroot[3])\n",
    "y4=np.imag(zroot[3])\n",
    "\n",
    "x5=np.real(zroot[4])\n",
    "y5=np.imag(zroot[4])\n",
    "\n",
    "x6=np.real(zroot[5])\n",
    "y6=np.imag(zroot[5])\n",
    "\n",
    "x7=np.real(zroot[6])\n",
    "y7=np.imag(zroot[6])\n",
    "\n",
    "x8=np.real(zroot[7])\n",
    "y8=np.imag(zroot[7])\n",
    "\n",
    "plt.plot([x1, x2],[y1, y2], '-.b')\n",
    "plt.plot([x2, x3],[y2, y3], '-.b')\n",
    "plt.plot([x3, x4],[y3, y4], '-.b')\n",
    "plt.plot([x4, x5],[y4, y5], '-.b')\n",
    "plt.plot([x5, x6],[y5, y6], '-.b')\n",
    "plt.plot([x6, x7],[y6, y7], '-.b')\n",
    "plt.plot([x7, x8],[y7, y8], '-.b')\n",
    "plt.plot([x8, x1],[y8, y1], '-.b')\n",
    "\n",
    "plt.xlabel('Re(z)')\n",
    "plt.ylabel('Im(z)', rotation = 0)\n",
    "\n",
    "plt.grid(True)\n",
    "\n",
    "# одинаковый масштаб по осям\n",
    "plt.axis('scaled')\n",
    "\n",
    "plt.show()\n",
    "\n",
    "print(\"\\n1) Левая полуплоскость:\")\n",
    "for i in range(len(zroot)):\n",
    "    if zroot[i].real<0 and np.isclose(zroot[i].real, 0)==0:\n",
    "        print(zroot[i])\n",
    "\n",
    "print(\"\\n2) На действительной оси:\")\n",
    "for i in range(len(zroot)):\n",
    "    if np.isclose(zroot[i].imag, 0)==1:\n",
    "        print(zroot[i])\n",
    "\n",
    "print(\"\\n3) Аргумент больше 2pi/3:\")\n",
    "for i in range(len(zroot)):\n",
    "    if np.angle(zroot[i])>2*np.pi/3:\n",
    "        print(zroot[i])\n"
   ]
  },
  {
   "cell_type": "markdown",
   "id": "2e3bf306-35c2-4228-96a5-8601ab0e3672",
   "metadata": {},
   "source": [
    "**Упражнение C2. Используя операции отношения и логические операции (использовать np.isclose(x,y) вместо равенства), выяснить, какие из приведенных ниже утверждений верные, а какие нет:**"
   ]
  },
  {
   "cell_type": "code",
   "execution_count": 56,
   "id": "5fd3906f-8bf6-4c49-b6ed-e84ee8dac3bb",
   "metadata": {},
   "outputs": [
    {
     "name": "stdout",
     "output_type": "stream",
     "text": [
      "Первое утверждение: False\n",
      "Второе утверждение: True\n"
     ]
    }
   ],
   "source": [
    "z1 = 2-3j\n",
    "z2 = 5+1j\n",
    "arg1 = np.angle(z1)\n",
    "arg2 = np.angle(z2)\n",
    "abs1 = np.abs(z1)\n",
    "abs2 = np.abs(z2)\n",
    "\n",
    "print(\"Первое утверждение:\", abs1>=5 and abs1<6)\n",
    "print(\"Второе утверждение:\", np.logical_xor(abs1<4, abs2<4))"
   ]
  },
  {
   "cell_type": "markdown",
   "id": "f5b6bc93-2810-4c30-ac94-de7caa4e6227",
   "metadata": {},
   "source": [
    "**Упражнение C3. Сформировать массив с элементами. Используя операцию логического индексирования, выбрать из массива числа, удовлетворяющие условиям:**"
   ]
  },
  {
   "cell_type": "code",
   "execution_count": 7,
   "id": "acf711d7-8373-43ec-b07e-8f940f3fc0ff",
   "metadata": {},
   "outputs": [
    {
     "name": "stdout",
     "output_type": "stream",
     "text": [
      "Массив: (1-3j) (-8-6j) (-26+18j) (28+96j) (316+12j) (352-936j) (-2456-1992j) (-8432+5376j)\n",
      "Re(z)>2: (28+96j) (316+12j) (352-936j)\n",
      "Im(z)<=Re(z): (1-3j) (316+12j) (352-936j)\n"
     ]
    }
   ],
   "source": [
    "import numpy as np\n",
    "\n",
    "k = np.arange(1, 9)\n",
    "A = (1-3j)**k\n",
    "print(\"Массив:\", *A)\n",
    "\n",
    "b = A[A.real>2]\n",
    "print(\"Re(z)>2:\", *b)\n",
    "\n",
    "c = A[A.imag<=A.real]\n",
    "print(\"Im(z)<=Re(z):\", *c)"
   ]
  },
  {
   "cell_type": "markdown",
   "id": "5627fa20-9a63-4d8e-b819-dcd3df7d912f",
   "metadata": {},
   "source": [
    "**Упражнение C4. Сформировать массив с элементами. Используя операцию логического индексирования, заменить в этом массиве числа, удовлетворяющие условию, на 0:**"
   ]
  },
  {
   "cell_type": "code",
   "execution_count": 37,
   "id": "0b55e6de-a34f-407b-9cef-fcc23c0699f8",
   "metadata": {},
   "outputs": [
    {
     "name": "stdout",
     "output_type": "stream",
     "text": [
      "Массив: (2-1j) (2-2j) (2-3j) (2-4j) (2-5j) (2-6j) (2-7j) (2-8j) (2-9j)\n",
      "B=A(L): (2-1j) (2-2j) (2-3j) (2-4j)\n",
      "A(L)=0j: 0j 0j 0j 0j (2-5j) (2-6j) (2-7j) (2-8j) (2-9j)\n"
     ]
    }
   ],
   "source": [
    "import numpy as np\n",
    "\n",
    "k = np.arange(1, 10)\n",
    "A = (2-k*(1j))\n",
    "print(\"Массив:\", *A)\n",
    "\n",
    "first_condition = 2<np.abs(A)\n",
    "second_condition=np.abs(A)<=5\n",
    "\n",
    "B = A[first_condition*second_condition]\n",
    "A[first_condition*second_condition] = 0\n",
    "\n",
    "print(\"B=A(L):\", *B)\n",
    "print(\"A(L)=0j:\", *(A))"
   ]
  },
  {
   "cell_type": "markdown",
   "id": "efe77b54-e84e-4669-b9db-2c734c80d904",
   "metadata": {},
   "source": [
    "**Упражнение C5. На комплексной плоскости построить множество точек, координаты которых удовлетворяют условиям:**"
   ]
  },
  {
   "cell_type": "code",
   "execution_count": 52,
   "id": "cbef4834-7410-471a-8da0-758701035b99",
   "metadata": {},
   "outputs": [
    {
     "data": {
      "image/png": "[encoded data removed]",
      "text/plain": [
       "<Figure size 432x288 with 1 Axes>"
      ]
     },
     "metadata": {
      "needs_background": "light"
     },
     "output_type": "display_data"
    }
   ],
   "source": [
    "import numpy as np\n",
    "import numpy.random as rng\n",
    "import matplotlib.pyplot as plt\n",
    "\n",
    "x = 3 - 6*rng.rand(100000) # 10_000 точек x на отрезке [-3;3]\n",
    "y = 3 - 6*rng.rand(100000) # 10_000 точек y на отрезке [-3;3]\n",
    "\n",
    "z = x+ 1j*y\n",
    "L = (np.logical_and((np.abs(np.angle(z))>=np.pi/4) , (np.abs(z-1)<=2) )) # логический индекс для отбора значений\n",
    "\n",
    "plt.plot(x[L],y[L],'.')\n",
    "plt.axis('equal')\n",
    "plt.grid(True)\n",
    "plt.axhline(y=0, color='k')\n",
    "plt.axvline(x=0, color='k')\n",
    "plt.title('|Arg z|>=pi/4 and |z-1|<=2')\n",
    "plt.xlabel('Re(z)')\n",
    "plt.ylabel('Im(z)')\n",
    "plt.show()"
   ]
  },
  {
   "cell_type": "markdown",
   "id": "646ff71f-4ba0-46a0-bb4c-0817d899a999",
   "metadata": {},
   "source": [
    "**Ответить на контрольные вопросы:**"
   ]
  },
  {
   "cell_type": "markdown",
   "id": "93d81212-3e53-4528-bfee-63948b5de64e",
   "metadata": {},
   "source": [
    "**1) Каким образом можно задать логический массив?**"
   ]
  },
  {
   "cell_type": "markdown",
   "id": "9d3e7437-3615-4509-b13e-228fe1af5651",
   "metadata": {},
   "source": [
    "*Логический массив можно создать несколькими способами: воспользоваться логическими константами True и False или объявить 0 или 1 логическими константами задав их тип как bool.*"
   ]
  },
  {
   "cell_type": "markdown",
   "id": "da8123af-cbe8-4e98-a9e7-f436cbe83890",
   "metadata": {},
   "source": [
    "**2) Какие логические операции можно совершать над переменными логического класса?**"
   ]
  },
  {
   "cell_type": "markdown",
   "id": "604c68e8-7655-4d14-ba8f-68f42cfc5ccb",
   "metadata": {},
   "source": [
    "*and, or, not, xor*"
   ]
  },
  {
   "cell_type": "markdown",
   "id": "6b7df63e-83e7-48bb-ae84-eca2a94585dd",
   "metadata": {},
   "source": [
    "**3) Можно ли к числовым переменным применить операции логического класса?**"
   ]
  },
  {
   "cell_type": "markdown",
   "id": "105d99e2-0e6b-4787-8305-76207ebcc023",
   "metadata": {},
   "source": [
    "*Если логические операции применить к числовым переменным, то 0 будет рассматриваться как ложь, а все остальные числа как истина.*"
   ]
  },
  {
   "cell_type": "markdown",
   "id": "f88ac9ed-0748-49f4-a9f7-d8ab8d54b2ba",
   "metadata": {},
   "source": [
    "**4) Для чего применяется логическое индексирование?**"
   ]
  },
  {
   "cell_type": "markdown",
   "id": "6e38aec2-fda2-4cf6-950c-abca1411de3d",
   "metadata": {},
   "source": [
    "*Для того чтобы выделить из исходного массива данные нового массива или изменить группу элементов в исходном массиве, удовлетворяющих заданному условию.*"
   ]
  }
 ],
 "metadata": {
  "kernelspec": {
   "display_name": "Python 3 (ipykernel)",
   "language": "python",
   "name": "python3"
  },
  "language_info": {
   "codemirror_mode": {
    "name": "ipython",
    "version": 3
   },
   "file_extension": ".py",
   "mimetype": "text/x-python",
   "name": "python",
   "nbconvert_exporter": "python",
   "pygments_lexer": "ipython3",
   "version": "3.9.12"
  }
 },
 "nbformat": 4,
 "nbformat_minor": 5
}
