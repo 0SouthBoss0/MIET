{
 "cells": [
  {
   "cell_type": "markdown",
   "id": "d06621b5-b420-487d-90ef-f4e98fef0160",
   "metadata": {},
   "source": [
    "<big><big><big>Лабораторная работа №1. Статистическая обработка одномерной выборки</big></big></big>"
   ]
  },
  {
   "cell_type": "markdown",
   "id": "c05baaff-abc6-4dc1-a59c-fae5fc2e8ad5",
   "metadata": {},
   "source": [
    "**Подключение необходимых библиотек.**"
   ]
  },
  {
   "cell_type": "code",
   "execution_count": 4,
   "id": "b6cef0df-f722-4a46-9bd5-64cd5cf5426a",
   "metadata": {},
   "outputs": [],
   "source": [
    "import numpy as np\n",
    "import sympy as sp\n",
    "import matplotlib.pyplot as plt\n",
    "import statistics as stat"
   ]
  },
  {
   "cell_type": "code",
   "execution_count": 7,
   "id": "b9021dd2-a37c-4946-8191-e2a40c160113",
   "metadata": {},
   "outputs": [],
   "source": [
    "vyborka = list(map(float, \"\"\"15.29 12.94 6.25 7.93 14.44 4.27 15.8 0.51 16.53 12.53 15.29 13.9 22.37 \n",
    "9.65 9.96 10.53 12.7 16.74 12.57 6.02 3.41 9.5 12.15 18.06 17.61 18.04 6.98 11.08 19.26 18.33 8.12 \n",
    "7.06 -2.01 15.35 8.98 23.77 6.32 6.41 13.81 1.98 -0.84 11.27 6.94 17.23 11.76 -2.62 11.75 0.83 14.62 12.84\"\"\".split()))\n",
    "n = len(vyborka)\n"
   ]
  },
  {
   "cell_type": "markdown",
   "id": "5953946d-5026-4257-b25c-c0ad39746189",
   "metadata": {},
   "source": [
    "**Построение вариационного ряда выборки**"
   ]
  },
  {
   "cell_type": "markdown",
   "id": "3c3324b1-1ffc-4fd0-8cba-39753b63956a",
   "metadata": {},
   "source": [
    "*Выборка <big>$(x_1, x_2, ..., x_n)$</big> объёмом <big>$n$</big> из генеральной совокупности <big>$X$</big>, упорядоченная по неубыванию своих элементов, т.е. <big>$x^{(1)} ≤ x^{(2)} ≤ {...} ≤ x^{(n)}$</big>, называется вариационным рядом.*"
   ]
  },
  {
   "cell_type": "code",
   "execution_count": 15,
   "id": "d701d179-71b4-4564-9771-89792ac0259d",
   "metadata": {},
   "outputs": [
    {
     "name": "stdout",
     "output_type": "stream",
     "text": [
      "[-2.62, -2.01, -0.84, 0.51, 0.83, 1.98, 3.41, 4.27, 6.02, 6.25, 6.32, 6.41, 6.94, 6.98, 7.06, 7.93, 8.12, 8.98, 9.5, 9.65, 9.96, 10.53, 11.08, 11.27, 11.75, 11.76, 12.15, 12.53, 12.57, 12.7, 12.84, 12.94, 13.81, 13.9, 14.44, 14.62, 15.29, 15.29, 15.35, 15.8, 16.53, 16.74, 17.23, 17.61, 18.04, 18.06, 18.33, 19.26, 22.37, 23.77]\n"
     ]
    }
   ],
   "source": [
    "sorted_vyborka = vyborka.copy()\n",
    "sorted_vyborka.sort()\n",
    "print(sorted_vyborka)"
   ]
  },
  {
   "cell_type": "markdown",
   "id": "0859abe6-424a-4bec-91d0-bf3179fa2638",
   "metadata": {},
   "source": [
    "**Построение статистического ряда выборки**"
   ]
  },
  {
   "cell_type": "markdown",
   "id": "c2ba7b76-8597-47a6-aff4-4eddfffcc4ab",
   "metadata": {},
   "source": [
    "*Статистическим рядом выборки <big>$(x_1, x_2, ..., x_n)$</big> называют таблицу, которая в первой строке содержит значения выборки <big>$z_j$</big> (напомним, что <big>$z_1 < z_2 < {...} < z_m$</big> ), во второй строке – частоты <big>$n_j$</big>, а в третьей строке – относительные частоты <big>$\\frac{n_j}{n}$</big> этих значений.*"
   ]
  },
  {
   "cell_type": "code",
   "execution_count": 8,
   "id": "5e5bbc52-3b97-4774-abfd-cec5a98a3b32",
   "metadata": {},
   "outputs": [
    {
     "name": "stdout",
     "output_type": "stream",
     "text": [
      "⎡-2.62  1  0.02⎤\n",
      "⎢              ⎥\n",
      "⎢-2.01  1  0.02⎥\n",
      "⎢              ⎥\n",
      "⎢-0.84  1  0.02⎥\n",
      "⎢              ⎥\n",
      "⎢0.51   1  0.02⎥\n",
      "⎢              ⎥\n",
      "⎢0.83   1  0.02⎥\n",
      "⎢              ⎥\n",
      "⎢1.98   1  0.02⎥\n",
      "⎢              ⎥\n",
      "⎢3.41   1  0.02⎥\n",
      "⎢              ⎥\n",
      "⎢4.27   1  0.02⎥\n",
      "⎢              ⎥\n",
      "⎢6.02   1  0.02⎥\n",
      "⎢              ⎥\n",
      "⎢6.25   1  0.02⎥\n",
      "⎢              ⎥\n",
      "⎢6.32   1  0.02⎥\n",
      "⎢              ⎥\n",
      "⎢6.41   1  0.02⎥\n",
      "⎢              ⎥\n",
      "⎢6.94   1  0.02⎥\n",
      "⎢              ⎥\n",
      "⎢6.98   1  0.02⎥\n",
      "⎢              ⎥\n",
      "⎢7.06   1  0.02⎥\n",
      "⎢              ⎥\n",
      "⎢7.93   1  0.02⎥\n",
      "⎢              ⎥\n",
      "⎢8.12   1  0.02⎥\n",
      "⎢              ⎥\n",
      "⎢8.98   1  0.02⎥\n",
      "⎢              ⎥\n",
      "⎢ 9.5   1  0.02⎥\n",
      "⎢              ⎥\n",
      "⎢9.65   1  0.02⎥\n",
      "⎢              ⎥\n",
      "⎢9.96   1  0.02⎥\n",
      "⎢              ⎥\n",
      "⎢10.53  1  0.02⎥\n",
      "⎢              ⎥\n",
      "⎢11.08  1  0.02⎥\n",
      "⎢              ⎥\n",
      "⎢11.27  1  0.02⎥\n",
      "⎢              ⎥\n",
      "⎢11.75  1  0.02⎥\n",
      "⎢              ⎥\n",
      "⎢11.76  1  0.02⎥\n",
      "⎢              ⎥\n",
      "⎢12.15  1  0.02⎥\n",
      "⎢              ⎥\n",
      "⎢12.53  1  0.02⎥\n",
      "⎢              ⎥\n",
      "⎢12.57  1  0.02⎥\n",
      "⎢              ⎥\n",
      "⎢12.7   1  0.02⎥\n",
      "⎢              ⎥\n",
      "⎢12.84  1  0.02⎥\n",
      "⎢              ⎥\n",
      "⎢12.94  1  0.02⎥\n",
      "⎢              ⎥\n",
      "⎢13.81  1  0.02⎥\n",
      "⎢              ⎥\n",
      "⎢13.9   1  0.02⎥\n",
      "⎢              ⎥\n",
      "⎢14.44  1  0.02⎥\n",
      "⎢              ⎥\n",
      "⎢14.62  1  0.02⎥\n",
      "⎢              ⎥\n",
      "⎢15.29  2  0.04⎥\n",
      "⎢              ⎥\n",
      "⎢15.35  1  0.02⎥\n",
      "⎢              ⎥\n",
      "⎢15.8   1  0.02⎥\n",
      "⎢              ⎥\n",
      "⎢16.53  1  0.02⎥\n",
      "⎢              ⎥\n",
      "⎢16.74  1  0.02⎥\n",
      "⎢              ⎥\n",
      "⎢17.23  1  0.02⎥\n",
      "⎢              ⎥\n",
      "⎢17.61  1  0.02⎥\n",
      "⎢              ⎥\n",
      "⎢18.04  1  0.02⎥\n",
      "⎢              ⎥\n",
      "⎢18.06  1  0.02⎥\n",
      "⎢              ⎥\n",
      "⎢18.33  1  0.02⎥\n",
      "⎢              ⎥\n",
      "⎢19.26  1  0.02⎥\n",
      "⎢              ⎥\n",
      "⎢22.37  1  0.02⎥\n",
      "⎢              ⎥\n",
      "⎣23.77  1  0.02⎦\n"
     ]
    }
   ],
   "source": [
    "stat_ryad = [[], [], []]\n",
    "set_vyborka = list(set(vyborka))\n",
    "set_vyborka.sort()\n",
    "\n",
    "# получаем список уникальных значений выборки\n",
    "stat_ryad[0] = set_vyborka\n",
    "\n",
    "# вычисляем количество появлений в массиве каждого значения выборки\n",
    "for nj in stat_ryad[0]:\n",
    "    stat_ryad[1].append(vyborka.count(nj))\n",
    "\n",
    "# вычисляем относительные частоты\n",
    "stat_ryad[2] = [i / len(vyborka) for i in stat_ryad[1]]\n",
    "\n",
    "sp.pprint(sp.Matrix(stat_ryad).T)"
   ]
  },
  {
   "cell_type": "markdown",
   "id": "dc8c4221-65ad-495c-881d-065933e376a0",
   "metadata": {},
   "source": [
    "**Построение гистограммы и полигона частот**"
   ]
  },
  {
   "cell_type": "markdown",
   "id": "2fca5b60-b39b-4235-be35-6135d53977ab",
   "metadata": {},
   "source": [
    "*Разобьём отрезок <big>$[-3; 24]$</big> на 9 равных частей (разрядов) длины <big>$Δ = 3$</big>.*"
   ]
  },
  {
   "cell_type": "code",
   "execution_count": 9,
   "id": "43d44802-da24-4950-9b32-0c954b72a32a",
   "metadata": {},
   "outputs": [],
   "source": [
    "# делим отрезок [-3; 24] на разряды длины 3\n",
    "h = [i for i in range(-3, 24 + 1, 3)]\n",
    "\n",
    "# находим число вхождений элементов в каждый отрезок\n",
    "ni = []\n",
    "for i in range(1, len(h)):\n",
    "    temp = 0\n",
    "    for j in range(len(vyborka)):\n",
    "        if h[i - 1] <= vyborka[j] <= h[i]:\n",
    "            temp += 1\n",
    "    ni.append(temp)"
   ]
  },
  {
   "cell_type": "markdown",
   "id": "0de8dd97-3c04-42b4-8a11-77eb412e124e",
   "metadata": {},
   "source": [
    "*Построим гистограмму частот*"
   ]
  },
  {
   "cell_type": "code",
   "execution_count": 338,
   "id": "f175a00a-e952-427c-b131-9ce0a8758c4d",
   "metadata": {},
   "outputs": [
    {
     "data": {
      "image/png": "[encoded data removed]",
      "text/plain": [
       "<Figure size 720x720 with 1 Axes>"
      ]
     },
     "metadata": {
      "needs_background": "light"
     },
     "output_type": "display_data"
    }
   ],
   "source": [
    "fig = plt.figure(figsize=(10, 10))\n",
    "ax = fig.add_subplot()\n",
    "\n",
    "# находим координаты средних точек\n",
    "mid = []\n",
    "for i in range(1, len(h)):\n",
    "    mid.append((h[i] + h[i - 1]) / 2)\n",
    "\n",
    "# построение гистограммы\n",
    "plt.bar(mid, [i / 3 for i in ni], width=3, edgecolor=\"black\")\n",
    "\n",
    "# построение полигона частот\n",
    "for i in range(1, len(mid)):\n",
    "    plt.plot([mid[i - 1], mid[i]], [ni[i - 1] / 3, ni[i] / 3], \"r\", linewidth=3)\n",
    "\n",
    "# параметры координатной плоскости\n",
    "ax.set_xlabel(\"x\", fontdict={\"fontsize\": 20})\n",
    "ax.set_ylabel(r\"$\\frac{n_{i}}{\\Delta}$\", fontdict={\"fontsize\": 20}, rotation=0)\n",
    "plt.title(\"Гистограмма и полигон частот\", fontdict={\"fontsize\": 20}, pad=20)\n",
    "plt.grid()\n",
    "\n",
    "plt.show()"
   ]
  },
  {
   "cell_type": "markdown",
   "id": "2240d85c-9b60-4686-83f7-a10f26dbaf90",
   "metadata": {},
   "source": [
    "**Построение графика эмпирической функции распределения для исходной выборки**"
   ]
  },
  {
   "cell_type": "code",
   "execution_count": 339,
   "id": "a47c0eb1-849c-467f-a9a5-0f51da41e088",
   "metadata": {},
   "outputs": [
    {
     "data": {
      "image/png": "[encoded data removed]",
      "text/plain": [
       "<Figure size 720x720 with 1 Axes>"
      ]
     },
     "metadata": {
      "needs_background": "light"
     },
     "output_type": "display_data"
    }
   ],
   "source": [
    "fig = plt.figure(figsize=(10, 10))\n",
    "ax = fig.add_subplot()\n",
    "\n",
    "# нахождение накопленной частоты\n",
    "f = np.cumsum(stat_ryad[1]) / n\n",
    "\n",
    "# построение функции распределения влево от нуля\n",
    "ax.plot([stat_ryad[0][0] - 1, stat_ryad[0][0]], [0, 0], \"r\", linewidth=2)\n",
    "ax.plot([stat_ryad[0][0], stat_ryad[0][0]], [0, f[0]], \"r\", linewidth=2)\n",
    "\n",
    "# построение основной части функции распределения\n",
    "for i in range(1, len(stat_ryad[0])):\n",
    "    ax.plot([stat_ryad[0][i], stat_ryad[0][i]], [f[i - 1], f[i]], \"r\", linewidth=2)\n",
    "    ax.plot([stat_ryad[0][i - 1], stat_ryad[0][i]], [f[i - 1], f[i - 1]], \"r\", linewidth=2)\n",
    "\n",
    "# построение функции распределения вправо от максимальной точки\n",
    "ax.plot([stat_ryad[0][len(stat_ryad[0]) - 1], 1 + stat_ryad[0][len(stat_ryad[0]) - 1]], [f[len(stat_ryad[0]) - 1], f[len(stat_ryad[0]) - 1]], \"r\", linewidth=2)\n",
    "\n",
    "# параметры координатной плоскости\n",
    "ax.set_xlabel(\"x\", fontdict={\"fontsize\": 20})\n",
    "ax.set_ylabel(r\"$F_{x}(x)$\", fontdict={\"fontsize\": 15}, rotation=0)\n",
    "plt.title(\"Эмпирическая функция распределения для исходной выборки\", fontdict={\"fontsize\": 15}, pad=20)\n",
    "plt.locator_params(axis=\"x\", nbins=30)\n",
    "plt.locator_params(axis=\"y\", nbins=30)\n",
    "plt.grid()\n",
    "plt.show()"
   ]
  },
  {
   "cell_type": "markdown",
   "id": "92289ab5-8c0a-4445-8b40-30c2ee97c897",
   "metadata": {},
   "source": [
    "**Построение графика эмпирической функции распределения для интервально группированной выборки**"
   ]
  },
  {
   "cell_type": "code",
   "execution_count": 340,
   "id": "60150863-2737-4875-97fa-39b9e1fa4fb5",
   "metadata": {},
   "outputs": [
    {
     "data": {
      "image/png": "[encoded data removed]",
      "text/plain": [
       "<Figure size 720x720 with 1 Axes>"
      ]
     },
     "metadata": {
      "needs_background": "light"
     },
     "output_type": "display_data"
    }
   ],
   "source": [
    "fig = plt.figure(figsize=(10, 10))\n",
    "ax = fig.add_subplot()\n",
    "\n",
    "# нахождение накопленной частоты\n",
    "f = np.cumsum(ni) / n\n",
    "\n",
    "# построение функции распределения влево от нуля\n",
    "h.pop(len(h) - 1)\n",
    "ax.plot([h[0] - 1, h[0]], [0, 0], \"r\", linewidth=2)\n",
    "ax.plot([h[0], h[0]], [0, f[0]], \"r\", linewidth=2)\n",
    "\n",
    "# построение основной части функции распределения\n",
    "for i in range(1, len(h)):\n",
    "    ax.plot([h[i], h[i]], [f[i - 1], f[i]], \"r\", linewidth=2)\n",
    "    ax.plot([h[i - 1], h[i]], [f[i - 1], f[i - 1]], \"r\", linewidth=2)\n",
    "\n",
    "# построение функции распределения вправо от максимальной точки\n",
    "ax.plot([h[len(h) - 1], 1 + h[len(h) - 1]], [f[len(h) - 1], f[len(h) - 1]], \"r\", linewidth=2,)\n",
    "\n",
    "# параметры координатной плоскости\n",
    "ax.set_xlabel(\"x\", fontdict={\"fontsize\": 20})\n",
    "ax.set_ylabel(r\"$F_{x}(x)$\", fontdict={\"fontsize\": 15}, rotation=0)\n",
    "plt.title(\"Эмпирическая функция распределения для интервально группированной выборки\", fontdict={\"fontsize\": 15}, pad=20)\n",
    "plt.locator_params(axis=\"x\", nbins=30)\n",
    "plt.locator_params(axis=\"y\", nbins=30)\n",
    "plt.grid()\n",
    "plt.show()"
   ]
  },
  {
   "cell_type": "markdown",
   "id": "14ad9932-e5f7-4df4-94d5-07baa0deab68",
   "metadata": {},
   "source": [
    "**Выборочные числовые характеристики негруппированной выборки**"
   ]
  },
  {
   "cell_type": "markdown",
   "id": "6f27c9ce-362d-4a0d-a569-72f5d1e75b6d",
   "metadata": {},
   "source": [
    "<big>$\\overline{x} = \\frac{1}{n}\\sum_{i=1}^{n}x_i$</big>"
   ]
  },
  {
   "cell_type": "markdown",
   "id": "adb18270-a1dd-4c7a-8a89-089c6f7429ae",
   "metadata": {},
   "source": [
    "<big>$D_x = \\frac{1}{n}\\sum_{i=1}^{n}(x_i-\\overline{x})^2$</big>"
   ]
  },
  {
   "cell_type": "markdown",
   "id": "77e4305f-801b-4aef-9d28-86477a6ddf69",
   "metadata": {},
   "source": [
    "<big>$\\begin{equation}\n",
    "    \\tilde{h_x} =\n",
    "    \\begin{cases}\n",
    "      x^{(l+1)}, & \\text{если}\\ n=2l+1 \\\\\n",
    "      \\frac{1}{2}(x^{(l)} + x^{(l+1)}), & \\text{если}\\ n = 2l\n",
    "    \\end{cases}\n",
    "  \\end{equation}$</big>"
   ]
  },
  {
   "cell_type": "code",
   "execution_count": 18,
   "id": "02dd4d1d-2871-473c-ba16-d85c653b4d13",
   "metadata": {},
   "outputs": [
    {
     "name": "stdout",
     "output_type": "stream",
     "text": [
      "Размах: 26.39\n",
      "Мода: 15.29\n",
      "Медиана: 11.754999999999999\n",
      "Выборочное среднее: 10.884200000000003\n",
      "Дисперсия: 37.09664836\n"
     ]
    }
   ],
   "source": [
    "mx = 1 / n * sum(vyborka)\n",
    "dx = 1 / n * sum([(vyborka[i] - mx) ** 2 for i in range(len(vyborka))])\n",
    "hx = 1 / 2 * (sorted_vyborka[n // 2] + sorted_vyborka[n // 2 - 1]) if not n % 2  else 1 / 2 * sorted_vyborka[n // 2 - 1]\n",
    "\n",
    "print(\"Размах:\", max(vyborka) - min(vyborka))\n",
    "print(\"Мода:\", max(set(vyborka), key=vyborka.count))\n",
    "print(\"Медиана:\", hx)\n",
    "print(\"Выборочное среднее:\", mx)\n",
    "print(\"Дисперсия:\", dx)"
   ]
  },
  {
   "cell_type": "code",
   "execution_count": 19,
   "id": "2a135b0c-ab12-4830-93dd-e8948af878d9",
   "metadata": {},
   "outputs": [
    {
     "name": "stdout",
     "output_type": "stream",
     "text": [
      "Мода: 15.29\n",
      "Медиана: 11.754999999999999\n",
      "Выборочное среднее: 10.8842\n",
      "Дисперсия: 37.85372281632653\n"
     ]
    }
   ],
   "source": [
    "print(\"Мода:\", stat.mode(vyborka))\n",
    "print(\"Медиана:\", stat.median(vyborka))\n",
    "print(\"Выборочное среднее:\", stat.mean(vyborka))\n",
    "print(\"Дисперсия:\", stat.variance(vyborka))"
   ]
  },
  {
   "cell_type": "markdown",
   "id": "db147bef-6714-4701-86f1-2722e98abccc",
   "metadata": {},
   "source": [
    "**Выборочные числовые характеристики интервально группированной выборки**"
   ]
  },
  {
   "cell_type": "markdown",
   "id": "de78a1cd-7da4-401f-b232-8cc7ca2d8dfc",
   "metadata": {},
   "source": [
    "<big>$\\overline{x} = \\frac{1}{n}\\sum_{j=1}^{n}z_jn_j$</big>"
   ]
  },
  {
   "cell_type": "markdown",
   "id": "b17477e2-0eb1-4c08-bfb1-5b9ea7930064",
   "metadata": {},
   "source": [
    "<big>$D_x = \\frac{1}{n}\\sum_{j=1}^{n}(z_j-\\overline{x})^2n_j$</big>"
   ]
  },
  {
   "cell_type": "markdown",
   "id": "70e582f7-aa6c-4b24-aa04-a1ea8b07bf6c",
   "metadata": {},
   "source": [
    "<big>$\\tilde{d_x} = a_d + (\\frac{n_d - n_{d-1}}{2n_d-n_{d-1}-n_{d+1}})Δ$</big>"
   ]
  },
  {
   "cell_type": "markdown",
   "id": "2176b68c-5697-478d-ba74-61c37c0dcc1c",
   "metadata": {},
   "source": [
    "<big>$\\tilde{h_x} = a_h + (\\frac{\\frac{n}{2}-(n_1+n_2+ {...} +n_{h-1})}{n_h})Δ$</big>"
   ]
  },
  {
   "cell_type": "code",
   "execution_count": 344,
   "id": "cb3cb4f8-7e6d-4d21-be8f-babcbef6e7b1",
   "metadata": {},
   "outputs": [
    {
     "name": "stdout",
     "output_type": "stream",
     "text": [
      "Мода: 8.4 13.5\n",
      "Медиана: 11.625\n",
      "Выборочное среднее: 11.16\n",
      "Дисперсия: 36.1044\n"
     ]
    }
   ],
   "source": [
    "mean = sum([mid[i] * ni[i] for i in range(len(mid))])/n\n",
    "\n",
    "variance = sum([ni[i]*(mid[i] - mean)**2 for i in range(len(mid))])/n\n",
    "\n",
    "mode1 = 6 + ((10-2)/(2*10-2-8))*3\n",
    "mode2 = 12 + ((10-8)/(2*10-8-8))*3\n",
    "\n",
    "median = 9 + ((n/2-(3+3+2+10))/(8))*3\n",
    "\n",
    "print(\"Мода:\", mode1, mode2)\n",
    "print(\"Медиана:\", median)\n",
    "print(\"Выборочное среднее:\", mean)\n",
    "print(\"Дисперсия:\", variance)"
   ]
  }
 ],
 "metadata": {
  "kernelspec": {
   "display_name": "Python 3 (ipykernel)",
   "language": "python",
   "name": "python3"
  },
  "language_info": {
   "codemirror_mode": {
    "name": "ipython",
    "version": 3
   },
   "file_extension": ".py",
   "mimetype": "text/x-python",
   "name": "python",
   "nbconvert_exporter": "python",
   "pygments_lexer": "ipython3",
   "version": "3.10.9"
  }
 },
 "nbformat": 4,
 "nbformat_minor": 5
}
